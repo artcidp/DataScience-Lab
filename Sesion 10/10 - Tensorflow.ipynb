{
 "cells": [
  {
   "cell_type": "markdown",
   "metadata": {},
   "source": [
    "En ocasiones es útil re-establecer los nombres de las librerías importadas y de las variables usadas sin reiniciar el kernel de Jupyter. El siguiente comando elimina todas las variables definidas y librerías imporradas hasta ahora (limpia el \"namespace\")."
   ]
  },
  {
   "cell_type": "code",
   "execution_count": 1,
   "metadata": {},
   "outputs": [
    {
     "data": {
      "text/plain": [
       "array([[1., 1., 1.]])"
      ]
     },
     "execution_count": 1,
     "metadata": {},
     "output_type": "execute_result"
    }
   ],
   "source": [
    "import numpy as np\n",
    "np.ones((1,3))"
   ]
  },
  {
   "cell_type": "code",
   "execution_count": 2,
   "metadata": {},
   "outputs": [
    {
     "name": "stdout",
     "output_type": "stream",
     "text": [
      "Once deleted, variables cannot be recovered. Proceed (y/[n])? y\n"
     ]
    }
   ],
   "source": [
    "%reset"
   ]
  },
  {
   "cell_type": "markdown",
   "metadata": {},
   "source": [
    "**Nota:**\n",
    "- No se reinicia la cuenta de inputs en el notebook. \n",
    "- El símbolo `%`, cuando se resalta en morado, indica que se utiliza un comando especial. A estos comandos se les llama \"magias\" en Jupyter. Puedes ver más \"comandos mágicos\" [aquí](https://www.dataquest.io/blog/jupyter-notebook-tips-tricks-shortcuts/)."
   ]
  },
  {
   "cell_type": "code",
   "execution_count": 4,
   "metadata": {
    "scrolled": true
   },
   "outputs": [
    {
     "ename": "NameError",
     "evalue": "name 'np' is not defined",
     "output_type": "error",
     "traceback": [
      "\u001b[0;31m---------------------------------------------------------------------------\u001b[0m",
      "\u001b[0;31mNameError\u001b[0m                                 Traceback (most recent call last)",
      "\u001b[0;32m<ipython-input-4-248442cb9427>\u001b[0m in \u001b[0;36m<module>\u001b[0;34m\u001b[0m\n\u001b[0;32m----> 1\u001b[0;31m \u001b[0mnp\u001b[0m\u001b[0;34m.\u001b[0m\u001b[0mones\u001b[0m\u001b[0;34m(\u001b[0m\u001b[0;34m(\u001b[0m\u001b[0;36m1\u001b[0m\u001b[0;34m,\u001b[0m\u001b[0;36m3\u001b[0m\u001b[0;34m)\u001b[0m\u001b[0;34m)\u001b[0m\u001b[0;34m\u001b[0m\u001b[0;34m\u001b[0m\u001b[0m\n\u001b[0m",
      "\u001b[0;31mNameError\u001b[0m: name 'np' is not defined"
     ]
    }
   ],
   "source": [
    "np.ones((1,3))"
   ]
  },
  {
   "cell_type": "code",
   "execution_count": 232,
   "metadata": {},
   "outputs": [
    {
     "name": "stdout",
     "output_type": "stream",
     "text": [
      "1.13.1\n"
     ]
    }
   ],
   "source": [
    "import tensorflow as tf\n",
    "print(tf.__version__)"
   ]
  },
  {
   "cell_type": "markdown",
   "metadata": {},
   "source": [
    "Recordamos la forma básica en la que se definen arreglos de numpy para compararlos con los de tensorflow."
   ]
  },
  {
   "cell_type": "code",
   "execution_count": 7,
   "metadata": {},
   "outputs": [
    {
     "name": "stdout",
     "output_type": "stream",
     "text": [
      "np0 = [1 1] \t size= 2 \t shape= (2,) \t type= <class 'numpy.ndarray'>\n",
      "np1 = [2 2 3] \t size= 3 \t shape= (3,) \t type= <class 'numpy.ndarray'>\n",
      "np2 = [[1 1]] \t size= 2 \t shape= (1, 2) \t type= <class 'numpy.ndarray'>\n",
      "np3 = [[1 2 3]\n",
      " [4 5 6]] \t size= 6 \t shape= (2, 3) \t type= <class 'numpy.ndarray'>\n",
      "\n",
      " Operaciones con Arrays\n",
      "zeros= \t [[0. 0. 0.]\n",
      " [0. 0. 0.]]\n",
      "ones= \t [[1. 1.]\n",
      " [1. 1.]\n",
      " [1. 1.]]\n",
      "\n",
      " multiplication= \t [[5 7 9]]\n"
     ]
    }
   ],
   "source": [
    "#numpy arrays \n",
    "import numpy as np\n",
    "\n",
    "np1=np.array([1,1]) #vectors\n",
    "np2=np.array([2,2,3])\n",
    "np3=np.array([[1,1]]) #1x2 matrix\n",
    "np4=np.array([[1,2,3],[4,5,6]]) #2x3 matrix\n",
    "lista=[np1,np2,np3,np4]\n",
    "\n",
    "for (i,array) in enumerate(lista):\n",
    "    print(\"np%d\" %i,\"=\",array,\"\\t size=\",array.size,\"\\t shape=\",array.shape,\"\\t type=\",type(array))\n",
    "    \n",
    "print(\"\\n Operaciones con Arrays\")\n",
    "print(\"zeros= \\t\",np.zeros([2,3]))\n",
    "print(\"ones= \\t\",np.ones([3,2]))\n",
    "print(\"\\n multiplication= \\t\",np.matmul(np3,np4))"
   ]
  },
  {
   "cell_type": "code",
   "execution_count": 233,
   "metadata": {},
   "outputs": [
    {
     "data": {
      "text/plain": [
       "array([1.])"
      ]
     },
     "execution_count": 233,
     "metadata": {},
     "output_type": "execute_result"
    }
   ],
   "source": [
    "np.ones([1])"
   ]
  },
  {
   "cell_type": "markdown",
   "metadata": {},
   "source": [
    "# Gráficas y Sesiones"
   ]
  },
  {
   "cell_type": "markdown",
   "metadata": {},
   "source": [
    "Tensorflow utiliza un estilo de **programación declarativo**, lo que significa que tenemos que primero definir las variables a utilizar y las operaciones a realizar entre ellas. Esto nos da los elementos principales de Tensorflow:\n",
    "\n",
    "- La declaración de variables y operaciones: Estas definen una **gráfica de operaciones (Data Flow Graph)** que representa las relaciones y dependencias entre las variables.\n",
    "- La ejecución de variables y operaciones: Se lleva a cabo dentro de una **Sesión** en donde se destinan recursos de computo para realizar las operaciones establecidas en la gráfica."
   ]
  },
  {
   "cell_type": "markdown",
   "metadata": {},
   "source": [
    "La estructura fundamental de un programa en Tensorflow es de bajo nivel, i.e. se deben definir y declarar explícitamente las operaciones (low-level API). Sin embargo, existen módulos (como Keras) que utilizan funciones de más alto nivel y \"esconden\" la gŕafica de operaciones al usuario (high-level API).\n",
    "\n",
    "En el caso de bajo nivel, la estructura básica de un programa en Tensorflow es la siguiente:"
   ]
  },
  {
   "cell_type": "code",
   "execution_count": 236,
   "metadata": {},
   "outputs": [
    {
     "name": "stdout",
     "output_type": "stream",
     "text": [
      "30.0\n"
     ]
    }
   ],
   "source": [
    "# Construye una gráfica de operaciones\n",
    "a = tf.constant(5.0)\n",
    "b = tf.constant(6.0)\n",
    "c = a * b\n",
    "\n",
    "# Ejecuta la gráfica en una sesión\n",
    "sess = tf.Session()\n",
    "print(sess.run(c)) # Evalua el valor de c\n",
    "sess.close()"
   ]
  },
  {
   "cell_type": "markdown",
   "metadata": {},
   "source": [
    "Empezaremos con las gráficas. Cada variable u operación que definamos se añade por defecto a la gráfica de operaciones de Tensorflow. Esta se puede visualizar con herramientas como Tensorboard. Cada operación de la gráfica se puede asignar explícitamente a un dispositivo para procesarse. Esto permite realizar cálculos en distintos procesadores e incluso distinto equipos.\n",
    "\n",
    "Esta es la visualización de una gráfica de operaciones generada en Tensorboard."
   ]
  },
  {
   "cell_type": "markdown",
   "metadata": {},
   "source": [
    "<img src=\"https://www.tensorflow.org/images/tensors_flowing.gif\" width=400>"
   ]
  },
  {
   "cell_type": "markdown",
   "metadata": {},
   "source": [
    "**Nota:** Las variables también pueden pensarse como operaciones que añaden un nodo a la gráfica (nodos externos), por lo que a veces se les llaman operaciones.\n",
    "\n",
    "Internamente, es necesario que las operaciones tengan nombres únicos en la gráfica, aunque esto no es igual a los nombres que declaramos en Python."
   ]
  },
  {
   "cell_type": "code",
   "execution_count": 234,
   "metadata": {},
   "outputs": [],
   "source": [
    "c_0 = tf.constant(0, name=\"c\")  # => llamar a la operación \"c\"\n",
    "\n",
    "#a los mismos nombres se les añade un índice para diferenciarlos\n",
    "c_1 = tf.constant(2, name=\"c\")  # => llamar a la operación \"c_1\"\n",
    "\n",
    "\n",
    "# Podemos definir ámbitos que añaden prefijos a las operaciones en ese contexto\n",
    "with tf.name_scope(\"outer\"):\n",
    "    c_2 = tf.constant(2, name=\"c\")  # => llamar a la operación \"outer/c\"\n",
    "\n",
    "    # los ámbitos pueden formar estructuras similares a un sistema de archivos\n",
    "    with tf.name_scope(\"inner\"):\n",
    "        c_3 = tf.constant(3, name=\"c\")  # => llamar a la operación \"outer/inner/c\"\n",
    "\n",
    "    #podemos cambiar de ámbito, pero se mantienen los que creamos antes\n",
    "    c_4 = tf.constant(4, name=\"c\")  # => llamar a la operación \"outer/c_1\"\n",
    "    \n",
    "    with tf.name_scope(\"inner\"):\n",
    "        c_5 = tf.constant(5, name=\"c\")  # => llamar a la operación \"outer/inner_1/c\"\n"
   ]
  },
  {
   "cell_type": "markdown",
   "metadata": {},
   "source": [
    "Las operaciones que definimos se asignan por defecto a la gráfica predeterminada. Para ver las operaciones en la gráfica utilizamos `get_operations()`."
   ]
  },
  {
   "cell_type": "code",
   "execution_count": 237,
   "metadata": {},
   "outputs": [
    {
     "name": "stdout",
     "output_type": "stream",
     "text": [
      "<class 'list'>\n"
     ]
    },
    {
     "data": {
      "text/plain": [
       "[<tf.Operation 'zeros' type=Const>,\n",
       " <tf.Operation 's_weights' type=VariableV2>,\n",
       " <tf.Operation 's_weights/Assign' type=Assign>,\n",
       " <tf.Operation 's_weights/read' type=Identity>,\n",
       " <tf.Operation 'zeros_1' type=Const>,\n",
       " <tf.Operation 's_biases' type=VariableV2>,\n",
       " <tf.Operation 's_biases/Assign' type=Assign>,\n",
       " <tf.Operation 's_biases/read' type=Identity>,\n",
       " <tf.Operation 'save/filename/input' type=Const>,\n",
       " <tf.Operation 'save/filename' type=PlaceholderWithDefault>,\n",
       " <tf.Operation 'save/Const' type=PlaceholderWithDefault>,\n",
       " <tf.Operation 'save/SaveV2/tensor_names' type=Const>,\n",
       " <tf.Operation 'save/SaveV2/shape_and_slices' type=Const>,\n",
       " <tf.Operation 'save/SaveV2' type=SaveV2>,\n",
       " <tf.Operation 'save/control_dependency' type=Identity>,\n",
       " <tf.Operation 'save/RestoreV2/tensor_names' type=Const>,\n",
       " <tf.Operation 'save/RestoreV2/shape_and_slices' type=Const>,\n",
       " <tf.Operation 'save/RestoreV2' type=RestoreV2>,\n",
       " <tf.Operation 'save/Assign' type=Assign>,\n",
       " <tf.Operation 'save/Assign_1' type=Assign>,\n",
       " <tf.Operation 'save/restore_all' type=NoOp>,\n",
       " <tf.Operation 'c' type=Const>,\n",
       " <tf.Operation 'c_1' type=Const>,\n",
       " <tf.Operation 'outer/c' type=Const>,\n",
       " <tf.Operation 'outer/inner/c' type=Const>,\n",
       " <tf.Operation 'outer/c_1' type=Const>,\n",
       " <tf.Operation 'outer/inner_1/c' type=Const>,\n",
       " <tf.Operation 'Const' type=Const>,\n",
       " <tf.Operation 'Const_1' type=Const>,\n",
       " <tf.Operation 'mul' type=Mul>]"
      ]
     },
     "execution_count": 237,
     "metadata": {},
     "output_type": "execute_result"
    }
   ],
   "source": [
    "g = tf.get_default_graph()\n",
    "print(type(g.get_operations()))\n",
    "g.get_operations()"
   ]
  },
  {
   "cell_type": "code",
   "execution_count": 11,
   "metadata": {},
   "outputs": [
    {
     "name": "stdout",
     "output_type": "stream",
     "text": [
      "name: \"Const\"\n",
      "op: \"Const\"\n",
      "attr {\n",
      "  key: \"dtype\"\n",
      "  value {\n",
      "    type: DT_FLOAT\n",
      "  }\n",
      "}\n",
      "attr {\n",
      "  key: \"value\"\n",
      "  value {\n",
      "    tensor {\n",
      "      dtype: DT_FLOAT\n",
      "      tensor_shape {\n",
      "      }\n",
      "      float_val: 5.0\n",
      "    }\n",
      "  }\n",
      "}\n",
      "\n"
     ]
    }
   ],
   "source": [
    "print(g.get_operations()[0]) #internamente, las operaciones son una lista de abributos"
   ]
  },
  {
   "cell_type": "markdown",
   "metadata": {},
   "source": [
    "**Advertencia:** Observamos que se incluyen las operaciones que definimos en la primera celda, i.e. se siguen añadiendo indefinidamente. Esto puede causar conflictos cuando ejecutamos una operación que genera un error, pues el error puede aparecer aún si ejecutamos otras operaciones en la misma gráfica. Por esta razón es buena idea definir o limitar el ámbito en el que se le asignan operaciones de la gráfica. Hay varias formas de hacer esto:"
   ]
  },
  {
   "cell_type": "markdown",
   "metadata": {},
   "source": [
    "1. Re-establecer la gráfica"
   ]
  },
  {
   "cell_type": "code",
   "execution_count": 238,
   "metadata": {},
   "outputs": [
    {
     "data": {
      "text/plain": [
       "[]"
      ]
     },
     "execution_count": 238,
     "metadata": {},
     "output_type": "execute_result"
    }
   ],
   "source": [
    "tf.reset_default_graph()\n",
    "g = tf.get_default_graph()\n",
    "g.get_operations()"
   ]
  },
  {
   "cell_type": "markdown",
   "metadata": {},
   "source": [
    "2. Definir un ámbito donde la gráfica es la predeterminada"
   ]
  },
  {
   "cell_type": "code",
   "execution_count": 239,
   "metadata": {},
   "outputs": [],
   "source": [
    "g_1 = tf.Graph()\n",
    "with g_1.as_default():\n",
    "    c = tf.constant(\"Nodo en g_1\",name=\"c\") #se añade la operación a g_1\n",
    "\n",
    "    sess_1 = tf.Session() #en este ámbito, por defecto, las sesiones ejecutan las operaciones de g_1\n",
    "\n",
    "g_2 = tf.Graph()\n",
    "with g_2.as_default():\n",
    "    d = tf.constant(\"Nodo en g_2\",name=\"d\") #se añade la operación a g_2\n",
    "\n",
    "    sess_2 = tf.Session() #en este ámbito, por defecto, las sesiones ejecutan las operaciones de g_2"
   ]
  },
  {
   "cell_type": "code",
   "execution_count": 240,
   "metadata": {},
   "outputs": [
    {
     "name": "stdout",
     "output_type": "stream",
     "text": [
      "[<tf.Operation 'c' type=Const>]\n",
      "True\n",
      "True\n",
      "[<tf.Operation 'd' type=Const>]\n",
      "True\n",
      "True\n"
     ]
    }
   ],
   "source": [
    "print(g_1.get_operations())\n",
    "print(c.graph is g_1) #la operación c pertenece a g_1\n",
    "print(sess_1.graph is g_1) #la gráfica predeterminada para la sesión sess_1 es g_1\n",
    "\n",
    "print(g_2.get_operations())\n",
    "print(d.graph is g_2) #la operación d pertenece a g_2\n",
    "print(sess_2.graph is g_2) #la gráfica predeterminada para la sesión sess_2 es g_2"
   ]
  },
  {
   "cell_type": "markdown",
   "metadata": {},
   "source": [
    "3. Definir un ámbito para la gráfica y asignarla explícitamente a una sesión "
   ]
  },
  {
   "cell_type": "code",
   "execution_count": 241,
   "metadata": {},
   "outputs": [
    {
     "name": "stdout",
     "output_type": "stream",
     "text": [
      "b'Nodo en g_1'\n"
     ]
    }
   ],
   "source": [
    "g_1 = tf.Graph()\n",
    "with g_1.as_default():\n",
    "    c = tf.constant(\"Nodo en g_1\",name=\"c\") #se añade la operación a g_1\n",
    "\n",
    "\n",
    "sess_1 = tf.Session(graph=g_1)\n",
    "print(sess_1.run(c))\n",
    "#print(sess_1.run(d)) #esto falla ya que d no pertenece a g1\n",
    "#print(sess_2.run(c)) #esto falla porque se está usando sess_1 no sess_2\n",
    "sess_1.close()"
   ]
  },
  {
   "cell_type": "markdown",
   "metadata": {},
   "source": [
    "4. \"Finalizar\" la gráfica, i.e. evitar que se le puedan añadir más operaciones"
   ]
  },
  {
   "cell_type": "code",
   "execution_count": 242,
   "metadata": {},
   "outputs": [
    {
     "name": "stdout",
     "output_type": "stream",
     "text": [
      "[<tf.Operation 'd' type=Const>]\n"
     ]
    },
    {
     "ename": "RuntimeError",
     "evalue": "Graph is finalized and cannot be modified.",
     "output_type": "error",
     "traceback": [
      "\u001b[0;31m---------------------------------------------------------------------------\u001b[0m",
      "\u001b[0;31mRuntimeError\u001b[0m                              Traceback (most recent call last)",
      "\u001b[0;32m<ipython-input-242-55627d163a02>\u001b[0m in \u001b[0;36m<module>\u001b[0;34m\u001b[0m\n\u001b[1;32m      3\u001b[0m \u001b[0;34m\u001b[0m\u001b[0m\n\u001b[1;32m      4\u001b[0m \u001b[0;32mwith\u001b[0m \u001b[0mg_2\u001b[0m\u001b[0;34m.\u001b[0m\u001b[0mas_default\u001b[0m\u001b[0;34m(\u001b[0m\u001b[0;34m)\u001b[0m\u001b[0;34m:\u001b[0m\u001b[0;34m\u001b[0m\u001b[0;34m\u001b[0m\u001b[0m\n\u001b[0;32m----> 5\u001b[0;31m     \u001b[0md\u001b[0m \u001b[0;34m=\u001b[0m \u001b[0mtf\u001b[0m\u001b[0;34m.\u001b[0m\u001b[0mconstant\u001b[0m\u001b[0;34m(\u001b[0m\u001b[0;34m\"Nodo en g_2\"\u001b[0m\u001b[0;34m,\u001b[0m\u001b[0mname\u001b[0m\u001b[0;34m=\u001b[0m\u001b[0;34m\"d\"\u001b[0m\u001b[0;34m)\u001b[0m \u001b[0;31m#trata de añadir d_2 a g_2 pero falla\u001b[0m\u001b[0;34m\u001b[0m\u001b[0;34m\u001b[0m\u001b[0m\n\u001b[0m",
      "\u001b[0;32m~/anaconda3/lib/python3.7/site-packages/tensorflow/python/framework/constant_op.py\u001b[0m in \u001b[0;36mconstant_v1\u001b[0;34m(value, dtype, shape, name, verify_shape)\u001b[0m\n\u001b[1;32m    177\u001b[0m   \"\"\"\n\u001b[1;32m    178\u001b[0m   return _constant_impl(value, dtype, shape, name, verify_shape=verify_shape,\n\u001b[0;32m--> 179\u001b[0;31m                         allow_broadcast=False)\n\u001b[0m\u001b[1;32m    180\u001b[0m \u001b[0;34m\u001b[0m\u001b[0m\n\u001b[1;32m    181\u001b[0m \u001b[0;34m\u001b[0m\u001b[0m\n",
      "\u001b[0;32m~/anaconda3/lib/python3.7/site-packages/tensorflow/python/framework/constant_op.py\u001b[0m in \u001b[0;36m_constant_impl\u001b[0;34m(value, dtype, shape, name, verify_shape, allow_broadcast)\u001b[0m\n\u001b[1;32m    287\u001b[0m       attrs={\"value\": tensor_value,\n\u001b[1;32m    288\u001b[0m              \"dtype\": dtype_value},\n\u001b[0;32m--> 289\u001b[0;31m       name=name).outputs[0]\n\u001b[0m\u001b[1;32m    290\u001b[0m   \u001b[0;32mreturn\u001b[0m \u001b[0mconst_tensor\u001b[0m\u001b[0;34m\u001b[0m\u001b[0;34m\u001b[0m\u001b[0m\n\u001b[1;32m    291\u001b[0m \u001b[0;34m\u001b[0m\u001b[0m\n",
      "\u001b[0;32m~/anaconda3/lib/python3.7/site-packages/tensorflow/python/util/deprecation.py\u001b[0m in \u001b[0;36mnew_func\u001b[0;34m(*args, **kwargs)\u001b[0m\n\u001b[1;32m    505\u001b[0m                 \u001b[0;34m'in a future version'\u001b[0m \u001b[0;32mif\u001b[0m \u001b[0mdate\u001b[0m \u001b[0;32mis\u001b[0m \u001b[0;32mNone\u001b[0m \u001b[0;32melse\u001b[0m \u001b[0;34m(\u001b[0m\u001b[0;34m'after %s'\u001b[0m \u001b[0;34m%\u001b[0m \u001b[0mdate\u001b[0m\u001b[0;34m)\u001b[0m\u001b[0;34m,\u001b[0m\u001b[0;34m\u001b[0m\u001b[0;34m\u001b[0m\u001b[0m\n\u001b[1;32m    506\u001b[0m                 instructions)\n\u001b[0;32m--> 507\u001b[0;31m       \u001b[0;32mreturn\u001b[0m \u001b[0mfunc\u001b[0m\u001b[0;34m(\u001b[0m\u001b[0;34m*\u001b[0m\u001b[0margs\u001b[0m\u001b[0;34m,\u001b[0m \u001b[0;34m**\u001b[0m\u001b[0mkwargs\u001b[0m\u001b[0;34m)\u001b[0m\u001b[0;34m\u001b[0m\u001b[0;34m\u001b[0m\u001b[0m\n\u001b[0m\u001b[1;32m    508\u001b[0m \u001b[0;34m\u001b[0m\u001b[0m\n\u001b[1;32m    509\u001b[0m     doc = _add_deprecated_arg_notice_to_docstring(\n",
      "\u001b[0;32m~/anaconda3/lib/python3.7/site-packages/tensorflow/python/framework/ops.py\u001b[0m in \u001b[0;36mcreate_op\u001b[0;34m(***failed resolving arguments***)\u001b[0m\n\u001b[1;32m   3270\u001b[0m     \u001b[0;32mdel\u001b[0m \u001b[0mcompute_shapes\u001b[0m\u001b[0;34m\u001b[0m\u001b[0;34m\u001b[0m\u001b[0m\n\u001b[1;32m   3271\u001b[0m \u001b[0;34m\u001b[0m\u001b[0m\n\u001b[0;32m-> 3272\u001b[0;31m     \u001b[0mself\u001b[0m\u001b[0;34m.\u001b[0m\u001b[0m_check_not_finalized\u001b[0m\u001b[0;34m(\u001b[0m\u001b[0;34m)\u001b[0m\u001b[0;34m\u001b[0m\u001b[0;34m\u001b[0m\u001b[0m\n\u001b[0m\u001b[1;32m   3273\u001b[0m     \u001b[0;32mfor\u001b[0m \u001b[0midx\u001b[0m\u001b[0;34m,\u001b[0m \u001b[0ma\u001b[0m \u001b[0;32min\u001b[0m \u001b[0menumerate\u001b[0m\u001b[0;34m(\u001b[0m\u001b[0minputs\u001b[0m\u001b[0;34m)\u001b[0m\u001b[0;34m:\u001b[0m\u001b[0;34m\u001b[0m\u001b[0;34m\u001b[0m\u001b[0m\n\u001b[1;32m   3274\u001b[0m       \u001b[0;32mif\u001b[0m \u001b[0;32mnot\u001b[0m \u001b[0misinstance\u001b[0m\u001b[0;34m(\u001b[0m\u001b[0ma\u001b[0m\u001b[0;34m,\u001b[0m \u001b[0mTensor\u001b[0m\u001b[0;34m)\u001b[0m\u001b[0;34m:\u001b[0m\u001b[0;34m\u001b[0m\u001b[0;34m\u001b[0m\u001b[0m\n",
      "\u001b[0;32m~/anaconda3/lib/python3.7/site-packages/tensorflow/python/framework/ops.py\u001b[0m in \u001b[0;36m_check_not_finalized\u001b[0;34m(self)\u001b[0m\n\u001b[1;32m   2943\u001b[0m     \"\"\"\n\u001b[1;32m   2944\u001b[0m     \u001b[0;32mif\u001b[0m \u001b[0mself\u001b[0m\u001b[0;34m.\u001b[0m\u001b[0m_finalized\u001b[0m\u001b[0;34m:\u001b[0m\u001b[0;34m\u001b[0m\u001b[0;34m\u001b[0m\u001b[0m\n\u001b[0;32m-> 2945\u001b[0;31m       \u001b[0;32mraise\u001b[0m \u001b[0mRuntimeError\u001b[0m\u001b[0;34m(\u001b[0m\u001b[0;34m\"Graph is finalized and cannot be modified.\"\u001b[0m\u001b[0;34m)\u001b[0m\u001b[0;34m\u001b[0m\u001b[0;34m\u001b[0m\u001b[0m\n\u001b[0m\u001b[1;32m   2946\u001b[0m \u001b[0;34m\u001b[0m\u001b[0m\n\u001b[1;32m   2947\u001b[0m   \u001b[0;32mdef\u001b[0m \u001b[0m_add_op\u001b[0m\u001b[0;34m(\u001b[0m\u001b[0mself\u001b[0m\u001b[0;34m,\u001b[0m \u001b[0mop\u001b[0m\u001b[0;34m)\u001b[0m\u001b[0;34m:\u001b[0m\u001b[0;34m\u001b[0m\u001b[0;34m\u001b[0m\u001b[0m\n",
      "\u001b[0;31mRuntimeError\u001b[0m: Graph is finalized and cannot be modified."
     ]
    }
   ],
   "source": [
    "print(g_2.get_operations())\n",
    "g_2.finalize()\n",
    "\n",
    "with g_2.as_default():\n",
    "    d = tf.constant(\"Nodo en g_2\",name=\"d\") #trata de añadir d_2 a g_2 pero falla"
   ]
  },
  {
   "cell_type": "markdown",
   "metadata": {},
   "source": [
    "**Obs.** Las observaciones siguen ahí a pesar de haber cerrado el ámbito. ¿Cómo reestablecemos g_1?"
   ]
  },
  {
   "cell_type": "code",
   "execution_count": 243,
   "metadata": {},
   "outputs": [
    {
     "data": {
      "text/plain": [
       "[<tf.Operation 'c' type=Const>]"
      ]
     },
     "execution_count": 243,
     "metadata": {},
     "output_type": "execute_result"
    }
   ],
   "source": [
    "g_1.get_operations()"
   ]
  },
  {
   "cell_type": "code",
   "execution_count": 244,
   "metadata": {},
   "outputs": [
    {
     "ename": "AssertionError",
     "evalue": "Do not use tf.reset_default_graph() to clear nested graphs. If you need a cleared graph, exit the nesting and create a new graph.",
     "output_type": "error",
     "traceback": [
      "\u001b[0;31m---------------------------------------------------------------------------\u001b[0m",
      "\u001b[0;31mAssertionError\u001b[0m                            Traceback (most recent call last)",
      "\u001b[0;32m<ipython-input-244-8f87566ccecc>\u001b[0m in \u001b[0;36m<module>\u001b[0;34m\u001b[0m\n\u001b[1;32m      1\u001b[0m \u001b[0;32mwith\u001b[0m \u001b[0mg_1\u001b[0m\u001b[0;34m.\u001b[0m\u001b[0mas_default\u001b[0m\u001b[0;34m(\u001b[0m\u001b[0;34m)\u001b[0m\u001b[0;34m:\u001b[0m\u001b[0;34m\u001b[0m\u001b[0;34m\u001b[0m\u001b[0m\n\u001b[0;32m----> 2\u001b[0;31m     \u001b[0mtf\u001b[0m\u001b[0;34m.\u001b[0m\u001b[0mreset_default_graph\u001b[0m\u001b[0;34m(\u001b[0m\u001b[0;34m)\u001b[0m \u001b[0;31m#esto no funciona, se debe hacer fuera de cualquier ámbito o sesión\u001b[0m\u001b[0;34m\u001b[0m\u001b[0;34m\u001b[0m\u001b[0m\n\u001b[0m\u001b[1;32m      3\u001b[0m     \u001b[0mprint\u001b[0m\u001b[0;34m(\u001b[0m\u001b[0mg_1\u001b[0m\u001b[0;34m.\u001b[0m\u001b[0mget_operations\u001b[0m\u001b[0;34m(\u001b[0m\u001b[0;34m)\u001b[0m\u001b[0;34m)\u001b[0m\u001b[0;34m\u001b[0m\u001b[0;34m\u001b[0m\u001b[0m\n",
      "\u001b[0;32m~/anaconda3/lib/python3.7/site-packages/tensorflow/python/framework/ops.py\u001b[0m in \u001b[0;36mreset_default_graph\u001b[0;34m()\u001b[0m\n\u001b[1;32m   5586\u001b[0m   \"\"\"\n\u001b[1;32m   5587\u001b[0m   \u001b[0;32mif\u001b[0m \u001b[0;32mnot\u001b[0m \u001b[0m_default_graph_stack\u001b[0m\u001b[0;34m.\u001b[0m\u001b[0mis_cleared\u001b[0m\u001b[0;34m(\u001b[0m\u001b[0;34m)\u001b[0m\u001b[0;34m:\u001b[0m\u001b[0;34m\u001b[0m\u001b[0;34m\u001b[0m\u001b[0m\n\u001b[0;32m-> 5588\u001b[0;31m     raise AssertionError(\"Do not use tf.reset_default_graph() to clear \"\n\u001b[0m\u001b[1;32m   5589\u001b[0m                          \u001b[0;34m\"nested graphs. If you need a cleared graph, \"\u001b[0m\u001b[0;34m\u001b[0m\u001b[0;34m\u001b[0m\u001b[0m\n\u001b[1;32m   5590\u001b[0m                          \"exit the nesting and create a new graph.\")\n",
      "\u001b[0;31mAssertionError\u001b[0m: Do not use tf.reset_default_graph() to clear nested graphs. If you need a cleared graph, exit the nesting and create a new graph."
     ]
    }
   ],
   "source": [
    "with g_1.as_default():\n",
    "    tf.reset_default_graph() #esto no funciona, se debe hacer fuera de cualquier ámbito o sesión\n",
    "    print(g_1.get_operations()) "
   ]
  },
  {
   "cell_type": "markdown",
   "metadata": {},
   "source": [
    "Símplemente la definimos nuevamente:"
   ]
  },
  {
   "cell_type": "code",
   "execution_count": 245,
   "metadata": {},
   "outputs": [
    {
     "name": "stdout",
     "output_type": "stream",
     "text": [
      "[<tf.Operation 'c' type=Const>]\n",
      "[]\n"
     ]
    }
   ],
   "source": [
    "print(g_1.get_operations())\n",
    "g_1 = tf.Graph()\n",
    "print(g_1.get_operations())"
   ]
  },
  {
   "cell_type": "markdown",
   "metadata": {},
   "source": [
    "**Nota:** Es común utilizar una gráfica para definir las operaciones de entrenamiento y una diferente para evaluación (validación y prueba) o predicción con datos individuales."
   ]
  },
  {
   "cell_type": "markdown",
   "metadata": {},
   "source": [
    "Una vez creada la gráfica de operaciones debemos ejecutarla de manera separada. Para esto se utilizan las **sesiones**. Hay distintas maneras de crear una sesión:"
   ]
  },
  {
   "cell_type": "markdown",
   "metadata": {},
   "source": [
    "1. tf.Session y sess.close"
   ]
  },
  {
   "cell_type": "code",
   "execution_count": 246,
   "metadata": {},
   "outputs": [
    {
     "name": "stdout",
     "output_type": "stream",
     "text": [
      "1: tf.Session y tf.close \n",
      " [[0. 0. 0.]\n",
      " [0. 0. 0.]]\n"
     ]
    }
   ],
   "source": [
    "sess1=tf.Session(config=tf.ConfigProto(log_device_placement=True,allow_soft_placement=True)) \n",
    "#log_device_placement=True imprime en la terminal el dispositivo donde se lleva a cabo cada operación\n",
    "#allow_soft_placement=True asigna automáticamente las operacionas a CPU cuando no pueden correrse en GPU\n",
    "print(\"1: tf.Session y tf.close \\n\",sess1.run(tf.zeros([2,3])))\n",
    "sess1.close()"
   ]
  },
  {
   "cell_type": "markdown",
   "metadata": {},
   "source": [
    "2. Interactive Session"
   ]
  },
  {
   "cell_type": "code",
   "execution_count": 21,
   "metadata": {},
   "outputs": [
    {
     "name": "stdout",
     "output_type": "stream",
     "text": [
      "2: Interactive Session [[1 2 3]]\n",
      "True\n"
     ]
    }
   ],
   "source": [
    "sess2=tf.InteractiveSession()\n",
    "print(\"2: Interactive Session\",sess2.run(tf.constant([1,2,3],shape=[1,3])))\n",
    "#crea una sesión y la define como la sesión predeterminada\n",
    "print(tf.get_default_session() is sess2)\n",
    "sess2.close()\n",
    "\n",
    "#sess2.run(tf.zeros([2,3])) #falla dado que la sesión está cerrada"
   ]
  },
  {
   "cell_type": "markdown",
   "metadata": {},
   "source": [
    "3. Ámbito con with tf.Session()"
   ]
  },
  {
   "cell_type": "code",
   "execution_count": 247,
   "metadata": {},
   "outputs": [
    {
     "name": "stdout",
     "output_type": "stream",
     "text": [
      "True\n",
      "3: with tf.Session \n",
      " 3.0\n",
      "[[0. 0. 0.]\n",
      " [0. 0. 0.]]\n",
      "Las variables que definimos en la sesión permanecen cuando se cierra:\n",
      "[[0. 0. 0.]\n",
      " [0. 0. 0.]]\n"
     ]
    }
   ],
   "source": [
    "with tf.Session() as sess3: #abre una sesión, ejecuta el código identado y luego la cierra automáticamente\n",
    "    #al igual que Interactive Session, se define como predeterminado\n",
    "    print(tf.get_default_session() is sess3)\n",
    "    \n",
    "    test=tf.placeholder(tf.float32)\n",
    "    print(\"3: with tf.Session \\n\",test.eval(feed_dict={test:3})) \n",
    "    resultado=sess3.run(tf.zeros([2,3]))\n",
    "    print(resultado)\n",
    "    \n",
    "#sess3.run(tf.zeros([2,3])) #falla dado que la sesión está cerrada\n",
    "print(\"Las variables que definimos en la sesión permanecen cuando se cierra:\")\n",
    "print(resultado)"
   ]
  },
  {
   "cell_type": "markdown",
   "metadata": {},
   "source": [
    "Una sesión cerrada ya no es la predeterminada"
   ]
  },
  {
   "cell_type": "code",
   "execution_count": 248,
   "metadata": {},
   "outputs": [
    {
     "name": "stdout",
     "output_type": "stream",
     "text": [
      "False\n",
      "False\n",
      "False\n"
     ]
    }
   ],
   "source": [
    "print(tf.get_default_session() is sess1)\n",
    "print(tf.get_default_session() is sess2)\n",
    "print(tf.get_default_session() is sess3)"
   ]
  },
  {
   "cell_type": "markdown",
   "metadata": {},
   "source": [
    "Pero aún así se mantiene la información de las gráficas que se ejecutaron en la sesión"
   ]
  },
  {
   "cell_type": "code",
   "execution_count": 249,
   "metadata": {},
   "outputs": [
    {
     "data": {
      "text/plain": [
       "[<tf.Operation 'zeros' type=Const>,\n",
       " <tf.Operation 'Placeholder' type=Placeholder>,\n",
       " <tf.Operation 'zeros_1' type=Const>]"
      ]
     },
     "execution_count": 249,
     "metadata": {},
     "output_type": "execute_result"
    }
   ],
   "source": [
    "sess1.graph.get_operations()"
   ]
  },
  {
   "cell_type": "code",
   "execution_count": 25,
   "metadata": {},
   "outputs": [
    {
     "data": {
      "text/plain": [
       "node {\n",
       "  name: \"zeros\"\n",
       "  op: \"Const\"\n",
       "  attr {\n",
       "    key: \"dtype\"\n",
       "    value {\n",
       "      type: DT_FLOAT\n",
       "    }\n",
       "  }\n",
       "  attr {\n",
       "    key: \"value\"\n",
       "    value {\n",
       "      tensor {\n",
       "        dtype: DT_FLOAT\n",
       "        tensor_shape {\n",
       "          dim {\n",
       "            size: 2\n",
       "          }\n",
       "          dim {\n",
       "            size: 3\n",
       "          }\n",
       "        }\n",
       "        float_val: 0.0\n",
       "      }\n",
       "    }\n",
       "  }\n",
       "}\n",
       "node {\n",
       "  name: \"Const\"\n",
       "  op: \"Const\"\n",
       "  attr {\n",
       "    key: \"dtype\"\n",
       "    value {\n",
       "      type: DT_INT32\n",
       "    }\n",
       "  }\n",
       "  attr {\n",
       "    key: \"value\"\n",
       "    value {\n",
       "      tensor {\n",
       "        dtype: DT_INT32\n",
       "        tensor_shape {\n",
       "          dim {\n",
       "            size: 1\n",
       "          }\n",
       "          dim {\n",
       "            size: 3\n",
       "          }\n",
       "        }\n",
       "        tensor_content: \"\\001\\000\\000\\000\\002\\000\\000\\000\\003\\000\\000\\000\"\n",
       "      }\n",
       "    }\n",
       "  }\n",
       "}\n",
       "node {\n",
       "  name: \"Placeholder\"\n",
       "  op: \"Placeholder\"\n",
       "  attr {\n",
       "    key: \"dtype\"\n",
       "    value {\n",
       "      type: DT_FLOAT\n",
       "    }\n",
       "  }\n",
       "  attr {\n",
       "    key: \"shape\"\n",
       "    value {\n",
       "      shape {\n",
       "        unknown_rank: true\n",
       "      }\n",
       "    }\n",
       "  }\n",
       "}\n",
       "node {\n",
       "  name: \"zeros_1\"\n",
       "  op: \"Const\"\n",
       "  attr {\n",
       "    key: \"dtype\"\n",
       "    value {\n",
       "      type: DT_FLOAT\n",
       "    }\n",
       "  }\n",
       "  attr {\n",
       "    key: \"value\"\n",
       "    value {\n",
       "      tensor {\n",
       "        dtype: DT_FLOAT\n",
       "        tensor_shape {\n",
       "          dim {\n",
       "            size: 2\n",
       "          }\n",
       "          dim {\n",
       "            size: 3\n",
       "          }\n",
       "        }\n",
       "        float_val: 0.0\n",
       "      }\n",
       "    }\n",
       "  }\n",
       "}\n",
       "versions {\n",
       "  producer: 27\n",
       "}"
      ]
     },
     "execution_count": 25,
     "metadata": {},
     "output_type": "execute_result"
    }
   ],
   "source": [
    "sess1.graph_def"
   ]
  },
  {
   "cell_type": "markdown",
   "metadata": {},
   "source": [
    "Notemos que las operaciones se acumulario al no haber limitado la gráfica"
   ]
  },
  {
   "cell_type": "code",
   "execution_count": 250,
   "metadata": {},
   "outputs": [
    {
     "name": "stdout",
     "output_type": "stream",
     "text": [
      "[<tf.Operation 'zeros' type=Const>, <tf.Operation 'Placeholder' type=Placeholder>, <tf.Operation 'zeros_1' type=Const>]\n"
     ]
    }
   ],
   "source": [
    "g=tf.get_default_graph()\n",
    "print(g.get_operations())\n",
    "tf.reset_default_graph()"
   ]
  },
  {
   "cell_type": "markdown",
   "metadata": {},
   "source": [
    "# Escalares y Tensores  "
   ]
  },
  {
   "cell_type": "markdown",
   "metadata": {},
   "source": [
    "Ahora veremos los distintos tipos de variables que se utilizan en tensorflow. La librería define sus propios tipos de escalares y arreglos multidimensionales. Estos últimos son llamados tensores. Ambos son muy similares a los que existen en numpy. "
   ]
  },
  {
   "cell_type": "markdown",
   "metadata": {},
   "source": [
    "<img src=\"images/tf_data_types.png\">"
   ]
  },
  {
   "cell_type": "code",
   "execution_count": 251,
   "metadata": {},
   "outputs": [
    {
     "data": {
      "text/plain": [
       "(True, True)"
      ]
     },
     "execution_count": 251,
     "metadata": {},
     "output_type": "execute_result"
    }
   ],
   "source": [
    "import numpy as np\n",
    "tf.int64 == np.int64 , tf.complex64==np.complex64"
   ]
  },
  {
   "cell_type": "code",
   "execution_count": 252,
   "metadata": {},
   "outputs": [
    {
     "data": {
      "text/plain": [
       "(tensorflow.python.framework.dtypes.DType, type)"
      ]
     },
     "execution_count": 252,
     "metadata": {},
     "output_type": "execute_result"
    }
   ],
   "source": [
    "type(tf.int64),type(np.int64)"
   ]
  },
  {
   "cell_type": "markdown",
   "metadata": {},
   "source": [
    "A sí mismo, existen varios tipos de tensores. Veremos los más importantes."
   ]
  },
  {
   "cell_type": "markdown",
   "metadata": {},
   "source": [
    "Los tensores **constantes** tienen valores fijos y no pueden modificarse durante la ejecución. En la sesión se ejecutan mediante `sesss.run`."
   ]
  },
  {
   "cell_type": "code",
   "execution_count": 255,
   "metadata": {},
   "outputs": [
    {
     "name": "stdout",
     "output_type": "stream",
     "text": [
      "Tensor(\"a:0\", shape=(2, 3), dtype=float32)\n",
      "Tensor(\"b:0\", shape=(3, 2), dtype=float32)\n",
      "\n",
      "------------------using with context ----------------------------\n",
      "a0= [[1. 2. 3.]\n",
      " [4. 5. 6.]]\n",
      "b0= [[1. 2.]\n",
      " [3. 4.]\n",
      " [5. 6.]]\n",
      "\n",
      "c0=a0*b0= \n",
      " [[22. 28.]\n",
      " [49. 64.]]\n",
      "d0=b0*a0= \n",
      " [[ 9. 12. 15.]\n",
      " [19. 26. 33.]\n",
      " [29. 40. 51.]]\n",
      "\n",
      "f0= [[0. 0. 0.]\n",
      " [0. 0. 0.]]\n",
      "\n",
      "p0= 2\n",
      "r0= (-1+0j)\n",
      "\n",
      "Los tensores cambian de tipo al evaluarlos:\n",
      "c0 es: <class 'tensorflow.python.framework.ops.Tensor'> pero c0.eval es <class 'numpy.ndarray'>\n",
      "\n",
      " shape: (2, 2) \n",
      " rank: Tensor(\"Rank:0\", shape=(), dtype=int32)\n",
      "\n",
      " Podemos también ejecutar código normal dentro de la sesión:\n",
      "2\n"
     ]
    }
   ],
   "source": [
    "#tf constants\n",
    "\n",
    "g_1 = tf.Graph()\n",
    "with g_1.as_default():\n",
    "\n",
    "    a0 = tf.constant([1.0, 2.0, 3.0, 4.0, 5.0, 6.0], shape=[2, 3], name='a') #matriz 2x3\n",
    "    b0 = tf.constant([1.0, 2.0, 3.0, 4.0, 5.0, 6.0], shape=[3, 2], name='b') #matriz 3x2\n",
    "    c0 = tf.matmul(a0, b0) #matriz 2x2\n",
    "    d0 = tf.matmul(b0,a0) #matriz 3x3\n",
    "    #e0 = tf.matmul(d0,c0) regresa un error de dimensiones, incluso si no se ejecuta en la sesion\n",
    "    f0 = tf.zeros([2,3]) #matriz de ceros de 2x3\n",
    "    \n",
    "    k0=tf.constant(1) #escalar 1\n",
    "    l0=tf.constant(2) #escalar\n",
    "    m0=tf.constant(1j,dtype=tf.complex128)\n",
    "    p0=tf.multiply(l0,k0)\n",
    "    #q0=tf.multiply(l0,m0) #regresa error de tipo, ambos factores deben ser del mismo tipo\n",
    "    r0=tf.multiply(m0,m0)\n",
    "    \n",
    "    print(a0) #contiene únicamente el nombre y el tipo de variable que es, los valores se obtienen con sess1.run \n",
    "    print(b0)\n",
    "    print()\n",
    "\n",
    "print(\"------------------using with context ----------------------------\")\n",
    "with tf.Session(graph=g_1) as sess1:\n",
    "    print(\"a0=\",sess1.run(a0))\n",
    "    print(\"b0=\",sess1.run(b0))\n",
    "    print()\n",
    "    print(\"c0=a0*b0= \\n\",sess1.run(c0)) #(2x3)*(3x2)=(2x2)\n",
    "    print(\"d0=b0*a0= \\n\",sess1.run(d0)) #(3x2)*(2x3)=(3x3)\n",
    "    print()\n",
    "    print(\"f0=\",sess1.run(f0))\n",
    "    print()\n",
    "    print(\"p0=\",sess1.run(p0)) #integer constant\n",
    "    print(\"r0=\",sess1.run(r0))\n",
    "    \n",
    "    print()\n",
    "    print(\"Los tensores cambian de tipo al evaluarlos:\")\n",
    "    print(\"c0 es:\",type(c0),\"pero c0.eval es\",type(c0.eval()))\n",
    "    print(\"\\n shape:\",c0.shape,\"\\n rank:\",tf.rank(c0))\n",
    "    \n",
    "    \n",
    "    print(\"\\n Podemos también ejecutar código normal dentro de la sesión:\")\n",
    "    print(1+1)\n",
    "    1+1"
   ]
  },
  {
   "cell_type": "markdown",
   "metadata": {},
   "source": [
    "Los **placeholders** son tensores constantes a los que les podemos asignar un valor dado durante la ejecución. Esto se hace medidante la función `feed_dict`, donde los valores se le pasan a la operación final de la gráfica mediante un diccionario. Cuando se define la gráfica, únicamente debemos especificar el tipo y forma del placeholder."
   ]
  },
  {
   "cell_type": "code",
   "execution_count": 256,
   "metadata": {},
   "outputs": [
    {
     "name": "stdout",
     "output_type": "stream",
     "text": [
      "t= 4.5\n",
      "t= 4.5\n",
      "s= 3\n",
      "s= 3\n"
     ]
    }
   ],
   "source": [
    "#tf placeholders\n",
    "g_2 = tf.Graph()\n",
    "with g_2.as_default():\n",
    "\n",
    "    p=tf.placeholder(tf.float32) # se pueden definir fuera de la sesión\n",
    "    s=tf.constant(3)\n",
    "    \n",
    "with tf.Session(graph=g_2) as sess2:\n",
    "    q = tf.placeholder(tf.float32) #se pueden definir dentro de la sesión\n",
    "    t = p + q + 1.5\n",
    "    print(\"t=\",sess2.run(t,feed_dict={p:2.0,q:1.0})) # Le introducimos los valores de cada placeholder\n",
    "    \n",
    "    #también se puede usar la función eval()\n",
    "    #t.eval()  # Esto dará un error ya que no le pasamos ningún valor a los placeholders\n",
    "    print(\"t=\",t.eval(session=sess2,feed_dict={p:2.0,q:1.0}))  \n",
    "    print(\"s=\",s.eval(session=sess2)) #se usar eval con constnates\n",
    "    print(\"s=\",s.eval()) #usa la sesión predeterminada"
   ]
  },
  {
   "cell_type": "markdown",
   "metadata": {},
   "source": [
    "**Nota.** `t.eval(session=tf.Session())` es equivalente a `tf.Session().run(t)`. La diferencia es que `run` puede calcular más de un valor a la vez."
   ]
  },
  {
   "cell_type": "code",
   "execution_count": 257,
   "metadata": {},
   "outputs": [],
   "source": [
    "tf.reset_default_graph()\n",
    "\n",
    "t = tf.constant(42.0)\n",
    "u = tf.constant(37.0)\n",
    "tu = tf.multiply(t, u)\n",
    "ut = tf.multiply(u, t)\n",
    "with tf.Session() as sess:\n",
    "    tu.eval()  # runs one step\n",
    "    ut.eval()  # runs one step\n",
    "    sess.run([tu, ut])  # evaluates both tensors in a single step"
   ]
  },
  {
   "cell_type": "code",
   "execution_count": 32,
   "metadata": {},
   "outputs": [
    {
     "name": "stdout",
     "output_type": "stream",
     "text": [
      "b= [[0. 0. 0.]\n",
      " [0. 0. 0.]]\n",
      "b= [[1. 2. 3.]\n",
      " [4. 5. 6.]]\n"
     ]
    }
   ],
   "source": [
    "#otro ejemplo\n",
    "tf.reset_default_graph()\n",
    "\n",
    "a= tf.constant([1.0, 2.0, 3.0, 4.0, 5.0, 6.0], shape=[2, 3], name='a')\n",
    "b= tf.placeholder(shape=[2,3],dtype=tf.float64)\n",
    "\n",
    "with tf.Session() as sess:\n",
    "    #sess.run(b) #esto da un error ya que no le pasamos valores al placeholder b\n",
    "    print(\"b=\",b.eval(session=sess,feed_dict={b:np.zeros((2,3))})) #success\n",
    "\n",
    "    #b.eval(session=sess,feed_dict={b:a}) #da un error ya que no se le pueden pasar tensores explícitos\n",
    "    print(\"b=\",b.eval(session=sess,feed_dict={b:a.eval()})) #sí se puede si evaluamos el tensor primero"
   ]
  },
  {
   "cell_type": "markdown",
   "metadata": {},
   "source": [
    "Finalmente están los tensores **variables**. Estos tienen una forma fija pero, a diferencia de los otros tensores, sus valores pueden cambiar. Requieren tener valores iniciales al definirlos y, además, utilizar una función de inicialización. Estos son los tensores que se derivan para calcular el gradiente de la funciones de error con funciones como `GradientDescentOptimizer`."
   ]
  },
  {
   "cell_type": "code",
   "execution_count": 260,
   "metadata": {},
   "outputs": [
    {
     "name": "stdout",
     "output_type": "stream",
     "text": [
      "7\n"
     ]
    }
   ],
   "source": [
    "#tf variables\n",
    "\n",
    "g_3 = tf.Graph()\n",
    "with g_3.as_default():\n",
    "    a=tf.Variable(7, tf.int32)\n",
    "    init_all_vars=tf.initializers.global_variables() #esto inicializa todas las variables de la gráfica\n",
    "\n",
    "with tf.Session(graph=g_3) as sess3:\n",
    "    #print(sess.run(a)) #esto da un error pues a debe inicializarse primero\n",
    "    init_all_vars.run() \n",
    "    print(sess3.run(a))"
   ]
  },
  {
   "cell_type": "code",
   "execution_count": 34,
   "metadata": {},
   "outputs": [
    {
     "name": "stdout",
     "output_type": "stream",
     "text": [
      "2\n"
     ]
    }
   ],
   "source": [
    "a = tf.add(tf.Variable(1, name=\"a\"), 1)\n",
    "\n",
    "with tf.Session() as sess:\n",
    "    sess.run(tf.global_variables_initializer())\n",
    "    print (a.eval())"
   ]
  },
  {
   "cell_type": "code",
   "execution_count": 44,
   "metadata": {},
   "outputs": [
    {
     "name": "stdout",
     "output_type": "stream",
     "text": [
      "b= 3\n",
      "a= 3\n",
      "a= 4\n",
      "a= 5\n"
     ]
    }
   ],
   "source": [
    "tf.reset_default_graph()\n",
    "\n",
    "with tf.Graph().as_default():\n",
    "    a = tf.Variable(1, name=\"a\")\n",
    "    a = tf.assign(a, tf.add(a,1)) #esto sólo sirve para variables\n",
    "    b = a+1\n",
    "    with tf.Session() as sess:\n",
    "        sess.run(tf.global_variables_initializer())\n",
    "        print(\"b=\",b.eval())\n",
    "        print (\"a=\",a.eval())\n",
    "        print (\"a=\",a.eval())\n",
    "        print (\"a=\",a.eval())"
   ]
  },
  {
   "cell_type": "markdown",
   "metadata": {},
   "source": [
    "# Asignar Operaciones a Distintos Dispositivos"
   ]
  },
  {
   "cell_type": "markdown",
   "metadata": {},
   "source": [
    "Podemos ver la lista de dispositivos disponibles para ejecutar el código:"
   ]
  },
  {
   "cell_type": "code",
   "execution_count": 261,
   "metadata": {},
   "outputs": [
    {
     "name": "stdout",
     "output_type": "stream",
     "text": [
      "<class 'list'> 2 \n",
      "\n",
      "name: \"/device:CPU:0\"\n",
      "device_type: \"CPU\"\n",
      "memory_limit: 268435456\n",
      "locality {\n",
      "}\n",
      "incarnation: 11305996268362161643\n",
      "\n",
      "name: \"/device:XLA_CPU:0\"\n",
      "device_type: \"XLA_CPU\"\n",
      "memory_limit: 17179869184\n",
      "locality {\n",
      "}\n",
      "incarnation: 2275125074210327864\n",
      "physical_device_desc: \"device: XLA_CPU device\"\n",
      "\n"
     ]
    }
   ],
   "source": [
    "from tensorflow.python.client import device_lib\n",
    "\n",
    "devices=device_lib.list_local_devices()\n",
    "print(type(devices),len(devices),\"\\n\")\n",
    "\n",
    "for dev in devices:\n",
    "    print(dev)"
   ]
  },
  {
   "cell_type": "markdown",
   "metadata": {},
   "source": [
    "**Nota:** XLA (Accelerated Linear Algebra) es un compilador que utiliza tensorflow para hacer más eficientes los cálculos de álgebra lineal. En este caso, `XLA_CPU` y `XLA_GPU` denota que se pueden utilizar estos dispositivos con ese compilador, pero cuenta como un dispositivo adicional. Puedes leer más al respecto [aquí](https://www.tensorflow.org/xla/overview)."
   ]
  },
  {
   "cell_type": "markdown",
   "metadata": {},
   "source": [
    "Con esto podemos asignar explícitamente el dispositivo en el que se ejecutará cada operación en la gráfica y paralelizar nuestro código."
   ]
  },
  {
   "cell_type": "code",
   "execution_count": 262,
   "metadata": {},
   "outputs": [
    {
     "name": "stdout",
     "output_type": "stream",
     "text": [
      "[[22. 28.]\n",
      " [49. 64.]]\n",
      "[[22. 28.]\n",
      " [49. 64.]]\n"
     ]
    }
   ],
   "source": [
    "tf.reset_default_graph()\n",
    "\n",
    "with tf.device('/device:CPU:0'):\n",
    "    a = tf.constant([1.0, 2.0, 3.0, 4.0, 5.0, 6.0], shape=[2, 3])\n",
    "    b = tf.constant([1.0, 2.0, 3.0, 4.0, 5.0, 6.0], shape=[3, 2])\n",
    "    c = tf.matmul(a, b,name='c')\n",
    "\n",
    "with tf.device('/device:XLA_CPU:0'): #no importa si los nombres son los mismos (los diferencía automáticamente)\n",
    "    a = tf.constant([1.0, 2.0, 3.0, 4.0, 5.0, 6.0], shape=[2, 3])\n",
    "    b = tf.constant([1.0, 2.0, 3.0, 4.0, 5.0, 6.0], shape=[3, 2])\n",
    "    c = tf.matmul(a, b,name='c')\n",
    "    \n",
    "with tf.Session() as sess:\n",
    "    print(sess.run(c)) # Ejecuta la operación en el CPU\n",
    "    print(sess.run(c)) # Ejecuta la operación en el XLA_CPU"
   ]
  },
  {
   "cell_type": "markdown",
   "metadata": {},
   "source": [
    "Podemos revisar si está habilitado el uso de GPU con CUDA:"
   ]
  },
  {
   "cell_type": "code",
   "execution_count": 263,
   "metadata": {},
   "outputs": [
    {
     "data": {
      "text/plain": [
       "False"
      ]
     },
     "execution_count": 263,
     "metadata": {},
     "output_type": "execute_result"
    }
   ],
   "source": [
    "tf.test.is_built_with_cuda()"
   ]
  },
  {
   "cell_type": "code",
   "execution_count": 264,
   "metadata": {},
   "outputs": [
    {
     "data": {
      "text/plain": [
       "''"
      ]
     },
     "execution_count": 264,
     "metadata": {},
     "output_type": "execute_result"
    }
   ],
   "source": [
    "tf.test.gpu_device_name()"
   ]
  },
  {
   "cell_type": "code",
   "execution_count": 265,
   "metadata": {},
   "outputs": [
    {
     "ename": "InvalidArgumentError",
     "evalue": "Cannot assign a device for operation c: node c (defined at <ipython-input-265-bb36d7f31612>:6) was explicitly assigned to /device:GPU:0 but available devices are [ /job:localhost/replica:0/task:0/device:CPU:0, /job:localhost/replica:0/task:0/device:XLA_CPU:0 ]. Make sure the device specification refers to a valid device. The requested device appears to be a GPU, but CUDA is not enabled.\n\t [[node c (defined at <ipython-input-265-bb36d7f31612>:6) ]]\n\nCaused by op 'c', defined at:\n  File \"/home/arturo/anaconda3/lib/python3.7/runpy.py\", line 193, in _run_module_as_main\n    \"__main__\", mod_spec)\n  File \"/home/arturo/anaconda3/lib/python3.7/runpy.py\", line 85, in _run_code\n    exec(code, run_globals)\n  File \"/home/arturo/anaconda3/lib/python3.7/site-packages/ipykernel_launcher.py\", line 16, in <module>\n    app.launch_new_instance()\n  File \"/home/arturo/anaconda3/lib/python3.7/site-packages/traitlets/config/application.py\", line 658, in launch_instance\n    app.start()\n  File \"/home/arturo/anaconda3/lib/python3.7/site-packages/ipykernel/kernelapp.py\", line 505, in start\n    self.io_loop.start()\n  File \"/home/arturo/anaconda3/lib/python3.7/site-packages/tornado/platform/asyncio.py\", line 132, in start\n    self.asyncio_loop.run_forever()\n  File \"/home/arturo/anaconda3/lib/python3.7/asyncio/base_events.py\", line 539, in run_forever\n    self._run_once()\n  File \"/home/arturo/anaconda3/lib/python3.7/asyncio/base_events.py\", line 1775, in _run_once\n    handle._run()\n  File \"/home/arturo/anaconda3/lib/python3.7/asyncio/events.py\", line 88, in _run\n    self._context.run(self._callback, *self._args)\n  File \"/home/arturo/anaconda3/lib/python3.7/site-packages/tornado/ioloop.py\", line 758, in _run_callback\n    ret = callback()\n  File \"/home/arturo/anaconda3/lib/python3.7/site-packages/tornado/stack_context.py\", line 300, in null_wrapper\n    return fn(*args, **kwargs)\n  File \"/home/arturo/anaconda3/lib/python3.7/site-packages/tornado/gen.py\", line 1233, in inner\n    self.run()\n  File \"/home/arturo/anaconda3/lib/python3.7/site-packages/tornado/gen.py\", line 1147, in run\n    yielded = self.gen.send(value)\n  File \"/home/arturo/anaconda3/lib/python3.7/site-packages/ipykernel/kernelbase.py\", line 357, in process_one\n    yield gen.maybe_future(dispatch(*args))\n  File \"/home/arturo/anaconda3/lib/python3.7/site-packages/tornado/gen.py\", line 326, in wrapper\n    yielded = next(result)\n  File \"/home/arturo/anaconda3/lib/python3.7/site-packages/ipykernel/kernelbase.py\", line 267, in dispatch_shell\n    yield gen.maybe_future(handler(stream, idents, msg))\n  File \"/home/arturo/anaconda3/lib/python3.7/site-packages/tornado/gen.py\", line 326, in wrapper\n    yielded = next(result)\n  File \"/home/arturo/anaconda3/lib/python3.7/site-packages/ipykernel/kernelbase.py\", line 534, in execute_request\n    user_expressions, allow_stdin,\n  File \"/home/arturo/anaconda3/lib/python3.7/site-packages/tornado/gen.py\", line 326, in wrapper\n    yielded = next(result)\n  File \"/home/arturo/anaconda3/lib/python3.7/site-packages/ipykernel/ipkernel.py\", line 294, in do_execute\n    res = shell.run_cell(code, store_history=store_history, silent=silent)\n  File \"/home/arturo/anaconda3/lib/python3.7/site-packages/ipykernel/zmqshell.py\", line 536, in run_cell\n    return super(ZMQInteractiveShell, self).run_cell(*args, **kwargs)\n  File \"/home/arturo/anaconda3/lib/python3.7/site-packages/IPython/core/interactiveshell.py\", line 2819, in run_cell\n    raw_cell, store_history, silent, shell_futures)\n  File \"/home/arturo/anaconda3/lib/python3.7/site-packages/IPython/core/interactiveshell.py\", line 2845, in _run_cell\n    return runner(coro)\n  File \"/home/arturo/anaconda3/lib/python3.7/site-packages/IPython/core/async_helpers.py\", line 67, in _pseudo_sync_runner\n    coro.send(None)\n  File \"/home/arturo/anaconda3/lib/python3.7/site-packages/IPython/core/interactiveshell.py\", line 3020, in run_cell_async\n    interactivity=interactivity, compiler=compiler, result=result)\n  File \"/home/arturo/anaconda3/lib/python3.7/site-packages/IPython/core/interactiveshell.py\", line 3185, in run_ast_nodes\n    if (yield from self.run_code(code, result)):\n  File \"/home/arturo/anaconda3/lib/python3.7/site-packages/IPython/core/interactiveshell.py\", line 3267, in run_code\n    exec(code_obj, self.user_global_ns, self.user_ns)\n  File \"<ipython-input-265-bb36d7f31612>\", line 6, in <module>\n    c = tf.matmul(a, b,name=\"c\")\n  File \"/home/arturo/anaconda3/lib/python3.7/site-packages/tensorflow/python/ops/math_ops.py\", line 2455, in matmul\n    a, b, transpose_a=transpose_a, transpose_b=transpose_b, name=name)\n  File \"/home/arturo/anaconda3/lib/python3.7/site-packages/tensorflow/python/ops/gen_math_ops.py\", line 5333, in mat_mul\n    name=name)\n  File \"/home/arturo/anaconda3/lib/python3.7/site-packages/tensorflow/python/framework/op_def_library.py\", line 788, in _apply_op_helper\n    op_def=op_def)\n  File \"/home/arturo/anaconda3/lib/python3.7/site-packages/tensorflow/python/util/deprecation.py\", line 507, in new_func\n    return func(*args, **kwargs)\n  File \"/home/arturo/anaconda3/lib/python3.7/site-packages/tensorflow/python/framework/ops.py\", line 3300, in create_op\n    op_def=op_def)\n  File \"/home/arturo/anaconda3/lib/python3.7/site-packages/tensorflow/python/framework/ops.py\", line 1801, in __init__\n    self._traceback = tf_stack.extract_stack()\n\nInvalidArgumentError (see above for traceback): Cannot assign a device for operation c: node c (defined at <ipython-input-265-bb36d7f31612>:6) was explicitly assigned to /device:GPU:0 but available devices are [ /job:localhost/replica:0/task:0/device:CPU:0, /job:localhost/replica:0/task:0/device:XLA_CPU:0 ]. Make sure the device specification refers to a valid device. The requested device appears to be a GPU, but CUDA is not enabled.\n\t [[node c (defined at <ipython-input-265-bb36d7f31612>:6) ]]\n",
     "output_type": "error",
     "traceback": [
      "\u001b[0;31m---------------------------------------------------------------------------\u001b[0m",
      "\u001b[0;31mInvalidArgumentError\u001b[0m                      Traceback (most recent call last)",
      "\u001b[0;32m~/anaconda3/lib/python3.7/site-packages/tensorflow/python/client/session.py\u001b[0m in \u001b[0;36m_do_call\u001b[0;34m(self, fn, *args)\u001b[0m\n\u001b[1;32m   1333\u001b[0m     \u001b[0;32mtry\u001b[0m\u001b[0;34m:\u001b[0m\u001b[0;34m\u001b[0m\u001b[0;34m\u001b[0m\u001b[0m\n\u001b[0;32m-> 1334\u001b[0;31m       \u001b[0;32mreturn\u001b[0m \u001b[0mfn\u001b[0m\u001b[0;34m(\u001b[0m\u001b[0;34m*\u001b[0m\u001b[0margs\u001b[0m\u001b[0;34m)\u001b[0m\u001b[0;34m\u001b[0m\u001b[0;34m\u001b[0m\u001b[0m\n\u001b[0m\u001b[1;32m   1335\u001b[0m     \u001b[0;32mexcept\u001b[0m \u001b[0merrors\u001b[0m\u001b[0;34m.\u001b[0m\u001b[0mOpError\u001b[0m \u001b[0;32mas\u001b[0m \u001b[0me\u001b[0m\u001b[0;34m:\u001b[0m\u001b[0;34m\u001b[0m\u001b[0;34m\u001b[0m\u001b[0m\n",
      "\u001b[0;32m~/anaconda3/lib/python3.7/site-packages/tensorflow/python/client/session.py\u001b[0m in \u001b[0;36m_run_fn\u001b[0;34m(feed_dict, fetch_list, target_list, options, run_metadata)\u001b[0m\n\u001b[1;32m   1316\u001b[0m       \u001b[0;31m# Ensure any changes to the graph are reflected in the runtime.\u001b[0m\u001b[0;34m\u001b[0m\u001b[0;34m\u001b[0m\u001b[0;34m\u001b[0m\u001b[0m\n\u001b[0;32m-> 1317\u001b[0;31m       \u001b[0mself\u001b[0m\u001b[0;34m.\u001b[0m\u001b[0m_extend_graph\u001b[0m\u001b[0;34m(\u001b[0m\u001b[0;34m)\u001b[0m\u001b[0;34m\u001b[0m\u001b[0;34m\u001b[0m\u001b[0m\n\u001b[0m\u001b[1;32m   1318\u001b[0m       return self._call_tf_sessionrun(\n",
      "\u001b[0;32m~/anaconda3/lib/python3.7/site-packages/tensorflow/python/client/session.py\u001b[0m in \u001b[0;36m_extend_graph\u001b[0;34m(self)\u001b[0m\n\u001b[1;32m   1351\u001b[0m     \u001b[0;32mwith\u001b[0m \u001b[0mself\u001b[0m\u001b[0;34m.\u001b[0m\u001b[0m_graph\u001b[0m\u001b[0;34m.\u001b[0m\u001b[0m_session_run_lock\u001b[0m\u001b[0;34m(\u001b[0m\u001b[0;34m)\u001b[0m\u001b[0;34m:\u001b[0m  \u001b[0;31m# pylint: disable=protected-access\u001b[0m\u001b[0;34m\u001b[0m\u001b[0;34m\u001b[0m\u001b[0m\n\u001b[0;32m-> 1352\u001b[0;31m       \u001b[0mtf_session\u001b[0m\u001b[0;34m.\u001b[0m\u001b[0mExtendSession\u001b[0m\u001b[0;34m(\u001b[0m\u001b[0mself\u001b[0m\u001b[0;34m.\u001b[0m\u001b[0m_session\u001b[0m\u001b[0;34m)\u001b[0m\u001b[0;34m\u001b[0m\u001b[0;34m\u001b[0m\u001b[0m\n\u001b[0m\u001b[1;32m   1353\u001b[0m \u001b[0;34m\u001b[0m\u001b[0m\n",
      "\u001b[0;31mInvalidArgumentError\u001b[0m: Cannot assign a device for operation c: {{node c}}was explicitly assigned to /device:GPU:0 but available devices are [ /job:localhost/replica:0/task:0/device:CPU:0, /job:localhost/replica:0/task:0/device:XLA_CPU:0 ]. Make sure the device specification refers to a valid device. The requested device appears to be a GPU, but CUDA is not enabled.\n\t [[{{node c}}]]",
      "\nDuring handling of the above exception, another exception occurred:\n",
      "\u001b[0;31mInvalidArgumentError\u001b[0m                      Traceback (most recent call last)",
      "\u001b[0;32m<ipython-input-265-bb36d7f31612>\u001b[0m in \u001b[0;36m<module>\u001b[0;34m\u001b[0m\n\u001b[1;32m      8\u001b[0m \u001b[0;31m# Crea una sesión que imprimirá el dispositivo en el que se ejecuta el código\u001b[0m\u001b[0;34m\u001b[0m\u001b[0;34m\u001b[0m\u001b[0;34m\u001b[0m\u001b[0m\n\u001b[1;32m      9\u001b[0m \u001b[0msess\u001b[0m \u001b[0;34m=\u001b[0m \u001b[0mtf\u001b[0m\u001b[0;34m.\u001b[0m\u001b[0mSession\u001b[0m\u001b[0;34m(\u001b[0m\u001b[0mconfig\u001b[0m\u001b[0;34m=\u001b[0m\u001b[0mtf\u001b[0m\u001b[0;34m.\u001b[0m\u001b[0mConfigProto\u001b[0m\u001b[0;34m(\u001b[0m\u001b[0mlog_device_placement\u001b[0m\u001b[0;34m=\u001b[0m\u001b[0;32mTrue\u001b[0m\u001b[0;34m)\u001b[0m\u001b[0;34m)\u001b[0m\u001b[0;34m\u001b[0m\u001b[0;34m\u001b[0m\u001b[0m\n\u001b[0;32m---> 10\u001b[0;31m \u001b[0mprint\u001b[0m\u001b[0;34m(\u001b[0m\u001b[0msess\u001b[0m\u001b[0;34m.\u001b[0m\u001b[0mrun\u001b[0m\u001b[0;34m(\u001b[0m\u001b[0mc\u001b[0m\u001b[0;34m)\u001b[0m\u001b[0;34m)\u001b[0m \u001b[0;31m# Ejecuta la operación\u001b[0m\u001b[0;34m\u001b[0m\u001b[0;34m\u001b[0m\u001b[0m\n\u001b[0m\u001b[1;32m     11\u001b[0m \u001b[0msess\u001b[0m\u001b[0;34m.\u001b[0m\u001b[0mclose\u001b[0m\u001b[0;34m(\u001b[0m\u001b[0;34m)\u001b[0m\u001b[0;34m\u001b[0m\u001b[0;34m\u001b[0m\u001b[0m\n",
      "\u001b[0;32m~/anaconda3/lib/python3.7/site-packages/tensorflow/python/client/session.py\u001b[0m in \u001b[0;36mrun\u001b[0;34m(self, fetches, feed_dict, options, run_metadata)\u001b[0m\n\u001b[1;32m    927\u001b[0m     \u001b[0;32mtry\u001b[0m\u001b[0;34m:\u001b[0m\u001b[0;34m\u001b[0m\u001b[0;34m\u001b[0m\u001b[0m\n\u001b[1;32m    928\u001b[0m       result = self._run(None, fetches, feed_dict, options_ptr,\n\u001b[0;32m--> 929\u001b[0;31m                          run_metadata_ptr)\n\u001b[0m\u001b[1;32m    930\u001b[0m       \u001b[0;32mif\u001b[0m \u001b[0mrun_metadata\u001b[0m\u001b[0;34m:\u001b[0m\u001b[0;34m\u001b[0m\u001b[0;34m\u001b[0m\u001b[0m\n\u001b[1;32m    931\u001b[0m         \u001b[0mproto_data\u001b[0m \u001b[0;34m=\u001b[0m \u001b[0mtf_session\u001b[0m\u001b[0;34m.\u001b[0m\u001b[0mTF_GetBuffer\u001b[0m\u001b[0;34m(\u001b[0m\u001b[0mrun_metadata_ptr\u001b[0m\u001b[0;34m)\u001b[0m\u001b[0;34m\u001b[0m\u001b[0;34m\u001b[0m\u001b[0m\n",
      "\u001b[0;32m~/anaconda3/lib/python3.7/site-packages/tensorflow/python/client/session.py\u001b[0m in \u001b[0;36m_run\u001b[0;34m(self, handle, fetches, feed_dict, options, run_metadata)\u001b[0m\n\u001b[1;32m   1150\u001b[0m     \u001b[0;32mif\u001b[0m \u001b[0mfinal_fetches\u001b[0m \u001b[0;32mor\u001b[0m \u001b[0mfinal_targets\u001b[0m \u001b[0;32mor\u001b[0m \u001b[0;34m(\u001b[0m\u001b[0mhandle\u001b[0m \u001b[0;32mand\u001b[0m \u001b[0mfeed_dict_tensor\u001b[0m\u001b[0;34m)\u001b[0m\u001b[0;34m:\u001b[0m\u001b[0;34m\u001b[0m\u001b[0;34m\u001b[0m\u001b[0m\n\u001b[1;32m   1151\u001b[0m       results = self._do_run(handle, final_targets, final_fetches,\n\u001b[0;32m-> 1152\u001b[0;31m                              feed_dict_tensor, options, run_metadata)\n\u001b[0m\u001b[1;32m   1153\u001b[0m     \u001b[0;32melse\u001b[0m\u001b[0;34m:\u001b[0m\u001b[0;34m\u001b[0m\u001b[0;34m\u001b[0m\u001b[0m\n\u001b[1;32m   1154\u001b[0m       \u001b[0mresults\u001b[0m \u001b[0;34m=\u001b[0m \u001b[0;34m[\u001b[0m\u001b[0;34m]\u001b[0m\u001b[0;34m\u001b[0m\u001b[0;34m\u001b[0m\u001b[0m\n",
      "\u001b[0;32m~/anaconda3/lib/python3.7/site-packages/tensorflow/python/client/session.py\u001b[0m in \u001b[0;36m_do_run\u001b[0;34m(self, handle, target_list, fetch_list, feed_dict, options, run_metadata)\u001b[0m\n\u001b[1;32m   1326\u001b[0m     \u001b[0;32mif\u001b[0m \u001b[0mhandle\u001b[0m \u001b[0;32mis\u001b[0m \u001b[0;32mNone\u001b[0m\u001b[0;34m:\u001b[0m\u001b[0;34m\u001b[0m\u001b[0;34m\u001b[0m\u001b[0m\n\u001b[1;32m   1327\u001b[0m       return self._do_call(_run_fn, feeds, fetches, targets, options,\n\u001b[0;32m-> 1328\u001b[0;31m                            run_metadata)\n\u001b[0m\u001b[1;32m   1329\u001b[0m     \u001b[0;32melse\u001b[0m\u001b[0;34m:\u001b[0m\u001b[0;34m\u001b[0m\u001b[0;34m\u001b[0m\u001b[0m\n\u001b[1;32m   1330\u001b[0m       \u001b[0;32mreturn\u001b[0m \u001b[0mself\u001b[0m\u001b[0;34m.\u001b[0m\u001b[0m_do_call\u001b[0m\u001b[0;34m(\u001b[0m\u001b[0m_prun_fn\u001b[0m\u001b[0;34m,\u001b[0m \u001b[0mhandle\u001b[0m\u001b[0;34m,\u001b[0m \u001b[0mfeeds\u001b[0m\u001b[0;34m,\u001b[0m \u001b[0mfetches\u001b[0m\u001b[0;34m)\u001b[0m\u001b[0;34m\u001b[0m\u001b[0;34m\u001b[0m\u001b[0m\n",
      "\u001b[0;32m~/anaconda3/lib/python3.7/site-packages/tensorflow/python/client/session.py\u001b[0m in \u001b[0;36m_do_call\u001b[0;34m(self, fn, *args)\u001b[0m\n\u001b[1;32m   1346\u001b[0m           \u001b[0;32mpass\u001b[0m\u001b[0;34m\u001b[0m\u001b[0;34m\u001b[0m\u001b[0m\n\u001b[1;32m   1347\u001b[0m       \u001b[0mmessage\u001b[0m \u001b[0;34m=\u001b[0m \u001b[0merror_interpolation\u001b[0m\u001b[0;34m.\u001b[0m\u001b[0minterpolate\u001b[0m\u001b[0;34m(\u001b[0m\u001b[0mmessage\u001b[0m\u001b[0;34m,\u001b[0m \u001b[0mself\u001b[0m\u001b[0;34m.\u001b[0m\u001b[0m_graph\u001b[0m\u001b[0;34m)\u001b[0m\u001b[0;34m\u001b[0m\u001b[0;34m\u001b[0m\u001b[0m\n\u001b[0;32m-> 1348\u001b[0;31m       \u001b[0;32mraise\u001b[0m \u001b[0mtype\u001b[0m\u001b[0;34m(\u001b[0m\u001b[0me\u001b[0m\u001b[0;34m)\u001b[0m\u001b[0;34m(\u001b[0m\u001b[0mnode_def\u001b[0m\u001b[0;34m,\u001b[0m \u001b[0mop\u001b[0m\u001b[0;34m,\u001b[0m \u001b[0mmessage\u001b[0m\u001b[0;34m)\u001b[0m\u001b[0;34m\u001b[0m\u001b[0;34m\u001b[0m\u001b[0m\n\u001b[0m\u001b[1;32m   1349\u001b[0m \u001b[0;34m\u001b[0m\u001b[0m\n\u001b[1;32m   1350\u001b[0m   \u001b[0;32mdef\u001b[0m \u001b[0m_extend_graph\u001b[0m\u001b[0;34m(\u001b[0m\u001b[0mself\u001b[0m\u001b[0;34m)\u001b[0m\u001b[0;34m:\u001b[0m\u001b[0;34m\u001b[0m\u001b[0;34m\u001b[0m\u001b[0m\n",
      "\u001b[0;31mInvalidArgumentError\u001b[0m: Cannot assign a device for operation c: node c (defined at <ipython-input-265-bb36d7f31612>:6) was explicitly assigned to /device:GPU:0 but available devices are [ /job:localhost/replica:0/task:0/device:CPU:0, /job:localhost/replica:0/task:0/device:XLA_CPU:0 ]. Make sure the device specification refers to a valid device. The requested device appears to be a GPU, but CUDA is not enabled.\n\t [[node c (defined at <ipython-input-265-bb36d7f31612>:6) ]]\n\nCaused by op 'c', defined at:\n  File \"/home/arturo/anaconda3/lib/python3.7/runpy.py\", line 193, in _run_module_as_main\n    \"__main__\", mod_spec)\n  File \"/home/arturo/anaconda3/lib/python3.7/runpy.py\", line 85, in _run_code\n    exec(code, run_globals)\n  File \"/home/arturo/anaconda3/lib/python3.7/site-packages/ipykernel_launcher.py\", line 16, in <module>\n    app.launch_new_instance()\n  File \"/home/arturo/anaconda3/lib/python3.7/site-packages/traitlets/config/application.py\", line 658, in launch_instance\n    app.start()\n  File \"/home/arturo/anaconda3/lib/python3.7/site-packages/ipykernel/kernelapp.py\", line 505, in start\n    self.io_loop.start()\n  File \"/home/arturo/anaconda3/lib/python3.7/site-packages/tornado/platform/asyncio.py\", line 132, in start\n    self.asyncio_loop.run_forever()\n  File \"/home/arturo/anaconda3/lib/python3.7/asyncio/base_events.py\", line 539, in run_forever\n    self._run_once()\n  File \"/home/arturo/anaconda3/lib/python3.7/asyncio/base_events.py\", line 1775, in _run_once\n    handle._run()\n  File \"/home/arturo/anaconda3/lib/python3.7/asyncio/events.py\", line 88, in _run\n    self._context.run(self._callback, *self._args)\n  File \"/home/arturo/anaconda3/lib/python3.7/site-packages/tornado/ioloop.py\", line 758, in _run_callback\n    ret = callback()\n  File \"/home/arturo/anaconda3/lib/python3.7/site-packages/tornado/stack_context.py\", line 300, in null_wrapper\n    return fn(*args, **kwargs)\n  File \"/home/arturo/anaconda3/lib/python3.7/site-packages/tornado/gen.py\", line 1233, in inner\n    self.run()\n  File \"/home/arturo/anaconda3/lib/python3.7/site-packages/tornado/gen.py\", line 1147, in run\n    yielded = self.gen.send(value)\n  File \"/home/arturo/anaconda3/lib/python3.7/site-packages/ipykernel/kernelbase.py\", line 357, in process_one\n    yield gen.maybe_future(dispatch(*args))\n  File \"/home/arturo/anaconda3/lib/python3.7/site-packages/tornado/gen.py\", line 326, in wrapper\n    yielded = next(result)\n  File \"/home/arturo/anaconda3/lib/python3.7/site-packages/ipykernel/kernelbase.py\", line 267, in dispatch_shell\n    yield gen.maybe_future(handler(stream, idents, msg))\n  File \"/home/arturo/anaconda3/lib/python3.7/site-packages/tornado/gen.py\", line 326, in wrapper\n    yielded = next(result)\n  File \"/home/arturo/anaconda3/lib/python3.7/site-packages/ipykernel/kernelbase.py\", line 534, in execute_request\n    user_expressions, allow_stdin,\n  File \"/home/arturo/anaconda3/lib/python3.7/site-packages/tornado/gen.py\", line 326, in wrapper\n    yielded = next(result)\n  File \"/home/arturo/anaconda3/lib/python3.7/site-packages/ipykernel/ipkernel.py\", line 294, in do_execute\n    res = shell.run_cell(code, store_history=store_history, silent=silent)\n  File \"/home/arturo/anaconda3/lib/python3.7/site-packages/ipykernel/zmqshell.py\", line 536, in run_cell\n    return super(ZMQInteractiveShell, self).run_cell(*args, **kwargs)\n  File \"/home/arturo/anaconda3/lib/python3.7/site-packages/IPython/core/interactiveshell.py\", line 2819, in run_cell\n    raw_cell, store_history, silent, shell_futures)\n  File \"/home/arturo/anaconda3/lib/python3.7/site-packages/IPython/core/interactiveshell.py\", line 2845, in _run_cell\n    return runner(coro)\n  File \"/home/arturo/anaconda3/lib/python3.7/site-packages/IPython/core/async_helpers.py\", line 67, in _pseudo_sync_runner\n    coro.send(None)\n  File \"/home/arturo/anaconda3/lib/python3.7/site-packages/IPython/core/interactiveshell.py\", line 3020, in run_cell_async\n    interactivity=interactivity, compiler=compiler, result=result)\n  File \"/home/arturo/anaconda3/lib/python3.7/site-packages/IPython/core/interactiveshell.py\", line 3185, in run_ast_nodes\n    if (yield from self.run_code(code, result)):\n  File \"/home/arturo/anaconda3/lib/python3.7/site-packages/IPython/core/interactiveshell.py\", line 3267, in run_code\n    exec(code_obj, self.user_global_ns, self.user_ns)\n  File \"<ipython-input-265-bb36d7f31612>\", line 6, in <module>\n    c = tf.matmul(a, b,name=\"c\")\n  File \"/home/arturo/anaconda3/lib/python3.7/site-packages/tensorflow/python/ops/math_ops.py\", line 2455, in matmul\n    a, b, transpose_a=transpose_a, transpose_b=transpose_b, name=name)\n  File \"/home/arturo/anaconda3/lib/python3.7/site-packages/tensorflow/python/ops/gen_math_ops.py\", line 5333, in mat_mul\n    name=name)\n  File \"/home/arturo/anaconda3/lib/python3.7/site-packages/tensorflow/python/framework/op_def_library.py\", line 788, in _apply_op_helper\n    op_def=op_def)\n  File \"/home/arturo/anaconda3/lib/python3.7/site-packages/tensorflow/python/util/deprecation.py\", line 507, in new_func\n    return func(*args, **kwargs)\n  File \"/home/arturo/anaconda3/lib/python3.7/site-packages/tensorflow/python/framework/ops.py\", line 3300, in create_op\n    op_def=op_def)\n  File \"/home/arturo/anaconda3/lib/python3.7/site-packages/tensorflow/python/framework/ops.py\", line 1801, in __init__\n    self._traceback = tf_stack.extract_stack()\n\nInvalidArgumentError (see above for traceback): Cannot assign a device for operation c: node c (defined at <ipython-input-265-bb36d7f31612>:6) was explicitly assigned to /device:GPU:0 but available devices are [ /job:localhost/replica:0/task:0/device:CPU:0, /job:localhost/replica:0/task:0/device:XLA_CPU:0 ]. Make sure the device specification refers to a valid device. The requested device appears to be a GPU, but CUDA is not enabled.\n\t [[node c (defined at <ipython-input-265-bb36d7f31612>:6) ]]\n"
     ]
    }
   ],
   "source": [
    "tf.reset_default_graph()\n",
    "\n",
    "with tf.device('/device:GPU:0'):  #este comando falla si no se tiene la versión de GPU de tensorflow\n",
    "    a = tf.constant([1.0, 2.0, 3.0, 4.0, 5.0, 6.0], shape=[2, 3], name='a')\n",
    "    b = tf.constant([1.0, 2.0, 3.0, 4.0, 5.0, 6.0], shape=[3, 2], name='b')\n",
    "    c = tf.matmul(a, b,name=\"c\")\n",
    "\n",
    "# Crea una sesión que imprimirá el dispositivo en el que se ejecuta el código\n",
    "sess = tf.Session(config=tf.ConfigProto(log_device_placement=True))\n",
    "print(sess.run(c)) # Ejecuta la operación\n",
    "sess.close()"
   ]
  },
  {
   "cell_type": "markdown",
   "metadata": {},
   "source": [
    "También `tf.device` se puede utilizar para correr operaciones en equipos remotos a los que se tiene acceso. El siguiente es un código ilustrativo, pero puedes revisar más acerca del tema [aquí](https://github.com/tensorflow/examples/blob/master/community/en/docs/deploy/distributed.md). "
   ]
  },
  {
   "cell_type": "code",
   "execution_count": null,
   "metadata": {},
   "outputs": [],
   "source": [
    "with tf.Session(\"grpc://worker7.example.com:2222\") as sess:\n",
    "    for i in range(1000):\n",
    "        sess.run(train_op)"
   ]
  },
  {
   "cell_type": "markdown",
   "metadata": {},
   "source": [
    "# Operaciones con Tensorflow"
   ]
  },
  {
   "cell_type": "markdown",
   "metadata": {},
   "source": [
    "Los tensores tienen 2 propiedades: forma y rango (análogos a forma y dimensión de numpy). Cuando hagamos operaciones entre ellos debemos asegurarnos que las operaciones sean consistentes con estas propiedades."
   ]
  },
  {
   "cell_type": "code",
   "execution_count": 267,
   "metadata": {},
   "outputs": [
    {
     "name": "stdout",
     "output_type": "stream",
     "text": [
      "Tensor(\"Rank:0\", shape=(), dtype=int32)\n",
      "Tensor(\"Shape:0\", shape=(3,), dtype=int32)\n",
      "\n",
      " Comparar Rangos y Formas\n",
      "Rangos:\n",
      "[3, 2, 2]\n",
      "\n",
      "Formas:\n",
      "[array([2, 2, 3], dtype=int32), array([3, 2], dtype=int32), array([20,  1], dtype=int32)]\n"
     ]
    }
   ],
   "source": [
    "tf.reset_default_graph()\n",
    "\n",
    "t1 = tf.constant([[[1, 1, 1], [2, 2, 2]], [[3, 3, 3], [4, 4, 4]]])\n",
    "t2 = tf.ones(shape=[3,2])\n",
    "t3 = tf.placeholder(tf.float32, [None, 1]) #usar none en un placeholder le permite adaptarse al número de datos\n",
    "\n",
    "r1=tf.rank(t1)\n",
    "r2=tf.rank(t2)\n",
    "r3=tf.rank(t3)\n",
    "print(r1) # es un escalar en sí mismo\n",
    "\n",
    "d1=tf.shape(t1)\n",
    "d2=tf.shape(t2)\n",
    "d3=tf.shape(t3)\n",
    "print(d1) #es un vector\n",
    "\n",
    "print(\"\\n Comparar Rangos y Formas\")\n",
    "with tf.Session() as sess:\n",
    "    print(\"Rangos:\")\n",
    "    print(sess.run([r1,r2,r3],feed_dict={t3:np.zeros((100,1))}))\n",
    "    print()\n",
    "    \n",
    "    print(\"Formas:\")\n",
    "    print(sess.run([d1,d2,d3],feed_dict={t3:np.zeros((20,1))}))"
   ]
  },
  {
   "cell_type": "markdown",
   "metadata": {},
   "source": [
    "Para el caso de redes neuronales, es importante saber operar matrices y vectores. Hay 2 propiedades útiles que podemos utilizar.\n",
    "\n",
    "1. La expresión $\\mathbf{W} \\mathbf{x} + \\mathbf{b}$ corresponde a evaluar un único dato $\\mathbf{x}$. Podemos evaluar una serie de datos $\\mathbf{X}$ en paralelo con la expresion:  \n",
    "\n",
    "$$\\mathbf{W} \\mathbf{X} + \\mathbf{b},$$\n",
    "\n",
    "donde estamos asumiendo que los datos $\\mathbf{x}_i$ son las columnas de la matriz $\\mathbf{X}$.\n",
    "\n",
    "2. Resulta que podemos sumar una matriz con un vector. Por defecto, al evaluar una operación de la forma $\\mathbf{M} + \\mathbf{v}$, tensorflow suma las componentes del vector $v$ a cada columna de la matriz $M$, i.e. si $\\mathbf{M}=(\\mathbf{m}_1,\\mathbf{m}_2,...,\\mathbf{m}_n)$,donde $\\mathbf{m}_1,\\mathbf{m}_2,...,\\mathbf{m}_n$ son los vectores que forman las columnas de $\\mathbf{M}$, entonces:\n",
    "\n",
    "$$\\mathbf{M}+\\mathbf{v}=(\\mathbf{m}_1+\\mathbf{v},\\mathbf{m}_2+\\mathbf{v},...,\\mathbf{m}_n+\\mathbf{v}).$$\n",
    "\n",
    "A esta operación se le conoce como **broadcasting**.\n",
    "\n",
    "**Nota:** En la librería no se puede transponer un vector (1-Dimensión), por lo que para hacer una suma horizontal en la matriz (sobre los vectores fila) debes transponer la matriz, sumar y transponer de nuevo."
   ]
  },
  {
   "cell_type": "code",
   "execution_count": 269,
   "metadata": {},
   "outputs": [
    {
     "name": "stdout",
     "output_type": "stream",
     "text": [
      "M= [[1. 1.]\n",
      " [1. 1.]\n",
      " [1. 1.]]\n",
      "v1= [1. 2.]\n",
      "v2= [1. 2. 3.]\n",
      "shapes: (2,) (3, 2)\n",
      "\n",
      "--------------------\n",
      "s1= [[2. 3.]\n",
      " [2. 3.]\n",
      " [2. 3.]] \n",
      " s2= [[2. 2.]\n",
      " [3. 3.]\n",
      " [4. 4.]] \n",
      " s3= [[2. 3.]\n",
      " [2. 3.]\n",
      " [2. 3.]]\n"
     ]
    }
   ],
   "source": [
    "tf.reset_default_graph()\n",
    "\n",
    "M=tf.ones((3,2))\n",
    "v1=tf.constant([1.,2.],shape=[2])\n",
    "v2=tf.constant([1.,2.,3.],shape=[3])\n",
    "sum1=v1+M\n",
    "sum2=tf.transpose(v2+tf.transpose(M))\n",
    "sum3=tf.add(v1,M) #igual que 1, sumar v2 mandaría error porque se hace sobre la otra dimensión (columnas) \n",
    "\n",
    "\n",
    "with tf.Session() as sess:\n",
    "    print(\"M=\",sess.run(M))\n",
    "    print(\"v1=\",sess.run(v1))\n",
    "    print(\"v2=\",sess.run(v2))\n",
    "    print(\"shapes:\",v1.shape,M.shape)\n",
    "    \n",
    "    \n",
    "    print(\"\\n--------------------\")\n",
    "    print(\"s1=\",sess.run(sum1),\"\\n s2=\",sess.run(sum2),\"\\n s3=\",sess.run(sum3))"
   ]
  },
  {
   "cell_type": "markdown",
   "metadata": {},
   "source": [
    "**Softmax:** $f_i(\\mathbf{x})=\\frac{e^{x_i}}{\\sum_{k=0}^N e^{x_k}}$. Se utiliza para normalizar las salidas de una capa de neuronas,típicamente en la capa de salida. Tiene la ventaja de que nunca resultará en valor cero o indeterminado.\n",
    "\n",
    "Tensorflow aplica la normalización a lo largo de un eje en específico (por defecto el último)."
   ]
  },
  {
   "cell_type": "code",
   "execution_count": 270,
   "metadata": {},
   "outputs": [
    {
     "name": "stdout",
     "output_type": "stream",
     "text": [
      "A= [[1. 1.]] \n",
      " B= [[1.]\n",
      " [1.]]\n",
      "Normalizar con Softmax\n",
      "A: [[0.5 0.5]]\n",
      "B: [[1.]\n",
      " [1.]]\n",
      "A: [[1. 1.]]\n",
      "B: [[0.5]\n",
      " [0.5]]\n"
     ]
    }
   ],
   "source": [
    "#softmax normalization on matrices\n",
    "tf.reset_default_graph()\n",
    "\n",
    "A=tf.constant([1.,1.],shape=[1,2])\n",
    "B=tf.constant([1.,1.],shape=[2,1])\n",
    "\n",
    "with tf.Session() as sess:\n",
    "    print(\"A=\",A.eval(),\"\\n B=\",B.eval())\n",
    "    \n",
    "    print(\"Normalizar con Softmax\")\n",
    "    print(\"A:\",tf.nn.softmax(A).eval())\n",
    "    print(\"B:\",tf.nn.softmax(B).eval())\n",
    "    print(\"A:\",tf.nn.softmax(A,axis=0).eval())\n",
    "    print(\"B:\",tf.nn.softmax(B,axis=0).eval())"
   ]
  },
  {
   "cell_type": "markdown",
   "metadata": {},
   "source": [
    "**Cross-Entropy:** $H(P,Q)=\\mathbb{E}_{x\\sim P}[-logQ(x)]=-\\sum_i P(x_i)logQ(x_i)$\n",
    "\n",
    "La entropía cruzada es una forma de comparar dos distribuciones distintas $P$ y $Q$. \n",
    "\n",
    "Recordamos que, dado un evento aleatorio $x$ producido por una distribución de probabilidad $P(x)$, $log\\frac{1}{P(x)}$ se refiere a la información (mínima) que representa un evento y la entropía $H(P)=\\mathbb{E}_{x\\sim P}[-logP(x)]$ es la información promedio (mínima) que representa un evento.\n",
    "\n",
    "Si tenemos una distribución de probabilidad $Q$ que aproxima $P$, entonces $H(P,Q)=\\mathbb{E}_{x\\sim P}[-logQ(x)]$ representa el promedio de información según $P$ que representa un evento generado por una distribución $Q$.\n",
    "\n",
    "Se puede demostrar que $H(P,Q)\\geq H(P,P)=H(P)$, por lo que la entropía cruzada tiene un límite inferior (la entropía misma) que ocurre cuando ambas distribuciones son iguales.[[link]](https://stats.stackexchange.com/questions/370428/why-is-the-cross-entropy-always-more-than-the-entropy) Esto nos permite utilizar la entropía cruzada como una función de error a minimizar cuando comparamos las etiquetas u objetivos reales $Y_{\\text{actual}}$ con la predicción $Y_{\\text{predicted}}$. \n",
    "\n",
    "Consideremos el caso de clasificación: "
   ]
  },
  {
   "cell_type": "markdown",
   "metadata": {},
   "source": [
    "<img src=\"images/one-hot2.png\" width=500>\n",
    "\n",
    "<img src=\"images/cropped-cross-entropy.png\" width=500>"
   ]
  },
  {
   "cell_type": "markdown",
   "metadata": {},
   "source": [
    "$Y_{\\text{actual}}$ es un vector que representa la clase de un punto $\\mathbf{x}$, con $Y_{i\\ \\text{actual}}=\\delta_i$ i.e. la entrada i-ésima es 1 si $\\mathbf{x}$ pertenece a la clase $i$ y es 0 si no es así. A esta representación se le conoce como **one-hot encoding**. \n",
    "\n",
    "Por otro lado $Y_{i\\ \\text{predicted}}$ representa la probabilidad de que $\\mathbf{x}$ pertenezca a la i-esima clase. Entonces, la entropía cruzada será mínima cuando ambos vectores sean iguales, i.e. tengan la misma distribución de las probabilidades.\n",
    "\n",
    "**Obs:** Por esta razón, las etiquetas corresponden a la probabilidad real $P$ y deben estar fuera del logaritmo, ya que contienen ceros en sus entradas."
   ]
  },
  {
   "cell_type": "markdown",
   "metadata": {},
   "source": [
    "<img src=\"https://cdn-images-1.medium.com/max/1600/1*UMTxO9QtlttfKWGd-RciTQ.png\">"
   ]
  },
  {
   "cell_type": "markdown",
   "metadata": {},
   "source": [
    "Tensorflow implementa la función `softmax_cross_entropy` que es más eficiente que calcular la entropía cruzada por sí misma, pero también podemos calcular la función por nuestra propia cuenta."
   ]
  },
  {
   "cell_type": "code",
   "execution_count": 272,
   "metadata": {},
   "outputs": [
    {
     "name": "stdout",
     "output_type": "stream",
     "text": [
      "[0.46396342 0.28140804 0.25462854]\n",
      "[0.7679496, 0.7679496]\n"
     ]
    }
   ],
   "source": [
    "tf.reset_default_graph()\n",
    "\n",
    "y_act=tf.constant([1.0,0.0,0.0])\n",
    "y_pred=tf.constant([0.7,0.2,0.1])\n",
    "\n",
    "norm_y=tf.nn.softmax(y_pred)\n",
    "cross_entropy = tf.reduce_mean(-tf.reduce_sum(y_act * tf.log(norm_y), reduction_indices=[0]))\n",
    "\n",
    "sm_ce=tf.nn.softmax_cross_entropy_with_logits(labels=y_act,logits=y_pred)\n",
    "\n",
    "with tf.Session() as sess:\n",
    "    print(sess.run(norm_y))\n",
    "    print(sess.run([cross_entropy,sm_ce]))"
   ]
  },
  {
   "cell_type": "markdown",
   "metadata": {},
   "source": [
    "Finalmente, utilizaremos las funciones `equal` y `argmax` para obtener la precisión de las predicciones."
   ]
  },
  {
   "cell_type": "code",
   "execution_count": 181,
   "metadata": {},
   "outputs": [
    {
     "name": "stdout",
     "output_type": "stream",
     "text": [
      "[3 2] <class 'numpy.ndarray'> (2,)\n",
      "[False  True False] <class 'numpy.ndarray'> (3,)\n",
      "[1. 0.]\n"
     ]
    }
   ],
   "source": [
    "tf.reset_default_graph()\n",
    "\n",
    "argmax=tf.argmax(tf.constant([1,2,7,8,-3,2,4,3],shape=[2,4]),axis=1) #indices donde los valores son máximos, sobre eje 1\n",
    "equal=tf.equal(tf.constant([1,2,3]),tf.constant([3,2,1])) #regresa un tensor booleano\n",
    "cast=tf.cast(np.array([True,False]),tf.float32) #convierte el tensor booleano 1's and 0's\n",
    "\n",
    "with tf.Session() as sess:\n",
    "    print(sess.run(argmax),type(sess.run(argmax)),sess.run(argmax).shape)\n",
    "    print(sess.run(equal),type(sess.run(equal)),sess.run(equal).shape)\n",
    "    print(sess.run(cast))"
   ]
  },
  {
   "cell_type": "markdown",
   "metadata": {},
   "source": [
    "# Nuestra Primer Red Neuronal: Una sola capa"
   ]
  },
  {
   "cell_type": "markdown",
   "metadata": {},
   "source": [
    "Para esto utilizaremos la base de datos \"MNIST Dataset\" (Modified National Institute of Standards and Technology Dataset), la cual consiste en 70,000 imagenes monocromáticas de 28x28 pixeles de dígitos numéricos escritos a mano. 60,000 imagenes pertenecen al conjunto de entrenamiento y 10,000 al de prueba. Es uno de los conjuntos de datos más famosos en Deep Learning, por lo que se han publicado un gran número de artículos con diferentes algoritmos de entrenamiento. Los creadores originales tienen una página en la que comparan los distintos métodos existentes y sus respectivos errores. [[link]](http://yann.lecun.com/exdb/mnist/)"
   ]
  },
  {
   "cell_type": "code",
   "execution_count": 273,
   "metadata": {},
   "outputs": [
    {
     "name": "stdout",
     "output_type": "stream",
     "text": [
      "Extracting /tmp/data/train-images-idx3-ubyte.gz\n",
      "Extracting /tmp/data/train-labels-idx1-ubyte.gz\n",
      "Extracting /tmp/data/t10k-images-idx3-ubyte.gz\n",
      "Extracting /tmp/data/t10k-labels-idx1-ubyte.gz\n"
     ]
    }
   ],
   "source": [
    "from tensorflow.examples.tutorials.mnist import input_data\n",
    "mnist = input_data.read_data_sets(\"/tmp/data/\", one_hot = True)"
   ]
  },
  {
   "cell_type": "code",
   "execution_count": 274,
   "metadata": {},
   "outputs": [],
   "source": [
    "X_train, Y_train, X_test, Y_test=mnist.train.images, mnist.train.labels, mnist.test.images, mnist.test.labels"
   ]
  },
  {
   "cell_type": "code",
   "execution_count": 275,
   "metadata": {},
   "outputs": [
    {
     "data": {
      "text/plain": [
       "((55000, 784), (55000, 10), (10000, 784), (10000, 10))"
      ]
     },
     "execution_count": 275,
     "metadata": {},
     "output_type": "execute_result"
    }
   ],
   "source": [
    "X_train.shape, Y_train.shape, X_test.shape,  Y_test.shape"
   ]
  },
  {
   "cell_type": "markdown",
   "metadata": {},
   "source": [
    "La implementación que estamos utilizando tiene sólo 55,000 dato en entrenamiento. La razón es que se dividieron 5,000 datos para validación."
   ]
  },
  {
   "cell_type": "code",
   "execution_count": 211,
   "metadata": {},
   "outputs": [],
   "source": [
    "X_val,Y_val=mnist.validation.images,mnist.validation.labels"
   ]
  },
  {
   "cell_type": "code",
   "execution_count": 212,
   "metadata": {},
   "outputs": [
    {
     "data": {
      "text/plain": [
       "((5000, 784), (5000, 10))"
      ]
     },
     "execution_count": 212,
     "metadata": {},
     "output_type": "execute_result"
    }
   ],
   "source": [
    "X_val.shape,Y_val.shape"
   ]
  },
  {
   "cell_type": "markdown",
   "metadata": {},
   "source": [
    "Exploremos los datos:"
   ]
  },
  {
   "cell_type": "code",
   "execution_count": 276,
   "metadata": {
    "scrolled": true
   },
   "outputs": [
    {
     "data": {
      "text/plain": [
       "array([0.        , 0.        , 0.        , 0.        , 0.        ,\n",
       "       0.        , 0.        , 0.        , 0.        , 0.        ,\n",
       "       0.        , 0.        , 0.        , 0.        , 0.        ,\n",
       "       0.        , 0.        , 0.        , 0.        , 0.        ,\n",
       "       0.        , 0.        , 0.        , 0.        , 0.        ,\n",
       "       0.        , 0.        , 0.        , 0.        , 0.        ,\n",
       "       0.        , 0.        , 0.        , 0.        , 0.        ,\n",
       "       0.        , 0.        , 0.        , 0.        , 0.        ,\n",
       "       0.        , 0.        , 0.        , 0.        , 0.        ,\n",
       "       0.        , 0.        , 0.        , 0.        , 0.        ,\n",
       "       0.        , 0.        , 0.        , 0.        , 0.        ,\n",
       "       0.        , 0.        , 0.        , 0.        , 0.        ,\n",
       "       0.        , 0.        , 0.        , 0.        , 0.        ,\n",
       "       0.        , 0.        , 0.        , 0.        , 0.        ,\n",
       "       0.        , 0.        , 0.        , 0.        , 0.        ,\n",
       "       0.        , 0.        , 0.        , 0.        , 0.        ,\n",
       "       0.        , 0.        , 0.        , 0.        , 0.        ,\n",
       "       0.        , 0.        , 0.        , 0.        , 0.        ,\n",
       "       0.        , 0.        , 0.        , 0.        , 0.        ,\n",
       "       0.        , 0.        , 0.        , 0.        , 0.        ,\n",
       "       0.        , 0.        , 0.        , 0.        , 0.        ,\n",
       "       0.        , 0.        , 0.        , 0.        , 0.        ,\n",
       "       0.        , 0.        , 0.        , 0.        , 0.        ,\n",
       "       0.        , 0.        , 0.        , 0.        , 0.        ,\n",
       "       0.        , 0.        , 0.        , 0.        , 0.        ,\n",
       "       0.        , 0.        , 0.        , 0.        , 0.        ,\n",
       "       0.        , 0.        , 0.        , 0.        , 0.        ,\n",
       "       0.        , 0.        , 0.        , 0.        , 0.        ,\n",
       "       0.        , 0.        , 0.        , 0.        , 0.        ,\n",
       "       0.        , 0.        , 0.        , 0.        , 0.        ,\n",
       "       0.        , 0.        , 0.        , 0.        , 0.        ,\n",
       "       0.        , 0.        , 0.        , 0.        , 0.        ,\n",
       "       0.        , 0.        , 0.        , 0.        , 0.        ,\n",
       "       0.        , 0.        , 0.        , 0.        , 0.        ,\n",
       "       0.        , 0.        , 0.        , 0.        , 0.        ,\n",
       "       0.        , 0.        , 0.        , 0.        , 0.        ,\n",
       "       0.        , 0.        , 0.        , 0.        , 0.        ,\n",
       "       0.        , 0.        , 0.        , 0.        , 0.        ,\n",
       "       0.        , 0.        , 0.        , 0.        , 0.        ,\n",
       "       0.        , 0.        , 0.        , 0.        , 0.        ,\n",
       "       0.        , 0.        , 0.        , 0.        , 0.        ,\n",
       "       0.        , 0.        , 0.3803922 , 0.37647063, 0.3019608 ,\n",
       "       0.46274513, 0.2392157 , 0.        , 0.        , 0.        ,\n",
       "       0.        , 0.        , 0.        , 0.        , 0.        ,\n",
       "       0.        , 0.        , 0.        , 0.        , 0.        ,\n",
       "       0.        , 0.        , 0.3529412 , 0.5411765 , 0.9215687 ,\n",
       "       0.9215687 , 0.9215687 , 0.9215687 , 0.9215687 , 0.9215687 ,\n",
       "       0.9843138 , 0.9843138 , 0.9725491 , 0.9960785 , 0.9607844 ,\n",
       "       0.9215687 , 0.74509805, 0.08235294, 0.        , 0.        ,\n",
       "       0.        , 0.        , 0.        , 0.        , 0.        ,\n",
       "       0.        , 0.        , 0.        , 0.        , 0.54901963,\n",
       "       0.9843138 , 0.9960785 , 0.9960785 , 0.9960785 , 0.9960785 ,\n",
       "       0.9960785 , 0.9960785 , 0.9960785 , 0.9960785 , 0.9960785 ,\n",
       "       0.9960785 , 0.9960785 , 0.9960785 , 0.9960785 , 0.9960785 ,\n",
       "       0.7411765 , 0.09019608, 0.        , 0.        , 0.        ,\n",
       "       0.        , 0.        , 0.        , 0.        , 0.        ,\n",
       "       0.        , 0.        , 0.8862746 , 0.9960785 , 0.81568635,\n",
       "       0.7803922 , 0.7803922 , 0.7803922 , 0.7803922 , 0.54509807,\n",
       "       0.2392157 , 0.2392157 , 0.2392157 , 0.2392157 , 0.2392157 ,\n",
       "       0.5019608 , 0.8705883 , 0.9960785 , 0.9960785 , 0.7411765 ,\n",
       "       0.08235294, 0.        , 0.        , 0.        , 0.        ,\n",
       "       0.        , 0.        , 0.        , 0.        , 0.        ,\n",
       "       0.14901961, 0.32156864, 0.0509804 , 0.        , 0.        ,\n",
       "       0.        , 0.        , 0.        , 0.        , 0.        ,\n",
       "       0.        , 0.        , 0.        , 0.        , 0.13333334,\n",
       "       0.8352942 , 0.9960785 , 0.9960785 , 0.45098042, 0.        ,\n",
       "       0.        , 0.        , 0.        , 0.        , 0.        ,\n",
       "       0.        , 0.        , 0.        , 0.        , 0.        ,\n",
       "       0.        , 0.        , 0.        , 0.        , 0.        ,\n",
       "       0.        , 0.        , 0.        , 0.        , 0.        ,\n",
       "       0.        , 0.        , 0.        , 0.32941177, 0.9960785 ,\n",
       "       0.9960785 , 0.9176471 , 0.        , 0.        , 0.        ,\n",
       "       0.        , 0.        , 0.        , 0.        , 0.        ,\n",
       "       0.        , 0.        , 0.        , 0.        , 0.        ,\n",
       "       0.        , 0.        , 0.        , 0.        , 0.        ,\n",
       "       0.        , 0.        , 0.        , 0.        , 0.        ,\n",
       "       0.        , 0.32941177, 0.9960785 , 0.9960785 , 0.9176471 ,\n",
       "       0.        , 0.        , 0.        , 0.        , 0.        ,\n",
       "       0.        , 0.        , 0.        , 0.        , 0.        ,\n",
       "       0.        , 0.        , 0.        , 0.        , 0.        ,\n",
       "       0.        , 0.        , 0.        , 0.        , 0.        ,\n",
       "       0.        , 0.        , 0.        , 0.4156863 , 0.6156863 ,\n",
       "       0.9960785 , 0.9960785 , 0.95294124, 0.20000002, 0.        ,\n",
       "       0.        , 0.        , 0.        , 0.        , 0.        ,\n",
       "       0.        , 0.        , 0.        , 0.        , 0.        ,\n",
       "       0.        , 0.        , 0.        , 0.        , 0.        ,\n",
       "       0.        , 0.09803922, 0.45882356, 0.8941177 , 0.8941177 ,\n",
       "       0.8941177 , 0.9921569 , 0.9960785 , 0.9960785 , 0.9960785 ,\n",
       "       0.9960785 , 0.94117653, 0.        , 0.        , 0.        ,\n",
       "       0.        , 0.        , 0.        , 0.        , 0.        ,\n",
       "       0.        , 0.        , 0.        , 0.        , 0.        ,\n",
       "       0.        , 0.        , 0.26666668, 0.4666667 , 0.86274517,\n",
       "       0.9960785 , 0.9960785 , 0.9960785 , 0.9960785 , 0.9960785 ,\n",
       "       0.9960785 , 0.9960785 , 0.9960785 , 0.9960785 , 0.5568628 ,\n",
       "       0.        , 0.        , 0.        , 0.        , 0.        ,\n",
       "       0.        , 0.        , 0.        , 0.        , 0.        ,\n",
       "       0.        , 0.        , 0.        , 0.14509805, 0.73333335,\n",
       "       0.9921569 , 0.9960785 , 0.9960785 , 0.9960785 , 0.8745099 ,\n",
       "       0.8078432 , 0.8078432 , 0.29411766, 0.26666668, 0.8431373 ,\n",
       "       0.9960785 , 0.9960785 , 0.45882356, 0.        , 0.        ,\n",
       "       0.        , 0.        , 0.        , 0.        , 0.        ,\n",
       "       0.        , 0.        , 0.        , 0.        , 0.        ,\n",
       "       0.4431373 , 0.8588236 , 0.9960785 , 0.9490197 , 0.89019614,\n",
       "       0.45098042, 0.34901962, 0.12156864, 0.        , 0.        ,\n",
       "       0.        , 0.        , 0.7843138 , 0.9960785 , 0.9450981 ,\n",
       "       0.16078432, 0.        , 0.        , 0.        , 0.        ,\n",
       "       0.        , 0.        , 0.        , 0.        , 0.        ,\n",
       "       0.        , 0.        , 0.        , 0.6627451 , 0.9960785 ,\n",
       "       0.6901961 , 0.24313727, 0.        , 0.        , 0.        ,\n",
       "       0.        , 0.        , 0.        , 0.        , 0.18823531,\n",
       "       0.9058824 , 0.9960785 , 0.9176471 , 0.        , 0.        ,\n",
       "       0.        , 0.        , 0.        , 0.        , 0.        ,\n",
       "       0.        , 0.        , 0.        , 0.        , 0.        ,\n",
       "       0.        , 0.07058824, 0.48627454, 0.        , 0.        ,\n",
       "       0.        , 0.        , 0.        , 0.        , 0.        ,\n",
       "       0.        , 0.        , 0.32941177, 0.9960785 , 0.9960785 ,\n",
       "       0.6509804 , 0.        , 0.        , 0.        , 0.        ,\n",
       "       0.        , 0.        , 0.        , 0.        , 0.        ,\n",
       "       0.        , 0.        , 0.        , 0.        , 0.        ,\n",
       "       0.        , 0.        , 0.        , 0.        , 0.        ,\n",
       "       0.        , 0.        , 0.        , 0.        , 0.        ,\n",
       "       0.54509807, 0.9960785 , 0.9333334 , 0.22352943, 0.        ,\n",
       "       0.        , 0.        , 0.        , 0.        , 0.        ,\n",
       "       0.        , 0.        , 0.        , 0.        , 0.        ,\n",
       "       0.        , 0.        , 0.        , 0.        , 0.        ,\n",
       "       0.        , 0.        , 0.        , 0.        , 0.        ,\n",
       "       0.        , 0.        , 0.8235295 , 0.9803922 , 0.9960785 ,\n",
       "       0.65882355, 0.        , 0.        , 0.        , 0.        ,\n",
       "       0.        , 0.        , 0.        , 0.        , 0.        ,\n",
       "       0.        , 0.        , 0.        , 0.        , 0.        ,\n",
       "       0.        , 0.        , 0.        , 0.        , 0.        ,\n",
       "       0.        , 0.        , 0.        , 0.        , 0.        ,\n",
       "       0.9490197 , 0.9960785 , 0.93725497, 0.22352943, 0.        ,\n",
       "       0.        , 0.        , 0.        , 0.        , 0.        ,\n",
       "       0.        , 0.        , 0.        , 0.        , 0.        ,\n",
       "       0.        , 0.        , 0.        , 0.        , 0.        ,\n",
       "       0.        , 0.        , 0.        , 0.        , 0.        ,\n",
       "       0.        , 0.        , 0.34901962, 0.9843138 , 0.9450981 ,\n",
       "       0.3372549 , 0.        , 0.        , 0.        , 0.        ,\n",
       "       0.        , 0.        , 0.        , 0.        , 0.        ,\n",
       "       0.        , 0.        , 0.        , 0.        , 0.        ,\n",
       "       0.        , 0.        , 0.        , 0.        , 0.        ,\n",
       "       0.        , 0.        , 0.        , 0.        , 0.01960784,\n",
       "       0.8078432 , 0.96470594, 0.6156863 , 0.        , 0.        ,\n",
       "       0.        , 0.        , 0.        , 0.        , 0.        ,\n",
       "       0.        , 0.        , 0.        , 0.        , 0.        ,\n",
       "       0.        , 0.        , 0.        , 0.        , 0.        ,\n",
       "       0.        , 0.        , 0.        , 0.        , 0.        ,\n",
       "       0.        , 0.        , 0.01568628, 0.45882356, 0.27058825,\n",
       "       0.        , 0.        , 0.        , 0.        , 0.        ,\n",
       "       0.        , 0.        , 0.        , 0.        , 0.        ,\n",
       "       0.        , 0.        , 0.        , 0.        , 0.        ,\n",
       "       0.        , 0.        , 0.        , 0.        , 0.        ,\n",
       "       0.        , 0.        , 0.        , 0.        , 0.        ,\n",
       "       0.        , 0.        , 0.        , 0.        , 0.        ,\n",
       "       0.        , 0.        , 0.        , 0.        , 0.        ,\n",
       "       0.        , 0.        , 0.        , 0.        ], dtype=float32)"
      ]
     },
     "execution_count": 276,
     "metadata": {},
     "output_type": "execute_result"
    }
   ],
   "source": [
    "X_train[0]"
   ]
  },
  {
   "cell_type": "code",
   "execution_count": 277,
   "metadata": {},
   "outputs": [
    {
     "name": "stdout",
     "output_type": "stream",
     "text": [
      "(784,)\n"
     ]
    }
   ],
   "source": [
    "print(X_train[0].shape) #784=28*28"
   ]
  },
  {
   "cell_type": "code",
   "execution_count": 278,
   "metadata": {},
   "outputs": [
    {
     "name": "stdout",
     "output_type": "stream",
     "text": [
      "[0. 0. 0. 0. 0. 0. 0. 1. 0. 0.]\n"
     ]
    },
    {
     "data": {
      "image/png": "[encoded data removed]",
      "text/plain": [
       "<Figure size 432x288 with 2 Axes>"
      ]
     },
     "metadata": {},
     "output_type": "display_data"
    },
    {
     "name": "stdout",
     "output_type": "stream",
     "text": [
      "[0. 0. 0. 1. 0. 0. 0. 0. 0. 0.]\n"
     ]
    },
    {
     "data": {
      "image/png": "[encoded data removed]",
      "text/plain": [
       "<Figure size 432x288 with 2 Axes>"
      ]
     },
     "metadata": {},
     "output_type": "display_data"
    },
    {
     "name": "stdout",
     "output_type": "stream",
     "text": [
      "[0. 0. 0. 0. 1. 0. 0. 0. 0. 0.]\n"
     ]
    },
    {
     "data": {
      "image/png": "[encoded data removed]",
      "text/plain": [
       "<Figure size 432x288 with 2 Axes>"
      ]
     },
     "metadata": {},
     "output_type": "display_data"
    },
    {
     "name": "stdout",
     "output_type": "stream",
     "text": [
      "[0. 0. 0. 0. 0. 0. 1. 0. 0. 0.]\n"
     ]
    },
    {
     "data": {
      "image/png": "[encoded data removed]",
      "text/plain": [
       "<Figure size 432x288 with 2 Axes>"
      ]
     },
     "metadata": {},
     "output_type": "display_data"
    },
    {
     "name": "stdout",
     "output_type": "stream",
     "text": [
      "[0. 1. 0. 0. 0. 0. 0. 0. 0. 0.]\n"
     ]
    },
    {
     "data": {
      "image/png": "[encoded data removed]",
      "text/plain": [
       "<Figure size 432x288 with 2 Axes>"
      ]
     },
     "metadata": {},
     "output_type": "display_data"
    },
    {
     "name": "stdout",
     "output_type": "stream",
     "text": [
      "[0. 0. 0. 0. 0. 0. 0. 0. 1. 0.]\n"
     ]
    },
    {
     "data": {
      "image/png": "[encoded data removed]",
      "text/plain": [
       "<Figure size 432x288 with 2 Axes>"
      ]
     },
     "metadata": {},
     "output_type": "display_data"
    },
    {
     "name": "stdout",
     "output_type": "stream",
     "text": [
      "[0. 1. 0. 0. 0. 0. 0. 0. 0. 0.]\n"
     ]
    },
    {
     "data": {
      "image/png": "[encoded data removed]",
      "text/plain": [
       "<Figure size 432x288 with 2 Axes>"
      ]
     },
     "metadata": {},
     "output_type": "display_data"
    },
    {
     "name": "stdout",
     "output_type": "stream",
     "text": [
      "[1. 0. 0. 0. 0. 0. 0. 0. 0. 0.]\n"
     ]
    },
    {
     "data": {
      "image/png": "[encoded data removed]",
      "text/plain": [
       "<Figure size 432x288 with 2 Axes>"
      ]
     },
     "metadata": {},
     "output_type": "display_data"
    },
    {
     "name": "stdout",
     "output_type": "stream",
     "text": [
      "[0. 0. 0. 0. 0. 0. 0. 0. 0. 1.]\n"
     ]
    },
    {
     "data": {
      "image/png": "[encoded data removed]",
      "text/plain": [
       "<Figure size 432x288 with 2 Axes>"
      ]
     },
     "metadata": {},
     "output_type": "display_data"
    },
    {
     "name": "stdout",
     "output_type": "stream",
     "text": [
      "[0. 0. 0. 0. 0. 0. 0. 0. 1. 0.]\n"
     ]
    },
    {
     "data": {
      "image/png": "[encoded data removed]",
      "text/plain": [
       "<Figure size 432x288 with 2 Axes>"
      ]
     },
     "metadata": {},
     "output_type": "display_data"
    }
   ],
   "source": [
    "import matplotlib.pyplot as plt\n",
    "\n",
    "for i in range(0,10):\n",
    "    print(Y_train[i])\n",
    "    plt.imshow(X_train[i].reshape((28,28)), cmap='gray', vmin=0, vmax=1)\n",
    "    plt.colorbar()\n",
    "    plt.grid(False)\n",
    "    plt.show()"
   ]
  },
  {
   "cell_type": "code",
   "execution_count": 279,
   "metadata": {},
   "outputs": [],
   "source": [
    "g_train=tf.Graph()\n",
    "\n",
    "with g_train.as_default():\n",
    "    X = tf.placeholder(tf.float32, [None, 784]) #placeholder para datos de imagenes\n",
    "    W = tf.Variable(tf.zeros([784, 10])) #inicializada como ceros\n",
    "    b = tf.Variable(tf.zeros([10])) #inicializada como ceros\n",
    "    \n",
    "    init = tf.global_variables_initializer()\n",
    "    \n",
    "    Y_predict = tf.nn.softmax(tf.matmul(X, W) + b) # modelo\n",
    "    Y_actual = tf.placeholder(tf.float32, [None, 10]) # placeholder para etiquetas, cada una es un vector\n",
    "    \n",
    "\n",
    "    cross_entropy = -tf.reduce_sum(Y_actual * tf.log(Y_predict)) # function de error/costo/pérdida\n",
    "    \n",
    "    is_correct = tf.equal(tf.argmax(Y_predict,axis=1), tf.argmax(Y_actual,axis=1)) #indices de valores maximos \n",
    "    accuracy = tf.reduce_mean(tf.cast(is_correct, tf.float32)) #porcentaje de predicciones correctas\n",
    "    \n",
    "    optimizer = tf.train.GradientDescentOptimizer(0.003) #taza de aprendizaje = 0.003\n",
    "    train_step = optimizer.minimize(cross_entropy) #función a minimizar con el algoritmo de descenso\n",
    "\n",
    "train_accuracy=[]\n",
    "train_loss=[]\n",
    "\n",
    "with tf.Session(graph=g_train) as sess:\n",
    "    init.run()\n",
    "    \n",
    "    for i in range(200): #200 iteraciones de entrenamiento\n",
    "        batch_X, batch_Y = mnist.train.next_batch(100) #entrenamos con un mini-batch de 100 datos\n",
    "        train_data={X: batch_X, Y_actual: batch_Y}\n",
    "\n",
    "        # entrenar y evaluar\n",
    "        _,acc,loss=sess.run([train_step,accuracy,cross_entropy], feed_dict=train_data)\n",
    "        train_accuracy.append(acc)\n",
    "        train_loss.append(loss)"
   ]
  },
  {
   "cell_type": "code",
   "execution_count": 280,
   "metadata": {},
   "outputs": [
    {
     "data": {
      "image/png": "[encoded data removed]",
      "text/plain": [
       "<Figure size 432x288 with 1 Axes>"
      ]
     },
     "metadata": {},
     "output_type": "display_data"
    }
   ],
   "source": [
    "plt.plot(train_accuracy)\n",
    "plt.show()"
   ]
  },
  {
   "cell_type": "code",
   "execution_count": 281,
   "metadata": {},
   "outputs": [
    {
     "data": {
      "image/png": "[encoded data removed]",
      "text/plain": [
       "<Figure size 432x288 with 1 Axes>"
      ]
     },
     "metadata": {},
     "output_type": "display_data"
    }
   ],
   "source": [
    "plt.plot(train_loss)\n",
    "plt.show()"
   ]
  },
  {
   "cell_type": "markdown",
   "metadata": {},
   "source": [
    "Observamos que hicimos 200 iteraciones sobre conjuntos de 100 datos,i.e. evaluamos un total de 20,000 elementos de la base de datos. Esto no es suficiente para cubrir por completo el conjunto de entrenamiento. Lo que deseamos es iterar sobre toda la base de datos (de entrenamiento) al menos una sola vez.A cada iteración sobre todos los datos de entrenamiento se le llama **época**.\n",
    "\n",
    "A continuación veremos un ejemplo de código más complicado, donde entrenamos el mismo modelo, pero sobre 20 épocas. Al finalizar cada una, calculamos el error y la pérdida sobre los conjuntos de entrenamiento, prueba y validación.\n",
    "\n",
    "A sí mismo, a cada nodo en la gráfica de operaciones, añadiremos una operación de análisis (tf.summary). Esto sirve para después poder visualizar el comportamiento de las variables con tensorboard u otras herramientas."
   ]
  },
  {
   "cell_type": "code",
   "execution_count": 282,
   "metadata": {},
   "outputs": [],
   "source": [
    "g_train2=tf.Graph()\n",
    "with g_train2.as_default():\n",
    "\n",
    "    with tf.name_scope(\"inputs\"):\n",
    "        X = tf.placeholder(tf.float32, [None, 784],name='x_data') \n",
    "        Ydata = tf.placeholder(tf.float32, [None, 10],name='y_data') \n",
    "    \n",
    "    with tf.name_scope(\"fitting_variables\"):\n",
    "        with tf.name_scope(\"weights\"):\n",
    "            W = tf.Variable(tf.ones([10,784]),name='w')\n",
    "            tf.summary.histogram(\"wieghts\",W)\n",
    "        with tf.name_scope(\"bias\"):\n",
    "            b = tf.Variable(tf.ones([10]),name='b')\n",
    "            tf.summary.histogram(\"biases\",b)\n",
    "    \n",
    "    prod=tf.matmul(W,X,transpose_b=True) #transponemos X que cada dato sea una columna\n",
    "    sumation=tf.transpose(tf.transpose(prod) + b) #sumar b verticalmente con broadcasting\n",
    "    \n",
    "    with tf.name_scope(\"outputs\"):\n",
    "        with tf.name_scope(\"model_output\"):\n",
    "            Ymod = tf.nn.softmax(tf.transpose(sumation),name=\"y_mod\") \n",
    "        with tf.name_scope(\"cross_entropy\"):\n",
    "            cross_entropy = tf.reduce_mean(-tf.reduce_sum(Ydata * tf.log(Ymod), reduction_indices=[1])) \n",
    "            tf.summary.scalar(\"cross_entropy\",cross_entropy)\n",
    "            \n",
    "        train_step = tf.train.GradientDescentOptimizer(0.5).minimize(cross_entropy)\n",
    "        correct_prediction = tf.equal(tf.argmax(Ymod,1), tf.argmax(Ydata,1)) \n",
    "        \n",
    "        with tf.name_scope(\"accuracy\"):\n",
    "            accuracy = tf.reduce_mean(tf.cast(correct_prediction, tf.float32)) \n",
    "            tf.summary.scalar(\"accuracy\",accuracy)"
   ]
  },
  {
   "cell_type": "code",
   "execution_count": 283,
   "metadata": {},
   "outputs": [
    {
     "name": "stderr",
     "output_type": "stream",
     "text": [
      "Exception ignored in: <function BaseSession.__del__ at 0x7f26b76531e0>\n",
      "Traceback (most recent call last):\n",
      "  File \"/home/arturo/anaconda3/lib/python3.7/site-packages/tensorflow/python/client/session.py\", line 736, in __del__\n",
      "    if self._session is not None:\n",
      "AttributeError: 'Session' object has no attribute '_session'\n",
      "Exception ignored in: <function BaseSession.__del__ at 0x7f26b76531e0>\n",
      "Traceback (most recent call last):\n",
      "  File \"/home/arturo/anaconda3/lib/python3.7/site-packages/tensorflow/python/client/session.py\", line 736, in __del__\n",
      "    if self._session is not None:\n",
      "AttributeError: 'Session' object has no attribute '_session'\n"
     ]
    },
    {
     "name": "stdout",
     "output_type": "stream",
     "text": [
      "Finished Epoch 1\n",
      "Finished Epoch 2\n",
      "Finished Epoch 3\n",
      "Finished Epoch 4\n",
      "Finished Epoch 5\n",
      "Finished Epoch 6\n",
      "Finished Epoch 7\n",
      "Finished Epoch 8\n",
      "Finished Epoch 9\n",
      "Finished Epoch 10\n",
      "Finished Epoch 11\n",
      "Finished Epoch 12\n",
      "Finished Epoch 13\n",
      "Finished Epoch 14\n",
      "Finished Epoch 15\n",
      "Finished Epoch 16\n",
      "Finished Epoch 17\n",
      "Finished Epoch 18\n",
      "Finished Epoch 19\n",
      "Finished Epoch 20\n"
     ]
    }
   ],
   "source": [
    "batch_size=100\n",
    "no_of_epochs=20\n",
    "\n",
    "#config = tf.ConfigProto()\n",
    "#config.gpu_options.allow_growth = True\n",
    "\n",
    "with tf.Session(graph=g_train2) as sess2:\n",
    "    \n",
    "    summaries_dir=\"test_logs/\"\n",
    "    #writer = tf.summary.FileWriter(summaries_dir,sess2.graph)\n",
    "    train_writer = tf.summary.FileWriter(summaries_dir + '/train',sess2.graph)\n",
    "    valid_writer = tf.summary.FileWriter(summaries_dir + '/valid')\n",
    "    test_writer = tf.summary.FileWriter(summaries_dir + '/test')\n",
    "\n",
    "    merged=tf.summary.merge_all()\n",
    "    #test_writer = tf.summary.FileWriter(summaries_dir)\n",
    "    \n",
    "    tf.global_variables_initializer().run()\n",
    "    #calculo inicial de accuracy, perdida,etc.\n",
    "    summary,loss=sess2.run([merged,cross_entropy],feed_dict={X: mnist.train.images,Ydata: mnist.train.labels})\n",
    "    train_writer.add_summary(summary, 0)\n",
    "    #print(\"Epoch:=\",0,\"; \\t Epoch Loss:=\",loss)\n",
    "    \n",
    "    summary,t_acc=sess2.run([merged,accuracy], feed_dict={X: mnist.train.images, Ydata: mnist.train.labels})#calculates accuracy across all data\n",
    "    train_writer.add_summary(summary, 0)\n",
    "    #print(\"Training Accuracy is\", t_acc*100,\"%\")\n",
    "    summary,v_acc=sess2.run([merged,accuracy], feed_dict={X: mnist.validation.images,Ydata:mnist.validation.labels})\n",
    "    valid_writer.add_summary(summary,0)\n",
    "    #print(\"Validation Accuracy is\", v_acc*100,\"%\")\n",
    "    summary,f_acc=sess2.run([merged,accuracy], feed_dict={X: mnist.test.images,Ydata:mnist.test.labels})\n",
    "    test_writer.add_summary(summary,0)\n",
    "    #print(\"Test Accuracy is\", f_acc*100,\"%\")\n",
    "    \n",
    "    sum_data=np.array([0,loss,t_acc,v_acc,f_acc]) #agregar los datos de la epoca 0 en una lista\n",
    "    \n",
    "    for epoch in range(no_of_epochs):\n",
    "        epoch_loss=0\n",
    "        for i in range(int(mnist.train.num_examples/batch_size)): #dividir \n",
    "            batch_xs, batch_ys = mnist.train.next_batch(batch_size) \n",
    "            train,loss=sess2.run([train_step,cross_entropy], feed_dict={X: batch_xs, Ydata: batch_ys})\n",
    "            #calcular gradiente y pérdida sobre los datos del batch (se usan todas la variables de la gráfica)\n",
    "            epoch_loss+=loss #calcula la pérdida por cada batch y la suma para tener la pérdida final en toda la época\n",
    "        \n",
    "        #print(\"Epoch:=\",epoch+1,\"; \\t Epoch Loss:=\",epoch_loss)\n",
    "        summary,t_acc=sess2.run([merged,accuracy], feed_dict={X: mnist.train.images, Ydata: mnist.train.labels})#calculates accuracy across all data\n",
    "        train_writer.add_summary(summary, epoch+1)\n",
    "        #print(\"Training Accuracy is\", t_acc*100,\"%\")\n",
    "        summary,v_acc=sess2.run([merged,accuracy], feed_dict={X: mnist.validation.images,Ydata:mnist.validation.labels})\n",
    "        valid_writer.add_summary(summary, epoch+1)\n",
    "        #print(\"Validation Accuracy is\", v_acc*100,\"%\")\n",
    "        summary,f_acc=sess2.run([merged,accuracy], feed_dict={X: mnist.test.images,Ydata:mnist.test.labels})\n",
    "        test_writer.add_summary(summary, epoch+1)\n",
    "        #print(\"Test Accuracy is\", f_acc*100,\"%\")\n",
    "        \n",
    "        sum_data=np.vstack((sum_data,np.array([epoch+1,epoch_loss,t_acc,v_acc,f_acc])))\n",
    "        print(\"Finished Epoch\",epoch+1)"
   ]
  },
  {
   "cell_type": "code",
   "execution_count": 284,
   "metadata": {},
   "outputs": [
    {
     "data": {
      "image/png": "[encoded data removed]",
      "text/plain": [
       "<Figure size 432x288 with 1 Axes>"
      ]
     },
     "metadata": {},
     "output_type": "display_data"
    }
   ],
   "source": [
    "#plt.plot(sum_data[:,0],sum_data[:,1],label=\"epoch_loss\")\n",
    "plt.ylim(0.9,0.94)\n",
    "plt.plot(sum_data[:,0],sum_data[:,2],label=\"train_acc\",ls=':')\n",
    "plt.plot(sum_data[:,0],sum_data[:,3],label=\"val_acc\",ls=':')\n",
    "plt.plot(sum_data[:,0],sum_data[:,4],label=\"test_acc\",ls=':')\n",
    "plt.legend()\n",
    "plt.show()\n",
    "#test and validationa accuracy get stuck over time(overfitting) \n",
    "#the optimal no of epoch seems to be around 10-15 epochs"
   ]
  },
  {
   "cell_type": "markdown",
   "metadata": {},
   "source": [
    "# Guardar y Cargar Modelos Entrenados"
   ]
  },
  {
   "cell_type": "code",
   "execution_count": 285,
   "metadata": {},
   "outputs": [
    {
     "name": "stdout",
     "output_type": "stream",
     "text": [
      "Save to test/my_nn_savefile.ckpt\n"
     ]
    }
   ],
   "source": [
    "#saving\n",
    "W = tf.Variable([[1,2,3],[1,2,3]],dtype=tf.float32,name='s_weights')\n",
    "b = tf.Variable([[1,2,3]],dtype=tf.float32,name='s_biases')\n",
    "\n",
    "init=tf.global_variables_initializer()\n",
    "saver= tf.train.Saver()\n",
    "with tf.Session() as sess:\n",
    "    sess.run(init)\n",
    "    save_path=saver.save(sess,\"test/my_nn_savefile.ckpt\")\n",
    "    print(\"Save to\",save_path)\n",
    "    \n",
    "tf.reset_default_graph()"
   ]
  },
  {
   "cell_type": "code",
   "execution_count": 286,
   "metadata": {},
   "outputs": [
    {
     "name": "stdout",
     "output_type": "stream",
     "text": [
      "INFO:tensorflow:Restoring parameters from test/my_nn_savefile.ckpt\n",
      "weights: [[1. 2. 3.]\n",
      " [1. 2. 3.]]\n",
      "biases: [[1. 2. 3.]]\n"
     ]
    }
   ],
   "source": [
    "#restoring\n",
    "W=tf.Variable(tf.zeros([2,3]),dtype=tf.float32,name='s_weights')\n",
    "b=tf.Variable(tf.zeros([1,3]),dtype=tf.float32,name='s_biases')\n",
    "\n",
    "saver=tf.train.Saver()\n",
    "# Add ops to save and restore only `b` using the name \"b\"\n",
    "#saver = tf.train.Saver({\"b\": b})\n",
    "#we'll have to initialize W since saver does not do that\n",
    "\n",
    "with tf.Session() as sess:\n",
    "    saver.restore(sess,\"test/my_nn_savefile.ckpt\")\n",
    "    print(\"weights:\",sess.run(W))\n",
    "    print(\"biases:\",sess.run(b))"
   ]
  },
  {
   "cell_type": "markdown",
   "metadata": {},
   "source": [
    "# Un Ejemplo con Keras"
   ]
  },
  {
   "cell_type": "markdown",
   "metadata": {},
   "source": [
    "Comparemos el código que generamos con el que utiliza la librería Keras (API de alto nivel)."
   ]
  },
  {
   "cell_type": "code",
   "execution_count": 2,
   "metadata": {},
   "outputs": [],
   "source": [
    "import tensorflow as tf\n",
    "mnist_keras = tf.keras.datasets.mnist\n",
    "(x_train, y_train),(x_test, y_test) = mnist_keras.load_data()"
   ]
  },
  {
   "cell_type": "code",
   "execution_count": 3,
   "metadata": {},
   "outputs": [
    {
     "data": {
      "text/plain": [
       "((60000, 28, 28), (60000,), (10000, 28, 28), (10000,))"
      ]
     },
     "execution_count": 3,
     "metadata": {},
     "output_type": "execute_result"
    }
   ],
   "source": [
    "x_train.shape, y_train.shape, x_test.shape, y_test.shape #no separa el conjunto de validación"
   ]
  },
  {
   "cell_type": "code",
   "execution_count": 4,
   "metadata": {},
   "outputs": [
    {
     "data": {
      "text/plain": [
       "array([[  0,   0,   0,   0,   0,   0,   0,   0,   0,   0,   0,   0,   0,\n",
       "          0,   0,   0,   0,   0,   0,   0,   0,   0,   0,   0,   0,   0,\n",
       "          0,   0],\n",
       "       [  0,   0,   0,   0,   0,   0,   0,   0,   0,   0,   0,   0,   0,\n",
       "          0,   0,   0,   0,   0,   0,   0,   0,   0,   0,   0,   0,   0,\n",
       "          0,   0],\n",
       "       [  0,   0,   0,   0,   0,   0,   0,   0,   0,   0,   0,   0,   0,\n",
       "          0,   0,   0,   0,   0,   0,   0,   0,   0,   0,   0,   0,   0,\n",
       "          0,   0],\n",
       "       [  0,   0,   0,   0,   0,   0,   0,   0,   0,   0,   0,   0,   0,\n",
       "          0,   0,   0,   0,   0,   0,   0,   0,   0,   0,   0,   0,   0,\n",
       "          0,   0],\n",
       "       [  0,   0,   0,   0,   0,   0,   0,   0,   0,   0,   0,   0,   0,\n",
       "          0,   0,   0,   0,   0,   0,   0,   0,   0,   0,   0,   0,   0,\n",
       "          0,   0],\n",
       "       [  0,   0,   0,   0,   0,   0,   0,   0,   0,   0,   0,   0,   3,\n",
       "         18,  18,  18, 126, 136, 175,  26, 166, 255, 247, 127,   0,   0,\n",
       "          0,   0],\n",
       "       [  0,   0,   0,   0,   0,   0,   0,   0,  30,  36,  94, 154, 170,\n",
       "        253, 253, 253, 253, 253, 225, 172, 253, 242, 195,  64,   0,   0,\n",
       "          0,   0],\n",
       "       [  0,   0,   0,   0,   0,   0,   0,  49, 238, 253, 253, 253, 253,\n",
       "        253, 253, 253, 253, 251,  93,  82,  82,  56,  39,   0,   0,   0,\n",
       "          0,   0],\n",
       "       [  0,   0,   0,   0,   0,   0,   0,  18, 219, 253, 253, 253, 253,\n",
       "        253, 198, 182, 247, 241,   0,   0,   0,   0,   0,   0,   0,   0,\n",
       "          0,   0],\n",
       "       [  0,   0,   0,   0,   0,   0,   0,   0,  80, 156, 107, 253, 253,\n",
       "        205,  11,   0,  43, 154,   0,   0,   0,   0,   0,   0,   0,   0,\n",
       "          0,   0],\n",
       "       [  0,   0,   0,   0,   0,   0,   0,   0,   0,  14,   1, 154, 253,\n",
       "         90,   0,   0,   0,   0,   0,   0,   0,   0,   0,   0,   0,   0,\n",
       "          0,   0],\n",
       "       [  0,   0,   0,   0,   0,   0,   0,   0,   0,   0,   0, 139, 253,\n",
       "        190,   2,   0,   0,   0,   0,   0,   0,   0,   0,   0,   0,   0,\n",
       "          0,   0],\n",
       "       [  0,   0,   0,   0,   0,   0,   0,   0,   0,   0,   0,  11, 190,\n",
       "        253,  70,   0,   0,   0,   0,   0,   0,   0,   0,   0,   0,   0,\n",
       "          0,   0],\n",
       "       [  0,   0,   0,   0,   0,   0,   0,   0,   0,   0,   0,   0,  35,\n",
       "        241, 225, 160, 108,   1,   0,   0,   0,   0,   0,   0,   0,   0,\n",
       "          0,   0],\n",
       "       [  0,   0,   0,   0,   0,   0,   0,   0,   0,   0,   0,   0,   0,\n",
       "         81, 240, 253, 253, 119,  25,   0,   0,   0,   0,   0,   0,   0,\n",
       "          0,   0],\n",
       "       [  0,   0,   0,   0,   0,   0,   0,   0,   0,   0,   0,   0,   0,\n",
       "          0,  45, 186, 253, 253, 150,  27,   0,   0,   0,   0,   0,   0,\n",
       "          0,   0],\n",
       "       [  0,   0,   0,   0,   0,   0,   0,   0,   0,   0,   0,   0,   0,\n",
       "          0,   0,  16,  93, 252, 253, 187,   0,   0,   0,   0,   0,   0,\n",
       "          0,   0],\n",
       "       [  0,   0,   0,   0,   0,   0,   0,   0,   0,   0,   0,   0,   0,\n",
       "          0,   0,   0,   0, 249, 253, 249,  64,   0,   0,   0,   0,   0,\n",
       "          0,   0],\n",
       "       [  0,   0,   0,   0,   0,   0,   0,   0,   0,   0,   0,   0,   0,\n",
       "          0,  46, 130, 183, 253, 253, 207,   2,   0,   0,   0,   0,   0,\n",
       "          0,   0],\n",
       "       [  0,   0,   0,   0,   0,   0,   0,   0,   0,   0,   0,   0,  39,\n",
       "        148, 229, 253, 253, 253, 250, 182,   0,   0,   0,   0,   0,   0,\n",
       "          0,   0],\n",
       "       [  0,   0,   0,   0,   0,   0,   0,   0,   0,   0,  24, 114, 221,\n",
       "        253, 253, 253, 253, 201,  78,   0,   0,   0,   0,   0,   0,   0,\n",
       "          0,   0],\n",
       "       [  0,   0,   0,   0,   0,   0,   0,   0,  23,  66, 213, 253, 253,\n",
       "        253, 253, 198,  81,   2,   0,   0,   0,   0,   0,   0,   0,   0,\n",
       "          0,   0],\n",
       "       [  0,   0,   0,   0,   0,   0,  18, 171, 219, 253, 253, 253, 253,\n",
       "        195,  80,   9,   0,   0,   0,   0,   0,   0,   0,   0,   0,   0,\n",
       "          0,   0],\n",
       "       [  0,   0,   0,   0,  55, 172, 226, 253, 253, 253, 253, 244, 133,\n",
       "         11,   0,   0,   0,   0,   0,   0,   0,   0,   0,   0,   0,   0,\n",
       "          0,   0],\n",
       "       [  0,   0,   0,   0, 136, 253, 253, 253, 212, 135, 132,  16,   0,\n",
       "          0,   0,   0,   0,   0,   0,   0,   0,   0,   0,   0,   0,   0,\n",
       "          0,   0],\n",
       "       [  0,   0,   0,   0,   0,   0,   0,   0,   0,   0,   0,   0,   0,\n",
       "          0,   0,   0,   0,   0,   0,   0,   0,   0,   0,   0,   0,   0,\n",
       "          0,   0],\n",
       "       [  0,   0,   0,   0,   0,   0,   0,   0,   0,   0,   0,   0,   0,\n",
       "          0,   0,   0,   0,   0,   0,   0,   0,   0,   0,   0,   0,   0,\n",
       "          0,   0],\n",
       "       [  0,   0,   0,   0,   0,   0,   0,   0,   0,   0,   0,   0,   0,\n",
       "          0,   0,   0,   0,   0,   0,   0,   0,   0,   0,   0,   0,   0,\n",
       "          0,   0]], dtype=uint8)"
      ]
     },
     "execution_count": 4,
     "metadata": {},
     "output_type": "execute_result"
    }
   ],
   "source": [
    "x_train[0] #las matrices ahora tienen valores enteros, i.e. no estan normalizadas"
   ]
  },
  {
   "cell_type": "code",
   "execution_count": 7,
   "metadata": {},
   "outputs": [
    {
     "name": "stdout",
     "output_type": "stream",
     "text": [
      "5\n"
     ]
    },
    {
     "data": {
      "image/png": "[encoded data removed]",
      "text/plain": [
       "<Figure size 432x288 with 2 Axes>"
      ]
     },
     "metadata": {
      "needs_background": "light"
     },
     "output_type": "display_data"
    },
    {
     "name": "stdout",
     "output_type": "stream",
     "text": [
      "0\n"
     ]
    },
    {
     "data": {
      "image/png": "[encoded data removed]",
      "text/plain": [
       "<Figure size 432x288 with 2 Axes>"
      ]
     },
     "metadata": {
      "needs_background": "light"
     },
     "output_type": "display_data"
    },
    {
     "name": "stdout",
     "output_type": "stream",
     "text": [
      "4\n"
     ]
    },
    {
     "data": {
      "image/png": "[encoded data removed]",
      "text/plain": [
       "<Figure size 432x288 with 2 Axes>"
      ]
     },
     "metadata": {
      "needs_background": "light"
     },
     "output_type": "display_data"
    },
    {
     "name": "stdout",
     "output_type": "stream",
     "text": [
      "1\n"
     ]
    },
    {
     "data": {
      "image/png": "[encoded data removed]",
      "text/plain": [
       "<Figure size 432x288 with 2 Axes>"
      ]
     },
     "metadata": {
      "needs_background": "light"
     },
     "output_type": "display_data"
    },
    {
     "name": "stdout",
     "output_type": "stream",
     "text": [
      "9\n"
     ]
    },
    {
     "data": {
      "image/png": "[encoded data removed]",
      "text/plain": [
       "<Figure size 432x288 with 2 Axes>"
      ]
     },
     "metadata": {
      "needs_background": "light"
     },
     "output_type": "display_data"
    },
    {
     "name": "stdout",
     "output_type": "stream",
     "text": [
      "2\n"
     ]
    },
    {
     "data": {
      "image/png": "[encoded data removed]",
      "text/plain": [
       "<Figure size 432x288 with 2 Axes>"
      ]
     },
     "metadata": {
      "needs_background": "light"
     },
     "output_type": "display_data"
    },
    {
     "name": "stdout",
     "output_type": "stream",
     "text": [
      "1\n"
     ]
    },
    {
     "data": {
      "image/png": "[encoded data removed]",
      "text/plain": [
       "<Figure size 432x288 with 2 Axes>"
      ]
     },
     "metadata": {
      "needs_background": "light"
     },
     "output_type": "display_data"
    },
    {
     "name": "stdout",
     "output_type": "stream",
     "text": [
      "3\n"
     ]
    },
    {
     "data": {
      "image/png": "[encoded data removed]",
      "text/plain": [
       "<Figure size 432x288 with 2 Axes>"
      ]
     },
     "metadata": {
      "needs_background": "light"
     },
     "output_type": "display_data"
    },
    {
     "name": "stdout",
     "output_type": "stream",
     "text": [
      "1\n"
     ]
    },
    {
     "data": {
      "image/png": "[encoded data removed]",
      "text/plain": [
       "<Figure size 432x288 with 2 Axes>"
      ]
     },
     "metadata": {
      "needs_background": "light"
     },
     "output_type": "display_data"
    },
    {
     "name": "stdout",
     "output_type": "stream",
     "text": [
      "4\n"
     ]
    },
    {
     "data": {
      "image/png": "[encoded data removed]",
      "text/plain": [
       "<Figure size 432x288 with 2 Axes>"
      ]
     },
     "metadata": {
      "needs_background": "light"
     },
     "output_type": "display_data"
    }
   ],
   "source": [
    "import matplotlib.pyplot as plt\n",
    "%matplotlib inline\n",
    "\n",
    "for i in range(0,10):\n",
    "    print(y_train[i]) #las entradas no estan en formato one-hot\n",
    "    plt.imshow(x_train[i], cmap='gray', vmin=0, vmax=255) #los valores no estan normalizados\n",
    "    plt.colorbar()\n",
    "    plt.grid(False)\n",
    "    plt.show()"
   ]
  },
  {
   "cell_type": "code",
   "execution_count": 8,
   "metadata": {},
   "outputs": [
    {
     "data": {
      "text/plain": [
       "array([5, 0, 4, ..., 5, 6, 8], dtype=uint8)"
      ]
     },
     "execution_count": 8,
     "metadata": {},
     "output_type": "execute_result"
    }
   ],
   "source": [
    "y_train"
   ]
  },
  {
   "cell_type": "code",
   "execution_count": 9,
   "metadata": {},
   "outputs": [
    {
     "name": "stdout",
     "output_type": "stream",
     "text": [
      "WARNING:tensorflow:From /home/arturo/anaconda3/lib/python3.7/site-packages/tensorflow/python/ops/resource_variable_ops.py:435: colocate_with (from tensorflow.python.framework.ops) is deprecated and will be removed in a future version.\n",
      "Instructions for updating:\n",
      "Colocations handled automatically by placer.\n",
      "Epoch 1/5\n",
      "60000/60000 [==============================] - 3s 50us/sample - loss: 0.4703 - acc: 0.8779\n",
      "Epoch 2/5\n",
      "60000/60000 [==============================] - 1s 25us/sample - loss: 0.3040 - acc: 0.9153\n",
      "Epoch 3/5\n",
      "60000/60000 [==============================] - 1s 24us/sample - loss: 0.2832 - acc: 0.9209\n",
      "Epoch 4/5\n",
      "60000/60000 [==============================] - 1s 24us/sample - loss: 0.2733 - acc: 0.9238\n",
      "Epoch 5/5\n",
      "60000/60000 [==============================] - 1s 24us/sample - loss: 0.2658 - acc: 0.9259\n",
      "10000/10000 [==============================] - 0s 16us/sample - loss: 0.2672 - acc: 0.9251\n"
     ]
    },
    {
     "data": {
      "text/plain": [
       "[0.26716283404529095, 0.9251]"
      ]
     },
     "execution_count": 9,
     "metadata": {},
     "output_type": "execute_result"
    }
   ],
   "source": [
    "tf.reset_default_graph()\n",
    "(x_train, y_train),(x_test, y_test) = mnist_keras.load_data()\n",
    "x_train, x_test = x_train / 255.0, x_test / 255.0 #normalizamos los datos\n",
    "\n",
    "model = tf.keras.models.Sequential([\n",
    "  tf.keras.layers.Flatten(input_shape=(28, 28)),\n",
    "  #tf.keras.layers.Dense(512, activation=tf.nn.relu),\n",
    "  #tf.keras.layers.Dropout(0.2),\n",
    "  tf.keras.layers.Dense(10, activation=tf.nn.softmax)\n",
    "])\n",
    "model.compile(optimizer='adam',\n",
    "              loss='sparse_categorical_crossentropy',\n",
    "              metrics=['accuracy'])\n",
    "\n",
    "model.fit(x_train, y_train, epochs=5)\n",
    "model.evaluate(x_test, y_test)"
   ]
  },
  {
   "cell_type": "markdown",
   "metadata": {},
   "source": [
    "# Referencias"
   ]
  },
  {
   "cell_type": "markdown",
   "metadata": {},
   "source": [
    "- [Python Programming Language: Tensorflow Datatypes](https://pythonprogramminglanguage.com/tensorflow-datatypes/)\n",
    "- [Tensorflow Documentation: Introduction to Low-Level APIs](https://www.tensorflow.org/guide/low_level_intro)\n",
    "- [Tensorflow Documentation: Graphs and Sessions](https://www.tensorflow.org/guide/graphs)\n",
    "- [Distributed Tensorflow](https://github.com/tensorflow/examples/blob/master/community/en/docs/deploy/distributed.md)\n",
    "- [Towards Data Science: Demystifying Cross-Entropy](https://towardsdatascience.com/demystifying-cross-entropy-e80e3ad54a8)\n",
    "- [Martin Gorner: Tensorflow Without a PHD](https://codelabs.developers.google.com/codelabs/cloud-tensorflow-mnist/#0)\n",
    "- [Adam W. Harley: An Interactive Node-Link Visualization of Convolutional Neural Networks](http://scs.ryerson.ca/~aharley/vis/)"
   ]
  },
  {
   "cell_type": "code",
   "execution_count": null,
   "metadata": {},
   "outputs": [],
   "source": []
  }
 ],
 "metadata": {
  "kernelspec": {
   "display_name": "Python 3",
   "language": "python",
   "name": "python3"
  },
  "language_info": {
   "codemirror_mode": {
    "name": "ipython",
    "version": 3
   },
   "file_extension": ".py",
   "mimetype": "text/x-python",
   "name": "python",
   "nbconvert_exporter": "python",
   "pygments_lexer": "ipython3",
   "version": "3.7.2"
  }
 },
 "nbformat": 4,
 "nbformat_minor": 2
}
