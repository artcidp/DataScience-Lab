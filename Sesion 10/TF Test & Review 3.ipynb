{
 "cells": [
  {
   "cell_type": "markdown",
   "metadata": {},
   "source": [
    "## Tensorboard Visualization"
   ]
  },
  {
   "cell_type": "code",
   "execution_count": 1,
   "metadata": {
    "collapsed": true
   },
   "outputs": [],
   "source": [
    "#%reset #clear namespace in dictionary\n",
    "import tensorflow as tf\n",
    "import numpy as np\n",
    "import matplotlib.pyplot as plt\n",
    "\n",
    "%matplotlib inline"
   ]
  },
  {
   "cell_type": "code",
   "execution_count": 4,
   "metadata": {},
   "outputs": [
    {
     "name": "stdout",
     "output_type": "stream",
     "text": [
      "Successfully downloaded train-images-idx3-ubyte.gz 9912422 bytes.\n",
      "Extracting /tmp/data/train-images-idx3-ubyte.gz\n",
      "Successfully downloaded train-labels-idx1-ubyte.gz 28881 bytes.\n",
      "Extracting /tmp/data/train-labels-idx1-ubyte.gz\n",
      "Successfully downloaded t10k-images-idx3-ubyte.gz 1648877 bytes.\n",
      "Extracting /tmp/data/t10k-images-idx3-ubyte.gz\n",
      "Successfully downloaded t10k-labels-idx1-ubyte.gz 4542 bytes.\n",
      "Extracting /tmp/data/t10k-labels-idx1-ubyte.gz\n"
     ]
    }
   ],
   "source": [
    "from tensorflow.examples.tutorials.mnist import input_data\n",
    "mnist = input_data.read_data_sets(\"/tmp/data/\", one_hot = True)"
   ]
  },
  {
   "cell_type": "code",
   "execution_count": 3,
   "metadata": {
    "scrolled": true
   },
   "outputs": [
    {
     "name": "stdout",
     "output_type": "stream",
     "text": [
      "Finished Epoch 1\n",
      "Finished Epoch 2\n",
      "Finished Epoch 3\n",
      "Finished Epoch 4\n",
      "Finished Epoch 5\n",
      "Finished Epoch 6\n",
      "Finished Epoch 7\n",
      "Finished Epoch 8\n",
      "Finished Epoch 9\n",
      "Finished Epoch 10\n",
      "Finished Epoch 11\n",
      "Finished Epoch 12\n",
      "Finished Epoch 13\n",
      "Finished Epoch 14\n",
      "Finished Epoch 15\n",
      "Finished Epoch 16\n",
      "Finished Epoch 17\n",
      "Finished Epoch 18\n",
      "Finished Epoch 19\n",
      "Finished Epoch 20\n"
     ]
    }
   ],
   "source": [
    "from tensorflow.python.framework import ops\n",
    "ops.reset_default_graph() #resets the graph and removes previous runs\n",
    "\n",
    "\n",
    "with tf.name_scope(\"inputs\"):\n",
    "    X = tf.placeholder(tf.float32, [None, 784],name='x_data') #example vectors are horizontal here so we'll transpose it on multiplication\n",
    "    Ydata = tf.placeholder(tf.float32, [None, 10],name='y_data') #validation label vectors are also horizontal \n",
    "with tf.name_scope(\"fitting_variables\"):\n",
    "    with tf.name_scope(\"weights\"):\n",
    "        W = tf.Variable(tf.ones([10,784]),name='w')\n",
    "        tf.summary.histogram(\"wieghts\",W)\n",
    "    with tf.name_scope(\"bias\"):\n",
    "        b = tf.Variable(tf.ones([10]),name='b')\n",
    "        tf.summary.histogram(\"biases\",b)\n",
    "prod=tf.matmul(W,X,transpose_b=True)\n",
    "sumation=tf.transpose(tf.transpose(prod) + b) #add b vertically (column by column) to the matrix\n",
    "\n",
    "with tf.name_scope(\"outputs\"):\n",
    "    with tf.name_scope(\"model_output\"):\n",
    "        Ymod = tf.nn.softmax(tf.transpose(sumation),name=\"y_mod\") #example label vectors are horizontal now,softmax normalization is applied this way\n",
    "    with tf.name_scope(\"cross_entropy\"):\n",
    "        cross_entropy = tf.reduce_mean(-tf.reduce_sum(Ydata * tf.log(Ymod), reduction_indices=[1])) \n",
    "        tf.summary.scalar(\"cross_entropy\",cross_entropy)\n",
    "    train_step = tf.train.GradientDescentOptimizer(0.5).minimize(cross_entropy)\n",
    "    correct_prediction = tf.equal(tf.argmax(Ymod,1), tf.argmax(Ydata,1)) #compares horizontally,i.e. component of each vector\n",
    "    with tf.name_scope(\"accuracy\"):\n",
    "        accuracy = tf.reduce_mean(tf.cast(correct_prediction, tf.float32)) #percentage of correct predictions\n",
    "        tf.summary.scalar(\"accuracy\",accuracy)\n",
    "\n",
    "batch_size=100\n",
    "no_of_epochs=20\n",
    "\n",
    "#config = tf.ConfigProto()\n",
    "#config.gpu_options.allow_growth = True\n",
    "#session = tf.Session(config=config, ...)\n",
    "\n",
    "with tf.Session() as sess2:\n",
    "    \n",
    "    summaries_dir=\"test_logs/\"\n",
    "    #writer = tf.summary.FileWriter(summaries_dir,sess2.graph)\n",
    "    train_writer = tf.summary.FileWriter(summaries_dir + '/train',sess2.graph)\n",
    "    valid_writer = tf.summary.FileWriter(summaries_dir + '/valid')\n",
    "    test_writer = tf.summary.FileWriter(summaries_dir + '/test')\n",
    "\n",
    "    merged=tf.summary.merge_all()\n",
    "    #test_writer = tf.summary.FileWriter(summaries_dir)\n",
    "    \n",
    "    tf.global_variables_initializer().run()\n",
    "    #initial calculation of accuracy, loss,etc.\n",
    "    summary,loss=sess2.run([merged,cross_entropy],feed_dict={X: mnist.train.images,Ydata: mnist.train.labels})\n",
    "    train_writer.add_summary(summary, 0)\n",
    "    #print(\"Epoch:=\",0,\"; \\t Epoch Loss:=\",loss)\n",
    "    summary,t_acc=sess2.run([merged,accuracy], feed_dict={X: mnist.train.images, Ydata: mnist.train.labels})#calculates accuracy across all data\n",
    "    train_writer.add_summary(summary, 0)\n",
    "    #print(\"Training Accuracy is\", t_acc*100,\"%\")\n",
    "    summary,v_acc=sess2.run([merged,accuracy], feed_dict={X: mnist.validation.images,Ydata:mnist.validation.labels})\n",
    "    valid_writer.add_summary(summary,0)\n",
    "    #print(\"Validation Accuracy is\", v_acc*100,\"%\")\n",
    "    summary,f_acc=sess2.run([merged,accuracy], feed_dict={X: mnist.test.images,Ydata:mnist.test.labels})\n",
    "    test_writer.add_summary(summary,0)\n",
    "    #print(\"Test Accuracy is\", f_acc*100,\"%\")\n",
    "    sum_data=np.array([0,loss,t_acc,v_acc,f_acc])\n",
    "    \n",
    "    for epoch in range(no_of_epochs):\n",
    "        epoch_loss=0\n",
    "        for i in range(int(mnist.train.num_examples/batch_size)): \n",
    "            batch_xs, batch_ys = mnist.train.next_batch(batch_size) #selects a random batch from the dataset for given size\n",
    "            train,loss=sess2.run([train_step,cross_entropy], feed_dict={X: batch_xs, Ydata: batch_ys})\n",
    "            #this calculates gradient on the batch and performs one step with in the direction (all variables are used)\n",
    "            epoch_loss+=loss #calculates loss for each batch and adds it up to calculate entire training data loss\n",
    "        #print(\"Epoch:=\",epoch+1,\"; \\t Epoch Loss:=\",epoch_loss)\n",
    "        summary,t_acc=sess2.run([merged,accuracy], feed_dict={X: mnist.train.images, Ydata: mnist.train.labels})#calculates accuracy across all data\n",
    "        train_writer.add_summary(summary, epoch+1)\n",
    "        #print(\"Training Accuracy is\", t_acc*100,\"%\")\n",
    "        summary,v_acc=sess2.run([merged,accuracy], feed_dict={X: mnist.validation.images,Ydata:mnist.validation.labels})\n",
    "        valid_writer.add_summary(summary, epoch+1)\n",
    "        #print(\"Validation Accuracy is\", v_acc*100,\"%\")\n",
    "        summary,f_acc=sess2.run([merged,accuracy], feed_dict={X: mnist.test.images,Ydata:mnist.test.labels})\n",
    "        test_writer.add_summary(summary, epoch+1)\n",
    "        #print(\"Test Accuracy is\", f_acc*100,\"%\")\n",
    "        \n",
    "        sum_data=np.vstack((sum_data,np.array([epoch+1,epoch_loss,t_acc,v_acc,f_acc])))\n",
    "        print(\"Finished Epoch\",epoch+1)"
   ]
  },
  {
   "cell_type": "code",
   "execution_count": 4,
   "metadata": {},
   "outputs": [
    {
     "data": {
      "image/png": "[encoded data removed]",
      "text/plain": [
       "<matplotlib.figure.Figure at 0x7f72ea2a3828>"
      ]
     },
     "metadata": {},
     "output_type": "display_data"
    }
   ],
   "source": [
    "#plt.plot(sum_data[:,0],sum_data[:,1],label=\"epoch_loss\")\n",
    "plt.ylim(0.9,0.94)\n",
    "plt.plot(sum_data[:,0],sum_data[:,2],label=\"train_acc\",ls=':')\n",
    "plt.plot(sum_data[:,0],sum_data[:,3],label=\"val_acc\",ls=':')\n",
    "plt.plot(sum_data[:,0],sum_data[:,4],label=\"test_acc\",ls=':')\n",
    "plt.legend()\n",
    "plt.show()\n",
    "#test and validationa accuracy get stuck over time(overfitting) \n",
    "#the optimal no of epoch seems to be around 10-15 epochs"
   ]
  },
  {
   "cell_type": "markdown",
   "metadata": {},
   "source": [
    "##  Saving and Restoring Data"
   ]
  },
  {
   "cell_type": "code",
   "execution_count": 5,
   "metadata": {},
   "outputs": [
    {
     "name": "stdout",
     "output_type": "stream",
     "text": [
      "Save to test/my_nn_savefile.ckpt\n"
     ]
    }
   ],
   "source": [
    "#saving\n",
    "W = tf.Variable([[1,2,3],[1,2,3]],dtype=tf.float32,name='s_weights')\n",
    "b = tf.Variable([[1,2,3]],dtype=tf.float32,name='s_biases')\n",
    "\n",
    "init=tf.global_variables_initializer()\n",
    "saver= tf.train.Saver()\n",
    "with tf.Session() as sess:\n",
    "    sess.run(init)\n",
    "    save_path=saver.save(sess,\"test/my_nn_savefile.ckpt\")\n",
    "    print(\"Save to\",save_path)\n",
    "    \n",
    "tf.reset_default_graph()"
   ]
  },
  {
   "cell_type": "code",
   "execution_count": 6,
   "metadata": {},
   "outputs": [
    {
     "name": "stdout",
     "output_type": "stream",
     "text": [
      "INFO:tensorflow:Restoring parameters from test/my_nn_savefile.ckpt\n",
      "weights: [[ 1.  2.  3.]\n",
      " [ 1.  2.  3.]]\n",
      "biases: [[ 1.  2.  3.]]\n"
     ]
    }
   ],
   "source": [
    "#restoring\n",
    "W=tf.Variable(tf.zeros([2,3]),dtype=tf.float32,name='s_weights')\n",
    "b=tf.Variable(tf.zeros([1,3]),dtype=tf.float32,name='s_biases')\n",
    "\n",
    "saver=tf.train.Saver()\n",
    "# Add ops to save and restore only `b` using the name \"b\"\n",
    "#saver = tf.train.Saver({\"b\": b})\n",
    "#we'll have to initialize W since saver does not do that\n",
    "\n",
    "with tf.Session() as sess:\n",
    "    saver.restore(sess,\"test/my_nn_savefile.ckpt\")\n",
    "    print(\"weights:\",sess.run(W))\n",
    "    print(\"biases:\",sess.run(b))"
   ]
  },
  {
   "cell_type": "markdown",
   "metadata": {},
   "source": [
    "## Convolutional NN (MNIST Example)"
   ]
  },
  {
   "cell_type": "code",
   "execution_count": 2,
   "metadata": {
    "collapsed": true
   },
   "outputs": [],
   "source": [
    "? tf.train.GradientDescentOptimizer()"
   ]
  },
  {
   "cell_type": "code",
   "execution_count": 25,
   "metadata": {
    "scrolled": false
   },
   "outputs": [
    {
     "name": "stdout",
     "output_type": "stream",
     "text": [
      "(1024, 10) (10,)\n",
      "Finished Epoch 1 Epoch Loss 0.804696804434 Training Acc 88.4727270251 %\n",
      "Finished Epoch 2 Epoch Loss 0.184520744925 Training Acc 96.5999986584 %\n",
      "Finished Epoch 3 Epoch Loss 0.124514150298 Training Acc 97.7290886099 %\n",
      "Finished Epoch 4 Epoch Loss 0.0956081193245 Training Acc 98.259996956 %\n",
      "Finished Epoch 5 Epoch Loss 0.0773399806361 Training Acc 98.6036334471 %\n",
      "Finished Epoch 6 Epoch Loss 0.0669673652998 Training Acc 98.8436331857 %\n",
      "Finished Epoch 7 Epoch Loss 0.0541498259201 Training Acc 99.1018147252 %\n",
      "Finished Epoch 8 Epoch Loss 0.0477632540583 Training Acc 99.2163601789 %\n",
      "Finished Epoch 9 Epoch Loss 0.0420922714218 Training Acc 99.3472688632 %\n",
      "Finished Epoch 10 Epoch Loss 0.0372314641013 Training Acc 99.4545416507 %\n",
      "Finished Epoch 11 Epoch Loss 0.0309862921398 Training Acc 99.5854508335 %\n",
      "Finished Epoch 12 Epoch Loss 0.0282241699364 Training Acc 99.6072687669 %\n",
      "Finished Epoch 13 Epoch Loss 0.0237030145975 Training Acc 99.6890870658 %\n",
      "Finished Epoch 14 Epoch Loss 0.0234867098591 Training Acc 99.7309050018 %\n",
      "Finished Epoch 15 Epoch Loss 0.0196165381074 Training Acc 99.7909048145 %\n",
      "Finished Epoch 16 Epoch Loss 0.0184776201631 Training Acc 99.8127231706 %\n",
      "Finished Epoch 17 Epoch Loss 0.0161569353206 Training Acc 99.8545412475 %\n",
      "Finished Epoch 18 Epoch Loss 0.0144353243903 Training Acc 99.870904825 %\n",
      "Finished Epoch 19 Epoch Loss 0.0132458005649 Training Acc 99.9054504416 %\n",
      "Finished Epoch 20 Epoch Loss 0.0115460523779 Training Acc 99.9054503874 %\n",
      "Finished Training\n",
      "Test Accuracy 99.1299963593 %\n"
     ]
    }
   ],
   "source": [
    "from tensorflow.python.framework import ops\n",
    "ops.reset_default_graph() #resets the graph and removes previous runs\n",
    "\n",
    "\n",
    "def compute_accuracy(v_xs, v_ys):\n",
    "    global Ymod\n",
    "    y_pre = sess.run(Ymod, feed_dict={xs: v_xs, keep_prob: 1})\n",
    "    correct_prediction = tf.equal(tf.argmax(y_pre,1), tf.argmax(v_ys,1))\n",
    "    accuracy = tf.reduce_mean(tf.cast(correct_prediction, tf.float32))\n",
    "    result = sess.run(accuracy, feed_dict={xs: v_xs, ys: v_ys, keep_prob: 1})\n",
    "    return result\n",
    "\n",
    "def weight_variable(shape):\n",
    "    initial = tf.truncated_normal(shape, stddev=0.1)\n",
    "    return tf.Variable(initial)\n",
    "\n",
    "def bias_variable(shape):\n",
    "    initial = tf.constant(0.1, shape=shape)\n",
    "    return tf.Variable(initial)\n",
    "\n",
    "def conv2d(x, W):\n",
    "    # stride [1, x_movement, y_movement, 1]\n",
    "    # Must have strides[0] = strides[3] = 1\n",
    "    return tf.nn.conv2d(x, W, strides=[1, 1, 1, 1], padding='SAME')\n",
    "\n",
    "def max_pool_2x2(x):\n",
    "    # stride [1, x_movement, y_movement, 1]\n",
    "    return tf.nn.max_pool(x, ksize=[1,2,2,1], strides=[1,2,2,1], padding='SAME')\n",
    "\n",
    "# define placeholder for inputs to network\n",
    "X = tf.placeholder(tf.float32, [None, 784])/255.   # 28x28\n",
    "Ydata = tf.placeholder(tf.float32, [None, 10])\n",
    "keep_prob = tf.placeholder(tf.float32)\n",
    "x_image = tf.reshape(X, [-1, 28, 28, 1])\n",
    "#print(x_image.shape)  # [n_samples, 28,28,1]\n",
    "#print(X.shape)\n",
    "\n",
    "## conv1 layer ##\n",
    "W_conv1 = weight_variable([5,5, 1,32]) # patch 5x5, in size 1, out size 32\n",
    "b_conv1 = bias_variable([32])\n",
    "h_conv1 = tf.nn.relu(conv2d(x_image, W_conv1) + b_conv1) # output size 28x28x32\n",
    "h_pool1 = max_pool_2x2(h_conv1)                                         # output size 14x14x32\n",
    "\n",
    "## conv2 layer ##\n",
    "W_conv2 = weight_variable([5,5, 32, 64]) # patch 5x5, in size 32, out size 64\n",
    "b_conv2 = bias_variable([64])\n",
    "h_conv2 = tf.nn.relu(conv2d(h_pool1, W_conv2) + b_conv2) # output size 14x14x64\n",
    "h_pool2 = max_pool_2x2(h_conv2)                                         # output size 7x7x64\n",
    "\n",
    "## fc1 layer ##\n",
    "W_fc1 = weight_variable([7*7*64, 1024])\n",
    "b_fc1 = bias_variable([1024])\n",
    "# [n_samples, 7, 7, 64] ->> [n_samples, 7*7*64]\n",
    "h_pool2_flat = tf.reshape(h_pool2, [-1, 7*7*64])\n",
    "h_fc1 = tf.nn.relu(tf.matmul(h_pool2_flat, W_fc1) + b_fc1)\n",
    "h_fc1_drop = tf.nn.dropout(h_fc1, keep_prob)\n",
    "\n",
    "## fc2 layer ##\n",
    "W_fc2 = weight_variable([1024, 10])\n",
    "b_fc2 = bias_variable([10])\n",
    "Ymod = tf.nn.softmax(tf.matmul(h_fc1_drop, W_fc2) + b_fc2)\n",
    "print(W_fc2.shape,b_fc2.shape)\n",
    "\n",
    "# the error between prediction and real data\n",
    "cross_entropy = tf.reduce_mean(-tf.reduce_sum(Ydata * tf.log(Ymod),reduction_indices=[1]))  \n",
    "train_step = tf.train.AdamOptimizer(1e-4).minimize(cross_entropy)\n",
    "\n",
    "correct_prediction = tf.equal(tf.argmax(Ymod,1), tf.argmax(Ydata,1)) #compares horizontally,i.e. component of each vector\n",
    "accuracy = tf.reduce_mean(tf.cast(correct_prediction, tf.float32)) #percentage of correct predictions\n",
    "\n",
    "batch_size=100\n",
    "no_of_epochs=20\n",
    "keep_probability=0.5\n",
    "\n",
    "with tf.Session() as sess:\n",
    "    tf.global_variables_initializer().run()\n",
    "\n",
    "    #for i in range(200):\n",
    "       # batch_xs, batch_ys = mnist.train.next_batch(100)\n",
    "       # sess.run(train_step, feed_dict={X: batch_xs, Ydata: batch_ys, keep_prob: keep_probability})\n",
    "       # if i % 50 == 0:\n",
    "       #     print(compute_accuracy(mnist.test.images[:1000], mnist.test.labels[:1000]))\n",
    "    \n",
    "    #initial calculation of accuracy, loss,etc.\n",
    "    #loss=sess.run(cross_entropy,feed_dict={X: mnist.train.images,Ydata: mnist.train.labels, keep_prob: keep_probability})\n",
    "    #t_acc=sess.run(accuracy, feed_dict={X: mnist.train.images, Ydata: mnist.train.labels, keep_prob: keep_probability})\n",
    "    #v_acc=sess.run(accuracy, feed_dict={X: mnist.validation.images,Ydata:mnist.validation.labels, keep_prob: keep_probability})\n",
    "    #f_acc=sess.run(accuracy, feed_dict={X: mnist.test.images,Ydata:mnist.test.labels, keep_prob: keep_probability})\n",
    "    #sum_data=np.array([0,loss,t_acc,v_acc,f_acc])\n",
    "    \n",
    "    for epoch in range(no_of_epochs):\n",
    "        epoch_loss=0.0\n",
    "        t_acc=0.0\n",
    "        for i in range(int(mnist.train.num_examples/batch_size)): \n",
    "            batch_xs, batch_ys = mnist.train.next_batch(batch_size) #selects a random batch from the dataset for given size\n",
    "            train,loss=sess.run([train_step,cross_entropy], feed_dict={X: batch_xs, Ydata: batch_ys, keep_prob: keep_probability})\n",
    "            acc=sess.run(accuracy, feed_dict={X: batch_xs, Ydata: batch_ys, keep_prob: 1.0})\n",
    "            epoch_loss+=(loss*batch_size)\n",
    "            t_acc+=(acc*batch_size)\n",
    "            \n",
    "        epoch_loss=epoch_loss/mnist.train.num_examples\n",
    "        t_acc=t_acc/mnist.train.num_examples\n",
    "        #t_acc=sess.run(accuracy, feed_dict={X: mnist.train.images, Ydata: mnist.train.labels, keep_prob: keep_probability})\n",
    "        #print(\"Training Accuracy is\", t_acc*100,\"%\")\n",
    "        #v_acc=sess.run(accuracy, feed_dict={X: mnist.validation.images,Ydata:mnist.validation.labels, keep_prob: keep_probability})\n",
    "        #print(\"Validation Accuracy is\", v_acc*100,\"%\")\n",
    "        #f_acc=sess.run(accuracy, feed_dict={X: mnist.test.images,Ydata:mnist.test.labels, keep_prob: keep_probability})\n",
    "        #print(\"Test Accuracy is\", f_acc*100,\"%\")\n",
    "        \n",
    "        #sum_data=np.vstack((sum_data,np.array([epoch+1,epoch_loss,t_acc,v_acc,f_acc])))\n",
    "        print(\"Finished Epoch\",epoch+1,\"Epoch Loss\",epoch_loss,\"Training Acc\",t_acc*100,\"%\") #,\"Acc=\",t_acc,v_acc,f_acc)\n",
    "    print(\"Finished Training\")\n",
    "    test_acc=0.0\n",
    "    for i in range(int(mnist.test.num_examples/batch_size)): \n",
    "        batch_xs, batch_ys = mnist.test.next_batch(batch_size) #selects a random batch from the dataset for given size\n",
    "        acc=sess.run(accuracy,feed_dict={X: batch_xs, Ydata: batch_ys, keep_prob: 1.0})\n",
    "        test_acc+=(acc*batch_size)\n",
    "    test_acc=test_acc/mnist.test.num_examples\n",
    "    print(\"Test Accuracy\",test_acc*100,\"%\")"
   ]
  },
  {
   "cell_type": "code",
   "execution_count": null,
   "metadata": {
    "collapsed": true
   },
   "outputs": [],
   "source": []
  }
 ],
 "metadata": {
  "kernelspec": {
   "display_name": "Python 3",
   "language": "python",
   "name": "python3"
  },
  "language_info": {
   "codemirror_mode": {
    "name": "ipython",
    "version": 3
   },
   "file_extension": ".py",
   "mimetype": "text/x-python",
   "name": "python",
   "nbconvert_exporter": "python",
   "pygments_lexer": "ipython3",
   "version": "3.7.2"
  }
 },
 "nbformat": 4,
 "nbformat_minor": 2
}
