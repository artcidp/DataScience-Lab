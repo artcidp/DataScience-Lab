{
 "cells": [
  {
   "cell_type": "markdown",
   "metadata": {},
   "source": [
    "Retomando el ejemplo de la clase pasada, construimos una red neuronal de una sola capa utilizando la base de datos de MNIST. Los creadores originales tienen una página en la que comparan los distintos métodos existentes y sus respectivos errores. [[link]](http://yann.lecun.com/exdb/mnist/)\n",
    "\n",
    "En esta sesión retomaremos esta base de datos y trabajaremos con distintos algoritmos para la clasificación. Empezaremos con 2 algoritmos ajenos a la familia de redes neuronales: SVMs y KNN."
   ]
  },
  {
   "cell_type": "markdown",
   "metadata": {},
   "source": [
    "# KNN"
   ]
  },
  {
   "cell_type": "markdown",
   "metadata": {},
   "source": [
    "El algoritmo de K-Nearest Neighbors (KNN) consiste en:\n",
    "\n",
    "1. Ingresar los datos de entrenamiento `X_train`, con sus etiquetas correspondientes) `y_train`.\n",
    "2. Dado un valor de k (los k vecinos más cercanos) y un punto en el conjunto de entrenamiento `x_0`, la etiqueta `y_0` que asigna el algoritmo es la más común entre los k vecinos más cercanos. \n",
    "\n",
    "**Nota:** Existen varias formas para romper los \"empates\" como seleccionar un valor al azar entre los candidatos, o ponderar los votos según la distancia de los k vecinos más cercanos. Sci-kit learn utiliza el órden de los datos de entrenamiento para romper empates cuando no se ponderan los candidatos por la distancia."
   ]
  },
  {
   "cell_type": "markdown",
   "metadata": {},
   "source": [
    "<img src=\"https://cdn-images-1.medium.com/max/800/0*Sk18h9op6uK9EpT8.\">"
   ]
  },
  {
   "cell_type": "code",
   "execution_count": 1,
   "metadata": {},
   "outputs": [],
   "source": [
    "from sklearn import datasets\n",
    "import numpy as np\n",
    "skl_mnist=datasets.load_digits()"
   ]
  },
  {
   "cell_type": "code",
   "execution_count": 2,
   "metadata": {},
   "outputs": [],
   "source": [
    "from sklearn.model_selection import train_test_split\n",
    "\n",
    "#separamos el conjunto de prueba con 25% de los datos\n",
    "\n",
    "(restData, testData, restLabels, testLabels) = train_test_split(np.array(skl_mnist.data),\n",
    "skl_mnist.target, test_size=0.25, random_state=42)\n",
    "\n",
    "# del conjunto restante, usaremos 10% para validación\n",
    "\n",
    "(trainData, valData, trainLabels, valLabels) = train_test_split(restData, restLabels,\n",
    "test_size=0.1, random_state=84)"
   ]
  },
  {
   "cell_type": "code",
   "execution_count": 3,
   "metadata": {},
   "outputs": [
    {
     "data": {
      "text/plain": [
       "((1212, 64), (135, 64), (450, 64))"
      ]
     },
     "execution_count": 3,
     "metadata": {},
     "output_type": "execute_result"
    }
   ],
   "source": [
    "trainData.shape, valData.shape, testData.shape"
   ]
  },
  {
   "cell_type": "code",
   "execution_count": 4,
   "metadata": {},
   "outputs": [
    {
     "data": {
      "text/plain": [
       "array([ 0.,  0.,  6., 16., 16., 11.,  0.,  0.,  0.,  1., 16.,  8.,  8.,\n",
       "       16.,  6.,  0.,  0.,  0.,  8., 16., 14., 16., 11.,  0.,  0.,  0.,\n",
       "        1.,  4.,  3., 10.,  8.,  0.,  0.,  0.,  0.,  0.,  0.,  9.,  7.,\n",
       "        0.,  0.,  0.,  0.,  0.,  1., 14.,  1.,  0.,  0.,  0.,  4.,  7.,\n",
       "       11.,  9.,  0.,  0.,  0.,  0.,  9., 16., 10.,  1.,  0.,  0.])"
      ]
     },
     "execution_count": 4,
     "metadata": {},
     "output_type": "execute_result"
    }
   ],
   "source": [
    "trainData[0] #matrices de 8x8 aplanadas en vectores de 64 entradas"
   ]
  },
  {
   "cell_type": "code",
   "execution_count": 6,
   "metadata": {},
   "outputs": [
    {
     "name": "stdout",
     "output_type": "stream",
     "text": [
      "9\n"
     ]
    },
    {
     "data": {
      "image/png": "[encoded data removed]",
      "text/plain": [
       "<Figure size 432x288 with 2 Axes>"
      ]
     },
     "metadata": {
      "needs_background": "light"
     },
     "output_type": "display_data"
    }
   ],
   "source": [
    "import matplotlib.pyplot as plt\n",
    "%matplotlib inline\n",
    "\n",
    "print(trainLabels[0])\n",
    "plt.imshow(trainData[0].reshape((8,8)), cmap='gray', vmin=0, vmax=16)\n",
    "plt.colorbar()\n",
    "plt.grid(False)\n",
    "plt.show()"
   ]
  },
  {
   "cell_type": "markdown",
   "metadata": {},
   "source": [
    "**Nota:** Los algoritmos de scikit learn no están diseñados para implementarse en GPU, por lo que se utiliza una base de datos de menor tamaño para entrenar los algoritmos."
   ]
  },
  {
   "cell_type": "code",
   "execution_count": 7,
   "metadata": {},
   "outputs": [
    {
     "name": "stdout",
     "output_type": "stream",
     "text": [
      "k=1, accuracy=99.259%\n",
      "k=3, accuracy=99.259%\n",
      "k=5, accuracy=99.259%\n",
      "k=7, accuracy=99.259%\n",
      "k=9, accuracy=99.259%\n",
      "k=11, accuracy=99.259%\n",
      "k=13, accuracy=99.259%\n",
      "k=15, accuracy=99.259%\n",
      "k=17, accuracy=98.519%\n",
      "k=19, accuracy=98.519%\n",
      "k=21, accuracy=97.778%\n",
      "k=23, accuracy=97.037%\n",
      "k=25, accuracy=97.778%\n",
      "k=27, accuracy=97.037%\n",
      "k=29, accuracy=97.037%\n",
      "k=1 achieved highest accuracy of 99.259% on validation data\n"
     ]
    }
   ],
   "source": [
    "from sklearn.neighbors import KNeighborsClassifier\n",
    "\n",
    "kVals = range(1, 30, 2)\n",
    "accuracies = []\n",
    "\n",
    "# iterar sobre los valores del híper-parámetro k pasos de 2\n",
    "\n",
    "for k in range(1, 30, 2):\n",
    "    \n",
    "    model = KNeighborsClassifier(n_neighbors=k) #entrenamiento\n",
    "    model.fit(trainData, trainLabels)\n",
    "    \n",
    "    score = model.score(valData, valLabels) #validación\n",
    "    print(\"k=%d, accuracy=%.3f%%\" % (k, score * 100))\n",
    "    accuracies.append(score)\n",
    "          \n",
    "# encontrar el valor de k con mayor precisión\n",
    "\n",
    "i = np.argmax(accuracies)\n",
    "print(\"k=%d achieved highest accuracy of %.3f%% on validation data\" % (kVals[i],accuracies[i] * 100))"
   ]
  },
  {
   "cell_type": "code",
   "execution_count": 8,
   "metadata": {},
   "outputs": [
    {
     "name": "stdout",
     "output_type": "stream",
     "text": [
      "Métricas con Datos de Prueba\n",
      "              precision    recall  f1-score   support\n",
      "\n",
      "           0       1.00      1.00      1.00        43\n",
      "           1       0.95      1.00      0.97        37\n",
      "           2       1.00      1.00      1.00        38\n",
      "           3       0.98      0.98      0.98        46\n",
      "           4       0.98      0.98      0.98        55\n",
      "           5       0.98      1.00      0.99        59\n",
      "           6       1.00      1.00      1.00        45\n",
      "           7       1.00      0.98      0.99        41\n",
      "           8       0.97      0.95      0.96        38\n",
      "           9       0.96      0.94      0.95        48\n",
      "\n",
      "   micro avg       0.98      0.98      0.98       450\n",
      "   macro avg       0.98      0.98      0.98       450\n",
      "weighted avg       0.98      0.98      0.98       450\n",
      "\n",
      "Matriz de Confusión\n",
      "[[43  0  0  0  0  0  0  0  0  0]\n",
      " [ 0 37  0  0  0  0  0  0  0  0]\n",
      " [ 0  0 38  0  0  0  0  0  0  0]\n",
      " [ 0  0  0 45  0  0  0  0  1  0]\n",
      " [ 0  1  0  0 54  0  0  0  0  0]\n",
      " [ 0  0  0  0  0 59  0  0  0  0]\n",
      " [ 0  0  0  0  0  0 45  0  0  0]\n",
      " [ 0  0  0  0  0  0  0 40  0  1]\n",
      " [ 0  1  0  0  0  0  0  0 36  1]\n",
      " [ 0  0  0  1  1  1  0  0  0 45]]\n"
     ]
    }
   ],
   "source": [
    "from sklearn.metrics import classification_report\n",
    "from sklearn.metrics import confusion_matrix\n",
    "\n",
    "#re-entrenar el modelo con el valor óptimo de k hallado con los datos de validación\n",
    "model = KNeighborsClassifier(n_neighbors=kVals[i])\n",
    "model.fit(trainData, trainLabels)\n",
    "predictions = model.predict(testData)\n",
    "\n",
    "print(\"Métricas con Datos de Prueba\")\n",
    "print(classification_report(testLabels, predictions))\n",
    "\n",
    "print (\"Matriz de Confusión\")\n",
    "print(confusion_matrix(testLabels,predictions))\n"
   ]
  },
  {
   "cell_type": "markdown",
   "metadata": {},
   "source": [
    "# SVMs"
   ]
  },
  {
   "cell_type": "code",
   "execution_count": 9,
   "metadata": {},
   "outputs": [
    {
     "data": {
      "text/plain": [
       "[0.001, 0.1, 100, 1000000.0]"
      ]
     },
     "execution_count": 9,
     "metadata": {},
     "output_type": "execute_result"
    }
   ],
   "source": [
    "svm_grid = {'C':[0.001, 0.1, 100, 10e5], 'gamma':[10,1,0.1,0.01],'kernel':['rbf','poly','sigmoid']}\n",
    "\n",
    "svm_grid['C']"
   ]
  },
  {
   "cell_type": "code",
   "execution_count": 10,
   "metadata": {},
   "outputs": [
    {
     "name": "stdout",
     "output_type": "stream",
     "text": [
      "C=0,gamma=10,kernel=rbf, accuracy=9.630%\n",
      "C=0,gamma=10,kernel=poly, accuracy=99.259%\n",
      "C=0,gamma=10,kernel=sigmoid, accuracy=9.630%\n",
      "C=0,gamma=1,kernel=rbf, accuracy=9.630%\n",
      "C=0,gamma=1,kernel=poly, accuracy=99.259%\n",
      "C=0,gamma=1,kernel=sigmoid, accuracy=9.630%\n",
      "C=0,gamma=0,kernel=rbf, accuracy=9.630%\n",
      "C=0,gamma=0,kernel=poly, accuracy=99.259%\n",
      "C=0,gamma=0,kernel=sigmoid, accuracy=9.630%\n",
      "C=0,gamma=0,kernel=rbf, accuracy=9.630%\n",
      "C=0,gamma=0,kernel=poly, accuracy=99.259%\n",
      "C=0,gamma=0,kernel=sigmoid, accuracy=9.630%\n",
      "C=0,gamma=10,kernel=rbf, accuracy=9.630%\n",
      "C=0,gamma=10,kernel=poly, accuracy=99.259%\n",
      "C=0,gamma=10,kernel=sigmoid, accuracy=9.630%\n",
      "C=0,gamma=1,kernel=rbf, accuracy=9.630%\n",
      "C=0,gamma=1,kernel=poly, accuracy=99.259%\n",
      "C=0,gamma=1,kernel=sigmoid, accuracy=9.630%\n",
      "C=0,gamma=0,kernel=rbf, accuracy=9.630%\n",
      "C=0,gamma=0,kernel=poly, accuracy=99.259%\n",
      "C=0,gamma=0,kernel=sigmoid, accuracy=9.630%\n",
      "C=0,gamma=0,kernel=rbf, accuracy=9.630%\n",
      "C=0,gamma=0,kernel=poly, accuracy=99.259%\n",
      "C=0,gamma=0,kernel=sigmoid, accuracy=9.630%\n",
      "C=100,gamma=10,kernel=rbf, accuracy=9.630%\n",
      "C=100,gamma=10,kernel=poly, accuracy=99.259%\n",
      "C=100,gamma=10,kernel=sigmoid, accuracy=9.630%\n",
      "C=100,gamma=1,kernel=rbf, accuracy=9.630%\n",
      "C=100,gamma=1,kernel=poly, accuracy=99.259%\n",
      "C=100,gamma=1,kernel=sigmoid, accuracy=9.630%\n",
      "C=100,gamma=0,kernel=rbf, accuracy=9.630%\n",
      "C=100,gamma=0,kernel=poly, accuracy=99.259%\n",
      "C=100,gamma=0,kernel=sigmoid, accuracy=9.630%\n",
      "C=100,gamma=0,kernel=rbf, accuracy=74.074%\n",
      "C=100,gamma=0,kernel=poly, accuracy=99.259%\n",
      "C=100,gamma=0,kernel=sigmoid, accuracy=9.630%\n",
      "C=1000000,gamma=10,kernel=rbf, accuracy=9.630%\n",
      "C=1000000,gamma=10,kernel=poly, accuracy=99.259%\n",
      "C=1000000,gamma=10,kernel=sigmoid, accuracy=9.630%\n",
      "C=1000000,gamma=1,kernel=rbf, accuracy=9.630%\n",
      "C=1000000,gamma=1,kernel=poly, accuracy=99.259%\n",
      "C=1000000,gamma=1,kernel=sigmoid, accuracy=9.630%\n",
      "C=1000000,gamma=0,kernel=rbf, accuracy=9.630%\n",
      "C=1000000,gamma=0,kernel=poly, accuracy=99.259%\n",
      "C=1000000,gamma=0,kernel=sigmoid, accuracy=9.630%\n",
      "C=1000000,gamma=0,kernel=rbf, accuracy=74.074%\n",
      "C=1000000,gamma=0,kernel=poly, accuracy=99.259%\n",
      "C=1000000,gamma=0,kernel=sigmoid, accuracy=9.630%\n"
     ]
    }
   ],
   "source": [
    "from sklearn.svm import SVC\n",
    "\n",
    "svm_grid = {'C':[0.001, 0.1, 100, 10e5], 'gamma':[10,1,0.1,0.01],'kernel':['rbf','poly','sigmoid']}\n",
    "\n",
    "\n",
    "# iterar sobre los valores de los híper-parámetros\n",
    "\n",
    "accuracies = []\n",
    "\n",
    "for c in svm_grid['C']:\n",
    "    for g in svm_grid['gamma']:\n",
    "        for k in svm_grid['kernel']:\n",
    "            \n",
    "            model=SVC(kernel=k,gamma=g,C=c) \n",
    "            model.fit(trainData, trainLabels) #entrenamiento\n",
    "    \n",
    "            score = model.score(valData, valLabels) #validación\n",
    "            print(\"C=%d,gamma=%d,kernel=%s, accuracy=%.3f%%\" % (c,g,k, score * 100))\n",
    "            accuracies.append([c,g,k,score])"
   ]
  },
  {
   "cell_type": "code",
   "execution_count": 11,
   "metadata": {},
   "outputs": [
    {
     "data": {
      "text/html": [
       "<div>\n",
       "<style scoped>\n",
       "    .dataframe tbody tr th:only-of-type {\n",
       "        vertical-align: middle;\n",
       "    }\n",
       "\n",
       "    .dataframe tbody tr th {\n",
       "        vertical-align: top;\n",
       "    }\n",
       "\n",
       "    .dataframe thead th {\n",
       "        text-align: right;\n",
       "    }\n",
       "</style>\n",
       "<table border=\"1\" class=\"dataframe\">\n",
       "  <thead>\n",
       "    <tr style=\"text-align: right;\">\n",
       "      <th></th>\n",
       "      <th>C</th>\n",
       "      <th>Gamma</th>\n",
       "      <th>Kernel</th>\n",
       "      <th>Accuracy</th>\n",
       "    </tr>\n",
       "  </thead>\n",
       "  <tbody>\n",
       "    <tr>\n",
       "      <th>28</th>\n",
       "      <td>100.0</td>\n",
       "      <td>1.00</td>\n",
       "      <td>poly</td>\n",
       "      <td>0.992593</td>\n",
       "    </tr>\n",
       "    <tr>\n",
       "      <th>25</th>\n",
       "      <td>100.0</td>\n",
       "      <td>10.00</td>\n",
       "      <td>poly</td>\n",
       "      <td>0.992593</td>\n",
       "    </tr>\n",
       "    <tr>\n",
       "      <th>22</th>\n",
       "      <td>0.1</td>\n",
       "      <td>0.01</td>\n",
       "      <td>poly</td>\n",
       "      <td>0.992593</td>\n",
       "    </tr>\n",
       "    <tr>\n",
       "      <th>16</th>\n",
       "      <td>0.1</td>\n",
       "      <td>1.00</td>\n",
       "      <td>poly</td>\n",
       "      <td>0.992593</td>\n",
       "    </tr>\n",
       "    <tr>\n",
       "      <th>37</th>\n",
       "      <td>1000000.0</td>\n",
       "      <td>10.00</td>\n",
       "      <td>poly</td>\n",
       "      <td>0.992593</td>\n",
       "    </tr>\n",
       "  </tbody>\n",
       "</table>\n",
       "</div>"
      ],
      "text/plain": [
       "            C  Gamma Kernel  Accuracy\n",
       "28      100.0   1.00   poly  0.992593\n",
       "25      100.0  10.00   poly  0.992593\n",
       "22        0.1   0.01   poly  0.992593\n",
       "16        0.1   1.00   poly  0.992593\n",
       "37  1000000.0  10.00   poly  0.992593"
      ]
     },
     "execution_count": 11,
     "metadata": {},
     "output_type": "execute_result"
    }
   ],
   "source": [
    "import pandas as pd\n",
    "\n",
    "#seleccionar los parámetros óptimos\n",
    "\n",
    "resultados_svm=pd.DataFrame(accuracies)\n",
    "resultados_svm.columns=['C','Gamma','Kernel','Accuracy']\n",
    "resultados_svm.sort_values(by='Accuracy',ascending=False).head() "
   ]
  },
  {
   "cell_type": "code",
   "execution_count": 12,
   "metadata": {},
   "outputs": [
    {
     "name": "stdout",
     "output_type": "stream",
     "text": [
      "Métricas con Datos de Prueba\n",
      "              precision    recall  f1-score   support\n",
      "\n",
      "           0       1.00      1.00      1.00        43\n",
      "           1       1.00      1.00      1.00        37\n",
      "           2       1.00      1.00      1.00        38\n",
      "           3       0.98      0.96      0.97        46\n",
      "           4       1.00      1.00      1.00        55\n",
      "           5       0.98      1.00      0.99        59\n",
      "           6       1.00      1.00      1.00        45\n",
      "           7       0.98      0.98      0.98        41\n",
      "           8       0.97      1.00      0.99        38\n",
      "           9       0.98      0.96      0.97        48\n",
      "\n",
      "   micro avg       0.99      0.99      0.99       450\n",
      "   macro avg       0.99      0.99      0.99       450\n",
      "weighted avg       0.99      0.99      0.99       450\n",
      "\n",
      "Matriz de Confusión\n",
      "[[43  0  0  0  0  0  0  0  0  0]\n",
      " [ 0 37  0  0  0  0  0  0  0  0]\n",
      " [ 0  0 38  0  0  0  0  0  0  0]\n",
      " [ 0  0  0 44  0  1  0  0  1  0]\n",
      " [ 0  0  0  0 55  0  0  0  0  0]\n",
      " [ 0  0  0  0  0 59  0  0  0  0]\n",
      " [ 0  0  0  0  0  0 45  0  0  0]\n",
      " [ 0  0  0  0  0  0  0 40  0  1]\n",
      " [ 0  0  0  0  0  0  0  0 38  0]\n",
      " [ 0  0  0  1  0  0  0  1  0 46]]\n"
     ]
    }
   ],
   "source": [
    "#re-entrenar el modelo con el valor óptimo de los híper-parámetros\n",
    "\n",
    "model = SVC(C=100,gamma=1,kernel='poly')\n",
    "model.fit(trainData, trainLabels)\n",
    "\n",
    "predictions = model.predict(testData)\n",
    "\n",
    "print(\"Métricas con Datos de Prueba\")\n",
    "print(classification_report(testLabels, predictions))\n",
    "\n",
    "print (\"Matriz de Confusión\")\n",
    "print(confusion_matrix(testLabels,predictions))"
   ]
  },
  {
   "cell_type": "markdown",
   "metadata": {},
   "source": [
    "# Feed-Forward Neural Network"
   ]
  },
  {
   "cell_type": "markdown",
   "metadata": {},
   "source": [
    "Ahora pasaremos a la implementación con redes neuronales en tensorflow. Recordamos que el algoritmo de entrenamiento de una red neuronal consiste en:\n",
    "\n",
    "1. Inicializar los pesos $\\mathcal{W}$ y sesgos $\\mathbf{b}$ de la red neuronal\n",
    "2. Realizar predicciones $y_{train}$ con los datos de entrenamiento $X_{train}$.\n",
    "3. Calcular el error en las predicciones. Típicamente se utiliza la función:\n",
    "\n",
    "$$\\mathcal{L}(\\mathbf{X},\\mathbf{y}_{actual},\\mathcal{W},\\mathcal{b})=\\frac{1}{2}\\sum_{i=1}^N||\\mathbf{y}_{i\\ pred}(\\mathbf{x}_i,\\mathcal{W},\\mathcal{b})-\\mathbf{y}_{i\\ actual}||^2.$$\n",
    "\n",
    "4. Calcular el gradiente de la función de error con respecto a los sesgos y pesos mediante Backpropagation.\n",
    "5. Ajustar los valores de los sesgos y pesos según el algoritmo de descenso (SGD, Momento, Adagrad, etc.)\n",
    "6. Repetir los pasos 2 a 5 hasta obtener una precisión deseada.\n",
    "\n",
    "Este ciclo de entrenamiento se ilustra a continuación:"
   ]
  },
  {
   "cell_type": "markdown",
   "metadata": {},
   "source": [
    "<img src=\"images/backprop_cycle.png\" width=800>"
   ]
  },
  {
   "cell_type": "markdown",
   "metadata": {},
   "source": [
    "Dado que la información fluye hacia \"adelande\" en la red neuronal (en la gráfica de operaciones según tensorflow), a este tipo de redes se les conoce como **redes feedforward** (redes pre-alimentadas en español). Esto es en contraste con las **redes convolucionales** que forman cíclos en la red. \n",
    "\n",
    "**Obs:** Esto no debe confundirse con el algoritmo de Backpropagation, que únicamente se refiere a la forma de calcular el gradiente, no a la estructura de la red.\n",
    "\n",
    "Como vimos en la sesión 9, estas redes son una generalización del modelo del Perceptrón, incorporando más capas y distintas funciones de activación. Por esto, a estas redes también se les llaman **Perceptrones Multicapas** (MLP en inglés)."
   ]
  },
  {
   "cell_type": "markdown",
   "metadata": {},
   "source": [
    "Importaremos lo datos incluídos en la librería, los cuales son imagenes de 28x28, aplanadas en vectores de 784 entradas."
   ]
  },
  {
   "cell_type": "code",
   "execution_count": 13,
   "metadata": {},
   "outputs": [],
   "source": [
    "import tensorflow as tf\n",
    "import numpy as np"
   ]
  },
  {
   "cell_type": "code",
   "execution_count": 14,
   "metadata": {},
   "outputs": [
    {
     "name": "stdout",
     "output_type": "stream",
     "text": [
      "WARNING:tensorflow:From <ipython-input-14-d2e65ad4d999>:2: read_data_sets (from tensorflow.contrib.learn.python.learn.datasets.mnist) is deprecated and will be removed in a future version.\n",
      "Instructions for updating:\n",
      "Please use alternatives such as official/mnist/dataset.py from tensorflow/models.\n",
      "WARNING:tensorflow:From /home/arturo/anaconda3/lib/python3.7/site-packages/tensorflow/contrib/learn/python/learn/datasets/mnist.py:260: maybe_download (from tensorflow.contrib.learn.python.learn.datasets.base) is deprecated and will be removed in a future version.\n",
      "Instructions for updating:\n",
      "Please write your own downloading logic.\n",
      "WARNING:tensorflow:From /home/arturo/anaconda3/lib/python3.7/site-packages/tensorflow/contrib/learn/python/learn/datasets/base.py:252: _internal_retry.<locals>.wrap.<locals>.wrapped_fn (from tensorflow.contrib.learn.python.learn.datasets.base) is deprecated and will be removed in a future version.\n",
      "Instructions for updating:\n",
      "Please use urllib or similar directly.\n",
      "Successfully downloaded train-images-idx3-ubyte.gz 9912422 bytes.\n",
      "WARNING:tensorflow:From /home/arturo/anaconda3/lib/python3.7/site-packages/tensorflow/contrib/learn/python/learn/datasets/mnist.py:262: extract_images (from tensorflow.contrib.learn.python.learn.datasets.mnist) is deprecated and will be removed in a future version.\n",
      "Instructions for updating:\n",
      "Please use tf.data to implement this functionality.\n",
      "Extracting /tmp/data/train-images-idx3-ubyte.gz\n",
      "Successfully downloaded train-labels-idx1-ubyte.gz 28881 bytes.\n",
      "WARNING:tensorflow:From /home/arturo/anaconda3/lib/python3.7/site-packages/tensorflow/contrib/learn/python/learn/datasets/mnist.py:267: extract_labels (from tensorflow.contrib.learn.python.learn.datasets.mnist) is deprecated and will be removed in a future version.\n",
      "Instructions for updating:\n",
      "Please use tf.data to implement this functionality.\n",
      "Extracting /tmp/data/train-labels-idx1-ubyte.gz\n",
      "WARNING:tensorflow:From /home/arturo/anaconda3/lib/python3.7/site-packages/tensorflow/contrib/learn/python/learn/datasets/mnist.py:110: dense_to_one_hot (from tensorflow.contrib.learn.python.learn.datasets.mnist) is deprecated and will be removed in a future version.\n",
      "Instructions for updating:\n",
      "Please use tf.one_hot on tensors.\n",
      "Successfully downloaded t10k-images-idx3-ubyte.gz 1648877 bytes.\n",
      "Extracting /tmp/data/t10k-images-idx3-ubyte.gz\n",
      "Successfully downloaded t10k-labels-idx1-ubyte.gz 4542 bytes.\n",
      "Extracting /tmp/data/t10k-labels-idx1-ubyte.gz\n",
      "WARNING:tensorflow:From /home/arturo/anaconda3/lib/python3.7/site-packages/tensorflow/contrib/learn/python/learn/datasets/mnist.py:290: DataSet.__init__ (from tensorflow.contrib.learn.python.learn.datasets.mnist) is deprecated and will be removed in a future version.\n",
      "Instructions for updating:\n",
      "Please use alternatives such as official/mnist/dataset.py from tensorflow/models.\n"
     ]
    }
   ],
   "source": [
    "from tensorflow.examples.tutorials.mnist import input_data\n",
    "mnist = input_data.read_data_sets(\"/tmp/data/\", one_hot = True)"
   ]
  },
  {
   "cell_type": "code",
   "execution_count": 15,
   "metadata": {},
   "outputs": [],
   "source": [
    "X_train, Y_train, X_test, Y_test=mnist.train.images, mnist.train.labels, mnist.test.images, mnist.test.labels"
   ]
  },
  {
   "cell_type": "code",
   "execution_count": 16,
   "metadata": {},
   "outputs": [],
   "source": [
    "X_val,Y_val=mnist.validation.images,mnist.validation.labels"
   ]
  },
  {
   "cell_type": "code",
   "execution_count": 18,
   "metadata": {},
   "outputs": [
    {
     "data": {
      "text/plain": [
       "((55000, 784), (55000, 10), (10000, 784), (10000, 10))"
      ]
     },
     "execution_count": 18,
     "metadata": {},
     "output_type": "execute_result"
    }
   ],
   "source": [
    "X_train.shape, Y_train.shape, X_test.shape,  Y_test.shape"
   ]
  },
  {
   "cell_type": "code",
   "execution_count": 17,
   "metadata": {},
   "outputs": [
    {
     "data": {
      "text/plain": [
       "((5000, 784), (5000, 10))"
      ]
     },
     "execution_count": 17,
     "metadata": {},
     "output_type": "execute_result"
    }
   ],
   "source": [
    "X_val.shape,Y_val.shape"
   ]
  },
  {
   "cell_type": "markdown",
   "metadata": {},
   "source": [
    "Exploremos los datos:"
   ]
  },
  {
   "cell_type": "code",
   "execution_count": 18,
   "metadata": {},
   "outputs": [
    {
     "name": "stdout",
     "output_type": "stream",
     "text": [
      "(784,)\n"
     ]
    }
   ],
   "source": [
    "print(X_train[0].shape) #784=28*28"
   ]
  },
  {
   "cell_type": "code",
   "execution_count": 19,
   "metadata": {
    "scrolled": true
   },
   "outputs": [
    {
     "name": "stdout",
     "output_type": "stream",
     "text": [
      "[0. 0. 0. 0. 0. 0. 0. 1. 0. 0.]\n"
     ]
    },
    {
     "data": {
      "image/png": "[encoded data removed]",
      "text/plain": [
       "<Figure size 432x288 with 2 Axes>"
      ]
     },
     "metadata": {
      "needs_background": "light"
     },
     "output_type": "display_data"
    },
    {
     "name": "stdout",
     "output_type": "stream",
     "text": [
      "[0. 0. 0. 1. 0. 0. 0. 0. 0. 0.]\n"
     ]
    },
    {
     "data": {
      "image/png": "[encoded data removed]",
      "text/plain": [
       "<Figure size 432x288 with 2 Axes>"
      ]
     },
     "metadata": {
      "needs_background": "light"
     },
     "output_type": "display_data"
    },
    {
     "name": "stdout",
     "output_type": "stream",
     "text": [
      "[0. 0. 0. 0. 1. 0. 0. 0. 0. 0.]\n"
     ]
    },
    {
     "data": {
      "image/png": "[encoded data removed]",
      "text/plain": [
       "<Figure size 432x288 with 2 Axes>"
      ]
     },
     "metadata": {
      "needs_background": "light"
     },
     "output_type": "display_data"
    },
    {
     "name": "stdout",
     "output_type": "stream",
     "text": [
      "[0. 0. 0. 0. 0. 0. 1. 0. 0. 0.]\n"
     ]
    },
    {
     "data": {
      "image/png": "[encoded data removed]",
      "text/plain": [
       "<Figure size 432x288 with 2 Axes>"
      ]
     },
     "metadata": {
      "needs_background": "light"
     },
     "output_type": "display_data"
    },
    {
     "name": "stdout",
     "output_type": "stream",
     "text": [
      "[0. 1. 0. 0. 0. 0. 0. 0. 0. 0.]\n"
     ]
    },
    {
     "data": {
      "image/png": "[encoded data removed]",
      "text/plain": [
       "<Figure size 432x288 with 2 Axes>"
      ]
     },
     "metadata": {
      "needs_background": "light"
     },
     "output_type": "display_data"
    },
    {
     "name": "stdout",
     "output_type": "stream",
     "text": [
      "[0. 0. 0. 0. 0. 0. 0. 0. 1. 0.]\n"
     ]
    },
    {
     "data": {
      "image/png": "[encoded data removed]",
      "text/plain": [
       "<Figure size 432x288 with 2 Axes>"
      ]
     },
     "metadata": {
      "needs_background": "light"
     },
     "output_type": "display_data"
    },
    {
     "name": "stdout",
     "output_type": "stream",
     "text": [
      "[0. 1. 0. 0. 0. 0. 0. 0. 0. 0.]\n"
     ]
    },
    {
     "data": {
      "image/png": "[encoded data removed]",
      "text/plain": [
       "<Figure size 432x288 with 2 Axes>"
      ]
     },
     "metadata": {
      "needs_background": "light"
     },
     "output_type": "display_data"
    },
    {
     "name": "stdout",
     "output_type": "stream",
     "text": [
      "[1. 0. 0. 0. 0. 0. 0. 0. 0. 0.]\n"
     ]
    },
    {
     "data": {
      "image/png": "[encoded data removed]",
      "text/plain": [
       "<Figure size 432x288 with 2 Axes>"
      ]
     },
     "metadata": {
      "needs_background": "light"
     },
     "output_type": "display_data"
    },
    {
     "name": "stdout",
     "output_type": "stream",
     "text": [
      "[0. 0. 0. 0. 0. 0. 0. 0. 0. 1.]\n"
     ]
    },
    {
     "data": {
      "image/png": "[encoded data removed]",
      "text/plain": [
       "<Figure size 432x288 with 2 Axes>"
      ]
     },
     "metadata": {
      "needs_background": "light"
     },
     "output_type": "display_data"
    },
    {
     "name": "stdout",
     "output_type": "stream",
     "text": [
      "[0. 0. 0. 0. 0. 0. 0. 0. 1. 0.]\n"
     ]
    },
    {
     "data": {
      "image/png": "[encoded data removed]",
      "text/plain": [
       "<Figure size 432x288 with 2 Axes>"
      ]
     },
     "metadata": {
      "needs_background": "light"
     },
     "output_type": "display_data"
    }
   ],
   "source": [
    "import matplotlib.pyplot as plt\n",
    "%matplotlib inline\n",
    "\n",
    "for i in range(0,10):\n",
    "    print(Y_train[i])\n",
    "    plt.imshow(X_train[i].reshape((28,28)), cmap='gray', vmin=0, vmax=1)\n",
    "    plt.colorbar()\n",
    "    plt.grid(False)\n",
    "    plt.show()"
   ]
  },
  {
   "cell_type": "markdown",
   "metadata": {},
   "source": [
    "Definimos la gráfica de operaciones. Incluye las operaciones de la red neuronal, así como operaciones para guardar los valores históricos de cada variable u operación."
   ]
  },
  {
   "cell_type": "code",
   "execution_count": 20,
   "metadata": {},
   "outputs": [
    {
     "name": "stdout",
     "output_type": "stream",
     "text": [
      "WARNING:tensorflow:From /home/arturo/anaconda3/lib/python3.7/site-packages/tensorflow/python/framework/op_def_library.py:263: colocate_with (from tensorflow.python.framework.ops) is deprecated and will be removed in a future version.\n",
      "Instructions for updating:\n",
      "Colocations handled automatically by placer.\n",
      "WARNING:tensorflow:From /home/arturo/anaconda3/lib/python3.7/site-packages/tensorflow/python/ops/math_ops.py:3066: to_int32 (from tensorflow.python.ops.math_ops) is deprecated and will be removed in a future version.\n",
      "Instructions for updating:\n",
      "Use tf.cast instead.\n"
     ]
    }
   ],
   "source": [
    "g_train=tf.Graph()\n",
    "with g_train.as_default():\n",
    "\n",
    "    with tf.name_scope(\"inputs\"):\n",
    "        X = tf.placeholder(tf.float32, [None, 784],name='x_data')\n",
    "        tf.summary.image('input_image', tf.reshape(X, (-1, 28, 28, 1)), max_outputs=5)\n",
    "        Ydata = tf.placeholder(tf.float32, [None, 10],name='y_data') \n",
    "    \n",
    "    with tf.name_scope(\"fitting_variables\"):\n",
    "        with tf.name_scope(\"weights\"):\n",
    "            #initer = tf.truncated_normal_initializer(stddev=0.01)\n",
    "            W = tf.Variable(tf.zeros([784,10]),name='w')\n",
    "            tf.summary.histogram(\"wieghts\",W)\n",
    "        with tf.name_scope(\"bias\"):\n",
    "            b = tf.Variable(tf.ones([10]),name='b')\n",
    "            tf.summary.histogram(\"biases\",b)\n",
    "    \n",
    "    with tf.name_scope(\"operations\"):\n",
    "        prod=tf.matmul(X,W,name=\"mult\") #transponemos W^t X^t ==> X W. \n",
    "        # cada dato es una fila en X, la matriz W la renombramos como W^t para tener W al final\n",
    "        sumation=prod+b #sumar b verticalmente con broadcasting\n",
    "        \n",
    "    with tf.name_scope(\"outputs\"):\n",
    "        Ymod = tf.nn.softmax(sumation,name=\"Ymod\") \n",
    "    \n",
    "    with tf.name_scope(\"evaluation\"):\n",
    "        with tf.name_scope(\"cross_entropy\"):\n",
    "            cross_entropy = tf.reduce_mean(-tf.reduce_sum(Ydata * tf.log(Ymod+1e-8), reduction_indices=[1])) \n",
    "            tf.summary.scalar(\"cross_entropy\",cross_entropy)\n",
    "        \n",
    "        with tf.name_scope(\"correct_prediction\"):\n",
    "            correct_prediction = tf.equal(tf.argmax(Ymod,axis=1), tf.argmax(Ydata,axis=1)) \n",
    "            #tf.summary.tensor_summary(\"correct_prediction\",correct_prediction)\n",
    "        \n",
    "        with tf.name_scope(\"accuracy\"):\n",
    "            accuracy = tf.reduce_mean(tf.cast(correct_prediction, tf.float32)) \n",
    "            tf.summary.scalar(\"accuracy\",accuracy)\n",
    "        \n",
    "    with tf.name_scope(\"optimizer\"):\n",
    "        train_step = tf.train.AdamOptimizer(learning_rate=0.01, name='Adam-op').minimize(cross_entropy)\n",
    "        \n",
    "    init=tf.global_variables_initializer()\n",
    "    merged=tf.summary.merge_all()\n",
    "    \n",
    "    \"\"\"\n",
    "    # Inicializar la variable del embedding con la forma del tensor deseado\n",
    "    tensor_shape = (X_test.shape[0] , Ymod.get_shape()[1].value) # [test_set , ymod] = [10000 , 10]\n",
    "    embedding_var = tf.Variable(tf.zeros(tensor_shape), name='ymod_embedding')\n",
    "    # asignar el tensor Ymod a la variable del embbedding\n",
    "    embedding_assign = embedding_var.assign(Ymod)\n",
    "    \"\"\""
   ]
  },
  {
   "cell_type": "markdown",
   "metadata": {},
   "source": [
    "Corremos el algoritmo, calculando la precisión al final de cada época sobre los conjuntos de entrenamiento, validación y prueba.\n",
    "\n",
    "A sí mismo, calculamos la pérdida y el error en cada iteeración para la muestra (batch) de entrenamiento."
   ]
  },
  {
   "cell_type": "code",
   "execution_count": 21,
   "metadata": {},
   "outputs": [
    {
     "name": "stdout",
     "output_type": "stream",
     "text": [
      "Finished Epoch 1\n",
      "Finished Epoch 2\n",
      "Finished Epoch 3\n",
      "Finished Epoch 4\n",
      "Finished Epoch 5\n",
      "Finished Epoch 6\n",
      "Finished Epoch 7\n",
      "Finished Epoch 8\n",
      "Finished Epoch 9\n",
      "Finished Epoch 10\n",
      "Finished Epoch 11\n",
      "Finished Epoch 12\n",
      "Finished Epoch 13\n",
      "Finished Epoch 14\n",
      "Finished Epoch 15\n",
      "Finished Epoch 16\n",
      "Finished Epoch 17\n",
      "Finished Epoch 18\n",
      "Finished Epoch 19\n",
      "Finished Epoch 20\n"
     ]
    }
   ],
   "source": [
    "import time, os\n",
    "\n",
    "batch_size=100\n",
    "no_of_epochs=20\n",
    "\n",
    "img_h = img_w = 28\n",
    "\n",
    "iteration_loss=[]\n",
    "iteration_acc=[]\n",
    "\n",
    "#config = tf.ConfigProto()\n",
    "#config.gpu_options.allow_growth = True\n",
    "\n",
    "with tf.Session(graph=g_train) as sess1:\n",
    "    \n",
    "    summaries_dir=\"logs/tensorflow\"\n",
    "    time_stamp=time.strftime(\"%H:%M:%S\") #string con formato hora:minuto:segundo\n",
    "    summaries_dir=summaries_dir+time_stamp\n",
    "    \n",
    "    #directorios para guardar logs de summary, se utilizan en tensorboard\n",
    "    train_writer = tf.summary.FileWriter(summaries_dir+'/train',sess1.graph)\n",
    "    valid_writer = tf.summary.FileWriter(summaries_dir + '/valid',sess1.graph)\n",
    "    test_writer = tf.summary.FileWriter(summaries_dir + '/test',sess1.graph)\n",
    "\n",
    "    init.run()\n",
    "    \n",
    "    run_options = tf.RunOptions(trace_level=tf.RunOptions.FULL_TRACE)\n",
    "    run_metadata = tf.RunMetadata()\n",
    "    \n",
    "    #calculo inicial de accuracy, perdida,etc.\n",
    "    summary,loss=sess1.run([merged,cross_entropy],feed_dict={X: X_train,Ydata: Y_train},\n",
    "                            options=run_options,run_metadata=run_metadata) #adds metadada to summary \n",
    "    train_writer.add_summary(summary, 0)\n",
    "    train_writer.add_run_metadata(run_metadata, 'loss_epoch%d' % 0)\n",
    "    #print(\"Epoch:=\",0,\"; \\t Epoch Loss:=\",loss)\n",
    "    \n",
    "    summary,t_acc=sess1.run([merged,accuracy], feed_dict={X: X_train, Ydata: Y_train},\n",
    "                             options=run_options,run_metadata=run_metadata) \n",
    "    train_writer.add_summary(summary, 0)\n",
    "    train_writer.add_run_metadata(run_metadata, 'train_epoch%d' % 0)\n",
    "    #print(\"Training Accuracy is\", t_acc*100,\"%\")\n",
    "    \n",
    "    summary,v_acc=sess1.run([merged,accuracy], feed_dict={X: X_val,Ydata:Y_val},\n",
    "                             options=run_options,run_metadata=run_metadata) #adds metadada to summary \n",
    "    valid_writer.add_summary(summary,0)\n",
    "    valid_writer.add_run_metadata(run_metadata, 'valid_epoch%d' % 0)\n",
    "    #print(\"Validation Accuracy is\", v_acc*100,\"%\")\n",
    "    \n",
    "    summary,f_acc=sess1.run([merged,accuracy], feed_dict={X: X_test,Ydata:Y_test},\n",
    "                             options=run_options,run_metadata=run_metadata) #adds metadada to summary \n",
    "    test_writer.add_summary(summary,0)\n",
    "    test_writer.add_run_metadata(run_metadata, 'test_epoch%d' % 0)\n",
    "    #print(\"Test Accuracy is\", f_acc*100,\"%\")\n",
    "    \n",
    "    sum_data=np.array([0,loss,t_acc,v_acc,f_acc]) #agregar los datos de la epoca 0 en una lista\n",
    "    \n",
    "    \n",
    "    for epoch in range(no_of_epochs):\n",
    "        epoch_loss=0\n",
    "        \n",
    "        for i in range(int(mnist.train.num_examples/batch_size)): #una epoca se divide según el tamaño del batch \n",
    "            run_options = tf.RunOptions(trace_level=tf.RunOptions.FULL_TRACE)\n",
    "            run_metadata = tf.RunMetadata()\n",
    "            \n",
    "            batch_xs, batch_ys = mnist.train.next_batch(batch_size) \n",
    "            train,loss,acc=sess1.run([train_step,cross_entropy,accuracy], feed_dict={X: batch_xs, Ydata: batch_ys},\n",
    "                                     options=run_options,run_metadata=run_metadata)\n",
    "            \n",
    "            if i==0:\n",
    "                train_writer.add_run_metadata(run_metadata, 'train_step%d' % (epoch))\n",
    "            #calcular gradiente y pérdida sobre los datos del batch (se usan todas la variables de la gráfica)\n",
    "            \n",
    "            epoch_loss+=loss #calcula la pérdida por cada batch y la suma para tener la pérdida final en la época\n",
    "            iteration_loss.append(loss)\n",
    "            iteration_acc.append(acc)\n",
    "        \n",
    "        epoch_loss=epoch_loss/mnist.train.num_examples #pérdida/error promedio sobre toda la época \n",
    "        #print(\"Epoch:=\",(epoch+1),\"; \\t Epoch Loss:=\",epoch_loss)\n",
    "        \n",
    "        \n",
    "        run_options = tf.RunOptions(trace_level=tf.RunOptions.FULL_TRACE)\n",
    "        run_metadata = tf.RunMetadata()\n",
    "        \n",
    "        summary,t_acc=sess1.run([merged,accuracy], feed_dict={X: X_train, Ydata: Y_train}, #calculates training accuracy \n",
    "                               options=run_options,run_metadata=run_metadata) #adds metadada to summary       \n",
    "        train_writer.add_summary(summary, (epoch+1))\n",
    "        train_writer.add_run_metadata(run_metadata, 'train_epoch%d' % (epoch+1))\n",
    "        #print(\"Training Accuracy is\", t_acc*100,\"%\")\n",
    "        \n",
    "        summary,v_acc=sess1.run([merged,accuracy], feed_dict={X: X_val,Ydata:Y_val},\n",
    "                               options=run_options,run_metadata=run_metadata)\n",
    "        valid_writer.add_summary(summary, (epoch+1))\n",
    "        valid_writer.add_run_metadata(run_metadata, 'valid_epoch%d' % (epoch+1))\n",
    "        #print(\"Validation Accuracy is\", v_acc*100,\"%\")\n",
    "        \n",
    "        summary,f_acc=sess1.run([merged,accuracy], feed_dict={X: X_test,Ydata:Y_test},\n",
    "                                options=run_options,run_metadata=run_metadata)\n",
    "        test_writer.add_summary(summary, (epoch+1))\n",
    "        test_writer.add_run_metadata(run_metadata, 'test_epoch%d' % (epoch+1))\n",
    "        #print(\"Test Accuracy is\", f_acc*100,\"%\")\n",
    "        \n",
    "        sum_data=np.vstack((sum_data,np.array([(epoch+1),epoch_loss,t_acc,v_acc,f_acc])))\n",
    "        print(\"Finished Epoch\",(epoch+1))\n",
    "    \n",
    "    \"\"\"\n",
    "    #La siguiente sección se utiliza para crear la proyección del embedding\n",
    "    from tensorflow.contrib.tensorboard.plugins import projector\n",
    "\n",
    "    # Crear un objeto de configuración, al cual le pasaremos los parámetros\n",
    "    config = projector.ProjectorConfig()\n",
    "\n",
    "    # Añadir la variable de embedding definida arriba\n",
    "    embedding = config.embeddings.add()\n",
    "    embedding.tensor_name = embedding_var.name\n",
    "\n",
    "    # Ligar el tensor del embedding al archivo de metadatos\n",
    "    embedding.metadata_path = 'metadata.tsv'\n",
    "\n",
    "    # Especificar ubicación y dimensiones del sprite\n",
    "    embedding.sprite.image_path = 'sprite_images.png'\n",
    "    embedding.sprite.single_image_dim.extend([img_w, img_h])\n",
    "\n",
    "    # Escribir el proyector en un archivo projector_config.pbtxt en summaries_dir\n",
    "    # tensorboard leerá esta ubicación al iniciarse/refrescarse\n",
    "    embedding_writer = tf.summary.FileWriter(summaries_dir,sess1.graph)\n",
    "    projector.visualize_embeddings(embedding_writer, config)\n",
    "\n",
    "    # Ejecutar en la sesión el valor del embedding. Depende de Ymod, por lo que depdende de X\n",
    "    x_test_fc1 = sess1.run(embedding_assign, feed_dict={X: X_test})\n",
    "\n",
    "    # Guardar el tensor en un archivo ckpt en summaries_dir\n",
    "    saver = tf.train.Saver()\n",
    "    saver.save(sess1, os.path.join(summaries_dir, \"model.ckpt\"), no_of_epochs)\n",
    "\n",
    "\n",
    "    # Cambiar los datos de vectores de vuelta a matrices (imagenes)\n",
    "    x_test_images = np.reshape(np.array(X_test), (-1, img_w, img_h))\n",
    "    # Cambiar las etiquetas de one-hot a numeros\n",
    "    x_test_labels = np.argmax(Y_test, axis=1)\n",
    "    \n",
    "    #utilizar las funciones deifnidas abajo para crear los archivos sprite y metadata.\n",
    "    write_sprite_image(os.path.join(summaries_dir, 'sprite_images.png'), x_test_images)\n",
    "    write_metadata(os.path.join(summaries_dir, 'metadata.tsv'), x_test_labels)\n",
    "    \"\"\""
   ]
  },
  {
   "cell_type": "code",
   "execution_count": 24,
   "metadata": {},
   "outputs": [
    {
     "data": {
      "image/png": "[encoded data removed]",
      "text/plain": [
       "<Figure size 432x288 with 1 Axes>"
      ]
     },
     "metadata": {
      "needs_background": "light"
     },
     "output_type": "display_data"
    }
   ],
   "source": [
    "plt.ylim(0.9,0.94)\n",
    "plt.xticks(range(0, 22))\n",
    "\n",
    "#plt.plot(sum_data[:,0],sum_data[:,1],label=\"epoch_loss\")\n",
    "plt.plot(sum_data[:,0],sum_data[:,2],label=\"train_acc\",ls=':')\n",
    "plt.plot(sum_data[:,0],sum_data[:,3],label=\"val_acc\",ls=':')\n",
    "plt.plot(sum_data[:,0],sum_data[:,4],label=\"test_acc\",ls=':')\n",
    "plt.legend()\n",
    "plt.show()\n",
    "\n",
    "#la precisión con prueba y validación pueden quedarse por debajo de la de entrenamiento (overfitting) \n",
    "#parece que el valor ideal de épocas es 10-15"
   ]
  },
  {
   "cell_type": "code",
   "execution_count": 25,
   "metadata": {},
   "outputs": [
    {
     "data": {
      "image/png": "[encoded data removed]",
      "text/plain": [
       "<Figure size 432x288 with 1 Axes>"
      ]
     },
     "metadata": {
      "needs_background": "light"
     },
     "output_type": "display_data"
    },
    {
     "data": {
      "image/png": "[encoded data removed]",
      "text/plain": [
       "<Figure size 432x288 with 1 Axes>"
      ]
     },
     "metadata": {
      "needs_background": "light"
     },
     "output_type": "display_data"
    }
   ],
   "source": [
    "#plt.ylim(0.7,1)\n",
    "plt.plot(iteration_acc,label=\"iteration_acc\",ls=':',color='green')\n",
    "plt.legend()\n",
    "plt.show()\n",
    "\n",
    "plt.plot(iteration_loss,label=\"iteration_loss\",ls=':',color='red')\n",
    "plt.legend()\n",
    "plt.show()"
   ]
  },
  {
   "cell_type": "code",
   "execution_count": 31,
   "metadata": {},
   "outputs": [
    {
     "name": "stdout",
     "output_type": "stream",
     "text": [
      "Save to tf_models/my_nn_savefile.ckpt\n"
     ]
    }
   ],
   "source": [
    "#saving\n",
    "\n",
    "tf.reset_default_graph()\n",
    "\n",
    "W = tf.Variable([[1,2,3],[1,2,3]],dtype=tf.float32,name='s_weights')\n",
    "b = tf.Variable([[1,2,3]],dtype=tf.float32,name='s_biases')\n",
    "init=tf.global_variables_initializer()\n",
    "\n",
    "saver= tf.train.Saver()\n",
    "\n",
    "with tf.Session() as sess:\n",
    "    sess.run(init) \n",
    "    save_path=saver.save(sess,\"tf_models/my_nn_savefile.ckpt\") #guarda todo el contenido actual de la sesión\n",
    "    print(\"Save to\",save_path)"
   ]
  },
  {
   "cell_type": "code",
   "execution_count": 32,
   "metadata": {},
   "outputs": [
    {
     "name": "stdout",
     "output_type": "stream",
     "text": [
      "INFO:tensorflow:Restoring parameters from tf_models/my_nn_savefile.ckpt\n",
      "weights: [[1. 2. 3.]\n",
      " [1. 2. 3.]]\n",
      "biases: [[1. 2. 3.]]\n"
     ]
    }
   ],
   "source": [
    "#restoring\n",
    "\n",
    "tf.reset_default_graph()\n",
    "\n",
    "#se necesitan tener los mismos nombres y forma de los arreglos\n",
    "#puede pensarse como otra forma de inicializar variables\n",
    "W=tf.Variable(tf.zeros([2,3]),dtype=tf.float32,name='s_weights')\n",
    "b=tf.Variable(tf.zeros([1,3]),dtype=tf.float32,name='s_biases')\n",
    "\n",
    "saver=tf.train.Saver()\n",
    "\n",
    "with tf.Session() as sess:\n",
    "    saver.restore(sess,\"tf_models/my_nn_savefile.ckpt\") \n",
    "    print(\"weights:\",sess.run(W))\n",
    "    print(\"biases:\",sess.run(b))"
   ]
  },
  {
   "cell_type": "markdown",
   "metadata": {},
   "source": [
    "**Nota:** También podemos utilizar `saver` para añadir una operación que guarde únicamente una variable.\n",
    "\n",
    "`saver = tf.train.Saver({\"b\": b})`\n",
    "\n",
    "En este caso, tenemos que inicializar W, pues el objeto `saver` no lo hace."
   ]
  },
  {
   "cell_type": "markdown",
   "metadata": {},
   "source": [
    "# Tensorboard"
   ]
  },
  {
   "cell_type": "markdown",
   "metadata": {},
   "source": [
    "Es una herramienta de visualización complementaria a Tensorflow. Utiliza los logs creados con `tf.summary` para crear visualizaciones de la gráfica y de las operaciones individuales, lo cual sirve para analizar los modelos creados.\n",
    "\n",
    "Para iniciar Tensorboard, desde la terminal se introduce el comando `tensorboard --logdir=mi_directorio_de_logs`. En este caso, nosotros definimos `logdir=logs`."
   ]
  },
  {
   "cell_type": "code",
   "execution_count": null,
   "metadata": {},
   "outputs": [],
   "source": []
  },
  {
   "cell_type": "markdown",
   "metadata": {},
   "source": [
    "### Embeddings: Reducción de Dimensiones para Visualización"
   ]
  },
  {
   "cell_type": "markdown",
   "metadata": {},
   "source": [
    "Una función muy útil de tensorboard es la capacidad de crear visualizaciones en 3D de datos de un gran número de dimensiones. Esto se hace mediante objetos llamados `embeddings`. Para esto es necesario crear 2 archivos:\n",
    "\n",
    "1. **metadata.tsv:** Una tabla que guarda el índice y etiqueta de cada dato.\n",
    "2. **sprite_image.png:** Una imagen grande formada por un arreglo de todos los datos en forma de imagen.\n",
    "\n",
    "A continuación deifnimos las funciones encargadas de hacerlo."
   ]
  },
  {
   "cell_type": "code",
   "execution_count": 33,
   "metadata": {},
   "outputs": [],
   "source": [
    "def write_sprite_image(filename, images):\n",
    "    \"\"\"\n",
    "        Create a sprite image consisting of sample images\n",
    "        :param filename: name of the file to save on disk\n",
    "        :param shape: tensor of flattened images\n",
    "    \"\"\"\n",
    "\n",
    "    # invertir las  imagenes de escala de grises (negativos)\n",
    "    images = 1 - images\n",
    "\n",
    "    # Calcular el no de gráficas\n",
    "    n_plots = int(np.ceil(np.sqrt(images.shape[0])))\n",
    "\n",
    "    # generar el fondo del sprite\n",
    "    sprite_image = np.ones((img_h * n_plots, img_w * n_plots))\n",
    "\n",
    "    for i in range(n_plots):\n",
    "        for j in range(n_plots):\n",
    "            img_idx = i * n_plots + j\n",
    "            if img_idx < images.shape[0]:\n",
    "                img = images[img_idx]\n",
    "                sprite_image[i * img_h:(i + 1) * img_h,\n",
    "                j * img_w:(j + 1) * img_w] = img\n",
    "\n",
    "    plt.imsave(filename, sprite_image, cmap='gray')\n",
    "    print('Sprite image saved in {}'.format(filename))\n",
    "\n",
    "def write_metadata(filename, labels):\n",
    "    \"\"\"\n",
    "            Create a metadata file image consisting of sample indices and labels\n",
    "            :param filename: name of the file to save on disk\n",
    "            :param shape: tensor of labels\n",
    "    \"\"\"\n",
    "    with open(filename, 'w') as f:\n",
    "        f.write(\"Index\\tLabel\\n\")\n",
    "        for index, label in enumerate(labels):\n",
    "            f.write(\"{}\\t{}\\n\".format(index, label))\n",
    "\n",
    "    print('Metadata file saved in {}'.format(filename))"
   ]
  },
  {
   "cell_type": "markdown",
   "metadata": {},
   "source": [
    "Una vez hecho esto, volvemos a entrenar el modelo de arriba, sólo que ahora utilizaremos las líneas que estaban comentadas."
   ]
  },
  {
   "cell_type": "code",
   "execution_count": null,
   "metadata": {},
   "outputs": [],
   "source": []
  },
  {
   "cell_type": "markdown",
   "metadata": {},
   "source": [
    "A sí mismo, los archivos **metadata.tsv** y **sprite_image.png**. Se pueden utilizar para crear otro tipo de visualizaciones. [[link1]](https://github.com/GoogleCloudPlatform/tensorflow-without-a-phd) [[link2]](http://scs.ryerson.ca/~aharley/vis/)"
   ]
  },
  {
   "cell_type": "code",
   "execution_count": null,
   "metadata": {},
   "outputs": [],
   "source": []
  },
  {
   "cell_type": "markdown",
   "metadata": {},
   "source": [
    "# La misma red con Keras"
   ]
  },
  {
   "cell_type": "markdown",
   "metadata": {},
   "source": [
    "Comparemos el código que generamos con el que utiliza la librería Keras (API de alto nivel). Para evitar cualquier conflicto, reiniciamos el namespace del notebook."
   ]
  },
  {
   "cell_type": "code",
   "execution_count": 26,
   "metadata": {},
   "outputs": [
    {
     "name": "stdout",
     "output_type": "stream",
     "text": [
      "Once deleted, variables cannot be recovered. Proceed (y/[n])? y\n"
     ]
    }
   ],
   "source": [
    "%reset"
   ]
  },
  {
   "cell_type": "code",
   "execution_count": 27,
   "metadata": {},
   "outputs": [],
   "source": [
    "import tensorflow as tf\n",
    "mnist_keras = tf.keras.datasets.mnist\n",
    "(x_train, y_train),(x_test, y_test) = mnist_keras.load_data()"
   ]
  },
  {
   "cell_type": "code",
   "execution_count": 28,
   "metadata": {},
   "outputs": [
    {
     "data": {
      "text/plain": [
       "((60000, 28, 28), (60000,), (10000, 28, 28), (10000,))"
      ]
     },
     "execution_count": 28,
     "metadata": {},
     "output_type": "execute_result"
    }
   ],
   "source": [
    "x_train.shape, y_train.shape, x_test.shape, y_test.shape #no separa el conjunto de validación"
   ]
  },
  {
   "cell_type": "code",
   "execution_count": 29,
   "metadata": {},
   "outputs": [
    {
     "data": {
      "text/plain": [
       "array([[  0,   0,   0,   0,   0,   0,   0,   0,   0,   0,   0,   0,   0,\n",
       "          0,   0,   0,   0,   0,   0,   0,   0,   0,   0,   0,   0,   0,\n",
       "          0,   0],\n",
       "       [  0,   0,   0,   0,   0,   0,   0,   0,   0,   0,   0,   0,   0,\n",
       "          0,   0,   0,   0,   0,   0,   0,   0,   0,   0,   0,   0,   0,\n",
       "          0,   0],\n",
       "       [  0,   0,   0,   0,   0,   0,   0,   0,   0,   0,   0,   0,   0,\n",
       "          0,   0,   0,   0,   0,   0,   0,   0,   0,   0,   0,   0,   0,\n",
       "          0,   0],\n",
       "       [  0,   0,   0,   0,   0,   0,   0,   0,   0,   0,   0,   0,   0,\n",
       "          0,   0,   0,   0,   0,   0,   0,   0,   0,   0,   0,   0,   0,\n",
       "          0,   0],\n",
       "       [  0,   0,   0,   0,   0,   0,   0,   0,   0,   0,   0,   0,   0,\n",
       "          0,   0,   0,   0,   0,   0,   0,   0,   0,   0,   0,   0,   0,\n",
       "          0,   0],\n",
       "       [  0,   0,   0,   0,   0,   0,   0,   0,   0,   0,   0,   0,   3,\n",
       "         18,  18,  18, 126, 136, 175,  26, 166, 255, 247, 127,   0,   0,\n",
       "          0,   0],\n",
       "       [  0,   0,   0,   0,   0,   0,   0,   0,  30,  36,  94, 154, 170,\n",
       "        253, 253, 253, 253, 253, 225, 172, 253, 242, 195,  64,   0,   0,\n",
       "          0,   0],\n",
       "       [  0,   0,   0,   0,   0,   0,   0,  49, 238, 253, 253, 253, 253,\n",
       "        253, 253, 253, 253, 251,  93,  82,  82,  56,  39,   0,   0,   0,\n",
       "          0,   0],\n",
       "       [  0,   0,   0,   0,   0,   0,   0,  18, 219, 253, 253, 253, 253,\n",
       "        253, 198, 182, 247, 241,   0,   0,   0,   0,   0,   0,   0,   0,\n",
       "          0,   0],\n",
       "       [  0,   0,   0,   0,   0,   0,   0,   0,  80, 156, 107, 253, 253,\n",
       "        205,  11,   0,  43, 154,   0,   0,   0,   0,   0,   0,   0,   0,\n",
       "          0,   0],\n",
       "       [  0,   0,   0,   0,   0,   0,   0,   0,   0,  14,   1, 154, 253,\n",
       "         90,   0,   0,   0,   0,   0,   0,   0,   0,   0,   0,   0,   0,\n",
       "          0,   0],\n",
       "       [  0,   0,   0,   0,   0,   0,   0,   0,   0,   0,   0, 139, 253,\n",
       "        190,   2,   0,   0,   0,   0,   0,   0,   0,   0,   0,   0,   0,\n",
       "          0,   0],\n",
       "       [  0,   0,   0,   0,   0,   0,   0,   0,   0,   0,   0,  11, 190,\n",
       "        253,  70,   0,   0,   0,   0,   0,   0,   0,   0,   0,   0,   0,\n",
       "          0,   0],\n",
       "       [  0,   0,   0,   0,   0,   0,   0,   0,   0,   0,   0,   0,  35,\n",
       "        241, 225, 160, 108,   1,   0,   0,   0,   0,   0,   0,   0,   0,\n",
       "          0,   0],\n",
       "       [  0,   0,   0,   0,   0,   0,   0,   0,   0,   0,   0,   0,   0,\n",
       "         81, 240, 253, 253, 119,  25,   0,   0,   0,   0,   0,   0,   0,\n",
       "          0,   0],\n",
       "       [  0,   0,   0,   0,   0,   0,   0,   0,   0,   0,   0,   0,   0,\n",
       "          0,  45, 186, 253, 253, 150,  27,   0,   0,   0,   0,   0,   0,\n",
       "          0,   0],\n",
       "       [  0,   0,   0,   0,   0,   0,   0,   0,   0,   0,   0,   0,   0,\n",
       "          0,   0,  16,  93, 252, 253, 187,   0,   0,   0,   0,   0,   0,\n",
       "          0,   0],\n",
       "       [  0,   0,   0,   0,   0,   0,   0,   0,   0,   0,   0,   0,   0,\n",
       "          0,   0,   0,   0, 249, 253, 249,  64,   0,   0,   0,   0,   0,\n",
       "          0,   0],\n",
       "       [  0,   0,   0,   0,   0,   0,   0,   0,   0,   0,   0,   0,   0,\n",
       "          0,  46, 130, 183, 253, 253, 207,   2,   0,   0,   0,   0,   0,\n",
       "          0,   0],\n",
       "       [  0,   0,   0,   0,   0,   0,   0,   0,   0,   0,   0,   0,  39,\n",
       "        148, 229, 253, 253, 253, 250, 182,   0,   0,   0,   0,   0,   0,\n",
       "          0,   0],\n",
       "       [  0,   0,   0,   0,   0,   0,   0,   0,   0,   0,  24, 114, 221,\n",
       "        253, 253, 253, 253, 201,  78,   0,   0,   0,   0,   0,   0,   0,\n",
       "          0,   0],\n",
       "       [  0,   0,   0,   0,   0,   0,   0,   0,  23,  66, 213, 253, 253,\n",
       "        253, 253, 198,  81,   2,   0,   0,   0,   0,   0,   0,   0,   0,\n",
       "          0,   0],\n",
       "       [  0,   0,   0,   0,   0,   0,  18, 171, 219, 253, 253, 253, 253,\n",
       "        195,  80,   9,   0,   0,   0,   0,   0,   0,   0,   0,   0,   0,\n",
       "          0,   0],\n",
       "       [  0,   0,   0,   0,  55, 172, 226, 253, 253, 253, 253, 244, 133,\n",
       "         11,   0,   0,   0,   0,   0,   0,   0,   0,   0,   0,   0,   0,\n",
       "          0,   0],\n",
       "       [  0,   0,   0,   0, 136, 253, 253, 253, 212, 135, 132,  16,   0,\n",
       "          0,   0,   0,   0,   0,   0,   0,   0,   0,   0,   0,   0,   0,\n",
       "          0,   0],\n",
       "       [  0,   0,   0,   0,   0,   0,   0,   0,   0,   0,   0,   0,   0,\n",
       "          0,   0,   0,   0,   0,   0,   0,   0,   0,   0,   0,   0,   0,\n",
       "          0,   0],\n",
       "       [  0,   0,   0,   0,   0,   0,   0,   0,   0,   0,   0,   0,   0,\n",
       "          0,   0,   0,   0,   0,   0,   0,   0,   0,   0,   0,   0,   0,\n",
       "          0,   0],\n",
       "       [  0,   0,   0,   0,   0,   0,   0,   0,   0,   0,   0,   0,   0,\n",
       "          0,   0,   0,   0,   0,   0,   0,   0,   0,   0,   0,   0,   0,\n",
       "          0,   0]], dtype=uint8)"
      ]
     },
     "execution_count": 29,
     "metadata": {},
     "output_type": "execute_result"
    }
   ],
   "source": [
    "x_train[0] #las matrices ahora tienen valores enteros entre 0 y 225, i.e. no estan normalizadas"
   ]
  },
  {
   "cell_type": "code",
   "execution_count": 45,
   "metadata": {},
   "outputs": [
    {
     "name": "stdout",
     "output_type": "stream",
     "text": [
      "5\n"
     ]
    },
    {
     "data": {
      "image/png": "[encoded data removed]",
      "text/plain": [
       "<Figure size 432x288 with 2 Axes>"
      ]
     },
     "metadata": {
      "needs_background": "light"
     },
     "output_type": "display_data"
    },
    {
     "name": "stdout",
     "output_type": "stream",
     "text": [
      "0\n"
     ]
    },
    {
     "data": {
      "image/png": "[encoded data removed]",
      "text/plain": [
       "<Figure size 432x288 with 2 Axes>"
      ]
     },
     "metadata": {
      "needs_background": "light"
     },
     "output_type": "display_data"
    },
    {
     "name": "stdout",
     "output_type": "stream",
     "text": [
      "4\n"
     ]
    },
    {
     "data": {
      "image/png": "[encoded data removed]",
      "text/plain": [
       "<Figure size 432x288 with 2 Axes>"
      ]
     },
     "metadata": {
      "needs_background": "light"
     },
     "output_type": "display_data"
    },
    {
     "name": "stdout",
     "output_type": "stream",
     "text": [
      "1\n"
     ]
    },
    {
     "data": {
      "image/png": "[encoded data removed]",
      "text/plain": [
       "<Figure size 432x288 with 2 Axes>"
      ]
     },
     "metadata": {
      "needs_background": "light"
     },
     "output_type": "display_data"
    },
    {
     "name": "stdout",
     "output_type": "stream",
     "text": [
      "9\n"
     ]
    },
    {
     "data": {
      "image/png": "[encoded data removed]",
      "text/plain": [
       "<Figure size 432x288 with 2 Axes>"
      ]
     },
     "metadata": {
      "needs_background": "light"
     },
     "output_type": "display_data"
    },
    {
     "name": "stdout",
     "output_type": "stream",
     "text": [
      "2\n"
     ]
    },
    {
     "data": {
      "image/png": "[encoded data removed]",
      "text/plain": [
       "<Figure size 432x288 with 2 Axes>"
      ]
     },
     "metadata": {
      "needs_background": "light"
     },
     "output_type": "display_data"
    },
    {
     "name": "stdout",
     "output_type": "stream",
     "text": [
      "1\n"
     ]
    },
    {
     "data": {
      "image/png": "[encoded data removed]",
      "text/plain": [
       "<Figure size 432x288 with 2 Axes>"
      ]
     },
     "metadata": {
      "needs_background": "light"
     },
     "output_type": "display_data"
    },
    {
     "name": "stdout",
     "output_type": "stream",
     "text": [
      "3\n"
     ]
    },
    {
     "data": {
      "image/png": "[encoded data removed]",
      "text/plain": [
       "<Figure size 432x288 with 2 Axes>"
      ]
     },
     "metadata": {
      "needs_background": "light"
     },
     "output_type": "display_data"
    },
    {
     "name": "stdout",
     "output_type": "stream",
     "text": [
      "1\n"
     ]
    },
    {
     "data": {
      "image/png": "[encoded data removed]",
      "text/plain": [
       "<Figure size 432x288 with 2 Axes>"
      ]
     },
     "metadata": {
      "needs_background": "light"
     },
     "output_type": "display_data"
    },
    {
     "name": "stdout",
     "output_type": "stream",
     "text": [
      "4\n"
     ]
    },
    {
     "data": {
      "image/png": "[encoded data removed]",
      "text/plain": [
       "<Figure size 432x288 with 2 Axes>"
      ]
     },
     "metadata": {
      "needs_background": "light"
     },
     "output_type": "display_data"
    }
   ],
   "source": [
    "import matplotlib.pyplot as plt\n",
    "%matplotlib inline\n",
    "\n",
    "for i in range(0,10):\n",
    "    print(y_train[i]) #las entradas no estan en formato one-hot\n",
    "    plt.imshow(x_train[i], cmap='gray', vmin=0, vmax=255) #los valores no estan normalizados\n",
    "    plt.colorbar()\n",
    "    plt.grid(False)\n",
    "    plt.show()"
   ]
  },
  {
   "cell_type": "code",
   "execution_count": 46,
   "metadata": {},
   "outputs": [
    {
     "data": {
      "text/plain": [
       "array([5, 0, 4, ..., 5, 6, 8], dtype=uint8)"
      ]
     },
     "execution_count": 46,
     "metadata": {},
     "output_type": "execute_result"
    }
   ],
   "source": [
    "y_train"
   ]
  },
  {
   "cell_type": "code",
   "execution_count": 57,
   "metadata": {},
   "outputs": [],
   "source": [
    "from tensorflow.keras.callbacks import TensorBoard\n",
    "? TensorBoard"
   ]
  },
  {
   "cell_type": "code",
   "execution_count": 30,
   "metadata": {},
   "outputs": [
    {
     "name": "stdout",
     "output_type": "stream",
     "text": [
      "Entrenamiento del Modelo\n",
      "Epoch 1/20\n",
      "60000/60000 [==============================] - 2s 35us/sample - loss: 0.4732 - acc: 0.8756\n",
      "Epoch 2/20\n",
      "60000/60000 [==============================] - 1s 24us/sample - loss: 0.3044 - acc: 0.9149\n",
      "Epoch 3/20\n",
      "60000/60000 [==============================] - 2s 26us/sample - loss: 0.2834 - acc: 0.9203\n",
      "Epoch 4/20\n",
      "60000/60000 [==============================] - 2s 25us/sample - loss: 0.2730 - acc: 0.9243\n",
      "Epoch 5/20\n",
      "60000/60000 [==============================] - 2s 25us/sample - loss: 0.2662 - acc: 0.9259\n",
      "Epoch 6/20\n",
      "60000/60000 [==============================] - 2s 26us/sample - loss: 0.2618 - acc: 0.9276\n",
      "Epoch 7/20\n",
      "60000/60000 [==============================] - 2s 26us/sample - loss: 0.2579 - acc: 0.9281\n",
      "Epoch 8/20\n",
      "60000/60000 [==============================] - 2s 27us/sample - loss: 0.2553 - acc: 0.9289\n",
      "Epoch 9/20\n",
      "60000/60000 [==============================] - 2s 26us/sample - loss: 0.2531 - acc: 0.9300\n",
      "Epoch 10/20\n",
      "60000/60000 [==============================] - 2s 26us/sample - loss: 0.2509 - acc: 0.9306\n",
      "Epoch 11/20\n",
      "60000/60000 [==============================] - 2s 27us/sample - loss: 0.2489 - acc: 0.9312\n",
      "Epoch 12/20\n",
      "60000/60000 [==============================] - 2s 27us/sample - loss: 0.2471 - acc: 0.9317\n",
      "Epoch 13/20\n",
      "60000/60000 [==============================] - 2s 26us/sample - loss: 0.2458 - acc: 0.9319\n",
      "Epoch 14/20\n",
      "60000/60000 [==============================] - 2s 25us/sample - loss: 0.2444 - acc: 0.9321\n",
      "Epoch 15/20\n",
      "60000/60000 [==============================] - 2s 26us/sample - loss: 0.2437 - acc: 0.9323\n",
      "Epoch 16/20\n",
      "60000/60000 [==============================] - 2s 26us/sample - loss: 0.2424 - acc: 0.9328\n",
      "Epoch 17/20\n",
      "60000/60000 [==============================] - 2s 25us/sample - loss: 0.2418 - acc: 0.9336\n",
      "Epoch 18/20\n",
      "60000/60000 [==============================] - 2s 25us/sample - loss: 0.2406 - acc: 0.9334\n",
      "Epoch 19/20\n",
      "60000/60000 [==============================] - 2s 26us/sample - loss: 0.2396 - acc: 0.9341\n",
      "Epoch 20/20\n",
      "60000/60000 [==============================] - 2s 26us/sample - loss: 0.2390 - acc: 0.9342\n",
      "\n",
      "Evaluación con Datos de Prueba\n",
      "10000/10000 [==============================] - 0s 16us/sample - loss: 0.2662 - acc: 0.9282\n"
     ]
    },
    {
     "data": {
      "text/plain": [
       "[0.2661818385243416, 0.9282]"
      ]
     },
     "execution_count": 30,
     "metadata": {},
     "output_type": "execute_result"
    }
   ],
   "source": [
    "import time,os\n",
    "from tensorflow.keras.callbacks import TensorBoard\n",
    "\n",
    "summaries_dir=\"logs/Keras\"\n",
    "time_stamp=time.strftime(\"%H:%M:%S\") #string con formato hora:minuto:segundo\n",
    "summaries_dir=summaries_dir+time_stamp\n",
    "\n",
    "tensorboard=TensorBoard(log_dir=summaries_dir)\n",
    "\n",
    "#tf.reset_default_graph()\n",
    "(x_train, y_train),(x_test, y_test) = mnist_keras.load_data()\n",
    "x_train, x_test = x_train / 255.0, x_test / 255.0 #normalizamos los datos (0,255)->(0,1)\n",
    "\n",
    "model = tf.keras.models.Sequential([\n",
    "  tf.keras.layers.Flatten(input_shape=(28, 28)), #convierte la matriz de 28x28 en un vector de 784\n",
    "  #tf.keras.layers.Dense(512, activation=tf.nn.relu),\n",
    "  #tf.keras.layers.Dropout(0.2),\n",
    "  tf.keras.layers.Dense(10, activation=tf.nn.softmax) #capa de 10 neuronas con todas las conexiones, activacion softmax\n",
    "])\n",
    "model.compile(optimizer='adam',\n",
    "              loss='sparse_categorical_crossentropy',\n",
    "              metrics=['accuracy'])\n",
    "\n",
    "print(\"Entrenamiento del Modelo\")\n",
    "model.fit(x_train, y_train, epochs=20,callbacks=[tensorboard])\n",
    "\n",
    "print()\n",
    "print(\"Evaluación con Datos de Prueba\")\n",
    "model.evaluate(x_test, y_test)"
   ]
  },
  {
   "cell_type": "markdown",
   "metadata": {},
   "source": [
    "# Regularización en Redes Neuronales"
   ]
  },
  {
   "cell_type": "markdown",
   "metadata": {},
   "source": [
    "Anteriormente vimos que añadir penalizaciones a las funciones de error en OLS nos puede ayudar a \"restringir\" a que los parámetros tomen un rango de valores más aceptables, para así evitar sobre-ajustar los datos de entrenamiento. \n",
    "\n",
    "En general, [Goodfellow et. al. (Deep Learning 2016)](https://www.deeplearningbook.org/) definen la regularización como:\n",
    "\n",
    "    Estrategias diseñadas explícitamente para reducir el error de prueba, posiblemente a costa del error de entrenamiento. \n",
    "    \n",
    "A continuación veremos las más comunes para el entrenamiento de redes neuronales."
   ]
  },
  {
   "cell_type": "markdown",
   "metadata": {},
   "source": [
    "**1. Penalización de Parámetros:** Al igual que en el caso de de regresiones lineales, podemos añadir términos a la función de error (o pérdida) para evitar que los parámetros $\\mathcal{W}$ sean demasiado grandes.\n",
    "\n",
    "Recordemos que la función de error en las redes neuronales que mencionamos previamente es: \n",
    "\n",
    "$$\\mathcal{L}(\\mathbf{X},\\mathbf{y}_{actual},\\mathcal{W})=\\frac{1}{2}\\sum_{i=1}^N||\\mathbf{y}_{i\\ pred}(\\mathbf{x}_i,\\mathcal{W})-\\mathbf{y}_{i\\ actual}||^2.$$\n",
    "\n",
    "Notemos que no denotamos $\\mathbf{b}$ en la fórmula. Únicamente renombramos $\\mathbf{w}_0=-\\mathbf{b}$ y lo incluímos en $\\mathcal{W}$, considerando $\\mathbf{x}_0$ como un vector que tiene $-1$ en cada entrada.\n",
    "\n",
    "Podemos añadir un término de error que depende de los parámetros $\\lambda \\Omega(\\mathcal{W})$ de modo que la función de error a minimizar sea: \n",
    "\n",
    "$$\\mathcal{L}(\\mathbf{X},\\mathbf{y}_{actual},\\mathcal{W})=\\frac{1}{2}\\sum_{i=1}^N||\\mathbf{y}_{i\\ pred}(\\mathbf{x}_i,\\mathcal{W})-\\mathbf{y}_{i\\ actual}||^2 + \\lambda \\Omega(\\mathcal{W}).$$"
   ]
  },
  {
   "cell_type": "markdown",
   "metadata": {},
   "source": [
    "Lo más común es que $\\Omega(\\mathcal{W})$ sea una **p-norma** (también llamadas **Lp-normas**) ,i.e. \n",
    "\n",
    "$$\\Omega(\\mathcal{W})=\\left( |w_1|^p + |w_2|^p + \\dotsb + |w_n|^p \\right) ^{1/p}.$$\n",
    "\n",
    "**Obs:** p=1 corresponde a la regularización de valor absoluto utilizada en LASSO, mientras que p=2 corresponde a la regularización utilizada en Ridge. En estos casos, las propiedades de la regularización son los mismos que en el caso de regresión lineal. \n",
    "\n",
    "En $\\mathbb{R}^2$, las fronteras de las vecindades de radio 1 se grafican a continuación: "
   ]
  },
  {
   "cell_type": "markdown",
   "metadata": {},
   "source": [
    "<img src=\"https://upload.wikimedia.org/wikipedia/commons/thumb/d/d4/Vector-p-Norms_qtl1.svg/1024px-Vector-p-Norms_qtl1.svg.png\" width=500>"
   ]
  },
  {
   "cell_type": "markdown",
   "metadata": {},
   "source": [
    "**2. Bootstrapping y Validación-Cruzada:** Según la definición, estos métodos también puden considerarse como métodos de regularización, pues tienden a aumentar el error de entrenamiento, pero mejoran la generalización del modelo, i.e. el error de prueba al entrenar varios modelos con diferentes conjuntos de entrenamniento."
   ]
  },
  {
   "cell_type": "markdown",
   "metadata": {},
   "source": [
    "**3. Limitar el número de iteraciones (ealy stopping):** Al entrenar una red neuronal, nosotros especificamos el número de épocas en las que entrenaremos el algoritmo. Este número también es un híper-parámetro a optimizar en la construcción del modelo. \n",
    "\n",
    "Consideremos la siguiente gráfica:\n",
    "\n",
    "<img src=\"images/early_stopping.png\">"
   ]
  },
  {
   "cell_type": "markdown",
   "metadata": {},
   "source": [
    "Se observa que el error (pérdida) de entrenamiento disminuye continuamente, pero el error calculado sobre el conjunto de validación alcanza un mínimo y comienza aumentar. Esto significa que se está sobre-ajustando los datos de entrenamiento.\n",
    "\n",
    "Lo único que se requiere hacer es **fijarse en la época que da el mínimo error de validación y elegir los parámetros $\\mathcal{W}$ en ese punto**.\n",
    "\n",
    "**Obs:** La ventaja de este método es que no tenemos que hacer una búsqueda en una malla de parámetros, re-entrenando el algoritmo en cada caso. Únicamente necesitamos calcular el error de validación en cada época en el intervalo deseado.\n",
    "\n",
    "Se puede pensar que este método restringe al algoritmo de entrenamiento dentro una vecindad de los parámetros iniciales, por lo que también se considera como un método de regularización."
   ]
  },
  {
   "cell_type": "markdown",
   "metadata": {},
   "source": [
    "**4. Dropout:** Este método consiste en seleccionar de manera aleatoria nodos en las capas de entrada o en las capas ocultas y eliminar (fijar en cero) sus salidas. Esto se hace en cada iteración de entrenamiento:\n",
    "\n",
    "1. Se seleccionan los nodos a utilizar, cada uno seleccionado de manera independiente con cierta probabilidad $\\theta$.\n",
    "2. Se calcula la salida de la red $y_{predict}$.\n",
    "3. Se calcula el gradiente con backpropagation en la red reducida.\n",
    "4. Se modifican los parámetros según el gradiente obtenido."
   ]
  },
  {
   "cell_type": "markdown",
   "metadata": {},
   "source": [
    "<img src=\"https://cdn-images-1.medium.com/max/1400/1*skMXofkjeXtKzSr5lqIEmg.png\">"
   ]
  },
  {
   "cell_type": "markdown",
   "metadata": {},
   "source": [
    "Otra forma de entender esto es considerar un vector $\\mathbf{\\mu}_l(\\theta)$ en la capa $l$ de la red neuronal, llamado la **máscara** de la capa $l$. Cada entrada del vector es 0 (eliminar la salida) o 1 (conservar la salida). La máscara se aplica a todas las salidas de cada neurona.\n",
    "\n",
    "<img src=\"images/dropout_mask_horizontal.png\" width=600>"
   ]
  },
  {
   "cell_type": "markdown",
   "metadata": {},
   "source": [
    "La idea de implementar este método es evitar que la red neuronal dependa demasiado en conexiones o caminos específicos, lo cual tambien equivale a realizar regularización sobre los parámetros."
   ]
  },
  {
   "cell_type": "markdown",
   "metadata": {},
   "source": [
    "En tensorflow la máscara de cada capa se puede implementar mediante la función `tf.nn.dropout`. [[link]](https://www.tensorflow.org/api_docs/python/tf/nn/dropout) Por lo tanto, el código para implementar Dropout en una capa sería:"
   ]
  },
  {
   "cell_type": "code",
   "execution_count": null,
   "metadata": {},
   "outputs": [],
   "source": [
    "Y1 = tf.nn.relu(tf.matmul(X, W1) + B1)\n",
    "Y1d = tf.nn.dropout(Y1, pkeep) \n",
    "\n",
    "#pkeep es la probabilidad de retener la salida\n",
    "#rate = 1 - pkeep es la probabilidad de quitarla"
   ]
  },
  {
   "cell_type": "markdown",
   "metadata": {},
   "source": [
    "# Convolutional Neural Networks"
   ]
  },
  {
   "cell_type": "markdown",
   "metadata": {},
   "source": [
    "Ahora veremos un tipo especial de redes neuronales feedforward llamadas redes convolucionales. Hasta ahora, hemos visto únicamente redes de Perceptrón de Múltiples Capas (MLP) con operaciones como los que se muestran en la imagen:\n",
    "\n",
    "<img src=\"images/mlp_model.png\" width=700>"
   ]
  },
  {
   "cell_type": "markdown",
   "metadata": {},
   "source": [
    "Como hemos visto, este tipo de modelos pueden ser muy útiles para reconocimiento de imágenes. Sin embargo, tienen ciertas limitaciones:\n",
    "\n",
    "**1. Problemas de Dimensionalidad:** El número de parámetros que se requieren para una capa completamente conexa crece de manera cuadrática con el tamaño de la imagen. Por ejemplo, una imagen de 32 x 32 x 3 (3 canales RGB) equivale 3,072 entradas que se pasan a cada neurona de la primera capa. Una imagen de 200 x 200 x 3  equivale a 120,000 entradas por cada neurona!\n",
    "Esto hace difícil crear algoritmos eficientes de clasificación con imágenes de alta definición. \n",
    "\n",
    "**2. Ignora la posición espacial de los datos:** Al aplanar una imagen monocromática (2D) a un vector (1D) se ignora el comportamiento local de los pixeles en la imagen, i.e. se trata igual a puntos muy cercanos o muy lejanos en la imagen.\n",
    "\n",
    "<img src=\"http://testerstories.com/files/ai_and_ml/ml-mnist-2d-to-1d.png\" width=500>\n",
    "\n",
    "La situación es peor para imágenes de varios canales de color (3D):\n",
    "\n",
    "<img src=\"https://necromuralist.github.io/neural_networks/posts/image-to-vector/image2vector_kiank.png\">"
   ]
  },
  {
   "cell_type": "markdown",
   "metadata": {},
   "source": [
    "Para atacar estos problemas, las redes redes convolucionales utilizan las siguientes operaciones:"
   ]
  },
  {
   "cell_type": "markdown",
   "metadata": {},
   "source": [
    "### 1. **Convolución de Kernels, Filtros o Máscaras**"
   ]
  },
  {
   "cell_type": "markdown",
   "metadata": {},
   "source": [
    "Consideremos dos funciones $f(t):A \\subseteq \\mathbb{R} \\to \\mathbb{R} ,g(t): B \\subseteq \\mathbb{R} \\to \\mathbb{R}$. Entonces, la **convolución** de estas funciones se define como:\n",
    "\n",
    "$$s(t)=(f * g)(t) \\triangleq\\ \\int_{-\\infty}^\\infty f(\\tau) g(t - \\tau) \\, d\\tau$$\n",
    "\n",
    "Esto es una forma de calcular el \"traslape\" de ambas funciones haciento lo siguiente:\n",
    "\n",
    "1. Expresar ambas funciones en términos de una variable dummy $\\tau$\n",
    "2. Reflejar $g$: $g(\\tau) \\to (-\\tau)$\n",
    "3. Transladar $g$ en $t$: $g(-\\tau) \\to (t-\\tau)$.\n",
    "4. Integrar sobre $A \\cap B$. Si $A \\cap B \\subset \\mathbb{R}$, se pueden extender las funciones de modo que sean cero en $(A \\cap B) ^ \\complement$"
   ]
  },
  {
   "cell_type": "markdown",
   "metadata": {},
   "source": [
    "<img src=\"https://upload.wikimedia.org/wikipedia/commons/6/6a/Convolution_of_box_signal_with_itself2.gif\" width=500>\n",
    "<img src=\"https://upload.wikimedia.org/wikipedia/commons/b/b9/Convolution_of_spiky_function_with_box2.gif\" width=500>"
   ]
  },
  {
   "cell_type": "markdown",
   "metadata": {},
   "source": [
    "Usualmente, cuando trabajamos con información en la computadora esta se encuentra discretizada, como con vectores , por lo que la expresión para calcular la convolución será:\n",
    "\n",
    "$$s(t)=(f * g)(t) = \\sum_{i=-\\infty}^\\infty f(i) g(t - i).$$\n",
    "\n",
    "Si el dominio es finito, i.e. los vectores tienen un número finito de entradas, entonces se tiene que:\n",
    "\n",
    "$$s(t)=(f * g)(t) = \\sum_{i \\in I} f(i) g(t - i),$$\n",
    "\n",
    "con $I=\\{i_0, i_0+1,...,i_0+N\\}$. Típicamente $i_0=0$\n",
    "\n",
    "Finalmente, si $f$ y $g$ son funciones en 2D (matrices), entonces tenemos que:\n",
    "\n",
    "$$s(t,u)=(f * g)(t,u) = \\sum_{i = 0}^N \\sum_{j = 0}^M f(i,j) g(t - i, u - j).$$\n",
    "\n",
    "**Nota:** Existe una operación similar llamada correlación-cruzada (cross-correlation) que no refleja $g$:\n",
    "\n",
    "$$r(t)=(f \\star g)(t) \\triangleq\\ \\int_{-\\infty}^\\infty f(\\tau) g(t + \\tau) \\, d\\tau$$\n",
    "\n",
    "En términos de matrices 2D se tiene que: \n",
    "\n",
    "$$r(t,u)=(f \\star g)(t,u) = \\sum_{i = 0}^N \\sum_{j = 0}^M f(i,j) g(t + i, u + j).$$\n",
    "\n",
    "En Deep Learning, ambas operaciones se denominan convoluciones. Lo típico es que las paqueterías de software implementen correlación-cruzada, pero lo llamen convolución."
   ]
  },
  {
   "cell_type": "markdown",
   "metadata": {},
   "source": [
    "En procesamiento de imágenes, las imágenes monocromáticas se representan por matrices (2D), mientras que las imágenes a color con varios canales se representan como tensores de rango 3 (3D). En este caso, una de las funciones será la imagen, la otra función será el **filtro o kernel**, el cual se mueve sobre la imagen (cambiar t,u) para obtener diferentes valores de la convolución.\n",
    "\n",
    "<img src=\"images/convolution_diagram.png\" width=500>"
   ]
  },
  {
   "cell_type": "markdown",
   "metadata": {},
   "source": [
    "Comúnmente, el kernel es más pequeño que la imágen, por lo que cada salida sólo filtra una porción de la imágen. Notemos que, si el kernel no es de 1x1, no puede operar en las orillas de la imagen. En ese caso, la salida será más pequeña que la imagen original.\n",
    "\n",
    "<img src=\"https://mlnotebook.github.io/img/CNN/convSobel.gif\" width=400>\n",
    "\n",
    "Para solucionar esto, se puede extender la matriz de la imagen con un borde o **padding** de ceros.\n",
    "\n",
    "<img src=\"https://mlnotebook.github.io/img/CNN/convZeros.png\" width=400>\n",
    "\n",
    "A sí mismo, se puede ajustar el número de pixeles que se desplaza el kernel en cada dirección (en la visualización de arriba se mueve 1 en dirección horizontal y 1 en dirección vertical). A este parámetro de desplazamiento se le llama **stride**.\n",
    "\n",
    "Este método permite procesar imágenes de distinta manera según el filtro utilizado. [[link1]](https://en.wikipedia.org/wiki/Kernel_(image_processing)) [[link2]](https://mlnotebook.github.io/post/CNN1/)"
   ]
  },
  {
   "cell_type": "markdown",
   "metadata": {},
   "source": [
    "La forma en la que se integran las convoluciones a Deep Learning es **dejar que los valores del kernel sean pesos que se ajustan automáticamente en la red neuronal**. Por lo tanto, cada salida se puede expresar como una función de los pesos del kernel $\\mathbf{W}_i$ y una porción de la imagen $\\mathbf{X}_i$: \n",
    "\n",
    "$$y_i = \\mathbf{W}_i \\star \\mathbf{X}_i$$\n",
    "\n",
    "A sí mismo, a la salida se le puede sumar un sesgo $b_i$ y usar una función de activación $H$ de modo que:\n",
    "\n",
    "$$y_i =H(\\mathbf{W}_i \\star \\mathbf{X}_i + b_i).$$\n",
    "\n",
    "Por esta razón, cada salida se puede interpretar como una neurona y comúnmente se les llama **neuronas de convolución**. A la porción de la imagen que se introduce a la neurona se llama su **campo de recepción**."
   ]
  },
  {
   "cell_type": "markdown",
   "metadata": {},
   "source": [
    "Finalmente, se pueden aplicar distintos filtros a una imagen. Cada una de las salidas de los distintos filtros, se puede considerar como un **canal** de una nueva imagen. Estos canales se apilan uno sobre otro para crear una imagen compuesta de distintos canales.\n",
    "\n",
    "<img src=\"images/multi_filter_conv.gif\" width=600>\n",
    "\n"
   ]
  },
  {
   "cell_type": "markdown",
   "metadata": {},
   "source": [
    "### 2. **Pooling**"
   ]
  },
  {
   "cell_type": "markdown",
   "metadata": {},
   "source": [
    "Pooling es una ténica de reducción de muestreo que utiliza operaciones no-lineales para reducir el tamaño de cada canal de la imagen. Esto lo hace creando una partición de la imagen en subregiones rectangulares $X_i$ y aplicando una función a todas las entradas de la matriz (2D): **máximo**, promedio, norma L2, etc."
   ]
  },
  {
   "cell_type": "markdown",
   "metadata": {},
   "source": [
    "<img src=\"https://mlnotebook.github.io/img/CNN/poolfig.gif\">"
   ]
  },
  {
   "cell_type": "markdown",
   "metadata": {},
   "source": [
    "Al igual que con la convolución, estas capas son diferenciables y requieren que se le especifique el **tamaño del filtro** y el movimiento o **stride**."
   ]
  },
  {
   "cell_type": "markdown",
   "metadata": {},
   "source": [
    "Estas operaciones también pueden combinarse con capas de Perceptrones Multi-Capas. En general, se llama red convolucional a cualquier red neuronal que utilice convoluciones en vez del producto matricial en cualuquier punto de la red. La siguiente imagen muestra la arquitectura típica de una red convolucional utilizada en la vida real (AlexNet). \n",
    "\n",
    "<img src=\"https://cdn-images-1.medium.com/max/1200/1*wzflNwJw9QkjWWvTosXhNw.png\" width=700>"
   ]
  },
  {
   "cell_type": "markdown",
   "metadata": {},
   "source": [
    "Las operaciones de convolución y pooling tienen las siguientes características:\n",
    "\n",
    "1. **Arreglos 3D de Neuronas:** Las capas de convolución en una red convolucional, al igual que las imágenes, pueden formar estructuras 3-D (también 2-D o 1-D), comparados con las estructuras 1D de las redes feed-forward estándar (MLPs).\n",
    "\n",
    "2. **Conectividad Local:** Inspirados el funcionamiento de la corteza visual del cerebro, utilizan \"filtros\" que operan de manera local en cada imagen en el campo de recepción. \n",
    "\n",
    "3. **Pesos Compartidos y Equivarianza:** Cada filtro se aplica, por secciones, a toda la imagen. Con esto, las características se pueden detectar con los mismos pesos sin importar su lugar en la imagen. Esta propiedad se preserva ante translaciones de elementos en la imagen, por lo que se llama **Equivarianza de Translación**. Estas operaciones NO son equivariantes ante rotaciones o escalamiento de las imágenes.  \n",
    "\n",
    "4. **Down Sampling:** Los filtros (convolución y pooling) permiten reducir el tamaño de la imagen, obteniendo muestras de menor tamaño de la imagen.\n",
    "\n",
    "3. **Extracción de Características (Feature Extraction):** Agrupar varios filtros permite detectar o extraer de manera no-lineal características de la imagen útiles para su clasificación.\n",
    "\n",
    "<img src=\"https://cdn-images-1.medium.com/max/800/1*yZQjaMKHjm1HzDF4t4juzg.png\" width=500>"
   ]
  },
  {
   "cell_type": "markdown",
   "metadata": {},
   "source": [
    "Esto es una interpretación general del funcionamiento de este tipo de redes. En algunos casos, puede ser que las características extraídas, no se comporten como nosotros deseamos:\n",
    "\n",
    "<img src=\"images/confusing_a_cnn.png\">"
   ]
  },
  {
   "cell_type": "markdown",
   "metadata": {},
   "source": [
    "Este tipo de redes se usa principalmente para procesar imágenes, pero puede usarse en general con cualquier base de datos que tenga una estructura de malla.\n",
    "\n",
    "<img src=\"images/cnn_data_types.png\" width=500>"
   ]
  },
  {
   "cell_type": "markdown",
   "metadata": {},
   "source": [
    "**Nota:** Añadir canales distintos de un tipo de dato puede pensarse como agregar una dimensión al arreglo de datos (tenor). También, al considerar varias muestras de una base de datos (i.e. mini-batch SGD), estas pueden representarse como una dimensión adicional. "
   ]
  },
  {
   "cell_type": "markdown",
   "metadata": {},
   "source": [
    "# Implementación en Tensorflow"
   ]
  },
  {
   "cell_type": "code",
   "execution_count": 66,
   "metadata": {},
   "outputs": [
    {
     "name": "stdout",
     "output_type": "stream",
     "text": [
      "Once deleted, variables cannot be recovered. Proceed (y/[n])? y\n"
     ]
    }
   ],
   "source": [
    "%reset"
   ]
  },
  {
   "cell_type": "code",
   "execution_count": 24,
   "metadata": {},
   "outputs": [],
   "source": [
    "import tensorflow as tf\n",
    "import numpy as np"
   ]
  },
  {
   "cell_type": "code",
   "execution_count": 25,
   "metadata": {},
   "outputs": [
    {
     "name": "stdout",
     "output_type": "stream",
     "text": [
      "Extracting /tmp/data/train-images-idx3-ubyte.gz\n",
      "Extracting /tmp/data/train-labels-idx1-ubyte.gz\n",
      "Extracting /tmp/data/t10k-images-idx3-ubyte.gz\n",
      "Extracting /tmp/data/t10k-labels-idx1-ubyte.gz\n"
     ]
    }
   ],
   "source": [
    "from tensorflow.examples.tutorials.mnist import input_data\n",
    "mnist = input_data.read_data_sets(\"/tmp/data/\", one_hot = True)"
   ]
  },
  {
   "cell_type": "code",
   "execution_count": 26,
   "metadata": {},
   "outputs": [],
   "source": [
    "X_train, Y_train, X_test, Y_test=mnist.train.images, mnist.train.labels, mnist.test.images, mnist.test.labels\n",
    "X_val,Y_val=mnist.validation.images,mnist.validation.labels"
   ]
  },
  {
   "cell_type": "code",
   "execution_count": 27,
   "metadata": {},
   "outputs": [
    {
     "data": {
      "text/plain": [
       "(55000, 784)"
      ]
     },
     "execution_count": 27,
     "metadata": {},
     "output_type": "execute_result"
    }
   ],
   "source": [
    "X_train.shape #imagenes de 28x28"
   ]
  },
  {
   "cell_type": "markdown",
   "metadata": {},
   "source": [
    "Para tener un código más limpio, definiremos funciones para crear tensores que utilizaremos varias veces."
   ]
  },
  {
   "cell_type": "code",
   "execution_count": 28,
   "metadata": {},
   "outputs": [],
   "source": [
    "def weight_variable(shape):\n",
    "    initial = tf.truncated_normal(shape, stddev=0.1)\n",
    "    return tf.Variable(initial)\n",
    "\n",
    "def bias_variable(shape):\n",
    "    initial = tf.constant(0.1, shape=shape)\n",
    "    return tf.Variable(initial)\n",
    "\n",
    "def conv2d(x, W):\n",
    "    # stride [1, x_movement, y_movement, 1]\n",
    "    # Must have strides[0] = strides[3] = 1\n",
    "    return tf.nn.conv2d(x, W, strides=[1, 1, 1, 1], padding='SAME')\n",
    "\n",
    "def max_pool_2x2(x):\n",
    "    # ksize [1, x_size, y_size, 1] (kernel size)\n",
    "    # stride [1, x_movement, y_movement, 1]\n",
    "    return tf.nn.max_pool(x, ksize=[1,2,2,1], strides=[1,2,2,1], padding='SAME')"
   ]
  },
  {
   "cell_type": "markdown",
   "metadata": {},
   "source": [
    "Definimos la gráfica de operaciones: 2 capas de convolución y 2 capas completamente conectadas."
   ]
  },
  {
   "cell_type": "code",
   "execution_count": 33,
   "metadata": {},
   "outputs": [],
   "source": [
    "g_cnn=tf.Graph()\n",
    "with g_cnn.as_default():\n",
    "    # definir placeholders para las entradas de la red \n",
    "    X = tf.placeholder(tf.float32, [None, 784])   # 28x28\n",
    "    Ydata = tf.placeholder(tf.float32, [None, 10])\n",
    "    keep_prob = tf.placeholder(tf.float32)\n",
    "    x_image = tf.reshape(X, [-1, 28, 28, 1])  # regresar de vector a matriz\n",
    "    # print(x_image.shape)  # [n_samples, 28,28,1]\n",
    "    \n",
    "    ## convolution layer 1##\n",
    "    W_conv1 = weight_variable([5,5, 1,32]) # patch 5x5, 1 capa/canal de entrada, 32 canales de salida\n",
    "    b_conv1 = bias_variable([32])\n",
    "    h_conv1 = tf.nn.relu(conv2d(x_image, W_conv1) + b_conv1) # output size 28x28x32\n",
    "    h_pool1 = max_pool_2x2(h_conv1)                          # output size 14x14x32\n",
    "    \n",
    "    ## convolution layer 2##\n",
    "    W_conv2 = weight_variable([5,5, 32, 64]) # patch 5x5, in size 32, out size 64\n",
    "    b_conv2 = bias_variable([64])\n",
    "    h_conv2 = tf.nn.relu(conv2d(h_pool1, W_conv2) + b_conv2) # output size 14x14x64\n",
    "    h_pool2 = max_pool_2x2(h_conv2)                          # output size 7x7x64\n",
    "    \n",
    "    ## fullyconnected layer 1##\n",
    "    W_fc1 = weight_variable([7*7*64, 392])\n",
    "    b_fc1 = bias_variable([392])\n",
    "    # [n_samples, 7, 7, 64] ->> [n_samples, 7*7*64]\n",
    "    h_pool2_flat = tf.reshape(h_pool2, [-1, 7*7*64])\n",
    "    h_fc1 = tf.nn.relu(tf.matmul(h_pool2_flat, W_fc1) + b_fc1)\n",
    "    h_fc1_drop = tf.nn.dropout(h_fc1, rate=1.0-keep_prob)\n",
    "    \n",
    "    ## fullyconnected layer 2##\n",
    "    W_fc2 = weight_variable([392, 10])\n",
    "    b_fc2 = bias_variable([10])\n",
    "    Ymod = tf.nn.softmax(tf.matmul(h_fc1_drop, W_fc2) + b_fc2)\n",
    "    \n",
    "    \n",
    "    # función de error y algoritmo para minimizarla\n",
    "    cross_entropy = tf.reduce_mean(-tf.reduce_sum(Ydata * tf.log(Ymod),reduction_indices=[1])) \n",
    "    train_step = tf.train.AdamOptimizer(1e-4).minimize(cross_entropy)\n",
    "    \n",
    "    correct_prediction = tf.equal(tf.argmax(Ymod,1), tf.argmax(Ydata,1)) #compara horizontalmente,i.e. sobre cada vector one-hot\n",
    "    accuracy = tf.reduce_mean(tf.cast(correct_prediction, tf.float32)) #porcentaje de predicciones correctas"
   ]
  },
  {
   "cell_type": "markdown",
   "metadata": {},
   "source": [
    "Entrenamos la red neuronal con 15 épocas y dropout con 0.3 de probabilidad. Incluimos mediciones de tiempo y barra de progreso en entrenamiento y prueba."
   ]
  },
  {
   "cell_type": "code",
   "execution_count": 36,
   "metadata": {},
   "outputs": [
    {
     "data": {
      "application/vnd.jupyter.widget-view+json": {
       "model_id": "",
       "version_major": 2,
       "version_minor": 0
      },
      "text/plain": [
       "FloatProgress(value=0.0, description='Epoch 1', max=55000.0)"
      ]
     },
     "metadata": {},
     "output_type": "display_data"
    },
    {
     "name": "stdout",
     "output_type": "stream",
     "text": [
      "Finished Epoch 1 Epoch Loss 0.6269385235553439 Training Acc 87.13090912997723 %\n"
     ]
    },
    {
     "data": {
      "application/vnd.jupyter.widget-view+json": {
       "model_id": "",
       "version_major": 2,
       "version_minor": 0
      },
      "text/plain": [
       "FloatProgress(value=0.0, description='Epoch 2', max=55000.0)"
      ]
     },
     "metadata": {},
     "output_type": "display_data"
    },
    {
     "name": "stdout",
     "output_type": "stream",
     "text": [
      "Finished Epoch 2 Epoch Loss 0.17532761997797272 Training Acc 96.24545502662659 %\n"
     ]
    },
    {
     "data": {
      "application/vnd.jupyter.widget-view+json": {
       "model_id": "",
       "version_major": 2,
       "version_minor": 0
      },
      "text/plain": [
       "FloatProgress(value=0.0, description='Epoch 3', max=55000.0)"
      ]
     },
     "metadata": {},
     "output_type": "display_data"
    },
    {
     "name": "stdout",
     "output_type": "stream",
     "text": [
      "Finished Epoch 3 Epoch Loss 0.11882968978109684 Training Acc 97.5600008314306 %\n",
      "Finished Training in 3.227182654539744 minutes\n"
     ]
    },
    {
     "data": {
      "application/vnd.jupyter.widget-view+json": {
       "model_id": "",
       "version_major": 2,
       "version_minor": 0
      },
      "text/plain": [
       "FloatProgress(value=0.0, description='Testing', max=10000.0)"
      ]
     },
     "metadata": {},
     "output_type": "display_data"
    },
    {
     "name": "stdout",
     "output_type": "stream",
     "text": [
      "Finished Testing in 2.878779411315918 seconds\n",
      "Test Accuracy 97.90000116825104 %\n"
     ]
    }
   ],
   "source": [
    "from ipywidgets import FloatProgress\n",
    "from IPython.display import display\n",
    "import time\n",
    "\n",
    "start_time = time.time()\n",
    "\n",
    "no_of_epochs=3\n",
    "keep_probability=0.7\n",
    "batch_size=100\n",
    "\n",
    "with tf.Session(graph=g_cnn) as sess:\n",
    "    tf.global_variables_initializer().run()\n",
    "    saver= tf.train.Saver()\n",
    "    \n",
    "    #entrenamiento\n",
    "    for epoch in range(no_of_epochs):\n",
    "        \n",
    "        epoch_loss=0.0\n",
    "        t_acc=0.0\n",
    "        \n",
    "        # barra de progreso que se visualiza durante la ejecución\n",
    "        f = FloatProgress(min=0, max=mnist.train.num_examples,description='Epoch %d'%(epoch+1))\n",
    "        display(f) \n",
    "        \n",
    "        for i in range(int(mnist.train.num_examples/batch_size)): #una epoca se divide según el tamaño del batch \n",
    "            batch_xs, batch_ys = mnist.train.next_batch(batch_size) \n",
    "            train,loss=sess.run([train_step,cross_entropy], feed_dict={X: batch_xs, Ydata: batch_ys,\n",
    "                                                                       keep_prob: keep_probability})\n",
    "            acc=sess.run(accuracy, feed_dict={X: batch_xs, Ydata: batch_ys, keep_prob: 1.0})\n",
    "            epoch_loss+=(loss*batch_size) \n",
    "            t_acc+=(acc*batch_size)\n",
    "            f.value += batch_size #actualizar barra de progreso\n",
    "            \n",
    "        t_acc=t_acc/mnist.train.num_examples\n",
    "        epoch_loss=epoch_loss/mnist.train.num_examples #pérdida/error promedio en la época\n",
    "        f.close() #cerrar barra de progreso\n",
    "    \n",
    "        print(\"Finished Epoch\",epoch+1,\"Epoch Loss\",epoch_loss,\"Training Acc\",t_acc*100,\"%\") \n",
    "        \n",
    "    print(\"Finished Training in\",(time.time() - start_time)/60, \"minutes\")\n",
    "    save_path=saver.save(sess,\"saved_variables/cnn_mnist.ckpt\")\n",
    "    \n",
    "    #prueba\n",
    "    start_time = time.time()\n",
    "    test_acc=0.0\n",
    "    num_of_samples=0.0\n",
    "    \n",
    "    #barra de progreso de prueba\n",
    "    f = FloatProgress(min=0, max=mnist.test.num_examples,description='Testing')\n",
    "    display(f)\n",
    "    \n",
    "    for i in range(int(mnist.test.num_examples/batch_size)): #una epoca se divide según el tamaño del batch \n",
    "        batch_xs, batch_ys = mnist.test.next_batch(batch_size) \n",
    "        acc=sess.run(accuracy, feed_dict={X: batch_xs, Ydata: batch_ys, keep_prob: 1.0})\n",
    "        test_acc+=(acc*batch_size)\n",
    "        #num_of_samples+=batch_size\n",
    "        f.value += batch_size #actualizar barra de progreso\n",
    "    \n",
    "    test_acc=test_acc/mnist.test.num_examples\n",
    "    f.close() #cerrar barra de progreso\n",
    "    print(\"Finished Testing in\",time.time() - start_time, \"seconds\")\n",
    "    print(\"Test Accuracy\",test_acc*100,\"%\")"
   ]
  },
  {
   "cell_type": "markdown",
   "metadata": {},
   "source": [
    "# Implementación en Keras"
   ]
  },
  {
   "cell_type": "code",
   "execution_count": 108,
   "metadata": {},
   "outputs": [
    {
     "name": "stdout",
     "output_type": "stream",
     "text": [
      "Once deleted, variables cannot be recovered. Proceed (y/[n])? y\n"
     ]
    }
   ],
   "source": [
    "%reset"
   ]
  },
  {
   "cell_type": "code",
   "execution_count": 111,
   "metadata": {},
   "outputs": [],
   "source": [
    "import tensorflow as tf"
   ]
  },
  {
   "cell_type": "code",
   "execution_count": 126,
   "metadata": {},
   "outputs": [
    {
     "name": "stdout",
     "output_type": "stream",
     "text": [
      "Entrenamiento del Modelo\n",
      "Train on 60000 samples, validate on 10000 samples\n",
      "Epoch 1/3\n",
      "60000/60000 [==============================] - 246s 4ms/sample - loss: 0.1013 - acc: 0.9694 - val_loss: 0.0511 - val_acc: 0.9835\n",
      "Epoch 2/3\n",
      "60000/60000 [==============================] - 247s 4ms/sample - loss: 0.0395 - acc: 0.9879 - val_loss: 0.0355 - val_acc: 0.9890\n",
      "Epoch 3/3\n",
      "60000/60000 [==============================] - 250s 4ms/sample - loss: 0.0266 - acc: 0.9914 - val_loss: 0.0330 - val_acc: 0.9899\n",
      "\n",
      "Evaluación con Datos de Prueba\n",
      "10000/10000 [==============================] - 6s 555us/sample - loss: 0.0330 - acc: 0.9899\n"
     ]
    },
    {
     "data": {
      "text/plain": [
       "[0.03299169919589549, 0.9899]"
      ]
     },
     "execution_count": 126,
     "metadata": {},
     "output_type": "execute_result"
    }
   ],
   "source": [
    "from tensorflow.keras.models import Sequential\n",
    "from tensorflow.keras.layers import Dense, Conv2D, Flatten, Dropout\n",
    "\n",
    "mnist_keras = tf.keras.datasets.mnist\n",
    "(x_train, y_train),(x_test, y_test) = mnist_keras.load_data()\n",
    "x_train, x_test = x_train / 255.0, x_test / 255.0 #normalizamos los datos (0,255)->(0,1)\n",
    "\n",
    "x_train = x_train.reshape(60000,28,28,1) #(60000,28,28)-->(60000,28,28,1)\n",
    "x_test = x_test.reshape(10000,28,28,1) #(10000,28,28)-->(10000,28,28,1)\n",
    "\n",
    "tf.keras.backend.clear_session() #asegurarnos de que no interfiera con sesiones previas\n",
    "\n",
    "\n",
    "#crear el modelo\n",
    "model = Sequential()\n",
    "\n",
    "#añadir capas\n",
    "model.add(Conv2D(filters=32, kernel_size=(5,5), activation='relu', input_shape=(28,28,1)))\n",
    "model.add(Conv2D(filters=64, kernel_size=(5,5), activation='relu',input_shape=(14,14,32)))\n",
    "model.add(Flatten())\n",
    "model.add(Dense(392, activation='relu'))\n",
    "model.add(Dropout(rate=0.3))\n",
    "model.add(Dense(10, activation='softmax'))\n",
    "\n",
    "\n",
    "#compilar el modelo (definir métodos de entrenamiento y evaluación)\n",
    "model.compile(optimizer='adam', loss='sparse_categorical_crossentropy', metrics=['accuracy'])\n",
    "#sparse_categorical_crossentropy convierte las etiquetas a vectores one-hot\n",
    "\n",
    "\n",
    "#entrenar el modelo\n",
    "print(\"Entrenamiento del Modelo\")\n",
    "model.fit(x_train, y_train, validation_data=(x_test, y_test), epochs=3)\n",
    "\n",
    "print()\n",
    "print(\"Evaluación con Datos de Prueba\")\n",
    "model.evaluate(x_test, y_test)"
   ]
  },
  {
   "cell_type": "markdown",
   "metadata": {},
   "source": [
    "Aquí hay una visualización interactiva de como funciona la red neuronal con estos datos: [[link]](http://scs.ryerson.ca/~aharley/vis/)"
   ]
  },
  {
   "cell_type": "markdown",
   "metadata": {},
   "source": [
    "# Otros Tipos de Redes Neuronales"
   ]
  },
  {
   "cell_type": "markdown",
   "metadata": {},
   "source": [
    "<img src=\"https://cdn-images-1.medium.com/max/2400/1*cuTSPlTq0a_327iTPJyD-Q.png\" width=800>"
   ]
  },
  {
   "cell_type": "markdown",
   "metadata": {},
   "source": [
    "### Spiking Neural Networks"
   ]
  },
  {
   "cell_type": "markdown",
   "metadata": {},
   "source": [
    "<img src=\"images/snn_models.png\">"
   ]
  },
  {
   "cell_type": "markdown",
   "metadata": {},
   "source": [
    "<img src=\"images/snn_simulation_landscape.png\">"
   ]
  },
  {
   "cell_type": "code",
   "execution_count": 31,
   "metadata": {
    "scrolled": false
   },
   "outputs": [
    {
     "data": {
      "image/jpeg": "[encoded data removed]",
      "text/html": [
       "\n",
       "        <iframe\n",
       "            width=\"960\"\n",
       "            height=\"720\"\n",
       "            src=\"https://www.youtube.com/embed/3JQ3hYko51Y\"\n",
       "            frameborder=\"0\"\n",
       "            allowfullscreen\n",
       "        ></iframe>\n",
       "        "
      ],
      "text/plain": [
       "<IPython.lib.display.YouTubeVideo at 0x7f2f4c220b00>"
      ]
     },
     "execution_count": 31,
     "metadata": {},
     "output_type": "execute_result"
    }
   ],
   "source": [
    "from IPython.display import YouTubeVideo\n",
    "YouTubeVideo('3JQ3hYko51Y',width=\"960\",height=\"720\")"
   ]
  },
  {
   "cell_type": "markdown",
   "metadata": {},
   "source": [
    "# Referencias"
   ]
  },
  {
   "cell_type": "markdown",
   "metadata": {},
   "source": [
    "- [Mohammed Bennamoun: Multi-Layer Perceptron and Backpropagation](https://www.slideshare.net/MohammedBennamoun/neural-networks-multilayer-perceptron-backpropagation)\n",
    "- [Martin Gorner: Tensorflow Without a PHD](https://codelabs.developers.google.com/codelabs/cloud-tensorflow-mnist/#0)\n",
    "- [Tensorflow Documentation: Tensorboard, Visualizing Learning](https://www.tensorflow.org/guide/summaries_and_tensorboard)\n",
    "- [Easy Tensorflow: Embedding Visualization](https://www.easy-tensorflow.com/tf-tutorials/tensorboard/tb-embedding-visualization)\n",
    "- [Towards Data Science: How to Improve a Neural Network with Regularization](https://towardsdatascience.com/how-to-improve-a-neural-network-with-regularization-8a18ecda9fe3)\n",
    "- [Goodfellow et. al. 2016: Deep Learning, Capítulos 7 y 8](https://www.deeplearningbook.org/)\n",
    "- [Rob Robinson: Convolutional Neural Networks - Basics](https://mlnotebook.github.io/post/CNN1/)\n",
    "- [Wikipedia: Convolutional Neural Network](https://en.wikipedia.org/wiki/Convolutional_neural_network)\n",
    "- [Zhou M. : Tensorflow 19 - CNN Example Using MNIST - Neural Network Tutorials](https://github.com/MorvanZhou/tutorials/blob/master/tensorflowTUT/tf18_CNN3/full_code.py)\n",
    "- [Adam W. Harley: An Interactive Node-Link Visualization of Convolutional Neural Networks](http://scs.ryerson.ca/~aharley/vis/)\n",
    "- [The Mostly Complete Chart of Neural Networks, Explained](https://towardsdatascience.com/the-mostly-complete-chart-of-neural-networks-explained-3fb6f2367464)\n",
    "- [Neelava Sengpta: Spiking Neural Networks](https://onedrive.live.com/view.aspx?resid=E5B30858C0A33D63!24994&ithint=file%2cpptx&authkey=!ADVNDFc-pgY3C98)"
   ]
  },
  {
   "cell_type": "code",
   "execution_count": null,
   "metadata": {},
   "outputs": [],
   "source": []
  }
 ],
 "metadata": {
  "kernelspec": {
   "display_name": "Python 3",
   "language": "python",
   "name": "python3"
  },
  "language_info": {
   "codemirror_mode": {
    "name": "ipython",
    "version": 3
   },
   "file_extension": ".py",
   "mimetype": "text/x-python",
   "name": "python",
   "nbconvert_exporter": "python",
   "pygments_lexer": "ipython3",
   "version": "3.7.2"
  }
 },
 "nbformat": 4,
 "nbformat_minor": 2
}
