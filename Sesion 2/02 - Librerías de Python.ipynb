{
 "cells": [
  {
   "cell_type": "markdown",
   "metadata": {},
   "source": [
    "# Solución del Ejercicio de la Sesión Anterior"
   ]
  },
  {
   "cell_type": "code",
   "execution_count": 5,
   "metadata": {},
   "outputs": [],
   "source": [
    "def is_prime(number):\n",
    "    prime=True\n",
    "    for n in range(2,number):\n",
    "        if number%n==0 and number>1:\n",
    "            prime=False\n",
    "    return(prime)"
   ]
  },
  {
   "cell_type": "code",
   "execution_count": 17,
   "metadata": {},
   "outputs": [],
   "source": [
    "def prime_counter(limit):\n",
    "    counter=0\n",
    "    for i in range(2,limit):\n",
    "        if is_prime(i)==True: #if is_prime(i)\n",
    "            counter+=1\n",
    "            #print(i)\n",
    "    return(counter)"
   ]
  },
  {
   "cell_type": "code",
   "execution_count": 18,
   "metadata": {},
   "outputs": [
    {
     "data": {
      "text/plain": [
       "1229"
      ]
     },
     "execution_count": 18,
     "metadata": {},
     "output_type": "execute_result"
    }
   ],
   "source": [
    "prime_counter(10000)"
   ]
  },
  {
   "cell_type": "markdown",
   "metadata": {},
   "source": [
    "# Librerías"
   ]
  },
  {
   "cell_type": "markdown",
   "metadata": {},
   "source": [
    "### ¿Qué son las librerías?"
   ]
  },
  {
   "cell_type": "markdown",
   "metadata": {},
   "source": [
    "\n",
    "Una forma eficiente de consolidar aún más sus habilidades es aprender a emplear una amplia gama de paquetes que Python y su comunidad en expansión ofrecen ampliamente.\n",
    "\n",
    "Un paquete o librería es un conjunto de módulos de Python que, de una forma u otra, extienden y aumentan el funcionamiento básico de Python. Python se distribuye con la biblioteca estándar de módulos (por ejemplo, sys, os, re, math) que sirven para propósitos de programación general.\n",
    "\n",
    "Una libería debe ser importado explícitamente usando la declaración de importación. Hay varias formas de hacerlo. La más simple (y ordenada) es:\n",
    "\n",
    "```\n",
    ">>> import math\n",
    ">>> print(math.pi)\n",
    ">>> print(math.log(2.0))\n",
    "```\n",
    "De esta manera, siempre que utilizemos una función, tipo, clase, etc. importada de alguna librería, sabremos de qué paquete viene. Esto es útil para diferenciar funciones de distintos paquetes con el mismo nombre (e.g. `math.cos` y `numpy.cos`).\n",
    "\n",
    "También se puede importar funciones específicas de una libería utilizando la siguiente notación:\n",
    "\n",
    "```\n",
    ">>> from math import log\n",
    ">>> print(log(2.0))\n",
    "```\n",
    "\n",
    "En este caso, la función importada (log ()) se puede llamar directamente sin el nombre del paquete en cuestión. En realidad se pueden importar todas las funciones de un módulo:\n",
    "\n",
    "```\n",
    ">>> from math import *\n",
    "```\n",
    "\n",
    "\n",
    "Si no te sientes cómodo con el nombre de un paquete, se puede escribir la llamada de importación de la siguiente manera:\n",
    "\n",
    "```\n",
    ">>> import math as m\n",
    ">>> print(m.pi)\n",
    "```\n"
   ]
  },
  {
   "cell_type": "markdown",
   "metadata": {},
   "source": [
    "A continuación introduciremos las liberías más comunes que se utilizan para ciencia de datos."
   ]
  },
  {
   "cell_type": "markdown",
   "metadata": {},
   "source": [
    "# 1.- MATH"
   ]
  },
  {
   "cell_type": "code",
   "execution_count": 20,
   "metadata": {},
   "outputs": [],
   "source": [
    "import math"
   ]
  },
  {
   "cell_type": "markdown",
   "metadata": {},
   "source": [
    "El módulo **math** incluye una serie de funciones matemáticas básicas: funciones trigonométricas, exponenciales, logaritmos, etc."
   ]
  },
  {
   "cell_type": "code",
   "execution_count": 11,
   "metadata": {},
   "outputs": [
    {
     "data": {
      "text/plain": [
       "2.0"
      ]
     },
     "execution_count": 11,
     "metadata": {},
     "output_type": "execute_result"
    }
   ],
   "source": [
    "4**(1/2.) #operación con el núcleo básico de python"
   ]
  },
  {
   "cell_type": "code",
   "execution_count": 21,
   "metadata": {},
   "outputs": [
    {
     "data": {
      "text/plain": [
       "2.0"
      ]
     },
     "execution_count": 21,
     "metadata": {},
     "output_type": "execute_result"
    }
   ],
   "source": [
    "math.sqrt(4)"
   ]
  },
  {
   "cell_type": "code",
   "execution_count": 23,
   "metadata": {},
   "outputs": [
    {
     "data": {
      "text/plain": [
       "1.0"
      ]
     },
     "execution_count": 23,
     "metadata": {},
     "output_type": "execute_result"
    }
   ],
   "source": [
    "math.cos(0)"
   ]
  },
  {
   "cell_type": "code",
   "execution_count": 31,
   "metadata": {},
   "outputs": [
    {
     "data": {
      "text/plain": [
       "3.141592653589793"
      ]
     },
     "execution_count": 31,
     "metadata": {},
     "output_type": "execute_result"
    }
   ],
   "source": [
    "math.radians(180)"
   ]
  },
  {
   "cell_type": "code",
   "execution_count": 35,
   "metadata": {},
   "outputs": [
    {
     "data": {
      "text/plain": [
       "1307674368000"
      ]
     },
     "execution_count": 35,
     "metadata": {},
     "output_type": "execute_result"
    }
   ],
   "source": [
    "math.factorial(15)"
   ]
  },
  {
   "cell_type": "markdown",
   "metadata": {},
   "source": [
    "A sí mismo se introducen constantes numéricas como $\\pi$ y $e$."
   ]
  },
  {
   "cell_type": "code",
   "execution_count": 24,
   "metadata": {},
   "outputs": [
    {
     "data": {
      "text/plain": [
       "3.141592653589793"
      ]
     },
     "execution_count": 24,
     "metadata": {},
     "output_type": "execute_result"
    }
   ],
   "source": [
    "math.pi"
   ]
  },
  {
   "cell_type": "code",
   "execution_count": 25,
   "metadata": {},
   "outputs": [
    {
     "data": {
      "text/plain": [
       "2.718281828459045"
      ]
     },
     "execution_count": 25,
     "metadata": {},
     "output_type": "execute_result"
    }
   ],
   "source": [
    "math.e"
   ]
  },
  {
   "cell_type": "code",
   "execution_count": 28,
   "metadata": {},
   "outputs": [
    {
     "data": {
      "text/plain": [
       "-1.2246467991473532e-16"
      ]
     },
     "execution_count": 28,
     "metadata": {},
     "output_type": "execute_result"
    }
   ],
   "source": [
    "math.tan(math.pi) #aún así está limitado por la presición numérica de la representación de la máquina"
   ]
  },
  {
   "cell_type": "code",
   "execution_count": 36,
   "metadata": {},
   "outputs": [
    {
     "data": {
      "text/plain": [
       "24"
      ]
     },
     "execution_count": 36,
     "metadata": {},
     "output_type": "execute_result"
    }
   ],
   "source": [
    "import sys\n",
    "sys.getsizeof(math.pi) #el número de bits que se utilizan para representar un objeto"
   ]
  },
  {
   "cell_type": "markdown",
   "metadata": {},
   "source": [
    "#### Listado de funciones con math:\n",
    "* https://www.programiz.com/python-programming/modules/math"
   ]
  },
  {
   "cell_type": "markdown",
   "metadata": {},
   "source": [
    "# 2.-Numpy"
   ]
  },
  {
   "cell_type": "code",
   "execution_count": 3,
   "metadata": {},
   "outputs": [],
   "source": [
    "import numpy as np #convención"
   ]
  },
  {
   "cell_type": "markdown",
   "metadata": {},
   "source": [
    "## Arreglos"
   ]
  },
  {
   "cell_type": "markdown",
   "metadata": {},
   "source": [
    "El principal objeto de NumPy es la matriz multidimensional homogénea, también llamada **array** o **arreglo**. Es una tabla de elementos (generalmente números), todos del mismo tipo, indexados por una tupla de enteros positivos. En NumPy las dimensiones se llaman ejes.\n",
    "\n",
    "Se puede decir que NumPy es el paquete esencial para casi cualquier computación científica en Python. Proporciona el soporte de arreglos multidimensionales altamente optimizados junto con una amplia gama de rutinas avanzadas para operaciones rápidas en estos arreglos. NumPy también ofrece la infraestructura fundamental para otros paquetes científicos, incluidos pandas y Matplotlib. Para más detalles puedes consultar el [Manual de NumPy](https://docs.scipy.org/doc/numpy-1.15.1/reference/index.html)."
   ]
  },
  {
   "cell_type": "markdown",
   "metadata": {},
   "source": [
    "#### Material de referencia:\n",
    "* https://docs.scipy.org/doc/numpy-1.15.0/user/quickstart.html"
   ]
  },
  {
   "cell_type": "markdown",
   "metadata": {},
   "source": [
    "#### Definir arreglos"
   ]
  },
  {
   "cell_type": "code",
   "execution_count": 49,
   "metadata": {},
   "outputs": [],
   "source": [
    "v= np.array([1,2]) #se le debe pasar una lista como argumento"
   ]
  },
  {
   "cell_type": "code",
   "execution_count": 50,
   "metadata": {},
   "outputs": [
    {
     "data": {
      "text/plain": [
       "numpy.ndarray"
      ]
     },
     "execution_count": 50,
     "metadata": {},
     "output_type": "execute_result"
    }
   ],
   "source": [
    "type(v)"
   ]
  },
  {
   "cell_type": "markdown",
   "metadata": {},
   "source": [
    "__OJO!__"
   ]
  },
  {
   "cell_type": "code",
   "execution_count": 77,
   "metadata": {},
   "outputs": [
    {
     "ename": "ValueError",
     "evalue": "only 2 non-keyword arguments accepted",
     "output_type": "error",
     "traceback": [
      "\u001b[0;31m---------------------------------------------------------------------------\u001b[0m",
      "\u001b[0;31mValueError\u001b[0m                                Traceback (most recent call last)",
      "\u001b[0;32m<ipython-input-77-a30e552de84d>\u001b[0m in \u001b[0;36m<module>\u001b[0;34m()\u001b[0m\n\u001b[0;32m----> 1\u001b[0;31m \u001b[0mv\u001b[0m \u001b[0;34m=\u001b[0m \u001b[0mnp\u001b[0m\u001b[0;34m.\u001b[0m\u001b[0marray\u001b[0m\u001b[0;34m(\u001b[0m\u001b[0;36m1\u001b[0m\u001b[0;34m,\u001b[0m\u001b[0;36m2\u001b[0m\u001b[0;34m,\u001b[0m\u001b[0;36m3\u001b[0m\u001b[0;34m)\u001b[0m \u001b[0;31m#esto es un error muy común\u001b[0m\u001b[0;34m\u001b[0m\u001b[0;34m\u001b[0m\u001b[0m\n\u001b[0m",
      "\u001b[0;31mValueError\u001b[0m: only 2 non-keyword arguments accepted"
     ]
    }
   ],
   "source": [
    "v = np.array(1,2,3) #esto es un error muy común"
   ]
  },
  {
   "cell_type": "code",
   "execution_count": 51,
   "metadata": {},
   "outputs": [
    {
     "data": {
      "text/plain": [
       "array([0, 1, 2, 3, 4])"
      ]
     },
     "execution_count": 51,
     "metadata": {},
     "output_type": "execute_result"
    }
   ],
   "source": [
    "v = np.array([i for i in range(5)]) #análogo a un vector \n",
    "v"
   ]
  },
  {
   "cell_type": "code",
   "execution_count": 71,
   "metadata": {},
   "outputs": [],
   "source": [
    "u= np.array([[1.,2.],[3.,4.]]) #análogo a una matriz"
   ]
  },
  {
   "cell_type": "markdown",
   "metadata": {},
   "source": [
    "El tipo de variable de los elementeos también se puede definir al momento de definir un arreglo. Se hace la conversión automáticamente."
   ]
  },
  {
   "cell_type": "code",
   "execution_count": 86,
   "metadata": {},
   "outputs": [
    {
     "data": {
      "text/plain": [
       "array([1.+0.j, 2.+0.j, 3.+0.j])"
      ]
     },
     "execution_count": 86,
     "metadata": {},
     "output_type": "execute_result"
    }
   ],
   "source": [
    "np.array([1,2,3],dtype=complex) "
   ]
  },
  {
   "cell_type": "markdown",
   "metadata": {},
   "source": [
    "También existen funciones específicas que facilitan la creación de arreglos."
   ]
  },
  {
   "cell_type": "code",
   "execution_count": 87,
   "metadata": {},
   "outputs": [
    {
     "data": {
      "text/plain": [
       "array([[0., 0., 0.],\n",
       "       [0., 0., 0.]])"
      ]
     },
     "execution_count": 87,
     "metadata": {},
     "output_type": "execute_result"
    }
   ],
   "source": [
    "np.zeros((2,3))"
   ]
  },
  {
   "cell_type": "code",
   "execution_count": 89,
   "metadata": {},
   "outputs": [
    {
     "data": {
      "text/plain": [
       "array([[[1, 1, 1],\n",
       "        [1, 1, 1]],\n",
       "\n",
       "       [[1, 1, 1],\n",
       "        [1, 1, 1]]])"
      ]
     },
     "execution_count": 89,
     "metadata": {},
     "output_type": "execute_result"
    }
   ],
   "source": [
    "np.ones((2,2,3),dtype=int)"
   ]
  },
  {
   "cell_type": "code",
   "execution_count": 97,
   "metadata": {},
   "outputs": [
    {
     "name": "stdout",
     "output_type": "stream",
     "text": [
      "[ 0 10 20 30 40 50 60 70 80 90]\n",
      "[ 0 -1 -2 -3 -4 -5 -6 -7 -8 -9]\n"
     ]
    },
    {
     "data": {
      "text/plain": [
       "array([], dtype=int64)"
      ]
     },
     "execution_count": 97,
     "metadata": {},
     "output_type": "execute_result"
    }
   ],
   "source": [
    "print(np.arange(0,100,10)) # se especifica (start,end,step)\n",
    "print(np.arange(0,-10,-1)) #también puede ser negativo\n",
    "np.arange(0,-2,3) # si no es válido regresa un array vació "
   ]
  },
  {
   "cell_type": "code",
   "execution_count": 102,
   "metadata": {},
   "outputs": [
    {
     "data": {
      "text/plain": [
       "array([ 0.,  1.,  2.,  3.,  4.,  5.,  6.,  7.,  8.,  9., 10.])"
      ]
     },
     "execution_count": 102,
     "metadata": {},
     "output_type": "execute_result"
    }
   ],
   "source": [
    "np.linspace(0,10,11) #se especifica (start,end,number of elements) \n",
    "#incluye inicio y final a diferencia de range() y de los cortes de listas"
   ]
  },
  {
   "cell_type": "markdown",
   "metadata": {},
   "source": [
    "### Métodos Básicos con Arreglos"
   ]
  },
  {
   "cell_type": "markdown",
   "metadata": {},
   "source": [
    "Hay una serie de métodos básicos que son importantes para conocer más información de los arreglos."
   ]
  },
  {
   "cell_type": "code",
   "execution_count": 72,
   "metadata": {},
   "outputs": [
    {
     "name": "stdout",
     "output_type": "stream",
     "text": [
      "(5,) (2, 2)\n"
     ]
    }
   ],
   "source": [
    "print(v.shape, u.shape) #v es un vector de 5 entradas y u es una matriz de 2x2"
   ]
  },
  {
   "cell_type": "code",
   "execution_count": 70,
   "metadata": {},
   "outputs": [
    {
     "name": "stdout",
     "output_type": "stream",
     "text": [
      "1 2\n"
     ]
    }
   ],
   "source": [
    "print(v.ndim,u.ndim) #esto también es el número de índices necesarios para la representación"
   ]
  },
  {
   "cell_type": "code",
   "execution_count": 85,
   "metadata": {},
   "outputs": [
    {
     "name": "stdout",
     "output_type": "stream",
     "text": [
      "int64 float64\n"
     ]
    }
   ],
   "source": [
    "print(v.dtype,u.dtype) #el tipo de variable de los elementos"
   ]
  },
  {
   "cell_type": "code",
   "execution_count": 80,
   "metadata": {},
   "outputs": [
    {
     "data": {
      "text/plain": [
       "(array([[1, 2],\n",
       "        [3, 4]]), array(['0', '1', '2', '3', '4'], dtype='<U21'))"
      ]
     },
     "execution_count": 80,
     "metadata": {},
     "output_type": "execute_result"
    }
   ],
   "source": [
    "u.astype(int), v.astype(str) #también se pueden convertir arreglos de un tipo a otro una vez definidos"
   ]
  },
  {
   "cell_type": "markdown",
   "metadata": {},
   "source": [
    "Al igual que **Math**, numpy define una serie de funciones y constantes matemáticas básicas, aunque no son exactamente iguales. "
   ]
  },
  {
   "cell_type": "code",
   "execution_count": 128,
   "metadata": {},
   "outputs": [
    {
     "data": {
      "text/plain": [
       "(2.718281828459045, 3.141592653589793)"
      ]
     },
     "execution_count": 128,
     "metadata": {},
     "output_type": "execute_result"
    }
   ],
   "source": [
    "np.e, np.pi"
   ]
  },
  {
   "cell_type": "code",
   "execution_count": 126,
   "metadata": {},
   "outputs": [
    {
     "data": {
      "text/plain": [
       "-1.2246467991473532e-16"
      ]
     },
     "execution_count": 126,
     "metadata": {},
     "output_type": "execute_result"
    }
   ],
   "source": [
    "np.tan(np.pi) "
   ]
  },
  {
   "cell_type": "code",
   "execution_count": 123,
   "metadata": {},
   "outputs": [
    {
     "data": {
      "text/plain": [
       "(array([ 0.        ,  0.84147098,  0.90929743,  0.14112001, -0.7568025 ]),\n",
       " array([[ 2.71828183,  7.3890561 ],\n",
       "        [20.08553692, 54.59815003]]))"
      ]
     },
     "execution_count": 123,
     "metadata": {},
     "output_type": "execute_result"
    }
   ],
   "source": [
    "np.sin(v) , np.exp(u) # se pueden aplicar funciones a arrays, coordenada a coordenadaa"
   ]
  },
  {
   "cell_type": "code",
   "execution_count": 130,
   "metadata": {},
   "outputs": [
    {
     "ename": "TypeError",
     "evalue": "only size-1 arrays can be converted to Python scalars",
     "output_type": "error",
     "traceback": [
      "\u001b[0;31m---------------------------------------------------------------------------\u001b[0m",
      "\u001b[0;31mTypeError\u001b[0m                                 Traceback (most recent call last)",
      "\u001b[0;32m<ipython-input-130-27db076afd67>\u001b[0m in \u001b[0;36m<module>\u001b[0;34m()\u001b[0m\n\u001b[0;32m----> 1\u001b[0;31m \u001b[0mmath\u001b[0m\u001b[0;34m.\u001b[0m\u001b[0msin\u001b[0m\u001b[0;34m(\u001b[0m\u001b[0mv\u001b[0m\u001b[0;34m)\u001b[0m\u001b[0;34m\u001b[0m\u001b[0;34m\u001b[0m\u001b[0m\n\u001b[0m",
      "\u001b[0;31mTypeError\u001b[0m: only size-1 arrays can be converted to Python scalars"
     ]
    }
   ],
   "source": [
    "math.sin(v) #en math no se puede operar sobre arrays"
   ]
  },
  {
   "cell_type": "code",
   "execution_count": 12,
   "metadata": {},
   "outputs": [
    {
     "name": "stdout",
     "output_type": "stream",
     "text": [
      "[[185.42  185.42  185.42  190.5   182.88  185.42  193.04  185.42  195.58\n",
      "  190.5  ]\n",
      " [ 86.26   85.806  96.248  90.8    99.88   90.8   106.69   95.794  86.26\n",
      "   99.426]] (2, 10)\n"
     ]
    }
   ],
   "source": [
    "heights = [185.42,  185.42,  185.42,  190.5 ,  182.88,  185.42,  193.04,\n",
    "        185.42,  195.58,  190.5 ]\n",
    "weights = [86.26 ,   85.806,   96.248,   90.8  ,   99.88 ,   90.8  ,\n",
    "        106.69 ,   95.794,   86.26 ,   99.426]\n",
    "\n",
    "np_heights=np.array(heights)\n",
    "np_weights=np.array(weights)\n",
    "players = np.array([heights, weights])\n",
    "print(players,players.shape)"
   ]
  },
  {
   "cell_type": "code",
   "execution_count": 14,
   "metadata": {},
   "outputs": [
    {
     "name": "stdout",
     "output_type": "stream",
     "text": [
      "Arrays 1-D\n",
      "195.58\n",
      "187.95999999999998\n",
      "185.42\n",
      "3.9349510797467415\n",
      "[[1.         0.07507615]\n",
      " [0.07507615 1.        ]]\n",
      "\n",
      " Arrays 2-D\n",
      "140.8782\n",
      "[135.84  135.613 140.834 140.65  141.38  138.11  149.865 140.607 140.92\n",
      " 144.963]\n",
      "[187.96    93.7964]\n"
     ]
    }
   ],
   "source": [
    "print(\"Arrays 1-D\")\n",
    "print(np.max(np_heights)) \n",
    "print(np.mean(np_heights)) \n",
    "print(np.median(np_heights)) \n",
    "print(np.std(np_heights)) # standard deviation\n",
    "print(np.corrcoef(np_heights, np_weights)) # Pearson's correlation coefficient\n",
    "\n",
    "print(\"\\n Arrays 2-D\")\n",
    "print(np.mean(players)) # total mean\n",
    "print(np.mean(players, axis=0)) # promedio de las filas\n",
    "print(np.mean(players, axis=1)) # promedio de las columnas"
   ]
  },
  {
   "cell_type": "markdown",
   "metadata": {},
   "source": [
    "### Índices y Cortes de Arreglos"
   ]
  },
  {
   "cell_type": "markdown",
   "metadata": {},
   "source": [
    "Para facilitarnos la vida, la notación para acceder a elementos de arreglos mediante índices y cortes es análoga a la de listas."
   ]
  },
  {
   "cell_type": "code",
   "execution_count": 131,
   "metadata": {},
   "outputs": [
    {
     "data": {
      "text/plain": [
       "(0, 4)"
      ]
     },
     "execution_count": 131,
     "metadata": {},
     "output_type": "execute_result"
    }
   ],
   "source": [
    "v[0],v[-1]"
   ]
  },
  {
   "cell_type": "code",
   "execution_count": 146,
   "metadata": {},
   "outputs": [
    {
     "data": {
      "text/plain": [
       "array([2, 3, 4])"
      ]
     },
     "execution_count": 146,
     "metadata": {},
     "output_type": "execute_result"
    }
   ],
   "source": [
    "v[2::1]"
   ]
  },
  {
   "cell_type": "markdown",
   "metadata": {},
   "source": [
    "Únicamente debemos tener cuidado cuando se trata de arreglos multidimensionales."
   ]
  },
  {
   "cell_type": "code",
   "execution_count": 138,
   "metadata": {},
   "outputs": [
    {
     "name": "stdout",
     "output_type": "stream",
     "text": [
      "[[1. 2.]\n",
      " [3. 4.]]\n"
     ]
    }
   ],
   "source": [
    "print(u)"
   ]
  },
  {
   "cell_type": "code",
   "execution_count": 143,
   "metadata": {},
   "outputs": [
    {
     "data": {
      "text/plain": [
       "array([2., 4.])"
      ]
     },
     "execution_count": 143,
     "metadata": {},
     "output_type": "execute_result"
    }
   ],
   "source": [
    "u[:,1] #selecciona todos los valores del primer índice y sólo 1 en el segundo"
   ]
  },
  {
   "cell_type": "code",
   "execution_count": 147,
   "metadata": {},
   "outputs": [
    {
     "data": {
      "text/plain": [
       "array([1., 2.])"
      ]
     },
     "execution_count": 147,
     "metadata": {},
     "output_type": "execute_result"
    }
   ],
   "source": [
    "u[:][0]"
   ]
  },
  {
   "cell_type": "markdown",
   "metadata": {},
   "source": [
    "### Operaciones con arreglos"
   ]
  },
  {
   "cell_type": "markdown",
   "metadata": {},
   "source": [
    "A diferencia de las listas, las operaciones que se hacen con arreglos actúan coordenada a coordenada, similar que los vectores en algebra lineal."
   ]
  },
  {
   "cell_type": "markdown",
   "metadata": {},
   "source": [
    "#### Multiplicar arreglo por escalar"
   ]
  },
  {
   "cell_type": "code",
   "execution_count": 46,
   "metadata": {},
   "outputs": [
    {
     "data": {
      "text/plain": [
       "array([ 0,  3,  6,  9, 12])"
      ]
     },
     "execution_count": 46,
     "metadata": {},
     "output_type": "execute_result"
    }
   ],
   "source": [
    "3*v"
   ]
  },
  {
   "cell_type": "markdown",
   "metadata": {},
   "source": [
    "#### Sumar una constante a un arreglo"
   ]
  },
  {
   "cell_type": "code",
   "execution_count": 60,
   "metadata": {},
   "outputs": [
    {
     "data": {
      "text/plain": [
       "array([1, 2, 3, 4, 5])"
      ]
     },
     "execution_count": 60,
     "metadata": {},
     "output_type": "execute_result"
    }
   ],
   "source": [
    "v + 1"
   ]
  },
  {
   "cell_type": "markdown",
   "metadata": {},
   "source": [
    "#### Sumar arreglos"
   ]
  },
  {
   "cell_type": "code",
   "execution_count": 47,
   "metadata": {},
   "outputs": [
    {
     "data": {
      "text/plain": [
       "array([0, 2, 4, 6, 8])"
      ]
     },
     "execution_count": 47,
     "metadata": {},
     "output_type": "execute_result"
    }
   ],
   "source": [
    "v + v"
   ]
  },
  {
   "cell_type": "markdown",
   "metadata": {},
   "source": [
    "#### Multiplicar arreglos"
   ]
  },
  {
   "cell_type": "markdown",
   "metadata": {},
   "source": [
    "__OJO!__"
   ]
  },
  {
   "cell_type": "code",
   "execution_count": 83,
   "metadata": {},
   "outputs": [
    {
     "data": {
      "text/plain": [
       "array([[ 1.,  4.],\n",
       "       [ 9., 16.]])"
      ]
     },
     "execution_count": 83,
     "metadata": {},
     "output_type": "execute_result"
    }
   ],
   "source": [
    "u*u #esto no es una multiplicación de matrices, es multiplicación coordenada a coordenada"
   ]
  },
  {
   "cell_type": "markdown",
   "metadata": {},
   "source": [
    "#### Potencias de arreglos"
   ]
  },
  {
   "cell_type": "code",
   "execution_count": 48,
   "metadata": {},
   "outputs": [
    {
     "data": {
      "text/plain": [
       "array([ 0,  1,  4,  9, 16])"
      ]
     },
     "execution_count": 48,
     "metadata": {},
     "output_type": "execute_result"
    }
   ],
   "source": [
    "v**2"
   ]
  },
  {
   "cell_type": "markdown",
   "metadata": {},
   "source": [
    "#### Producto punto"
   ]
  },
  {
   "cell_type": "code",
   "execution_count": 52,
   "metadata": {},
   "outputs": [
    {
     "data": {
      "text/plain": [
       "30"
      ]
     },
     "execution_count": 52,
     "metadata": {},
     "output_type": "execute_result"
    }
   ],
   "source": [
    "np.dot(v, v)"
   ]
  },
  {
   "cell_type": "markdown",
   "metadata": {},
   "source": [
    "#### Filtrado en arreglos"
   ]
  },
  {
   "cell_type": "markdown",
   "metadata": {},
   "source": [
    "Las operaciones coordenada a coordenada nos permiten también hacer comparaciones y filtrados de valores"
   ]
  },
  {
   "cell_type": "code",
   "execution_count": 36,
   "metadata": {},
   "outputs": [
    {
     "name": "stdout",
     "output_type": "stream",
     "text": [
      "['Infielder' 'Infielder' 'Outfielder' 'Pitcher' 'Outfielder' 'Catcher'\n",
      " 'Pitcher' 'Infielder' 'Pitcher' 'Infielder']\n",
      "[False False False  True False False  True False  True False] <class 'numpy.ndarray'>\n"
     ]
    },
    {
     "data": {
      "text/plain": [
       "array([190.5 , 193.04, 195.58])"
      ]
     },
     "execution_count": 36,
     "metadata": {},
     "output_type": "execute_result"
    }
   ],
   "source": [
    "# definimos un array de strings\n",
    "posiciones = np.array(['Infielder', 'Infielder', 'Outfielder', 'Pitcher', 'Outfielder',\n",
    "       'Catcher', 'Pitcher', 'Infielder', 'Pitcher', 'Infielder'])\n",
    "print(posiciones)\n",
    "\n",
    "# filtrar por un valor específico\n",
    "es_pitcher = (posiciones == 'Pitcher') #crea un array de booleanos\n",
    "print(es_pitcher, type(es_pitcher)) \n",
    "\n",
    "heights = [185.42,  185.42,  185.42,  190.5 ,  182.88,  185.42,  193.04,\n",
    "        185.42,  195.58,  190.5 ]\n",
    "np_heights=np.array(heights)\n",
    "\n",
    "np_heights[es_pitcher] #podemos seleccionar valores de un array en función del filtro que construimos"
   ]
  },
  {
   "cell_type": "markdown",
   "metadata": {},
   "source": [
    "### Concatenar Arreglos "
   ]
  },
  {
   "cell_type": "markdown",
   "metadata": {},
   "source": [
    "Otra operación importante será la de concatenar arreglos de diferentes maneras."
   ]
  },
  {
   "cell_type": "code",
   "execution_count": 171,
   "metadata": {},
   "outputs": [],
   "source": [
    "a=np.zeros((3,2))\n",
    "b=np.ones((1,2))"
   ]
  },
  {
   "cell_type": "code",
   "execution_count": 182,
   "metadata": {},
   "outputs": [
    {
     "data": {
      "text/plain": [
       "array([[0., 0.],\n",
       "       [0., 0.],\n",
       "       [0., 0.],\n",
       "       [1., 1.]])"
      ]
     },
     "execution_count": 182,
     "metadata": {},
     "output_type": "execute_result"
    }
   ],
   "source": [
    "np.vstack((a,b))"
   ]
  },
  {
   "cell_type": "code",
   "execution_count": 169,
   "metadata": {},
   "outputs": [
    {
     "data": {
      "text/plain": [
       "array([[0., 0., 0.],\n",
       "       [0., 0., 0.]])"
      ]
     },
     "execution_count": 169,
     "metadata": {},
     "output_type": "execute_result"
    }
   ],
   "source": [
    "a.T # transposición, sirve para arreglos de 1 o 2 dimensiones"
   ]
  },
  {
   "cell_type": "code",
   "execution_count": 178,
   "metadata": {},
   "outputs": [
    {
     "data": {
      "text/plain": [
       "array([[0., 0., 0., 1.],\n",
       "       [0., 0., 0., 1.]])"
      ]
     },
     "execution_count": 178,
     "metadata": {},
     "output_type": "execute_result"
    }
   ],
   "source": [
    "np.hstack((a.T,b.T))"
   ]
  },
  {
   "cell_type": "code",
   "execution_count": 188,
   "metadata": {},
   "outputs": [
    {
     "data": {
      "text/plain": [
       "array([[1., 1.],\n",
       "       [1., 1.]])"
      ]
     },
     "execution_count": 188,
     "metadata": {},
     "output_type": "execute_result"
    }
   ],
   "source": [
    "np.concatenate((b,b),axis=0) #equivalente a vstack"
   ]
  },
  {
   "cell_type": "code",
   "execution_count": 187,
   "metadata": {},
   "outputs": [
    {
     "data": {
      "text/plain": [
       "array([[1., 1., 1., 1.]])"
      ]
     },
     "execution_count": 187,
     "metadata": {},
     "output_type": "execute_result"
    }
   ],
   "source": [
    "np.concatenate((b,b),axis=1) #equivalente a hstack"
   ]
  },
  {
   "cell_type": "markdown",
   "metadata": {},
   "source": [
    "## Matrices"
   ]
  },
  {
   "cell_type": "markdown",
   "metadata": {},
   "source": [
    "Las matrices son también un tipo específico de objeto en numpy que tienen métodos especiales definidos para ellas, por lo que no son exactamente iguales a arreglos de 2x2."
   ]
  },
  {
   "cell_type": "code",
   "execution_count": 58,
   "metadata": {},
   "outputs": [
    {
     "data": {
      "text/plain": [
       "matrix([[1, 2],\n",
       "        [3, 4]])"
      ]
     },
     "execution_count": 58,
     "metadata": {},
     "output_type": "execute_result"
    }
   ],
   "source": [
    "M = np.matrix([[1, 2], [3, 4]])\n",
    "M "
   ]
  },
  {
   "cell_type": "code",
   "execution_count": 61,
   "metadata": {},
   "outputs": [
    {
     "data": {
      "text/plain": [
       "numpy.matrixlib.defmatrix.matrix"
      ]
     },
     "execution_count": 61,
     "metadata": {},
     "output_type": "execute_result"
    }
   ],
   "source": [
    "type(M)"
   ]
  },
  {
   "cell_type": "markdown",
   "metadata": {},
   "source": [
    "#### Operacions básicas"
   ]
  },
  {
   "cell_type": "code",
   "execution_count": 55,
   "metadata": {},
   "outputs": [
    {
     "data": {
      "text/plain": [
       "matrix([[ 7, 10],\n",
       "        [15, 22]])"
      ]
     },
     "execution_count": 55,
     "metadata": {},
     "output_type": "execute_result"
    }
   ],
   "source": [
    "M*M #esto es diferente a la multiplicación de arrays de 2x2"
   ]
  },
  {
   "cell_type": "code",
   "execution_count": 56,
   "metadata": {
    "scrolled": true
   },
   "outputs": [
    {
     "data": {
      "text/plain": [
       "matrix([[1, 3],\n",
       "        [2, 4]])"
      ]
     },
     "execution_count": 56,
     "metadata": {},
     "output_type": "execute_result"
    }
   ],
   "source": [
    "np.transpose(M)"
   ]
  },
  {
   "cell_type": "code",
   "execution_count": 77,
   "metadata": {},
   "outputs": [
    {
     "data": {
      "text/plain": [
       "5"
      ]
     },
     "execution_count": 77,
     "metadata": {},
     "output_type": "execute_result"
    }
   ],
   "source": [
    "np.trace(M)"
   ]
  },
  {
   "cell_type": "code",
   "execution_count": 59,
   "metadata": {},
   "outputs": [
    {
     "data": {
      "text/plain": [
       "-2.0000000000000004"
      ]
     },
     "execution_count": 59,
     "metadata": {},
     "output_type": "execute_result"
    }
   ],
   "source": [
    "np.linalg.det(M)"
   ]
  },
  {
   "cell_type": "markdown",
   "metadata": {},
   "source": [
    "### 3.- Matplotlib"
   ]
  },
  {
   "cell_type": "markdown",
   "metadata": {},
   "source": [
    "**Matplotlib** es una libería muy útil en Python que se utiliza para graficar datos y configurar dichas gráficas."
   ]
  },
  {
   "cell_type": "markdown",
   "metadata": {},
   "source": [
    "#### Listado de ejemplos:\n",
    "* https://matplotlib.org/tutorials/introductory/sample_plots.html"
   ]
  },
  {
   "cell_type": "code",
   "execution_count": 4,
   "metadata": {},
   "outputs": [],
   "source": [
    "from matplotlib import pyplot as plt #convencion"
   ]
  },
  {
   "cell_type": "code",
   "execution_count": 32,
   "metadata": {},
   "outputs": [],
   "source": [
    "%matplotlib inline #en algunos equipos se requiere utilizar también esta línea para poder graficar dentro del notebook"
   ]
  },
  {
   "cell_type": "markdown",
   "metadata": {},
   "source": [
    "Definiremos datos dummy para graficar."
   ]
  },
  {
   "cell_type": "code",
   "execution_count": 2,
   "metadata": {},
   "outputs": [],
   "source": [
    "x = [i*.2 for i in range(-10,11)]\n",
    "y = [i**2 for i in x]\n",
    "z = [i**3 for i in x]"
   ]
  },
  {
   "cell_type": "markdown",
   "metadata": {},
   "source": [
    "La notación básica de Matplotlib para graficar es la siguiente."
   ]
  },
  {
   "cell_type": "code",
   "execution_count": 196,
   "metadata": {},
   "outputs": [
    {
     "data": {
      "image/png": "[encoded data removed]",
      "text/plain": [
       "<matplotlib.figure.Figure at 0x7fe05ea3f4e0>"
      ]
     },
     "metadata": {},
     "output_type": "display_data"
    }
   ],
   "source": [
    "plt.plot(x,y)\n",
    "plt.show() #despliega únicamente la gráfica, regresa un objeto si no se incluye, prueba quitándo esta línea"
   ]
  },
  {
   "cell_type": "markdown",
   "metadata": {},
   "source": [
    "También funciona con arreglos de Numpy."
   ]
  },
  {
   "cell_type": "code",
   "execution_count": 198,
   "metadata": {},
   "outputs": [
    {
     "data": {
      "image/png": "[encoded data removed]",
      "text/plain": [
       "<matplotlib.figure.Figure at 0x7fe05ea1a1d0>"
      ]
     },
     "metadata": {},
     "output_type": "display_data"
    }
   ],
   "source": [
    "plt.plot(np.array(x),np.array(y))\n",
    "plt.show()"
   ]
  },
  {
   "cell_type": "markdown",
   "metadata": {},
   "source": [
    "Se pueden graficar varias series de datos en una misma imagen."
   ]
  },
  {
   "cell_type": "code",
   "execution_count": 201,
   "metadata": {},
   "outputs": [
    {
     "data": {
      "image/png": "[encoded data removed]",
      "text/plain": [
       "<matplotlib.figure.Figure at 0x7fe05eb03da0>"
      ]
     },
     "metadata": {},
     "output_type": "display_data"
    }
   ],
   "source": [
    "plt.plot(x, y, label = \"cuadrado\")\n",
    "plt.plot(x, z, label = \"cubo\")\n",
    "plt.show()"
   ]
  },
  {
   "cell_type": "markdown",
   "metadata": {},
   "source": [
    "Hay varios comandos con los que podemos configurar las gráficas para mejorar su claridad."
   ]
  },
  {
   "cell_type": "code",
   "execution_count": 7,
   "metadata": {},
   "outputs": [
    {
     "data": {
      "image/png": "[encoded data removed]",
      "text/plain": [
       "<matplotlib.figure.Figure at 0x7f0610003128>"
      ]
     },
     "metadata": {},
     "output_type": "display_data"
    }
   ],
   "source": [
    "###Plotear dos variables. Label se usa para desplegar la leyenda\n",
    "plt.plot(x, y, \"s\",label = \"cuadrado\") # s denota cuadrados\n",
    "plt.plot(x, z,\"o\", label = \"cubo\") # o denota círculos\n",
    "\n",
    "##Nombre de los ejes\n",
    "plt.xlabel(\"x\")\n",
    "plt.ylabel(\"f(x)\")\n",
    "\n",
    "###Límites del eje y\n",
    "plt.ylim([-10, 10])\n",
    "\n",
    "###Título, leyenda, cuadrícula\n",
    "plt.title(\"Funciones\")\n",
    "plt.legend()\n",
    "plt.grid()\n",
    "plt.savefig(\"text.png\")\n",
    "plt.show()\n",
    "\n",
    "###Guardar\n"
   ]
  },
  {
   "cell_type": "markdown",
   "metadata": {},
   "source": [
    "Otras funciones útiles serán las funciones `hist` y `scatter`."
   ]
  },
  {
   "cell_type": "code",
   "execution_count": 58,
   "metadata": {},
   "outputs": [
    {
     "data": {
      "image/png": "[encoded data removed]",
      "text/plain": [
       "<matplotlib.figure.Figure at 0x7f844789de80>"
      ]
     },
     "metadata": {},
     "output_type": "display_data"
    }
   ],
   "source": [
    "plt.hist(heights, bins=15);    # \";\" sirve para evitar desplegar lo que escupe print"
   ]
  },
  {
   "cell_type": "code",
   "execution_count": 60,
   "metadata": {},
   "outputs": [
    {
     "data": {
      "image/png": "[encoded data removed]",
      "text/plain": [
       "<matplotlib.figure.Figure at 0x7f84478064a8>"
      ]
     },
     "metadata": {},
     "output_type": "display_data"
    }
   ],
   "source": [
    "heights = MLB_df['Height'] * 2.54\n",
    "weights = MLB_df['Weight'] * 0.45\n",
    "\n",
    "plt.scatter(heights, weights, c='r') #graficar en color rojo\n",
    "plt.show()"
   ]
  },
  {
   "cell_type": "markdown",
   "metadata": {
    "collapsed": true
   },
   "source": [
    "### 4.- Pandas (Python Data Analytics)"
   ]
  },
  {
   "cell_type": "markdown",
   "metadata": {},
   "source": [
    "** Pandas ** es una biblioteca de código abierto que proporciona estructuras de datos y herramientas de análisis de datos rápidas, flexibles y fáciles de usar para Python.\n",
    "Las dos estructuras de datos principales de pandas, ** Series ** (1-dimensional) y ** DataFrame ** (2-dimensional), le permiten trabajar con datos * etiquetados * tales como datos tabulares de forma sencilla e intuitiva.\n",
    "Dado que pandas está casi perfectamente integrado con NumPy, estas estructuras de datos también proporcionan una interfaz útil entre los datos del mundo real y el cálculo de alto rendimiento proporcionado por NumPy.\n",
    "\n",
    "El siguiente libro, que fue escrito por el desarrollador de pandas, es una buena introducción a este paquete: [McKinney, Wes. 2013. * Python para análisis de datos *. O'Reilly.](http://pandas.pydata.org/pandas-docs/stable/index.html)\n"
   ]
  },
  {
   "cell_type": "code",
   "execution_count": 5,
   "metadata": {},
   "outputs": [
    {
     "data": {
      "text/html": [
       "<div>\n",
       "<table border=\"1\" class=\"dataframe\">\n",
       "  <thead>\n",
       "    <tr style=\"text-align: right;\">\n",
       "      <th></th>\n",
       "      <th>Height</th>\n",
       "      <th>Weight</th>\n",
       "    </tr>\n",
       "  </thead>\n",
       "  <tbody>\n",
       "    <tr>\n",
       "      <th>Tony Graffanino</th>\n",
       "      <td>185.42</td>\n",
       "      <td>86.260</td>\n",
       "    </tr>\n",
       "    <tr>\n",
       "      <th>Rich Aurilia</th>\n",
       "      <td>185.42</td>\n",
       "      <td>85.806</td>\n",
       "    </tr>\n",
       "    <tr>\n",
       "      <th>Geoff Jenkins</th>\n",
       "      <td>185.42</td>\n",
       "      <td>96.248</td>\n",
       "    </tr>\n",
       "    <tr>\n",
       "      <th>Travis Bowyer</th>\n",
       "      <td>190.50</td>\n",
       "      <td>90.800</td>\n",
       "    </tr>\n",
       "    <tr>\n",
       "      <th>Sammy Sosa</th>\n",
       "      <td>182.88</td>\n",
       "      <td>99.880</td>\n",
       "    </tr>\n",
       "    <tr>\n",
       "      <th>Josh Paul</th>\n",
       "      <td>185.42</td>\n",
       "      <td>90.800</td>\n",
       "    </tr>\n",
       "    <tr>\n",
       "      <th>Jose Capellan</th>\n",
       "      <td>193.04</td>\n",
       "      <td>106.690</td>\n",
       "    </tr>\n",
       "    <tr>\n",
       "      <th>Shea Hillenbrand</th>\n",
       "      <td>185.42</td>\n",
       "      <td>95.794</td>\n",
       "    </tr>\n",
       "    <tr>\n",
       "      <th>Bronson Arroyo</th>\n",
       "      <td>195.58</td>\n",
       "      <td>86.260</td>\n",
       "    </tr>\n",
       "    <tr>\n",
       "      <th>Corey Koskie</th>\n",
       "      <td>190.50</td>\n",
       "      <td>99.426</td>\n",
       "    </tr>\n",
       "  </tbody>\n",
       "</table>\n",
       "</div>"
      ],
      "text/plain": [
       "                  Height   Weight\n",
       "Tony Graffanino   185.42   86.260\n",
       "Rich Aurilia      185.42   85.806\n",
       "Geoff Jenkins     185.42   96.248\n",
       "Travis Bowyer     190.50   90.800\n",
       "Sammy Sosa        182.88   99.880\n",
       "Josh Paul         185.42   90.800\n",
       "Jose Capellan     193.04  106.690\n",
       "Shea Hillenbrand  185.42   95.794\n",
       "Bronson Arroyo    195.58   86.260\n",
       "Corey Koskie      190.50   99.426"
      ]
     },
     "execution_count": 5,
     "metadata": {},
     "output_type": "execute_result"
    }
   ],
   "source": [
    "# Construcción del primer dataframe\n",
    "\n",
    "import pandas as pd # Convención\n",
    "\n",
    "# Definir los datos\n",
    "heights = [185.42,  185.42,  185.42,  190.5 ,  182.88,  185.42,  193.04,\n",
    "        185.42,  195.58,  190.5 ]\n",
    "weights = [86.26 ,   85.806,   96.248,   90.8  ,   99.88 ,   90.8  ,\n",
    "        106.69 ,   95.794,   86.26 ,   99.426]\n",
    "# Definir un diccionario\n",
    "players_dict = {'Height':heights, 'Weight':weights}\n",
    "\n",
    "# Indices\n",
    "names = ['Tony Graffanino', 'Rich Aurilia', 'Geoff Jenkins', 'Travis Bowyer',\n",
    "       'Sammy Sosa', 'Josh Paul', 'Jose Capellan', 'Shea Hillenbrand',\n",
    "       'Bronson Arroyo', 'Corey Koskie']\n",
    "\n",
    "# El segundo argumento puede ser omitido.En ese caso lo índices serán sólo números\n",
    "players_df = pd.DataFrame(players_dict, index=names)\n",
    "\n",
    "# Visualizar\n",
    "players_df"
   ]
  },
  {
   "cell_type": "code",
   "execution_count": 3,
   "metadata": {},
   "outputs": [
    {
     "name": "stdout",
     "output_type": "stream",
     "text": [
      "<class 'pandas.core.frame.DataFrame'>\n",
      "(10, 2)\n"
     ]
    }
   ],
   "source": [
    "print(type(players_df))\n",
    "print(players_df.shape)"
   ]
  },
  {
   "cell_type": "markdown",
   "metadata": {},
   "source": [
    "Sin embargo, si está tratando con una cantidad considerable de datos, otra forma de definir un DataFrame, es decir, importar datos directamente de fuentes externas, es mucho más práctica y eficiente que la anterior.\n",
    "Enfocándonos aquí en formatos de datos tabulares basados ​​en texto, como el archivo CSV (valores separados por comas), usamos una función pandas muy útil `pandas.read_csv()`.  \n",
    "Todo lo que tiene que hacer es dar la ubicación de su archivo (y otras configuraciones si es necesario) a esta función.\n",
    "\n",
    "__<u>Nota:</u>__ Existe un grupo de funciones (`open()`, `read()`, `write()`, etc.,) para importar y exportar datos de text (.txt) pero el formato es diferente a lo que se puede hacer con Pandas (ver [the official Python reference](https://docs.python.org/3/library/functions.html)).\n"
   ]
  },
  {
   "cell_type": "code",
   "execution_count": 16,
   "metadata": {},
   "outputs": [
    {
     "data": {
      "text/html": [
       "<div>\n",
       "<table border=\"1\" class=\"dataframe\">\n",
       "  <thead>\n",
       "    <tr style=\"text-align: right;\">\n",
       "      <th></th>\n",
       "      <th>Team</th>\n",
       "      <th>Position</th>\n",
       "      <th>Height</th>\n",
       "      <th>Weight</th>\n",
       "      <th>Age</th>\n",
       "      <th>PosCategory</th>\n",
       "    </tr>\n",
       "    <tr>\n",
       "      <th>Name</th>\n",
       "      <th></th>\n",
       "      <th></th>\n",
       "      <th></th>\n",
       "      <th></th>\n",
       "      <th></th>\n",
       "      <th></th>\n",
       "    </tr>\n",
       "  </thead>\n",
       "  <tbody>\n",
       "    <tr>\n",
       "      <th>Adam_Donachie</th>\n",
       "      <td>BAL</td>\n",
       "      <td>Catcher</td>\n",
       "      <td>74</td>\n",
       "      <td>180</td>\n",
       "      <td>22.99</td>\n",
       "      <td>Catcher</td>\n",
       "    </tr>\n",
       "    <tr>\n",
       "      <th>Paul_Bako</th>\n",
       "      <td>BAL</td>\n",
       "      <td>Catcher</td>\n",
       "      <td>74</td>\n",
       "      <td>215</td>\n",
       "      <td>34.69</td>\n",
       "      <td>Catcher</td>\n",
       "    </tr>\n",
       "    <tr>\n",
       "      <th>Ramon_Hernandez</th>\n",
       "      <td>BAL</td>\n",
       "      <td>Catcher</td>\n",
       "      <td>72</td>\n",
       "      <td>210</td>\n",
       "      <td>30.78</td>\n",
       "      <td>Catcher</td>\n",
       "    </tr>\n",
       "    <tr>\n",
       "      <th>Kevin_Millar</th>\n",
       "      <td>BAL</td>\n",
       "      <td>First_Baseman</td>\n",
       "      <td>72</td>\n",
       "      <td>210</td>\n",
       "      <td>35.43</td>\n",
       "      <td>Infielder</td>\n",
       "    </tr>\n",
       "    <tr>\n",
       "      <th>Chris_Gomez</th>\n",
       "      <td>BAL</td>\n",
       "      <td>First_Baseman</td>\n",
       "      <td>73</td>\n",
       "      <td>188</td>\n",
       "      <td>35.71</td>\n",
       "      <td>Infielder</td>\n",
       "    </tr>\n",
       "    <tr>\n",
       "      <th>Brian_Roberts</th>\n",
       "      <td>BAL</td>\n",
       "      <td>Second_Baseman</td>\n",
       "      <td>69</td>\n",
       "      <td>176</td>\n",
       "      <td>29.39</td>\n",
       "      <td>Infielder</td>\n",
       "    </tr>\n",
       "    <tr>\n",
       "      <th>Miguel_Tejada</th>\n",
       "      <td>BAL</td>\n",
       "      <td>Shortstop</td>\n",
       "      <td>69</td>\n",
       "      <td>209</td>\n",
       "      <td>30.77</td>\n",
       "      <td>Infielder</td>\n",
       "    </tr>\n",
       "    <tr>\n",
       "      <th>Melvin_Mora</th>\n",
       "      <td>BAL</td>\n",
       "      <td>Third_Baseman</td>\n",
       "      <td>71</td>\n",
       "      <td>200</td>\n",
       "      <td>35.07</td>\n",
       "      <td>Infielder</td>\n",
       "    </tr>\n",
       "    <tr>\n",
       "      <th>Aubrey_Huff</th>\n",
       "      <td>BAL</td>\n",
       "      <td>Third_Baseman</td>\n",
       "      <td>76</td>\n",
       "      <td>231</td>\n",
       "      <td>30.19</td>\n",
       "      <td>Infielder</td>\n",
       "    </tr>\n",
       "    <tr>\n",
       "      <th>Adam_Stern</th>\n",
       "      <td>BAL</td>\n",
       "      <td>Outfielder</td>\n",
       "      <td>71</td>\n",
       "      <td>180</td>\n",
       "      <td>27.05</td>\n",
       "      <td>Outfielder</td>\n",
       "    </tr>\n",
       "    <tr>\n",
       "      <th>Jeff_Fiorentino</th>\n",
       "      <td>BAL</td>\n",
       "      <td>Outfielder</td>\n",
       "      <td>73</td>\n",
       "      <td>188</td>\n",
       "      <td>23.88</td>\n",
       "      <td>Outfielder</td>\n",
       "    </tr>\n",
       "    <tr>\n",
       "      <th>Freddie_Bynum</th>\n",
       "      <td>BAL</td>\n",
       "      <td>Outfielder</td>\n",
       "      <td>73</td>\n",
       "      <td>180</td>\n",
       "      <td>26.96</td>\n",
       "      <td>Outfielder</td>\n",
       "    </tr>\n",
       "    <tr>\n",
       "      <th>Nick_Markakis</th>\n",
       "      <td>BAL</td>\n",
       "      <td>Outfielder</td>\n",
       "      <td>74</td>\n",
       "      <td>185</td>\n",
       "      <td>23.29</td>\n",
       "      <td>Outfielder</td>\n",
       "    </tr>\n",
       "    <tr>\n",
       "      <th>Brandon_Fahey</th>\n",
       "      <td>BAL</td>\n",
       "      <td>Outfielder</td>\n",
       "      <td>74</td>\n",
       "      <td>160</td>\n",
       "      <td>26.11</td>\n",
       "      <td>Outfielder</td>\n",
       "    </tr>\n",
       "    <tr>\n",
       "      <th>Corey_Patterson</th>\n",
       "      <td>BAL</td>\n",
       "      <td>Outfielder</td>\n",
       "      <td>69</td>\n",
       "      <td>180</td>\n",
       "      <td>27.55</td>\n",
       "      <td>Outfielder</td>\n",
       "    </tr>\n",
       "    <tr>\n",
       "      <th>Jay_Payton</th>\n",
       "      <td>BAL</td>\n",
       "      <td>Outfielder</td>\n",
       "      <td>70</td>\n",
       "      <td>185</td>\n",
       "      <td>34.27</td>\n",
       "      <td>Outfielder</td>\n",
       "    </tr>\n",
       "    <tr>\n",
       "      <th>Erik_Bedard</th>\n",
       "      <td>BAL</td>\n",
       "      <td>Starting_Pitcher</td>\n",
       "      <td>73</td>\n",
       "      <td>189</td>\n",
       "      <td>27.99</td>\n",
       "      <td>Pitcher</td>\n",
       "    </tr>\n",
       "    <tr>\n",
       "      <th>Hayden_Penn</th>\n",
       "      <td>BAL</td>\n",
       "      <td>Starting_Pitcher</td>\n",
       "      <td>75</td>\n",
       "      <td>185</td>\n",
       "      <td>22.38</td>\n",
       "      <td>Pitcher</td>\n",
       "    </tr>\n",
       "    <tr>\n",
       "      <th>Adam_Loewen</th>\n",
       "      <td>BAL</td>\n",
       "      <td>Starting_Pitcher</td>\n",
       "      <td>78</td>\n",
       "      <td>219</td>\n",
       "      <td>22.89</td>\n",
       "      <td>Pitcher</td>\n",
       "    </tr>\n",
       "    <tr>\n",
       "      <th>Daniel_Cabrera</th>\n",
       "      <td>BAL</td>\n",
       "      <td>Starting_Pitcher</td>\n",
       "      <td>79</td>\n",
       "      <td>230</td>\n",
       "      <td>25.76</td>\n",
       "      <td>Pitcher</td>\n",
       "    </tr>\n",
       "    <tr>\n",
       "      <th>Steve_Trachsel</th>\n",
       "      <td>BAL</td>\n",
       "      <td>Starting_Pitcher</td>\n",
       "      <td>76</td>\n",
       "      <td>205</td>\n",
       "      <td>36.33</td>\n",
       "      <td>Pitcher</td>\n",
       "    </tr>\n",
       "    <tr>\n",
       "      <th>Jaret_Wright</th>\n",
       "      <td>BAL</td>\n",
       "      <td>Starting_Pitcher</td>\n",
       "      <td>74</td>\n",
       "      <td>230</td>\n",
       "      <td>31.17</td>\n",
       "      <td>Pitcher</td>\n",
       "    </tr>\n",
       "    <tr>\n",
       "      <th>Kris_Benson</th>\n",
       "      <td>BAL</td>\n",
       "      <td>Starting_Pitcher</td>\n",
       "      <td>76</td>\n",
       "      <td>195</td>\n",
       "      <td>32.31</td>\n",
       "      <td>Pitcher</td>\n",
       "    </tr>\n",
       "    <tr>\n",
       "      <th>Scott_Williamson</th>\n",
       "      <td>BAL</td>\n",
       "      <td>Relief_Pitcher</td>\n",
       "      <td>72</td>\n",
       "      <td>180</td>\n",
       "      <td>31.03</td>\n",
       "      <td>Pitcher</td>\n",
       "    </tr>\n",
       "    <tr>\n",
       "      <th>John_Parrish</th>\n",
       "      <td>BAL</td>\n",
       "      <td>Relief_Pitcher</td>\n",
       "      <td>71</td>\n",
       "      <td>192</td>\n",
       "      <td>29.26</td>\n",
       "      <td>Pitcher</td>\n",
       "    </tr>\n",
       "    <tr>\n",
       "      <th>Danys_Baez</th>\n",
       "      <td>BAL</td>\n",
       "      <td>Relief_Pitcher</td>\n",
       "      <td>75</td>\n",
       "      <td>225</td>\n",
       "      <td>29.47</td>\n",
       "      <td>Pitcher</td>\n",
       "    </tr>\n",
       "    <tr>\n",
       "      <th>Chad_Bradford</th>\n",
       "      <td>BAL</td>\n",
       "      <td>Relief_Pitcher</td>\n",
       "      <td>77</td>\n",
       "      <td>203</td>\n",
       "      <td>32.46</td>\n",
       "      <td>Pitcher</td>\n",
       "    </tr>\n",
       "    <tr>\n",
       "      <th>Jamie_Walker</th>\n",
       "      <td>BAL</td>\n",
       "      <td>Relief_Pitcher</td>\n",
       "      <td>74</td>\n",
       "      <td>195</td>\n",
       "      <td>35.67</td>\n",
       "      <td>Pitcher</td>\n",
       "    </tr>\n",
       "    <tr>\n",
       "      <th>Brian_Burres</th>\n",
       "      <td>BAL</td>\n",
       "      <td>Relief_Pitcher</td>\n",
       "      <td>73</td>\n",
       "      <td>182</td>\n",
       "      <td>25.89</td>\n",
       "      <td>Pitcher</td>\n",
       "    </tr>\n",
       "    <tr>\n",
       "      <th>Kurt_Birkins</th>\n",
       "      <td>BAL</td>\n",
       "      <td>Relief_Pitcher</td>\n",
       "      <td>74</td>\n",
       "      <td>188</td>\n",
       "      <td>26.55</td>\n",
       "      <td>Pitcher</td>\n",
       "    </tr>\n",
       "    <tr>\n",
       "      <th>...</th>\n",
       "      <td>...</td>\n",
       "      <td>...</td>\n",
       "      <td>...</td>\n",
       "      <td>...</td>\n",
       "      <td>...</td>\n",
       "      <td>...</td>\n",
       "    </tr>\n",
       "    <tr>\n",
       "      <th>John_Nelson</th>\n",
       "      <td>STL</td>\n",
       "      <td>First_Baseman</td>\n",
       "      <td>73</td>\n",
       "      <td>190</td>\n",
       "      <td>27.99</td>\n",
       "      <td>Infielder</td>\n",
       "    </tr>\n",
       "    <tr>\n",
       "      <th>Albert_Pujols</th>\n",
       "      <td>STL</td>\n",
       "      <td>First_Baseman</td>\n",
       "      <td>75</td>\n",
       "      <td>225</td>\n",
       "      <td>27.12</td>\n",
       "      <td>Infielder</td>\n",
       "    </tr>\n",
       "    <tr>\n",
       "      <th>Adam_Kennedy</th>\n",
       "      <td>STL</td>\n",
       "      <td>Second_Baseman</td>\n",
       "      <td>73</td>\n",
       "      <td>185</td>\n",
       "      <td>31.14</td>\n",
       "      <td>Infielder</td>\n",
       "    </tr>\n",
       "    <tr>\n",
       "      <th>Aaron_Miles</th>\n",
       "      <td>STL</td>\n",
       "      <td>Second_Baseman</td>\n",
       "      <td>67</td>\n",
       "      <td>180</td>\n",
       "      <td>30.21</td>\n",
       "      <td>Infielder</td>\n",
       "    </tr>\n",
       "    <tr>\n",
       "      <th>David_Eckstein</th>\n",
       "      <td>STL</td>\n",
       "      <td>Shortstop</td>\n",
       "      <td>67</td>\n",
       "      <td>165</td>\n",
       "      <td>32.11</td>\n",
       "      <td>Infielder</td>\n",
       "    </tr>\n",
       "    <tr>\n",
       "      <th>Scott_Rolen</th>\n",
       "      <td>STL</td>\n",
       "      <td>Third_Baseman</td>\n",
       "      <td>76</td>\n",
       "      <td>240</td>\n",
       "      <td>31.91</td>\n",
       "      <td>Infielder</td>\n",
       "    </tr>\n",
       "    <tr>\n",
       "      <th>Scott_Spiezio</th>\n",
       "      <td>STL</td>\n",
       "      <td>Third_Baseman</td>\n",
       "      <td>74</td>\n",
       "      <td>220</td>\n",
       "      <td>34.44</td>\n",
       "      <td>Infielder</td>\n",
       "    </tr>\n",
       "    <tr>\n",
       "      <th>Jim_Edmonds</th>\n",
       "      <td>STL</td>\n",
       "      <td>Outfielder</td>\n",
       "      <td>73</td>\n",
       "      <td>212</td>\n",
       "      <td>36.68</td>\n",
       "      <td>Outfielder</td>\n",
       "    </tr>\n",
       "    <tr>\n",
       "      <th>So_Taguchi</th>\n",
       "      <td>STL</td>\n",
       "      <td>Outfielder</td>\n",
       "      <td>70</td>\n",
       "      <td>163</td>\n",
       "      <td>37.66</td>\n",
       "      <td>Outfielder</td>\n",
       "    </tr>\n",
       "    <tr>\n",
       "      <th>Juan_Encarnacion</th>\n",
       "      <td>STL</td>\n",
       "      <td>Outfielder</td>\n",
       "      <td>75</td>\n",
       "      <td>215</td>\n",
       "      <td>30.98</td>\n",
       "      <td>Outfielder</td>\n",
       "    </tr>\n",
       "    <tr>\n",
       "      <th>Skip_Schumaker</th>\n",
       "      <td>STL</td>\n",
       "      <td>Outfielder</td>\n",
       "      <td>70</td>\n",
       "      <td>175</td>\n",
       "      <td>27.07</td>\n",
       "      <td>Outfielder</td>\n",
       "    </tr>\n",
       "    <tr>\n",
       "      <th>John_Rodriguez</th>\n",
       "      <td>STL</td>\n",
       "      <td>Outfielder</td>\n",
       "      <td>72</td>\n",
       "      <td>205</td>\n",
       "      <td>29.11</td>\n",
       "      <td>Outfielder</td>\n",
       "    </tr>\n",
       "    <tr>\n",
       "      <th>Chris_Duncan</th>\n",
       "      <td>STL</td>\n",
       "      <td>Outfielder</td>\n",
       "      <td>77</td>\n",
       "      <td>210</td>\n",
       "      <td>25.82</td>\n",
       "      <td>Outfielder</td>\n",
       "    </tr>\n",
       "    <tr>\n",
       "      <th>Adam_Wainwright</th>\n",
       "      <td>STL</td>\n",
       "      <td>Starting_Pitcher</td>\n",
       "      <td>79</td>\n",
       "      <td>205</td>\n",
       "      <td>25.50</td>\n",
       "      <td>Pitcher</td>\n",
       "    </tr>\n",
       "    <tr>\n",
       "      <th>Mark_Mulder</th>\n",
       "      <td>STL</td>\n",
       "      <td>Starting_Pitcher</td>\n",
       "      <td>78</td>\n",
       "      <td>208</td>\n",
       "      <td>29.57</td>\n",
       "      <td>Pitcher</td>\n",
       "    </tr>\n",
       "    <tr>\n",
       "      <th>Anthony_Reyes</th>\n",
       "      <td>STL</td>\n",
       "      <td>Starting_Pitcher</td>\n",
       "      <td>74</td>\n",
       "      <td>215</td>\n",
       "      <td>25.37</td>\n",
       "      <td>Pitcher</td>\n",
       "    </tr>\n",
       "    <tr>\n",
       "      <th>Ryan_Franklin</th>\n",
       "      <td>STL</td>\n",
       "      <td>Starting_Pitcher</td>\n",
       "      <td>75</td>\n",
       "      <td>180</td>\n",
       "      <td>33.99</td>\n",
       "      <td>Pitcher</td>\n",
       "    </tr>\n",
       "    <tr>\n",
       "      <th>Kip_Wells</th>\n",
       "      <td>STL</td>\n",
       "      <td>Starting_Pitcher</td>\n",
       "      <td>75</td>\n",
       "      <td>200</td>\n",
       "      <td>29.86</td>\n",
       "      <td>Pitcher</td>\n",
       "    </tr>\n",
       "    <tr>\n",
       "      <th>Chris_Carpenter</th>\n",
       "      <td>STL</td>\n",
       "      <td>Starting_Pitcher</td>\n",
       "      <td>78</td>\n",
       "      <td>230</td>\n",
       "      <td>31.84</td>\n",
       "      <td>Pitcher</td>\n",
       "    </tr>\n",
       "    <tr>\n",
       "      <th>Russ_Springer</th>\n",
       "      <td>STL</td>\n",
       "      <td>Relief_Pitcher</td>\n",
       "      <td>76</td>\n",
       "      <td>211</td>\n",
       "      <td>38.31</td>\n",
       "      <td>Pitcher</td>\n",
       "    </tr>\n",
       "    <tr>\n",
       "      <th>Jason_Isringhausen</th>\n",
       "      <td>STL</td>\n",
       "      <td>Relief_Pitcher</td>\n",
       "      <td>75</td>\n",
       "      <td>230</td>\n",
       "      <td>34.48</td>\n",
       "      <td>Pitcher</td>\n",
       "    </tr>\n",
       "    <tr>\n",
       "      <th>Ricardo_Rincon</th>\n",
       "      <td>STL</td>\n",
       "      <td>Relief_Pitcher</td>\n",
       "      <td>69</td>\n",
       "      <td>190</td>\n",
       "      <td>36.88</td>\n",
       "      <td>Pitcher</td>\n",
       "    </tr>\n",
       "    <tr>\n",
       "      <th>Braden_Looper</th>\n",
       "      <td>STL</td>\n",
       "      <td>Relief_Pitcher</td>\n",
       "      <td>75</td>\n",
       "      <td>220</td>\n",
       "      <td>32.34</td>\n",
       "      <td>Pitcher</td>\n",
       "    </tr>\n",
       "    <tr>\n",
       "      <th>Randy_Flores</th>\n",
       "      <td>STL</td>\n",
       "      <td>Relief_Pitcher</td>\n",
       "      <td>72</td>\n",
       "      <td>180</td>\n",
       "      <td>31.58</td>\n",
       "      <td>Pitcher</td>\n",
       "    </tr>\n",
       "    <tr>\n",
       "      <th>Josh_Hancock</th>\n",
       "      <td>STL</td>\n",
       "      <td>Relief_Pitcher</td>\n",
       "      <td>75</td>\n",
       "      <td>205</td>\n",
       "      <td>28.89</td>\n",
       "      <td>Pitcher</td>\n",
       "    </tr>\n",
       "    <tr>\n",
       "      <th>Brad_Thompson</th>\n",
       "      <td>STL</td>\n",
       "      <td>Relief_Pitcher</td>\n",
       "      <td>73</td>\n",
       "      <td>190</td>\n",
       "      <td>25.08</td>\n",
       "      <td>Pitcher</td>\n",
       "    </tr>\n",
       "    <tr>\n",
       "      <th>Tyler_Johnson</th>\n",
       "      <td>STL</td>\n",
       "      <td>Relief_Pitcher</td>\n",
       "      <td>74</td>\n",
       "      <td>180</td>\n",
       "      <td>25.73</td>\n",
       "      <td>Pitcher</td>\n",
       "    </tr>\n",
       "    <tr>\n",
       "      <th>Chris_Narveson</th>\n",
       "      <td>STL</td>\n",
       "      <td>Relief_Pitcher</td>\n",
       "      <td>75</td>\n",
       "      <td>205</td>\n",
       "      <td>25.19</td>\n",
       "      <td>Pitcher</td>\n",
       "    </tr>\n",
       "    <tr>\n",
       "      <th>Randy_Keisler</th>\n",
       "      <td>STL</td>\n",
       "      <td>Relief_Pitcher</td>\n",
       "      <td>75</td>\n",
       "      <td>190</td>\n",
       "      <td>31.01</td>\n",
       "      <td>Pitcher</td>\n",
       "    </tr>\n",
       "    <tr>\n",
       "      <th>Josh_Kinney</th>\n",
       "      <td>STL</td>\n",
       "      <td>Relief_Pitcher</td>\n",
       "      <td>73</td>\n",
       "      <td>195</td>\n",
       "      <td>27.92</td>\n",
       "      <td>Pitcher</td>\n",
       "    </tr>\n",
       "  </tbody>\n",
       "</table>\n",
       "<p>1015 rows × 6 columns</p>\n",
       "</div>"
      ],
      "text/plain": [
       "                   Team          Position  Height  Weight    Age PosCategory\n",
       "Name                                                                        \n",
       "Adam_Donachie       BAL           Catcher      74     180  22.99     Catcher\n",
       "Paul_Bako           BAL           Catcher      74     215  34.69     Catcher\n",
       "Ramon_Hernandez     BAL           Catcher      72     210  30.78     Catcher\n",
       "Kevin_Millar        BAL     First_Baseman      72     210  35.43   Infielder\n",
       "Chris_Gomez         BAL     First_Baseman      73     188  35.71   Infielder\n",
       "Brian_Roberts       BAL    Second_Baseman      69     176  29.39   Infielder\n",
       "Miguel_Tejada       BAL         Shortstop      69     209  30.77   Infielder\n",
       "Melvin_Mora         BAL     Third_Baseman      71     200  35.07   Infielder\n",
       "Aubrey_Huff         BAL     Third_Baseman      76     231  30.19   Infielder\n",
       "Adam_Stern          BAL        Outfielder      71     180  27.05  Outfielder\n",
       "Jeff_Fiorentino     BAL        Outfielder      73     188  23.88  Outfielder\n",
       "Freddie_Bynum       BAL        Outfielder      73     180  26.96  Outfielder\n",
       "Nick_Markakis       BAL        Outfielder      74     185  23.29  Outfielder\n",
       "Brandon_Fahey       BAL        Outfielder      74     160  26.11  Outfielder\n",
       "Corey_Patterson     BAL        Outfielder      69     180  27.55  Outfielder\n",
       "Jay_Payton          BAL        Outfielder      70     185  34.27  Outfielder\n",
       "Erik_Bedard         BAL  Starting_Pitcher      73     189  27.99     Pitcher\n",
       "Hayden_Penn         BAL  Starting_Pitcher      75     185  22.38     Pitcher\n",
       "Adam_Loewen         BAL  Starting_Pitcher      78     219  22.89     Pitcher\n",
       "Daniel_Cabrera      BAL  Starting_Pitcher      79     230  25.76     Pitcher\n",
       "Steve_Trachsel      BAL  Starting_Pitcher      76     205  36.33     Pitcher\n",
       "Jaret_Wright        BAL  Starting_Pitcher      74     230  31.17     Pitcher\n",
       "Kris_Benson         BAL  Starting_Pitcher      76     195  32.31     Pitcher\n",
       "Scott_Williamson    BAL    Relief_Pitcher      72     180  31.03     Pitcher\n",
       "John_Parrish        BAL    Relief_Pitcher      71     192  29.26     Pitcher\n",
       "Danys_Baez          BAL    Relief_Pitcher      75     225  29.47     Pitcher\n",
       "Chad_Bradford       BAL    Relief_Pitcher      77     203  32.46     Pitcher\n",
       "Jamie_Walker        BAL    Relief_Pitcher      74     195  35.67     Pitcher\n",
       "Brian_Burres        BAL    Relief_Pitcher      73     182  25.89     Pitcher\n",
       "Kurt_Birkins        BAL    Relief_Pitcher      74     188  26.55     Pitcher\n",
       "...                 ...               ...     ...     ...    ...         ...\n",
       "John_Nelson         STL     First_Baseman      73     190  27.99   Infielder\n",
       "Albert_Pujols       STL     First_Baseman      75     225  27.12   Infielder\n",
       "Adam_Kennedy        STL    Second_Baseman      73     185  31.14   Infielder\n",
       "Aaron_Miles         STL    Second_Baseman      67     180  30.21   Infielder\n",
       "David_Eckstein      STL         Shortstop      67     165  32.11   Infielder\n",
       "Scott_Rolen         STL     Third_Baseman      76     240  31.91   Infielder\n",
       "Scott_Spiezio       STL     Third_Baseman      74     220  34.44   Infielder\n",
       "Jim_Edmonds         STL        Outfielder      73     212  36.68  Outfielder\n",
       "So_Taguchi          STL        Outfielder      70     163  37.66  Outfielder\n",
       "Juan_Encarnacion    STL        Outfielder      75     215  30.98  Outfielder\n",
       "Skip_Schumaker      STL        Outfielder      70     175  27.07  Outfielder\n",
       "John_Rodriguez      STL        Outfielder      72     205  29.11  Outfielder\n",
       "Chris_Duncan        STL        Outfielder      77     210  25.82  Outfielder\n",
       "Adam_Wainwright     STL  Starting_Pitcher      79     205  25.50     Pitcher\n",
       "Mark_Mulder         STL  Starting_Pitcher      78     208  29.57     Pitcher\n",
       "Anthony_Reyes       STL  Starting_Pitcher      74     215  25.37     Pitcher\n",
       "Ryan_Franklin       STL  Starting_Pitcher      75     180  33.99     Pitcher\n",
       "Kip_Wells           STL  Starting_Pitcher      75     200  29.86     Pitcher\n",
       "Chris_Carpenter     STL  Starting_Pitcher      78     230  31.84     Pitcher\n",
       "Russ_Springer       STL    Relief_Pitcher      76     211  38.31     Pitcher\n",
       "Jason_Isringhausen  STL    Relief_Pitcher      75     230  34.48     Pitcher\n",
       "Ricardo_Rincon      STL    Relief_Pitcher      69     190  36.88     Pitcher\n",
       "Braden_Looper       STL    Relief_Pitcher      75     220  32.34     Pitcher\n",
       "Randy_Flores        STL    Relief_Pitcher      72     180  31.58     Pitcher\n",
       "Josh_Hancock        STL    Relief_Pitcher      75     205  28.89     Pitcher\n",
       "Brad_Thompson       STL    Relief_Pitcher      73     190  25.08     Pitcher\n",
       "Tyler_Johnson       STL    Relief_Pitcher      74     180  25.73     Pitcher\n",
       "Chris_Narveson      STL    Relief_Pitcher      75     205  25.19     Pitcher\n",
       "Randy_Keisler       STL    Relief_Pitcher      75     190  31.01     Pitcher\n",
       "Josh_Kinney         STL    Relief_Pitcher      73     195  27.92     Pitcher\n",
       "\n",
       "[1015 rows x 6 columns]"
      ]
     },
     "execution_count": 16,
     "metadata": {},
     "output_type": "execute_result"
    }
   ],
   "source": [
    "file_path = 'baseball.csv' \n",
    "MLB_df = pd.read_csv(file_path, index_col=0)\n",
    "\n",
    "MLB_df"
   ]
  },
  {
   "cell_type": "markdown",
   "metadata": {},
   "source": [
    "Cuando los archivos son muy grandes, resultará útil desplegar sólo una parte de los mismos."
   ]
  },
  {
   "cell_type": "code",
   "execution_count": 18,
   "metadata": {},
   "outputs": [
    {
     "data": {
      "text/html": [
       "<div>\n",
       "<table border=\"1\" class=\"dataframe\">\n",
       "  <thead>\n",
       "    <tr style=\"text-align: right;\">\n",
       "      <th></th>\n",
       "      <th>Team</th>\n",
       "      <th>Position</th>\n",
       "      <th>Height</th>\n",
       "      <th>Weight</th>\n",
       "      <th>Age</th>\n",
       "      <th>PosCategory</th>\n",
       "    </tr>\n",
       "    <tr>\n",
       "      <th>Name</th>\n",
       "      <th></th>\n",
       "      <th></th>\n",
       "      <th></th>\n",
       "      <th></th>\n",
       "      <th></th>\n",
       "      <th></th>\n",
       "    </tr>\n",
       "  </thead>\n",
       "  <tbody>\n",
       "    <tr>\n",
       "      <th>Adam_Donachie</th>\n",
       "      <td>BAL</td>\n",
       "      <td>Catcher</td>\n",
       "      <td>74</td>\n",
       "      <td>180</td>\n",
       "      <td>22.99</td>\n",
       "      <td>Catcher</td>\n",
       "    </tr>\n",
       "    <tr>\n",
       "      <th>Paul_Bako</th>\n",
       "      <td>BAL</td>\n",
       "      <td>Catcher</td>\n",
       "      <td>74</td>\n",
       "      <td>215</td>\n",
       "      <td>34.69</td>\n",
       "      <td>Catcher</td>\n",
       "    </tr>\n",
       "    <tr>\n",
       "      <th>Ramon_Hernandez</th>\n",
       "      <td>BAL</td>\n",
       "      <td>Catcher</td>\n",
       "      <td>72</td>\n",
       "      <td>210</td>\n",
       "      <td>30.78</td>\n",
       "      <td>Catcher</td>\n",
       "    </tr>\n",
       "    <tr>\n",
       "      <th>Kevin_Millar</th>\n",
       "      <td>BAL</td>\n",
       "      <td>First_Baseman</td>\n",
       "      <td>72</td>\n",
       "      <td>210</td>\n",
       "      <td>35.43</td>\n",
       "      <td>Infielder</td>\n",
       "    </tr>\n",
       "    <tr>\n",
       "      <th>Chris_Gomez</th>\n",
       "      <td>BAL</td>\n",
       "      <td>First_Baseman</td>\n",
       "      <td>73</td>\n",
       "      <td>188</td>\n",
       "      <td>35.71</td>\n",
       "      <td>Infielder</td>\n",
       "    </tr>\n",
       "  </tbody>\n",
       "</table>\n",
       "</div>"
      ],
      "text/plain": [
       "                Team       Position  Height  Weight    Age PosCategory\n",
       "Name                                                                  \n",
       "Adam_Donachie    BAL        Catcher      74     180  22.99     Catcher\n",
       "Paul_Bako        BAL        Catcher      74     215  34.69     Catcher\n",
       "Ramon_Hernandez  BAL        Catcher      72     210  30.78     Catcher\n",
       "Kevin_Millar     BAL  First_Baseman      72     210  35.43   Infielder\n",
       "Chris_Gomez      BAL  First_Baseman      73     188  35.71   Infielder"
      ]
     },
     "execution_count": 18,
     "metadata": {},
     "output_type": "execute_result"
    }
   ],
   "source": [
    "MLB_df.head(5) #primeras 5 filas\n",
    "MLB_df.tail(5) #últimas 5 filas"
   ]
  },
  {
   "cell_type": "code",
   "execution_count": 24,
   "metadata": {},
   "outputs": [
    {
     "name": "stdout",
     "output_type": "stream",
     "text": [
      "<class 'pandas.core.series.Series'>\n"
     ]
    },
    {
     "data": {
      "text/plain": [
       "Name\n",
       "Adam_Donachie      74\n",
       "Paul_Bako          74\n",
       "Ramon_Hernandez    72\n",
       "Kevin_Millar       72\n",
       "Chris_Gomez        73\n",
       "Name: Height, dtype: int64"
      ]
     },
     "execution_count": 24,
     "metadata": {},
     "output_type": "execute_result"
    }
   ],
   "source": [
    "#se obtiene una serie (una sola columna)\n",
    "heights_s=MLB_df['Height'].head(5)\n",
    "print(type(heights_s))\n",
    "heights_s"
   ]
  },
  {
   "cell_type": "code",
   "execution_count": 26,
   "metadata": {},
   "outputs": [
    {
     "name": "stdout",
     "output_type": "stream",
     "text": [
      "<class 'pandas.core.frame.DataFrame'>\n"
     ]
    },
    {
     "data": {
      "text/html": [
       "<div>\n",
       "<table border=\"1\" class=\"dataframe\">\n",
       "  <thead>\n",
       "    <tr style=\"text-align: right;\">\n",
       "      <th></th>\n",
       "      <th>Height</th>\n",
       "      <th>Weight</th>\n",
       "    </tr>\n",
       "    <tr>\n",
       "      <th>Name</th>\n",
       "      <th></th>\n",
       "      <th></th>\n",
       "    </tr>\n",
       "  </thead>\n",
       "  <tbody>\n",
       "    <tr>\n",
       "      <th>Adam_Donachie</th>\n",
       "      <td>74</td>\n",
       "      <td>180</td>\n",
       "    </tr>\n",
       "    <tr>\n",
       "      <th>Paul_Bako</th>\n",
       "      <td>74</td>\n",
       "      <td>215</td>\n",
       "    </tr>\n",
       "    <tr>\n",
       "      <th>Ramon_Hernandez</th>\n",
       "      <td>72</td>\n",
       "      <td>210</td>\n",
       "    </tr>\n",
       "    <tr>\n",
       "      <th>Kevin_Millar</th>\n",
       "      <td>72</td>\n",
       "      <td>210</td>\n",
       "    </tr>\n",
       "    <tr>\n",
       "      <th>Chris_Gomez</th>\n",
       "      <td>73</td>\n",
       "      <td>188</td>\n",
       "    </tr>\n",
       "  </tbody>\n",
       "</table>\n",
       "</div>"
      ],
      "text/plain": [
       "                 Height  Weight\n",
       "Name                           \n",
       "Adam_Donachie        74     180\n",
       "Paul_Bako            74     215\n",
       "Ramon_Hernandez      72     210\n",
       "Kevin_Millar         72     210\n",
       "Chris_Gomez          73     188"
      ]
     },
     "execution_count": 26,
     "metadata": {},
     "output_type": "execute_result"
    }
   ],
   "source": [
    "#se obtiene un dataframe (se seleccionan varias columnas con los dobles paréntesis cuadrados)\n",
    "heights_weights=MLB_df[['Height','Weight']].head(5)\n",
    "print(type(heights_weights))\n",
    "heights_weights"
   ]
  },
  {
   "cell_type": "markdown",
   "metadata": {},
   "source": [
    "También existen las funciones `loc` y `iloc` que permiten seleccionar filas y columnas del dataframe conforme a etiquetas e índices respectivamente."
   ]
  },
  {
   "cell_type": "code",
   "execution_count": 28,
   "metadata": {},
   "outputs": [
    {
     "name": "stdout",
     "output_type": "stream",
     "text": [
      "69\n",
      "69\n",
      "\n",
      "Height     69\n",
      "Weight    172\n",
      "Name: Ichiro_Suzuki, dtype: object\n",
      "Height     69\n",
      "Weight    172\n",
      "Name: Ichiro_Suzuki, dtype: object\n",
      "\n",
      "               Height  Weight\n",
      "Name                         \n",
      "Ichiro_Suzuki      69     172\n",
      "Hideki_Matsui      74     230\n",
      "\n",
      "Team                  SEA\n",
      "Position       Outfielder\n",
      "Height                 69\n",
      "Weight                172\n",
      "Age                 33.36\n",
      "PosCategory    Outfielder\n",
      "Name: Ichiro_Suzuki, dtype: object\n",
      "Team                  SEA\n",
      "Position       Outfielder\n",
      "Height                 69\n",
      "Weight                172\n",
      "Age                 33.36\n",
      "PosCategory    Outfielder\n",
      "Name: Ichiro_Suzuki, dtype: object\n",
      "\n",
      "                 Height  Weight\n",
      "Name                           \n",
      "Adam_Donachie        74     180\n",
      "Paul_Bako            74     215\n",
      "Ramon_Hernandez      72     210\n",
      "Kevin_Millar         72     210\n",
      "Chris_Gomez          73     188\n",
      "                 Height  Weight\n",
      "Name                           \n",
      "Adam_Donachie        74     180\n",
      "Paul_Bako            74     215\n",
      "Ramon_Hernandez      72     210\n",
      "Kevin_Millar         72     210\n",
      "Chris_Gomez          73     188\n",
      "\n"
     ]
    }
   ],
   "source": [
    "# Seleccion mediante loc y iloc\n",
    "\n",
    "# Seleccionar un elemento/celda (ambas líneas son equivalentes en este caso)\n",
    "print(MLB_df.loc['Ichiro_Suzuki', 'Height'])\n",
    "print(MLB_df.iloc[286, 2])\n",
    "print()\n",
    "\n",
    "# Seleccionar filas o varias columnas\n",
    "print(MLB_df.loc['Ichiro_Suzuki', ['Height', 'Weight']])\n",
    "print(MLB_df.iloc[286, [2,3]])\n",
    "print()\n",
    "print(MLB_df.loc[['Ichiro_Suzuki', 'Hideki_Matsui'], ['Height', 'Weight']])\n",
    "print()\n",
    "\n",
    "# Selección de filas (usar sólo un argumento de la lista)\n",
    "print(MLB_df.loc['Ichiro_Suzuki'])\n",
    "print(MLB_df.iloc[286])\n",
    "print()\n",
    "\n",
    "# Selección de columnas (usando ':' para crear cortes o slices, al igual que en numpy)\n",
    "print(MLB_df.loc[:, ['Height', 'Weight']].head())\n",
    "print(MLB_df.iloc[:, [2,3]].head())\n",
    "print()"
   ]
  },
  {
   "cell_type": "markdown",
   "metadata": {},
   "source": [
    "Al igual que con los arreglos podemos hacer filtrado con los valores de los DataFrames de Pandas."
   ]
  },
  {
   "cell_type": "code",
   "execution_count": 39,
   "metadata": {},
   "outputs": [
    {
     "name": "stdout",
     "output_type": "stream",
     "text": [
      "Name\n",
      "Adam_Donachie      False\n",
      "Paul_Bako          False\n",
      "Ramon_Hernandez    False\n",
      "Kevin_Millar       False\n",
      "Chris_Gomez        False\n",
      "Brian_Roberts      False\n",
      "Miguel_Tejada      False\n",
      "Melvin_Mora        False\n",
      "Aubrey_Huff        False\n",
      "Adam_Stern         False\n",
      "Name: PosCategory, dtype: bool\n",
      "\n",
      "                 Team          Position  Height  Weight    Age PosCategory\n",
      "Name                                                                      \n",
      "Erik_Bedard       BAL  Starting_Pitcher      73     189  27.99     Pitcher\n",
      "Hayden_Penn       BAL  Starting_Pitcher      75     185  22.38     Pitcher\n",
      "Adam_Loewen       BAL  Starting_Pitcher      78     219  22.89     Pitcher\n",
      "Daniel_Cabrera    BAL  Starting_Pitcher      79     230  25.76     Pitcher\n",
      "Steve_Trachsel    BAL  Starting_Pitcher      76     205  36.33     Pitcher\n",
      "Jaret_Wright      BAL  Starting_Pitcher      74     230  31.17     Pitcher\n",
      "Kris_Benson       BAL  Starting_Pitcher      76     195  32.31     Pitcher\n",
      "Scott_Williamson  BAL    Relief_Pitcher      72     180  31.03     Pitcher\n",
      "John_Parrish      BAL    Relief_Pitcher      71     192  29.26     Pitcher\n",
      "Danys_Baez        BAL    Relief_Pitcher      75     225  29.47     Pitcher\n",
      "\n",
      "                 Team          Position  Height  Weight    Age PosCategory\n",
      "Name                                                                      \n",
      "Erik_Bedard       BAL  Starting_Pitcher      73     189  27.99     Pitcher\n",
      "Hayden_Penn       BAL  Starting_Pitcher      75     185  22.38     Pitcher\n",
      "Adam_Loewen       BAL  Starting_Pitcher      78     219  22.89     Pitcher\n",
      "Daniel_Cabrera    BAL  Starting_Pitcher      79     230  25.76     Pitcher\n",
      "Steve_Trachsel    BAL  Starting_Pitcher      76     205  36.33     Pitcher\n",
      "Jaret_Wright      BAL  Starting_Pitcher      74     230  31.17     Pitcher\n",
      "Kris_Benson       BAL  Starting_Pitcher      76     195  32.31     Pitcher\n",
      "Scott_Williamson  BAL    Relief_Pitcher      72     180  31.03     Pitcher\n",
      "John_Parrish      BAL    Relief_Pitcher      71     192  29.26     Pitcher\n",
      "Danys_Baez        BAL    Relief_Pitcher      75     225  29.47     Pitcher\n"
     ]
    }
   ],
   "source": [
    "# Seleccionamos un valor de una columna para hacer el filtrado\n",
    "pitchers = MLB_df['PosCategory'] == 'Pitcher'\n",
    "print(pitchers.head(10))\n",
    "print()\n",
    "\n",
    "# En base al resultado anterior filtrar los datos de MLB_df DataFrame\n",
    "pitchers_df = MLB_df[pitchers]\n",
    "print(pitchers_df.head(10))\n",
    "print()\n",
    "\n",
    "# En una línea se resume lo anterior así\n",
    "print(MLB_df[MLB_df['PosCategory'] == 'Pitcher'].head(10))"
   ]
  },
  {
   "cell_type": "markdown",
   "metadata": {},
   "source": [
    "### Operaciones con DataFrames"
   ]
  },
  {
   "cell_type": "code",
   "execution_count": 44,
   "metadata": {},
   "outputs": [
    {
     "name": "stdout",
     "output_type": "stream",
     "text": [
      "187.17172413793122\n",
      "5.877387356036549\n",
      "210.82\n",
      "170.18\n",
      "\n",
      "\n",
      "count    1015.000000\n",
      "mean      187.171724\n",
      "std         5.877387\n",
      "min       170.180000\n",
      "25%       182.880000\n",
      "50%       187.960000\n",
      "75%       190.500000\n",
      "max       210.820000\n",
      "Name: Height, dtype: float64\n",
      "\n",
      "\n",
      "[187.96 187.96 182.88 ... 190.5  190.5  185.42]\n"
     ]
    }
   ],
   "source": [
    "heights_meter = MLB_df['Height'] * 2.54 #conversión pies a metros, también es componente a componente\n",
    "\n",
    "print(heights_meter.mean())\n",
    "print(heights_meter.std())\n",
    "print(heights_meter.max())\n",
    "print(heights_meter.min())\n",
    "\n",
    "print(\"\\n\")\n",
    "print(heights_meter.describe())\n",
    "\n",
    "print(\"\\n\")\n",
    "print(heights_meter.values) #convertir DataFrame a array de Numpy"
   ]
  },
  {
   "cell_type": "code",
   "execution_count": 45,
   "metadata": {},
   "outputs": [
    {
     "name": "stdout",
     "output_type": "stream",
     "text": [
      "                Height      Weight        Age\n",
      "PosCategory                                  \n",
      "Catcher      72.723684  204.328947  29.563684\n",
      "Infielder    72.547619  195.085714  28.917714\n",
      "Outfielder   73.010309  199.113402  28.953454\n",
      "Pitcher      74.521495  204.194393  28.415794\n",
      "               Height     Weight       Age\n",
      "PosCategory                               \n",
      "Catcher      1.763320  15.743264  4.341277\n",
      "Infielder    2.147686  20.221082  4.325857\n",
      "Outfielder   2.015458  18.437614  4.194045\n",
      "Pitcher      2.224945  21.886744  4.334656\n"
     ]
    }
   ],
   "source": [
    "# También se pueden hacer operaciones en paralelo con todos los datos con el mismo valor en una columna\n",
    "grouped = MLB_df.groupby('PosCategory')\n",
    "print(grouped.mean())\n",
    "print(grouped.std())"
   ]
  },
  {
   "cell_type": "markdown",
   "metadata": {},
   "source": [
    "### 5.- Random"
   ]
  },
  {
   "cell_type": "markdown",
   "metadata": {},
   "source": [
    "Finalmente, el paquete `random` nos servirá para generar datos aleatorios (o pseudo-aleatorios) con distintas distribuciones."
   ]
  },
  {
   "cell_type": "code",
   "execution_count": 63,
   "metadata": {},
   "outputs": [],
   "source": [
    "import random"
   ]
  },
  {
   "cell_type": "markdown",
   "metadata": {},
   "source": [
    "Los números que se generan por estos métodos dependen de un valor, comúnmente llamado semilla. Usualmente la semilla se obtiene de una variable interna de la máquina (e.g. tiempo en milisegundos), por lo que los datos generados varían si se corre varias veces una función. Sin embargo, la semilla puede fijarse para reproducir los datos generados."
   ]
  },
  {
   "cell_type": "markdown",
   "metadata": {},
   "source": [
    "#### Elige un entero en intervalo"
   ]
  },
  {
   "cell_type": "code",
   "execution_count": 69,
   "metadata": {},
   "outputs": [
    {
     "data": {
      "text/plain": [
       "14"
      ]
     },
     "execution_count": 69,
     "metadata": {},
     "output_type": "execute_result"
    }
   ],
   "source": [
    "##al fijar la semilla se obtiene el mismo resultado siempre\n",
    "random.seed(1234) \n",
    "random.randint(0, 19) #elegir un entero dentro de un intervalo"
   ]
  },
  {
   "cell_type": "code",
   "execution_count": 73,
   "metadata": {},
   "outputs": [
    {
     "data": {
      "text/plain": [
       "9"
      ]
     },
     "execution_count": 73,
     "metadata": {},
     "output_type": "execute_result"
    }
   ],
   "source": [
    "random.randint(0,10) # si no se fija la semilla el resultado varía"
   ]
  },
  {
   "cell_type": "markdown",
   "metadata": {},
   "source": [
    "Por defecto, la probabilidad de generar o elegir un número es la misma para todos los valores, en funciones donde no se especifica."
   ]
  },
  {
   "cell_type": "code",
   "execution_count": 89,
   "metadata": {},
   "outputs": [
    {
     "name": "stdout",
     "output_type": "stream",
     "text": [
      "1\n",
      "0.6446342341782827\n",
      "['H', '3']\n"
     ]
    }
   ],
   "source": [
    "print(random.choice([1,\"3\",5,\"H\"])) # seleccionar elemento aleatorio de una lista\n",
    "print(random.random()) #distribución uniforme en [0,1]\n",
    "print(random.sample([1,\"3\",5,\"H\"], k=2)) #seleccionar una muestra de k elementos de la población dada"
   ]
  },
  {
   "cell_type": "markdown",
   "metadata": {},
   "source": [
    "También se pueden generar datos con distribuciones específicas."
   ]
  },
  {
   "cell_type": "code",
   "execution_count": 88,
   "metadata": {},
   "outputs": [
    {
     "name": "stdout",
     "output_type": "stream",
     "text": [
      "1.8804704246290145\n",
      "0.0016025650067325642\n",
      "0.03310979919279885\n",
      "0.562160368354175\n",
      "1.2728176148866905\n",
      "0.6507666751230852\n"
     ]
    }
   ],
   "source": [
    "# también se pueden generar \n",
    "print(random.uniform(a=1,b=2))\n",
    "print(random.gauss(mu=0, sigma=1))\n",
    "print(random.betavariate(alpha=1, beta=1))\n",
    "print(random.expovariate(lambd=2))\n",
    "print(random.paretovariate(alpha=3))\n",
    "print(random.weibullvariate(alpha=3, beta=2))"
   ]
  },
  {
   "cell_type": "markdown",
   "metadata": {},
   "source": [
    "Estas funciones se pueden utilizar para crear listas de datos de manera aleatoria."
   ]
  },
  {
   "cell_type": "code",
   "execution_count": 46,
   "metadata": {},
   "outputs": [],
   "source": [
    "lista_random_1 = [random.random() for i in range(100)]\n",
    "lista_random_2 = [random.random() for i in range(100)]\n",
    "lista_random_3 = [random.random() for i in range(100)]"
   ]
  },
  {
   "cell_type": "markdown",
   "metadata": {},
   "source": [
    "__<u>Nota:</u>__ También numpy tiene unas funciones de generación aleatoria de números que son compatibles con los arreglos."
   ]
  },
  {
   "cell_type": "code",
   "execution_count": 92,
   "metadata": {},
   "outputs": [
    {
     "data": {
      "text/plain": [
       "array([[0.18519314, 0.58685391, 0.79974276, 0.39032167, 0.18218093],\n",
       "       [0.0847341 , 0.52322601, 0.38896252, 0.33589939, 0.8647135 ],\n",
       "       [0.03875369, 0.50672153, 0.39906705, 0.10694697, 0.24283485],\n",
       "       [0.64795779, 0.94360159, 0.31089209, 0.6100982 , 0.44687012],\n",
       "       [0.13542229, 0.55238633, 0.39906405, 0.79975254, 0.5360106 ]])"
      ]
     },
     "execution_count": 92,
     "metadata": {},
     "output_type": "execute_result"
    }
   ],
   "source": [
    "np.random.rand(5,5)"
   ]
  },
  {
   "cell_type": "code",
   "execution_count": 93,
   "metadata": {},
   "outputs": [
    {
     "data": {
      "text/plain": [
       "array([0.5624115 , 0.95552162, 0.35549457, 0.62267191, 0.44122888,\n",
       "       0.89089905, 0.4659373 , 0.43608663, 0.95435876, 0.73553992])"
      ]
     },
     "execution_count": 93,
     "metadata": {},
     "output_type": "execute_result"
    }
   ],
   "source": [
    "np.random.rand(10)"
   ]
  },
  {
   "cell_type": "markdown",
   "metadata": {},
   "source": [
    "# Acknowledgements"
   ]
  },
  {
   "cell_type": "markdown",
   "metadata": {},
   "source": [
    "*Sakamoto Takuto*, Computational Social Sciences (2017)"
   ]
  }
 ],
 "metadata": {
  "kernelspec": {
   "display_name": "Python 3",
   "language": "python",
   "name": "python3"
  },
  "language_info": {
   "codemirror_mode": {
    "name": "ipython",
    "version": 3
   },
   "file_extension": ".py",
   "mimetype": "text/x-python",
   "name": "python",
   "nbconvert_exporter": "python",
   "pygments_lexer": "ipython3",
   "version": "3.7.2"
  }
 },
 "nbformat": 4,
 "nbformat_minor": 1
}
