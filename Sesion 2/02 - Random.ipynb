{
 "cells": [
  {
   "cell_type": "code",
   "execution_count": 1,
   "metadata": {},
   "outputs": [],
   "source": [
    "import random\n",
    "from matplotlib import pyplot as plt\n",
    "from collections import Counter"
   ]
  },
  {
   "cell_type": "code",
   "execution_count": 17,
   "metadata": {},
   "outputs": [
    {
     "name": "stdout",
     "output_type": "stream",
     "text": [
      "[89, 97, 66, 80, 9, 4, 17, 39, 17, 62, 20, 93, 54, 8, 26, 59, 46, 88, 80, 14, 88, 17, 68, 22, 77, 38, 25, 71, 86, 24, 45, 28, 51, 67, 33, 75, 27, 50, 98, 37, 5, 26, 94, 81, 96, 17, 0, 57, 2, 62, 54, 56, 36, 62, 94, 74, 76, 73, 86, 4, 23, 2, 27, 90, 17, 53, 16, 33, 19, 43, 93, 60, 4, 14, 17, 78, 89, 70, 65, 81, 23, 79, 25, 2, 23, 44, 49, 91, 83, 97, 59, 3, 22, 22, 25, 92, 96, 92, 35, 84, 17, 39, 80, 4, 49, 9, 25, 75, 21, 12, 39, 4, 91, 89, 89, 88, 56, 62, 30, 93, 81, 82, 5, 32, 25, 92, 91, 73, 48, 83, 1, 60, 88, 88, 75, 86, 26, 13, 44, 9, 89, 92, 63, 47, 7, 33, 10, 57, 80, 25, 71, 37, 45, 27, 33, 32, 71, 18, 90, 76, 59, 63, 2, 14, 34, 29, 22, 26, 87, 36, 82, 52, 51, 13, 27, 76, 1, 60, 3, 21, 94, 85, 77, 74, 69, 24, 82, 74, 83, 65, 44, 91, 37, 40, 49, 93, 43, 42, 93, 97, 68, 71, 3, 32, 1, 70, 9, 5, 43, 38, 70, 46, 60, 18, 11, 85, 40, 8, 23, 87, 21, 7, 98, 2, 33, 76, 40, 29, 38, 36, 20, 9, 63, 84, 70, 43, 49, 38, 29, 55, 47, 65, 47, 82, 65, 78, 9, 23, 55, 67, 52, 21, 71, 3, 38, 4, 19, 33, 69, 27, 60, 18, 86, 29, 63, 35, 69, 34, 30, 50, 14, 88, 32, 42, 58, 6, 50, 65, 93, 76, 11, 35, 31, 77, 90, 92, 79, 55, 64, 2, 69, 36, 69, 30, 87, 16, 83, 13, 50, 25, 60, 41, 59, 55, 34, 59, 66, 83, 48, 46, 31, 58, 26, 50, 28, 55, 78, 24, 44, 8, 44, 70, 98, 47, 10, 80, 99, 22, 1, 64, 44, 81, 36, 51, 25, 43, 38, 30, 34, 66, 93, 47, 53, 72, 97, 45, 49, 1, 96, 7, 45, 79, 14, 51, 6, 33, 9, 66, 91, 10, 31, 11, 87, 74, 99, 98, 51, 67, 8, 75, 28, 62, 26, 71, 69, 75, 49, 56, 49, 72, 34, 19, 9, 95, 55, 40, 75, 96, 75, 90, 2, 89, 83, 37, 54, 71, 3, 36, 41, 85, 70, 31, 59, 98, 49, 82, 66, 27, 58, 2, 26, 92, 99, 4, 79, 31, 32, 92, 17, 61, 47, 92, 69, 86, 8, 78, 85, 71, 49, 95, 89, 52, 47, 35, 38, 66, 49, 43, 47, 72, 36, 20, 3, 61, 79, 81, 71, 63, 25, 8, 88, 22, 49, 10, 91, 97, 94, 6, 53, 14, 14, 69, 91, 12, 13, 52, 5, 28, 95, 44, 99, 70, 34, 5, 48, 78, 68, 74, 46, 34, 84, 4, 79, 77, 37, 83, 30, 17, 43, 69, 74, 27, 87, 96, 16, 78, 40, 56, 29, 72, 8, 30, 12, 11, 18, 2, 86, 65, 8, 98, 83, 71, 30, 40, 79, 12, 11, 76, 92, 99, 19, 99, 47, 72, 91, 3, 96, 63, 20, 98, 98, 96, 77, 42, 63, 61, 18, 73, 22, 37, 35, 82, 22, 31, 7, 15, 52, 71, 6, 98, 65, 45, 49, 68, 29, 96, 86, 83, 93, 65, 14, 43, 86, 30, 39, 53, 87, 96, 90, 98, 34, 73, 39, 23, 16, 68, 27, 82, 7, 84, 89, 43, 0, 7, 17, 22, 75, 0, 80, 49, 41, 85, 28, 10, 8, 81, 50, 95, 41, 9, 26, 36, 18, 18, 93, 79, 51, 75, 67, 19, 42, 91, 27, 81, 22, 8, 18, 51, 26, 95, 16, 31, 25, 4, 41, 44, 40, 84, 66, 46, 52, 99, 29, 61, 26, 9, 13, 67, 32, 31, 72, 2, 56, 30, 30, 64, 32, 54, 4, 47, 33, 34, 93, 33, 4, 13, 21, 1, 92, 32, 17, 71, 79, 83, 52, 4, 27, 51, 36, 97, 35, 85, 74, 57, 1, 98, 41, 80, 80, 62, 7, 76, 82, 33, 75, 8, 44, 6, 21, 24, 96, 42, 34, 62, 56, 20, 59, 89, 7, 49, 5, 66, 63, 21, 29, 30, 58, 63, 10, 81, 15, 92, 14, 97, 42, 5, 63, 8, 91, 85, 83, 25, 92, 66, 85, 93, 68, 38, 75, 78, 33, 93, 98, 98, 28, 79, 41, 42, 18, 3, 84, 69, 53, 26, 81, 49, 83, 79, 67, 32, 31, 54, 36, 99, 2, 29, 56, 25, 24, 31, 69, 33, 65, 5, 69, 70, 34, 93, 2, 45, 65, 6, 68, 23, 73, 11, 32, 23, 73, 75, 89, 54, 23, 93, 87, 57, 60, 24, 18, 52, 17, 56, 80, 75, 87, 63, 35, 58, 51, 38, 42, 60, 39, 85, 88, 40, 78, 12, 60, 51, 1, 92, 20, 11, 61, 28, 61, 55, 81, 28, 14, 86, 77, 44, 5, 23, 12, 63, 98, 21, 39, 70, 7, 28, 93, 11, 73, 2, 42, 18, 40, 36, 56, 74, 42, 86, 58, 46, 92, 70, 30, 47, 87, 52, 81, 60, 4, 15, 31, 51, 5, 91, 46, 11, 66, 44, 50, 40, 2, 90, 96, 9, 21, 8, 69, 88, 15, 1, 80, 65, 12, 48, 36, 64, 60, 67, 51, 41, 52, 17, 30, 57, 73, 95, 47, 46, 29, 34, 5, 42, 79, 45, 53, 80, 0, 14, 84, 43, 57, 24, 86, 44, 45, 89, 24, 17, 82, 64, 27, 16, 6, 26, 24, 56, 1, 39, 58, 87, 51, 2, 62, 38, 15, 98, 88, 56, 6, 93, 90, 89, 62, 56, 39, 97, 64, 91, 12, 95, 53, 0, 98, 50, 23, 22, 53, 56, 34, 28, 96, 97, 53, 64, 22, 58, 40, 3, 63, 47, 58, 28, 97, 22, 38, 25, 29, 87, 34, 80, 62, 13, 19, 63, 84, 4, 27, 92, 5, 59, 77, 75, 45, 36, 27, 62, 28, 68, 99, 46, 80, 76]\n"
     ]
    }
   ],
   "source": [
    "num_friends = [random.randrange(0, 100) for _ in range(1000)]\n",
    "print(num_friends)"
   ]
  },
  {
   "cell_type": "code",
   "execution_count": 18,
   "metadata": {},
   "outputs": [],
   "source": [
    "friend_counts = Counter(num_friends)"
   ]
  },
  {
   "cell_type": "code",
   "execution_count": 19,
   "metadata": {},
   "outputs": [
    {
     "data": {
      "image/png": "[encoded data removed]",
      "text/plain": [
       "<Figure size 432x288 with 1 Axes>"
      ]
     },
     "metadata": {},
     "output_type": "display_data"
    }
   ],
   "source": [
    "xs = range(101)\n",
    "ys = [friend_counts[x] for x in xs] \n",
    "plt.bar(xs, ys)\n",
    "plt.axis([0, 101, 0, 25])\n",
    "plt.title(\"Histogram of Friend Counts\")\n",
    "plt.xlabel(\"# of friends\")\n",
    "plt.ylabel(\"# of people\")\n",
    "plt.show()"
   ]
  },
  {
   "cell_type": "markdown",
   "metadata": {},
   "source": [
    "__Number of points__"
   ]
  },
  {
   "cell_type": "code",
   "execution_count": 20,
   "metadata": {},
   "outputs": [
    {
     "name": "stdout",
     "output_type": "stream",
     "text": [
      "1000\n"
     ]
    }
   ],
   "source": [
    "num_points = len(num_friends)\n",
    "print(num_points)"
   ]
  },
  {
   "cell_type": "markdown",
   "metadata": {},
   "source": [
    "__Largest and smallest values__"
   ]
  },
  {
   "cell_type": "code",
   "execution_count": 21,
   "metadata": {},
   "outputs": [],
   "source": [
    "largest_value = max(num_friends)\n",
    "smallest_value = min(num_friends)"
   ]
  },
  {
   "cell_type": "markdown",
   "metadata": {},
   "source": [
    "__Central tendencies__"
   ]
  },
  {
   "cell_type": "code",
   "execution_count": 22,
   "metadata": {},
   "outputs": [],
   "source": [
    "def mean(x):\n",
    "    return sum(x) / len(x)"
   ]
  },
  {
   "cell_type": "code",
   "execution_count": 24,
   "metadata": {},
   "outputs": [
    {
     "data": {
      "text/plain": [
       "49.847"
      ]
     },
     "execution_count": 24,
     "metadata": {},
     "output_type": "execute_result"
    }
   ],
   "source": [
    "mean(num_friends)"
   ]
  },
  {
   "cell_type": "code",
   "execution_count": 25,
   "metadata": {},
   "outputs": [],
   "source": [
    "def median(v):\n",
    "#\"\"\"finds the 'middle-most' value of v\"\"\" \n",
    "    n = len(v)\n",
    "    sorted_v = sorted(v)\n",
    "    midpoint = n // 2\n",
    "    \n",
    "    if n % 2 == 1:\n",
    "   #if odd, return the middle value \n",
    "      return sorted_v[midpoint]\n",
    "    else:\n",
    "# if even, return the average of the middle values \n",
    "      lo = midpoint - 1\n",
    "      hi = midpoint\n",
    "      return (sorted_v[lo] + sorted_v[hi]) / 2"
   ]
  },
  {
   "cell_type": "code",
   "execution_count": 26,
   "metadata": {},
   "outputs": [
    {
     "data": {
      "text/plain": [
       "49.0"
      ]
     },
     "execution_count": 26,
     "metadata": {},
     "output_type": "execute_result"
    }
   ],
   "source": [
    "median(num_friends)"
   ]
  },
  {
   "cell_type": "code",
   "execution_count": 27,
   "metadata": {},
   "outputs": [
    {
     "data": {
      "text/plain": [
       "91"
      ]
     },
     "execution_count": 27,
     "metadata": {},
     "output_type": "execute_result"
    }
   ],
   "source": [
    "def quantile(x, p):\n",
    "#\"\"\"returns the pth-percentile value in x\"\"\" \n",
    "     p_index = int(p * len(x))\n",
    "     return sorted(x)[p_index]\n",
    "quantile(num_friends, 0.10) # 1 \n",
    "quantile(num_friends, 0.25) # 3 \n",
    "quantile(num_friends, 0.75) # 9 \n",
    "quantile(num_friends, 0.90) # 13"
   ]
  },
  {
   "cell_type": "markdown",
   "metadata": {},
   "source": [
    "__Dispersion__"
   ]
  },
  {
   "cell_type": "code",
   "execution_count": 33,
   "metadata": {},
   "outputs": [],
   "source": [
    "def dot(v, w):\n",
    "#\"\"\"v_1 * w_1 + ... + v_n * w_n\"\"\" \n",
    "    return sum(v_i * w_i for v_i, w_i in zip(v, w))"
   ]
  },
  {
   "cell_type": "code",
   "execution_count": 34,
   "metadata": {},
   "outputs": [],
   "source": [
    "def sum_of_squares(v):\n",
    "#\"\"\"v_1 * v_1 + ... + v_n * v_n\"\"\" \n",
    "   return dot(v, v)"
   ]
  },
  {
   "cell_type": "code",
   "execution_count": 35,
   "metadata": {},
   "outputs": [],
   "source": [
    "##Variance\n",
    "def de_mean(x):\n",
    "#\"\"\"translate x by subtracting its mean (so the result has mean 0)\"\"\" \n",
    "    x_bar = mean(x)\n",
    "    return [x_i - x_bar for x_i in x]"
   ]
  },
  {
   "cell_type": "code",
   "execution_count": 36,
   "metadata": {},
   "outputs": [],
   "source": [
    "def variance(x):\n",
    "#\"\"\"assumes x has at least two elements\"\"\" \n",
    "    n = len(x)\n",
    "    deviations = de_mean(x)\n",
    "    return sum_of_squares(deviations) / (n - 1)"
   ]
  },
  {
   "cell_type": "code",
   "execution_count": 37,
   "metadata": {},
   "outputs": [
    {
     "data": {
      "text/plain": [
       "846.9365275275263"
      ]
     },
     "execution_count": 37,
     "metadata": {},
     "output_type": "execute_result"
    }
   ],
   "source": [
    "variance(num_friends)"
   ]
  },
  {
   "cell_type": "code",
   "execution_count": 39,
   "metadata": {},
   "outputs": [
    {
     "data": {
      "text/plain": [
       "29.102173931298093"
      ]
     },
     "execution_count": 39,
     "metadata": {},
     "output_type": "execute_result"
    }
   ],
   "source": [
    "import math\n",
    "def standard_deviation(x): \n",
    "    return math.sqrt(variance(x))\n",
    "standard_deviation(num_friends)"
   ]
  },
  {
   "cell_type": "code",
   "execution_count": 40,
   "metadata": {},
   "outputs": [
    {
     "data": {
      "text/plain": [
       "49"
      ]
     },
     "execution_count": 40,
     "metadata": {},
     "output_type": "execute_result"
    }
   ],
   "source": [
    "def interquartile_range(x):\n",
    "    return quantile(x, 0.75) - quantile(x, 0.25)\n",
    "interquartile_range(num_friends)"
   ]
  },
  {
   "cell_type": "markdown",
   "metadata": {},
   "source": [
    "__Correlation__"
   ]
  },
  {
   "cell_type": "code",
   "execution_count": 43,
   "metadata": {},
   "outputs": [],
   "source": [
    "daily_minutes = [random.randrange(0, 60) for _ in range(1000)]"
   ]
  },
  {
   "cell_type": "code",
   "execution_count": 44,
   "metadata": {},
   "outputs": [
    {
     "data": {
      "text/plain": [
       "-26.763029029028964"
      ]
     },
     "execution_count": 44,
     "metadata": {},
     "output_type": "execute_result"
    }
   ],
   "source": [
    "def covariance(x, y): \n",
    "    n = len(x)\n",
    "    return dot(de_mean(x), de_mean(y)) / (n - 1) \n",
    "covariance(num_friends, daily_minutes) "
   ]
  },
  {
   "cell_type": "code",
   "execution_count": 45,
   "metadata": {},
   "outputs": [
    {
     "data": {
      "text/plain": [
       "-0.05250352350705478"
      ]
     },
     "execution_count": 45,
     "metadata": {},
     "output_type": "execute_result"
    }
   ],
   "source": [
    "def correlation(x, y):\n",
    "    stdev_x = standard_deviation(x) \n",
    "    stdev_y = standard_deviation(y) \n",
    "    if stdev_x > 0 and stdev_y > 0:\n",
    "        return covariance(x, y) / stdev_x / stdev_y \n",
    "    else:\n",
    "        return 0 # if no variation, correlation is zero \n",
    "correlation(num_friends, daily_minutes)"
   ]
  },
  {
   "cell_type": "markdown",
   "metadata": {},
   "source": [
    "__Dont´forget => Simpson’s Paradox__"
   ]
  },
  {
   "cell_type": "code",
   "execution_count": null,
   "metadata": {},
   "outputs": [],
   "source": []
  }
 ],
 "metadata": {
  "kernelspec": {
   "display_name": "Python 3",
   "language": "python",
   "name": "python3"
  },
  "language_info": {
   "codemirror_mode": {
    "name": "ipython",
    "version": 3
   },
   "file_extension": ".py",
   "mimetype": "text/x-python",
   "name": "python",
   "nbconvert_exporter": "python",
   "pygments_lexer": "ipython3",
   "version": "3.6.8"
  }
 },
 "nbformat": 4,
 "nbformat_minor": 2
}
