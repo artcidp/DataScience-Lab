{
 "cells": [
  {
   "cell_type": "markdown",
   "metadata": {},
   "source": [
    "Existe un estereotipo en el béisbol de que la posición de catcher se le asigna a los jugadores gordos. Revisaremos, según los datos que tenemos, si esto es cierto o no."
   ]
  },
  {
   "cell_type": "code",
   "execution_count": 1,
   "metadata": {},
   "outputs": [],
   "source": [
    "import pandas as pd\n",
    "import numpy as np\n",
    "import matplotlib.pyplot as plt\n",
    "baseball_df=pd.read_csv('baseball.csv')"
   ]
  },
  {
   "cell_type": "markdown",
   "metadata": {},
   "source": [
    "1.Separa los datos de `baseball.csv` según la posición: catchers y no catchers."
   ]
  },
  {
   "cell_type": "code",
   "execution_count": 3,
   "metadata": {},
   "outputs": [],
   "source": [
    "catchers_df=baseball_df[baseball_df['PosCategory']=='Catcher']\n",
    "non_catchers_df=baseball_df[baseball_df['PosCategory']!='Catcher']"
   ]
  },
  {
   "cell_type": "markdown",
   "metadata": {},
   "source": [
    "2.Convierte los datos de peso y altura (en libras y pulgadas) a Sistema Internacional (i.e. kilogramos y metros)."
   ]
  },
  {
   "cell_type": "code",
   "execution_count": 2,
   "metadata": {},
   "outputs": [],
   "source": [
    "baseball_df['Height']=baseball_df['Height']*2.54/100\n",
    "baseball_df['Weight']=baseball_df['Weight']*0.453592\n",
    "\n",
    "catchers_df['Height']=catchers_df['Height']*2.54/100\n",
    "catchers_df['Weight']=catchers_df['Weight']*0.453592\n",
    "\n",
    "non_catchers_df['Height']=non_catchers_df['Height']*2.54/100\n",
    "non_catchers_df['Weight']=non_catchers_df['Weight']*0.453592"
   ]
  },
  {
   "cell_type": "markdown",
   "metadata": {},
   "source": [
    "3.A partir de los datos del inciso anterior calcula el [Índice de Masa Corporal](https://es.wikipedia.org/wiki/%C3%8Dndice_de_masa_corporal) para cada uno de los jugadores en ambos grupos y guárdalos en variables distintas."
   ]
  },
  {
   "cell_type": "code",
   "execution_count": 4,
   "metadata": {},
   "outputs": [],
   "source": [
    "bmi_catchers = catchers_df['Weight']/(catchers_df['Height']**2)\n",
    "bmi_non_catchers = non_catchers_df['Weight']/(non_catchers_df['Height']**2)"
   ]
  },
  {
   "cell_type": "markdown",
   "metadata": {},
   "source": [
    "4.Obtén los siguientes estadísticos de los datos del inciso anterior: media, mediana, moda, varianza, desviación estándar, valor máximo, valor mínimo y los cuartiles: 25%, 50% y 75%."
   ]
  },
  {
   "cell_type": "code",
   "execution_count": 74,
   "metadata": {},
   "outputs": [
    {
     "name": "stdout",
     "output_type": "stream",
     "text": [
      "media= 27.166919371774068\n",
      "mediana= 27.061212844894825\n",
      "moda= No tiene moda\n",
      "std= 1.9385082860395688\n",
      "var= 3.7578143750440667\n",
      "min= 23.055889475976485\n",
      "max= 32.19261569798082\n",
      "Q1= 26.24790956248579\n",
      "Q2= 27.061212844894825\n",
      "Q3= 28.246015586260533\n"
     ]
    }
   ],
   "source": [
    "#catchers\n",
    "print('media=',bmi_catchers.describe()['mean'])\n",
    "print('mediana=',np.median(bmi_catchers))\n",
    "print('moda= No tiene moda')\n",
    "\n",
    "print('std=',bmi_catchers.describe()['std'])\n",
    "print('var=',bmi_catchers.describe()['std']**2)\n",
    "\n",
    "print('min=',bmi_catchers.describe()['min'])\n",
    "print('max=',bmi_catchers.describe()['max'])\n",
    "\n",
    "print('Q1=',bmi_catchers.describe()['25%'])\n",
    "print('Q2=',bmi_catchers.describe()['50%'])\n",
    "print('Q3=',bmi_catchers.describe()['75%'])"
   ]
  },
  {
   "cell_type": "markdown",
   "metadata": {},
   "source": [
    "#### Cómo contar elementos "
   ]
  },
  {
   "cell_type": "code",
   "execution_count": 32,
   "metadata": {},
   "outputs": [
    {
     "name": "stdout",
     "output_type": "stream",
     "text": [
      "1\n",
      "1\n",
      "3\n",
      "1\n",
      "1\n",
      "4\n",
      "2\n",
      "1\n",
      "1\n",
      "1\n",
      "2\n",
      "3\n",
      "2\n",
      "3\n",
      "1\n",
      "1\n",
      "2\n",
      "4\n",
      "1\n",
      "4\n",
      "3\n",
      "1\n",
      "2\n",
      "3\n",
      "3\n",
      "3\n",
      "4\n",
      "4\n",
      "3\n",
      "1\n",
      "1\n",
      "3\n",
      "1\n",
      "3\n",
      "1\n",
      "2\n",
      "2\n",
      "4\n",
      "1\n",
      "4\n",
      "1\n",
      "2\n",
      "1\n",
      "1\n",
      "4\n",
      "1\n",
      "4\n",
      "2\n",
      "4\n",
      "1\n",
      "1\n",
      "1\n",
      "1\n",
      "4\n",
      "1\n",
      "1\n",
      "1\n",
      "1\n",
      "3\n",
      "4\n",
      "1\n",
      "2\n",
      "2\n",
      "1\n",
      "3\n",
      "1\n",
      "3\n",
      "1\n",
      "1\n",
      "1\n",
      "3\n",
      "3\n",
      "2\n",
      "1\n",
      "1\n",
      "1\n"
     ]
    }
   ],
   "source": [
    "for element in bmi_catchers:\n",
    "    print(list(bmi_catchers).count(element))"
   ]
  },
  {
   "cell_type": "code",
   "execution_count": 58,
   "metadata": {},
   "outputs": [
    {
     "data": {
      "text/plain": [
       "Counter({23.055889475976485: 1,\n",
       "         23.110376388758617: 1,\n",
       "         23.352076203120316: 1,\n",
       "         23.747874104868117: 1,\n",
       "         24.394286188134096: 3,\n",
       "         24.41211826868098: 2,\n",
       "         24.95310703917807: 1,\n",
       "         25.067200444027456: 1,\n",
       "         25.253090832712275: 1,\n",
       "         25.67819598750958: 1,\n",
       "         25.72686361360713: 1,\n",
       "         25.76834706138548: 1,\n",
       "         25.827024715273918: 1,\n",
       "         25.858796247523063: 1,\n",
       "         26.122919516950144: 1,\n",
       "         26.24790956248579: 4,\n",
       "         26.320150887197318: 2,\n",
       "         26.3865267831868: 2,\n",
       "         26.44646145773773: 1,\n",
       "         26.49932774572948: 4,\n",
       "         26.54444206847597: 1,\n",
       "         26.650392051018667: 1,\n",
       "         26.77894413960573: 1,\n",
       "         26.872859790164025: 3,\n",
       "         26.99784983569967: 1,\n",
       "         27.12457585408998: 1,\n",
       "         27.196678475880258: 1,\n",
       "         27.261859421678025: 3,\n",
       "         27.475618767940567: 1,\n",
       "         27.49781001784226: 2,\n",
       "         27.548826362958845: 1,\n",
       "         27.604060686572794: 1,\n",
       "         27.705853122346134: 2,\n",
       "         27.802690250442232: 1,\n",
       "         27.894029206031036: 3,\n",
       "         28.172969498091344: 1,\n",
       "         28.209558888253582: 1,\n",
       "         28.246015586260533: 4,\n",
       "         28.48080464679448: 3,\n",
       "         29.025179461505477: 1,\n",
       "         29.149260520302427: 1,\n",
       "         29.158919043146728: 1,\n",
       "         29.37266070087696: 1,\n",
       "         29.529925385636012: 1,\n",
       "         29.99761092855519: 1,\n",
       "         30.243902077310327: 1,\n",
       "         30.622561156233424: 1,\n",
       "         30.683432126634134: 2,\n",
       "         31.241312710754755: 1,\n",
       "         31.38078285678491: 1,\n",
       "         32.19261569798082: 1})"
      ]
     },
     "execution_count": 58,
     "metadata": {},
     "output_type": "execute_result"
    }
   ],
   "source": [
    "from collections import Counter\n",
    "Counter(list(bmi_catchers))"
   ]
  },
  {
   "cell_type": "code",
   "execution_count": 29,
   "metadata": {},
   "outputs": [
    {
     "data": {
      "text/plain": [
       "26.247910    4\n",
       "28.246016    4\n",
       "26.499328    4\n",
       "28.480805    3\n",
       "26.872860    3\n",
       "27.261859    3\n",
       "27.894029    3\n",
       "24.394286    3\n",
       "30.683432    2\n",
       "26.386527    2\n",
       "26.320151    2\n",
       "27.705853    2\n",
       "27.497810    2\n",
       "24.412118    2\n",
       "24.953107    1\n",
       "27.802690    1\n",
       "28.172969    1\n",
       "23.110376    1\n",
       "25.067200    1\n",
       "26.997850    1\n",
       "23.747874    1\n",
       "29.529925    1\n",
       "29.158919    1\n",
       "25.858796    1\n",
       "27.196678    1\n",
       "23.352076    1\n",
       "25.768347    1\n",
       "25.726864    1\n",
       "26.544442    1\n",
       "25.253091    1\n",
       "27.475619    1\n",
       "30.622561    1\n",
       "27.548826    1\n",
       "26.446461    1\n",
       "27.604061    1\n",
       "28.209559    1\n",
       "26.122920    1\n",
       "29.372661    1\n",
       "29.997611    1\n",
       "31.241313    1\n",
       "29.149261    1\n",
       "27.124576    1\n",
       "32.192616    1\n",
       "26.650392    1\n",
       "25.827025    1\n",
       "30.243902    1\n",
       "23.055889    1\n",
       "31.380783    1\n",
       "29.025179    1\n",
       "26.778944    1\n",
       "25.678196    1\n",
       "dtype: int64"
      ]
     },
     "execution_count": 29,
     "metadata": {},
     "output_type": "execute_result"
    }
   ],
   "source": [
    "cuentas_bmi_catchers=bmi_catchers.value_counts()\n",
    "cuentas_bmi_catchers"
   ]
  },
  {
   "cell_type": "code",
   "execution_count": 33,
   "metadata": {},
   "outputs": [
    {
     "data": {
      "text/plain": [
       "26.247910    4\n",
       "28.246016    4\n",
       "26.499328    4\n",
       "dtype: int64"
      ]
     },
     "execution_count": 33,
     "metadata": {},
     "output_type": "execute_result"
    }
   ],
   "source": [
    "#valores que tienen maximo numero de repeticiones\n",
    "maximo_repeticiones=max(cuentas_bmi_catchers)\n",
    "es_maximo=(cuentas_bmi_catchers==maximo_repeticiones)\n",
    "cuentas_bmi_catchers[es_maximo]"
   ]
  },
  {
   "cell_type": "code",
   "execution_count": 34,
   "metadata": {},
   "outputs": [
    {
     "name": "stdout",
     "output_type": "stream",
     "text": [
      "media= 25.96699943242595\n",
      "mediana= 25.827024715273918\n",
      "moda= No tiene moda\n",
      "std= 2.289067892049725\n",
      "var= 5.239831814412971\n",
      "min= 19.498447103560874\n",
      "max= 35.26194861031698\n",
      "Q1= 24.394286188134096\n",
      "Q2= 25.827024715273918\n",
      "Q3= 27.49781001784226\n"
     ]
    }
   ],
   "source": [
    "#non_catchers\n",
    "print('media=',bmi_catchers.describe()['mean'])\n",
    "print('mediana=',np.median(bmi_catchers))\n",
    "print('moda= No tiene moda')\n",
    "\n",
    "print('std=',bmi_catchers.describe()['std'])\n",
    "print('var=',bmi_catchers.describe()['std']**2)\n",
    "\n",
    "print('min=',bmi_catchers.describe()['min'])\n",
    "print('max=',bmi_catchers.describe()['max'])\n",
    "\n",
    "print('Q1=',bmi_catchers.describe()['25%'])\n",
    "print('Q2=',bmi_catchers.describe()['50%'])\n",
    "print('Q3=',bmi_catchers.describe()['75%'])"
   ]
  },
  {
   "cell_type": "markdown",
   "metadata": {},
   "source": [
    "5.Grafica los histogramas de los Índices de Masa Corporal para ambos grupos por separado, añadiendo el título a las gráficas y a los ejes. *Hint:* Usa la función `plt.hist([bmi_catchers, bmi_noncatchers])` para graficar ambos histogramas en una misma ventana y el parámetro `normed=True` para que ambas sean comparables."
   ]
  },
  {
   "cell_type": "code",
   "execution_count": 42,
   "metadata": {},
   "outputs": [
    {
     "name": "stderr",
     "output_type": "stream",
     "text": [
      "/home/arturo/anaconda3/lib/python3.6/site-packages/numpy/core/fromnumeric.py:52: FutureWarning: reshape is deprecated and will raise in a subsequent release. Please use .values.reshape(...) instead\n",
      "  return getattr(obj, method)(*args, **kwds)\n"
     ]
    },
    {
     "data": {
      "image/png": "[encoded data removed]",
      "text/plain": [
       "<matplotlib.figure.Figure at 0x7f62afbc8e48>"
      ]
     },
     "metadata": {},
     "output_type": "display_data"
    }
   ],
   "source": [
    "plt.hist([bmi_catchers, bmi_non_catchers],normed=True,label=['catcher','non_catcher'])\n",
    "plt.legend()\n",
    "plt.show()"
   ]
  },
  {
   "cell_type": "markdown",
   "metadata": {},
   "source": [
    "6.Utilizando la función `ttest_ind()` del paquete `scipy.stats`, realiza una prueba t con los datos de Índices de Masa Corporal para catcher y no catchers. *Hint:* Usa el operador `?` para averiguar el funcionamiento de la función."
   ]
  },
  {
   "cell_type": "code",
   "execution_count": 52,
   "metadata": {
    "scrolled": true
   },
   "outputs": [
    {
     "data": {
      "text/plain": [
       "Ttest_indResult(statistic=5.115306328784652, pvalue=1.6806442987363643e-06)"
      ]
     },
     "execution_count": 52,
     "metadata": {},
     "output_type": "execute_result"
    }
   ],
   "source": [
    "import scipy.stats as ss\n",
    "ss.ttest_ind(bmi_catchers,bmi_non_catchers, equal_var=False)"
   ]
  },
  {
   "cell_type": "code",
   "execution_count": 51,
   "metadata": {},
   "outputs": [],
   "source": [
    "? ss.ttest_ind()"
   ]
  },
  {
   "cell_type": "markdown",
   "metadata": {},
   "source": [
    "7.Dado los resultados de los puntos anteriores, ¿se puede decir que los catchers tienen mayor Índice de Masa Corporal que los demás jugadores? Argumenta."
   ]
  }
 ],
 "metadata": {
  "kernelspec": {
   "display_name": "Python 3",
   "language": "python",
   "name": "python3"
  },
  "language_info": {
   "codemirror_mode": {
    "name": "ipython",
    "version": 3
   },
   "file_extension": ".py",
   "mimetype": "text/x-python",
   "name": "python",
   "nbconvert_exporter": "python",
   "pygments_lexer": "ipython3",
   "version": "3.7.2"
  }
 },
 "nbformat": 4,
 "nbformat_minor": 2
}
