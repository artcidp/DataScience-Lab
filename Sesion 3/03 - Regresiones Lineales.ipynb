{
 "cells": [
  {
   "cell_type": "markdown",
   "metadata": {},
   "source": [
    "# Comentario de la Clase Anterior"
   ]
  },
  {
   "cell_type": "code",
   "execution_count": 1,
   "metadata": {},
   "outputs": [
    {
     "data": {
      "text/plain": [
       "<matplotlib.figure.Figure at 0x7fd32c5d69e8>"
      ]
     },
     "metadata": {},
     "output_type": "display_data"
    }
   ],
   "source": [
    "from matplotlib import pyplot as plt #convencion\n",
    "\n",
    "x = [i*.2 for i in range(-10,11)]\n",
    "y = [i**2 for i in x]\n",
    "z = [i**3 for i in x]\n",
    "\n",
    "###Plotear dos variables. Label se usa para desplegar la leyenda\n",
    "plt.plot(x, y, \"s\",label = \"cuadrado\") # s denota cuadrados\n",
    "plt.plot(x, z,\"o\", label = \"cubo\") # o denota círculos\n",
    "\n",
    "##Nombre de los ejes\n",
    "plt.xlabel(\"x\")\n",
    "plt.ylabel(\"f(x)\")\n",
    "\n",
    "###Límites del eje y\n",
    "plt.ylim([-10, 10])\n",
    "\n",
    "###Título, leyenda, cuadrícula\n",
    "plt.title(\"Funciones\")\n",
    "plt.legend()\n",
    "plt.grid()\n",
    "plt.savefig(\"text.png\") #savefig debe ir antes de plt.show(), si no quedará vacía\n",
    "plt.show()"
   ]
  },
  {
   "cell_type": "markdown",
   "metadata": {},
   "source": [
    "# Solución Tarea 2"
   ]
  },
  {
   "cell_type": "markdown",
   "metadata": {},
   "source": [
    "Existe un estereotipo en el béisbol de que la posición de catcher se le asigna a los jugadores gordos. Revisaremos, según los datos que tenemos, si esto es cierto o no."
   ]
  },
  {
   "cell_type": "code",
   "execution_count": 2,
   "metadata": {},
   "outputs": [],
   "source": [
    "import pandas as pd\n",
    "import numpy as np\n",
    "import matplotlib.pyplot as plt\n",
    "baseball_df=pd.read_csv('baseball.csv')"
   ]
  },
  {
   "cell_type": "markdown",
   "metadata": {},
   "source": [
    "1.Separa los datos de `baseball.csv` según la posición: catchers y no catchers."
   ]
  },
  {
   "cell_type": "code",
   "execution_count": 3,
   "metadata": {},
   "outputs": [],
   "source": [
    "catchers_df=baseball_df[baseball_df['PosCategory']=='Catcher']\n",
    "non_catchers_df=baseball_df[baseball_df['PosCategory']!='Catcher']"
   ]
  },
  {
   "cell_type": "markdown",
   "metadata": {},
   "source": [
    "2.Convierte los datos de peso y altura (en libras y pulgadas) a Sistema Internacional (i.e. kilogramos y metros)."
   ]
  },
  {
   "cell_type": "code",
   "execution_count": 4,
   "metadata": {},
   "outputs": [
    {
     "name": "stderr",
     "output_type": "stream",
     "text": [
      "/home/arturo/anaconda3/lib/python3.6/site-packages/ipykernel_launcher.py:5: SettingWithCopyWarning: \n",
      "A value is trying to be set on a copy of a slice from a DataFrame.\n",
      "Try using .loc[row_indexer,col_indexer] = value instead\n",
      "\n",
      "See the caveats in the documentation: http://pandas.pydata.org/pandas-docs/stable/indexing.html#indexing-view-versus-copy\n",
      "  \"\"\"\n",
      "/home/arturo/anaconda3/lib/python3.6/site-packages/ipykernel_launcher.py:6: SettingWithCopyWarning: \n",
      "A value is trying to be set on a copy of a slice from a DataFrame.\n",
      "Try using .loc[row_indexer,col_indexer] = value instead\n",
      "\n",
      "See the caveats in the documentation: http://pandas.pydata.org/pandas-docs/stable/indexing.html#indexing-view-versus-copy\n",
      "  \n",
      "/home/arturo/anaconda3/lib/python3.6/site-packages/ipykernel_launcher.py:8: SettingWithCopyWarning: \n",
      "A value is trying to be set on a copy of a slice from a DataFrame.\n",
      "Try using .loc[row_indexer,col_indexer] = value instead\n",
      "\n",
      "See the caveats in the documentation: http://pandas.pydata.org/pandas-docs/stable/indexing.html#indexing-view-versus-copy\n",
      "  \n",
      "/home/arturo/anaconda3/lib/python3.6/site-packages/ipykernel_launcher.py:9: SettingWithCopyWarning: \n",
      "A value is trying to be set on a copy of a slice from a DataFrame.\n",
      "Try using .loc[row_indexer,col_indexer] = value instead\n",
      "\n",
      "See the caveats in the documentation: http://pandas.pydata.org/pandas-docs/stable/indexing.html#indexing-view-versus-copy\n",
      "  if __name__ == '__main__':\n"
     ]
    }
   ],
   "source": [
    "baseball_df['Height']=baseball_df['Height']*2.54/100\n",
    "baseball_df['Weight']=baseball_df['Weight']*0.453592\n",
    "\n",
    "\n",
    "catchers_df['Height']=catchers_df['Height']*2.54/100\n",
    "catchers_df['Weight']=catchers_df['Weight']*0.453592\n",
    "\n",
    "non_catchers_df['Height']=non_catchers_df['Height']*2.54/100\n",
    "non_catchers_df['Weight']=non_catchers_df['Weight']*0.453592"
   ]
  },
  {
   "cell_type": "markdown",
   "metadata": {},
   "source": [
    "3.A partir de los datos del inciso anterior calcula el [Índice de Masa Corporal](https://es.wikipedia.org/wiki/%C3%8Dndice_de_masa_corporal) para cada uno de los jugadores en ambos grupos y guárdalos en variables distintas."
   ]
  },
  {
   "cell_type": "code",
   "execution_count": 5,
   "metadata": {},
   "outputs": [],
   "source": [
    "bmi_catchers = catchers_df['Weight']/(catchers_df['Height']**2)\n",
    "bmi_non_catchers = non_catchers_df['Weight']/(non_catchers_df['Height']**2)"
   ]
  },
  {
   "cell_type": "markdown",
   "metadata": {},
   "source": [
    "4.Obtén los siguientes estadísticos de los datos del inciso anterior: media, mediana, moda, varianza, desviación estándar, valor máximo, valor mínimo y los cuartiles: 25%, 50% y 75%."
   ]
  },
  {
   "cell_type": "code",
   "execution_count": 6,
   "metadata": {},
   "outputs": [
    {
     "name": "stdout",
     "output_type": "stream",
     "text": [
      "media= 27.166919371774068\n",
      "mediana= 27.061212844894825\n",
      "moda= No tiene moda\n",
      "std= 1.9385082860395688\n",
      "var= 3.7578143750440667\n",
      "min= 23.055889475976485\n",
      "max= 32.19261569798082\n",
      "Q1= 26.24790956248579\n",
      "Q2= 27.061212844894825\n",
      "Q3= 28.246015586260533\n"
     ]
    }
   ],
   "source": [
    "#catchers\n",
    "print('media=',bmi_catchers.describe()['mean'])\n",
    "print('mediana=',np.median(bmi_catchers))\n",
    "print('moda= No tiene moda')\n",
    "\n",
    "print('std=',bmi_catchers.describe()['std'])\n",
    "print('var=',bmi_catchers.describe()['std']**2)\n",
    "\n",
    "print('min=',bmi_catchers.describe()['min'])\n",
    "print('max=',bmi_catchers.describe()['max'])\n",
    "\n",
    "print('Q1=',bmi_catchers.describe()['25%'])\n",
    "print('Q2=',bmi_catchers.describe()['50%'])\n",
    "print('Q3=',bmi_catchers.describe()['75%'])"
   ]
  },
  {
   "cell_type": "markdown",
   "metadata": {},
   "source": [
    "#### Cómo contar elementos "
   ]
  },
  {
   "cell_type": "code",
   "execution_count": 7,
   "metadata": {},
   "outputs": [
    {
     "name": "stdout",
     "output_type": "stream",
     "text": [
      "1\n",
      "1\n",
      "3\n",
      "1\n",
      "1\n",
      "4\n",
      "2\n",
      "1\n",
      "1\n",
      "1\n",
      "2\n",
      "3\n",
      "2\n",
      "3\n",
      "1\n",
      "1\n",
      "2\n",
      "4\n",
      "1\n",
      "4\n",
      "3\n",
      "1\n",
      "2\n",
      "3\n",
      "3\n",
      "3\n",
      "4\n",
      "4\n",
      "3\n",
      "1\n",
      "1\n",
      "3\n",
      "1\n",
      "3\n",
      "1\n",
      "2\n",
      "2\n",
      "4\n",
      "1\n",
      "4\n",
      "1\n",
      "2\n",
      "1\n",
      "1\n",
      "4\n",
      "1\n",
      "4\n",
      "2\n",
      "4\n",
      "1\n",
      "1\n",
      "1\n",
      "1\n",
      "4\n",
      "1\n",
      "1\n",
      "1\n",
      "1\n",
      "3\n",
      "4\n",
      "1\n",
      "2\n",
      "2\n",
      "1\n",
      "3\n",
      "1\n",
      "3\n",
      "1\n",
      "1\n",
      "1\n",
      "3\n",
      "3\n",
      "2\n",
      "1\n",
      "1\n",
      "1\n"
     ]
    }
   ],
   "source": [
    "for element in bmi_catchers:\n",
    "    print(list(bmi_catchers).count(element))"
   ]
  },
  {
   "cell_type": "code",
   "execution_count": 8,
   "metadata": {},
   "outputs": [
    {
     "data": {
      "text/plain": [
       "Counter({23.055889475976485: 1,\n",
       "         23.110376388758617: 1,\n",
       "         23.352076203120316: 1,\n",
       "         23.747874104868117: 1,\n",
       "         24.394286188134096: 3,\n",
       "         24.41211826868098: 2,\n",
       "         24.95310703917807: 1,\n",
       "         25.067200444027456: 1,\n",
       "         25.253090832712275: 1,\n",
       "         25.67819598750958: 1,\n",
       "         25.72686361360713: 1,\n",
       "         25.76834706138548: 1,\n",
       "         25.827024715273918: 1,\n",
       "         25.858796247523063: 1,\n",
       "         26.122919516950144: 1,\n",
       "         26.24790956248579: 4,\n",
       "         26.320150887197318: 2,\n",
       "         26.3865267831868: 2,\n",
       "         26.44646145773773: 1,\n",
       "         26.49932774572948: 4,\n",
       "         26.54444206847597: 1,\n",
       "         26.650392051018667: 1,\n",
       "         26.77894413960573: 1,\n",
       "         26.872859790164025: 3,\n",
       "         26.99784983569967: 1,\n",
       "         27.12457585408998: 1,\n",
       "         27.196678475880258: 1,\n",
       "         27.261859421678025: 3,\n",
       "         27.475618767940567: 1,\n",
       "         27.49781001784226: 2,\n",
       "         27.548826362958845: 1,\n",
       "         27.604060686572794: 1,\n",
       "         27.705853122346134: 2,\n",
       "         27.802690250442232: 1,\n",
       "         27.894029206031036: 3,\n",
       "         28.172969498091344: 1,\n",
       "         28.209558888253582: 1,\n",
       "         28.246015586260533: 4,\n",
       "         28.48080464679448: 3,\n",
       "         29.025179461505477: 1,\n",
       "         29.149260520302427: 1,\n",
       "         29.158919043146728: 1,\n",
       "         29.37266070087696: 1,\n",
       "         29.529925385636012: 1,\n",
       "         29.99761092855519: 1,\n",
       "         30.243902077310327: 1,\n",
       "         30.622561156233424: 1,\n",
       "         30.683432126634134: 2,\n",
       "         31.241312710754755: 1,\n",
       "         31.38078285678491: 1,\n",
       "         32.19261569798082: 1})"
      ]
     },
     "execution_count": 8,
     "metadata": {},
     "output_type": "execute_result"
    }
   ],
   "source": [
    "from collections import Counter\n",
    "Counter(list(bmi_catchers))"
   ]
  },
  {
   "cell_type": "code",
   "execution_count": 9,
   "metadata": {},
   "outputs": [
    {
     "data": {
      "text/plain": [
       "26.247910    4\n",
       "28.246016    4\n",
       "26.499328    4\n",
       "28.480805    3\n",
       "26.872860    3\n",
       "27.261859    3\n",
       "27.894029    3\n",
       "24.394286    3\n",
       "30.683432    2\n",
       "26.386527    2\n",
       "26.320151    2\n",
       "27.705853    2\n",
       "27.497810    2\n",
       "24.412118    2\n",
       "24.953107    1\n",
       "27.802690    1\n",
       "28.172969    1\n",
       "23.110376    1\n",
       "25.067200    1\n",
       "26.997850    1\n",
       "23.747874    1\n",
       "29.529925    1\n",
       "29.158919    1\n",
       "25.858796    1\n",
       "27.196678    1\n",
       "23.352076    1\n",
       "25.768347    1\n",
       "25.726864    1\n",
       "26.544442    1\n",
       "25.253091    1\n",
       "27.475619    1\n",
       "30.622561    1\n",
       "27.548826    1\n",
       "26.446461    1\n",
       "27.604061    1\n",
       "28.209559    1\n",
       "26.122920    1\n",
       "29.372661    1\n",
       "29.997611    1\n",
       "31.241313    1\n",
       "29.149261    1\n",
       "27.124576    1\n",
       "32.192616    1\n",
       "26.650392    1\n",
       "25.827025    1\n",
       "30.243902    1\n",
       "23.055889    1\n",
       "31.380783    1\n",
       "29.025179    1\n",
       "26.778944    1\n",
       "25.678196    1\n",
       "dtype: int64"
      ]
     },
     "execution_count": 9,
     "metadata": {},
     "output_type": "execute_result"
    }
   ],
   "source": [
    "cuentas_bmi_catchers=bmi_catchers.value_counts()\n",
    "cuentas_bmi_catchers"
   ]
  },
  {
   "cell_type": "code",
   "execution_count": 10,
   "metadata": {},
   "outputs": [
    {
     "data": {
      "text/plain": [
       "26.247910    4\n",
       "28.246016    4\n",
       "26.499328    4\n",
       "dtype: int64"
      ]
     },
     "execution_count": 10,
     "metadata": {},
     "output_type": "execute_result"
    }
   ],
   "source": [
    "#valores que tienen maximo numero de repeticiones\n",
    "maximo_repeticiones=max(cuentas_bmi_catchers)\n",
    "es_maximo=(cuentas_bmi_catchers==maximo_repeticiones)\n",
    "cuentas_bmi_catchers[es_maximo]"
   ]
  },
  {
   "cell_type": "code",
   "execution_count": 11,
   "metadata": {},
   "outputs": [
    {
     "name": "stdout",
     "output_type": "stream",
     "text": [
      "media= 27.166919371774068\n",
      "mediana= 27.061212844894825\n",
      "moda= No tiene moda\n",
      "std= 1.9385082860395688\n",
      "var= 3.7578143750440667\n",
      "min= 23.055889475976485\n",
      "max= 32.19261569798082\n",
      "Q1= 26.24790956248579\n",
      "Q2= 27.061212844894825\n",
      "Q3= 28.246015586260533\n"
     ]
    }
   ],
   "source": [
    "#non_catchers\n",
    "print('media=',bmi_catchers.describe()['mean'])\n",
    "print('mediana=',np.median(bmi_catchers))\n",
    "print('moda= No tiene moda')\n",
    "\n",
    "print('std=',bmi_catchers.describe()['std'])\n",
    "print('var=',bmi_catchers.describe()['std']**2)\n",
    "\n",
    "print('min=',bmi_catchers.describe()['min'])\n",
    "print('max=',bmi_catchers.describe()['max'])\n",
    "\n",
    "print('Q1=',bmi_catchers.describe()['25%'])\n",
    "print('Q2=',bmi_catchers.describe()['50%'])\n",
    "print('Q3=',bmi_catchers.describe()['75%'])"
   ]
  },
  {
   "cell_type": "markdown",
   "metadata": {},
   "source": [
    "5.Grafica los histogramas de los Índices de Masa Corporal para ambos grupos por separado, añadiendo el título a las gráficas y a los ejes. *Hint:* Usa la función `plt.hist([bmi_catchers, bmi_noncatchers])` para graficar ambos histogramas en una misma ventana y el parámetro `normed=True` para que ambas sean comparables."
   ]
  },
  {
   "cell_type": "code",
   "execution_count": 12,
   "metadata": {},
   "outputs": [
    {
     "name": "stderr",
     "output_type": "stream",
     "text": [
      "/home/arturo/anaconda3/lib/python3.6/site-packages/numpy/core/fromnumeric.py:52: FutureWarning: reshape is deprecated and will raise in a subsequent release. Please use .values.reshape(...) instead\n",
      "  return getattr(obj, method)(*args, **kwds)\n"
     ]
    },
    {
     "data": {
      "image/png": "[encoded data removed]",
      "text/plain": [
       "<matplotlib.figure.Figure at 0x7fd32868d710>"
      ]
     },
     "metadata": {},
     "output_type": "display_data"
    }
   ],
   "source": [
    "plt.hist([bmi_catchers, bmi_non_catchers],normed=True,label=['catcher','non_catcher'])\n",
    "plt.legend()\n",
    "plt.show()"
   ]
  },
  {
   "cell_type": "markdown",
   "metadata": {},
   "source": [
    "6.Utilizando la función `ttest_ind()` del paquete `scipy.stats`, realiza una prueba t con los datos de Índices de Masa Corporal para catcher y no catchers. *Hint:* Usa el operador `?` para averiguar el funcionamiento de la función."
   ]
  },
  {
   "cell_type": "code",
   "execution_count": 13,
   "metadata": {
    "scrolled": true
   },
   "outputs": [
    {
     "data": {
      "text/plain": [
       "Ttest_indResult(statistic=5.115306328784652, pvalue=1.6806442987363643e-06)"
      ]
     },
     "execution_count": 13,
     "metadata": {},
     "output_type": "execute_result"
    }
   ],
   "source": [
    "import scipy.stats as ss\n",
    "ss.ttest_ind(bmi_catchers,bmi_non_catchers, equal_var=False)"
   ]
  },
  {
   "cell_type": "code",
   "execution_count": 14,
   "metadata": {},
   "outputs": [],
   "source": [
    "? ss.ttest_ind()"
   ]
  },
  {
   "cell_type": "markdown",
   "metadata": {},
   "source": [
    "7.Dado los resultados de los puntos anteriores, ¿se puede decir que los catchers tienen mayor Índice de Masa Corporal que los demás jugadores? Argumenta."
   ]
  },
  {
   "cell_type": "markdown",
   "metadata": {},
   "source": [
    "# Regresiones Lineales"
   ]
  },
  {
   "cell_type": "markdown",
   "metadata": {},
   "source": [
    "Para esta clase utilizaremos una base de datos externa para responder la siguiente pregunta: **¿Cómo afectan las diferencias institucionales en el desempeño de la economía? **\n",
    "\n",
    "Comenzaremos por importar la tabla (un archivo de stata alojado remotamente en internet)."
   ]
  },
  {
   "cell_type": "code",
   "execution_count": 15,
   "metadata": {},
   "outputs": [],
   "source": [
    "? pd.read_stata()"
   ]
  },
  {
   "cell_type": "code",
   "execution_count": 16,
   "metadata": {},
   "outputs": [
    {
     "name": "stdout",
     "output_type": "stream",
     "text": [
      "(163, 13)\n"
     ]
    },
    {
     "data": {
      "text/html": [
       "<div>\n",
       "<table border=\"1\" class=\"dataframe\">\n",
       "  <thead>\n",
       "    <tr style=\"text-align: right;\">\n",
       "      <th></th>\n",
       "      <th>shortnam</th>\n",
       "      <th>euro1900</th>\n",
       "      <th>excolony</th>\n",
       "      <th>avexpr</th>\n",
       "      <th>cons1</th>\n",
       "      <th>cons90</th>\n",
       "      <th>democ00a</th>\n",
       "      <th>cons00a</th>\n",
       "      <th>extmort4</th>\n",
       "      <th>logem4</th>\n",
       "      <th>loghjypl</th>\n",
       "      <th>baseco</th>\n",
       "      <th>gdp95</th>\n",
       "    </tr>\n",
       "  </thead>\n",
       "  <tbody>\n",
       "    <tr>\n",
       "      <th>0</th>\n",
       "      <td>AFG</td>\n",
       "      <td>0.000000</td>\n",
       "      <td>1.0</td>\n",
       "      <td>NaN</td>\n",
       "      <td>1.0</td>\n",
       "      <td>2.0</td>\n",
       "      <td>1.0</td>\n",
       "      <td>1.0</td>\n",
       "      <td>93.699997</td>\n",
       "      <td>4.540098</td>\n",
       "      <td>NaN</td>\n",
       "      <td>NaN</td>\n",
       "      <td>NaN</td>\n",
       "    </tr>\n",
       "    <tr>\n",
       "      <th>1</th>\n",
       "      <td>AGO</td>\n",
       "      <td>8.000000</td>\n",
       "      <td>1.0</td>\n",
       "      <td>5.363636</td>\n",
       "      <td>3.0</td>\n",
       "      <td>3.0</td>\n",
       "      <td>0.0</td>\n",
       "      <td>1.0</td>\n",
       "      <td>280.000000</td>\n",
       "      <td>5.634789</td>\n",
       "      <td>-3.411248</td>\n",
       "      <td>1.0</td>\n",
       "      <td>2369.999756</td>\n",
       "    </tr>\n",
       "    <tr>\n",
       "      <th>2</th>\n",
       "      <td>ARE</td>\n",
       "      <td>0.000000</td>\n",
       "      <td>1.0</td>\n",
       "      <td>7.181818</td>\n",
       "      <td>NaN</td>\n",
       "      <td>NaN</td>\n",
       "      <td>NaN</td>\n",
       "      <td>NaN</td>\n",
       "      <td>NaN</td>\n",
       "      <td>NaN</td>\n",
       "      <td>NaN</td>\n",
       "      <td>NaN</td>\n",
       "      <td>18109.994141</td>\n",
       "    </tr>\n",
       "    <tr>\n",
       "      <th>3</th>\n",
       "      <td>ARG</td>\n",
       "      <td>60.000004</td>\n",
       "      <td>1.0</td>\n",
       "      <td>6.386364</td>\n",
       "      <td>1.0</td>\n",
       "      <td>6.0</td>\n",
       "      <td>3.0</td>\n",
       "      <td>3.0</td>\n",
       "      <td>68.900002</td>\n",
       "      <td>4.232656</td>\n",
       "      <td>-0.872274</td>\n",
       "      <td>1.0</td>\n",
       "      <td>9259.998047</td>\n",
       "    </tr>\n",
       "    <tr>\n",
       "      <th>4</th>\n",
       "      <td>ARM</td>\n",
       "      <td>0.000000</td>\n",
       "      <td>0.0</td>\n",
       "      <td>NaN</td>\n",
       "      <td>NaN</td>\n",
       "      <td>NaN</td>\n",
       "      <td>NaN</td>\n",
       "      <td>NaN</td>\n",
       "      <td>NaN</td>\n",
       "      <td>NaN</td>\n",
       "      <td>NaN</td>\n",
       "      <td>NaN</td>\n",
       "      <td>2169.999512</td>\n",
       "    </tr>\n",
       "    <tr>\n",
       "      <th>5</th>\n",
       "      <td>AUS</td>\n",
       "      <td>98.000000</td>\n",
       "      <td>1.0</td>\n",
       "      <td>9.318182</td>\n",
       "      <td>7.0</td>\n",
       "      <td>7.0</td>\n",
       "      <td>10.0</td>\n",
       "      <td>7.0</td>\n",
       "      <td>8.550000</td>\n",
       "      <td>2.145931</td>\n",
       "      <td>-0.170788</td>\n",
       "      <td>1.0</td>\n",
       "      <td>19889.994141</td>\n",
       "    </tr>\n",
       "    <tr>\n",
       "      <th>6</th>\n",
       "      <td>AUT</td>\n",
       "      <td>100.000000</td>\n",
       "      <td>0.0</td>\n",
       "      <td>9.727273</td>\n",
       "      <td>NaN</td>\n",
       "      <td>NaN</td>\n",
       "      <td>NaN</td>\n",
       "      <td>NaN</td>\n",
       "      <td>NaN</td>\n",
       "      <td>NaN</td>\n",
       "      <td>-0.343900</td>\n",
       "      <td>NaN</td>\n",
       "      <td>21479.996094</td>\n",
       "    </tr>\n",
       "    <tr>\n",
       "      <th>7</th>\n",
       "      <td>AZE</td>\n",
       "      <td>0.000000</td>\n",
       "      <td>0.0</td>\n",
       "      <td>NaN</td>\n",
       "      <td>NaN</td>\n",
       "      <td>NaN</td>\n",
       "      <td>NaN</td>\n",
       "      <td>NaN</td>\n",
       "      <td>NaN</td>\n",
       "      <td>NaN</td>\n",
       "      <td>NaN</td>\n",
       "      <td>NaN</td>\n",
       "      <td>1490.000000</td>\n",
       "    </tr>\n",
       "    <tr>\n",
       "      <th>8</th>\n",
       "      <td>BDI</td>\n",
       "      <td>0.000000</td>\n",
       "      <td>1.0</td>\n",
       "      <td>NaN</td>\n",
       "      <td>5.0</td>\n",
       "      <td>1.0</td>\n",
       "      <td>0.0</td>\n",
       "      <td>1.0</td>\n",
       "      <td>280.000000</td>\n",
       "      <td>5.634789</td>\n",
       "      <td>-3.506558</td>\n",
       "      <td>NaN</td>\n",
       "      <td>710.000122</td>\n",
       "    </tr>\n",
       "    <tr>\n",
       "      <th>9</th>\n",
       "      <td>BEL</td>\n",
       "      <td>100.000000</td>\n",
       "      <td>0.0</td>\n",
       "      <td>9.681818</td>\n",
       "      <td>NaN</td>\n",
       "      <td>NaN</td>\n",
       "      <td>NaN</td>\n",
       "      <td>NaN</td>\n",
       "      <td>NaN</td>\n",
       "      <td>NaN</td>\n",
       "      <td>-0.179127</td>\n",
       "      <td>NaN</td>\n",
       "      <td>21870.003906</td>\n",
       "    </tr>\n",
       "  </tbody>\n",
       "</table>\n",
       "</div>"
      ],
      "text/plain": [
       "  shortnam    euro1900  excolony    avexpr  cons1  cons90  democ00a  cons00a  \\\n",
       "0      AFG    0.000000       1.0       NaN    1.0     2.0       1.0      1.0   \n",
       "1      AGO    8.000000       1.0  5.363636    3.0     3.0       0.0      1.0   \n",
       "2      ARE    0.000000       1.0  7.181818    NaN     NaN       NaN      NaN   \n",
       "3      ARG   60.000004       1.0  6.386364    1.0     6.0       3.0      3.0   \n",
       "4      ARM    0.000000       0.0       NaN    NaN     NaN       NaN      NaN   \n",
       "5      AUS   98.000000       1.0  9.318182    7.0     7.0      10.0      7.0   \n",
       "6      AUT  100.000000       0.0  9.727273    NaN     NaN       NaN      NaN   \n",
       "7      AZE    0.000000       0.0       NaN    NaN     NaN       NaN      NaN   \n",
       "8      BDI    0.000000       1.0       NaN    5.0     1.0       0.0      1.0   \n",
       "9      BEL  100.000000       0.0  9.681818    NaN     NaN       NaN      NaN   \n",
       "\n",
       "     extmort4    logem4  loghjypl  baseco         gdp95  \n",
       "0   93.699997  4.540098       NaN     NaN           NaN  \n",
       "1  280.000000  5.634789 -3.411248     1.0   2369.999756  \n",
       "2         NaN       NaN       NaN     NaN  18109.994141  \n",
       "3   68.900002  4.232656 -0.872274     1.0   9259.998047  \n",
       "4         NaN       NaN       NaN     NaN   2169.999512  \n",
       "5    8.550000  2.145931 -0.170788     1.0  19889.994141  \n",
       "6         NaN       NaN -0.343900     NaN  21479.996094  \n",
       "7         NaN       NaN       NaN     NaN   1490.000000  \n",
       "8  280.000000  5.634789 -3.506558     NaN    710.000122  \n",
       "9         NaN       NaN -0.179127     NaN  21870.003906  "
      ]
     },
     "execution_count": 16,
     "metadata": {},
     "output_type": "execute_result"
    }
   ],
   "source": [
    "import pandas as pd\n",
    "\n",
    "df3 = pd.read_stata('expropiacion_instituciones.dta').iloc[:,1:]\n",
    "print(df3.shape)\n",
    "df3.head(10)"
   ]
  },
  {
   "cell_type": "markdown",
   "metadata": {},
   "source": [
    "En este caso:\n",
    "- Se utiliza el PIB per cápita para distintos países en el año de 1995 (`gdp95`) como una medición del desempeño de la economía.\n",
    "- Se utiliza el índice de protección contra la expropiación (`avexpr`), promediado entre 1985 y 1995, elaborado por el [Political Risk Services Group](https://www.prsgroup.com/). "
   ]
  },
  {
   "cell_type": "markdown",
   "metadata": {},
   "source": [
    "Grafiquemos los datos de estas dos variables para ver su relación."
   ]
  },
  {
   "cell_type": "code",
   "execution_count": 19,
   "metadata": {
    "scrolled": true
   },
   "outputs": [
    {
     "data": {
      "image/png": "[encoded data removed]",
      "text/plain": [
       "<matplotlib.figure.Figure at 0x7fd3135b1668>"
      ]
     },
     "metadata": {},
     "output_type": "display_data"
    }
   ],
   "source": [
    "import matplotlib.pyplot as plt\n",
    "%matplotlib inline\n",
    "#plt.style.use('seaborn')\n",
    "\n",
    "df3.plot(x='avexpr', y='gdp95', kind='scatter')\n",
    "plt.show()"
   ]
  },
  {
   "cell_type": "markdown",
   "metadata": {},
   "source": [
    "Se observa una relación positiva entre ambas variables, i.e. si la protección contra expropiaciones es una medida de calidad institucional, mejores instituciones parecen estar mejor correlacionadas con mejor desempeño económico (PIB per cápita). \n",
    "\n",
    "Procederemos a la regresión, comenzando por un modelo lineal (luego evaluaremos qué tan buena es esta suposición). Nuestro modelo se puede escribir como:\n",
    "\n",
    "$$PIB_i = \\beta_0 + \\beta_1 \\ avexpr_i + u_i,$$ en donde:\n",
    "\n",
    "- $\\beta_0$, la ordenada al origen representa la estimación del PIB del modelo para paises con instituciones con índice 0 de protección.\n",
    "\n",
    "- $\\beta_1$, la pendiente de la recta generada, representa el efecto marginal de la protección en el PIB.\n",
    "\n",
    "- $u_i$ es el término de error aleatorio, debido a factores no incluidos en el modelo.\n"
   ]
  },
  {
   "cell_type": "markdown",
   "metadata": {},
   "source": [
    "Hay varias funciones que nos permiten hacer fácilmente una regresión lineal a partir de los datos. Una de ellas es ` OLS()` de la librería `statsmodels`, con la cual podemos hacer regresiones lineales de manera bastante flexible."
   ]
  },
  {
   "cell_type": "code",
   "execution_count": 20,
   "metadata": {},
   "outputs": [
    {
     "name": "stdout",
     "output_type": "stream",
     "text": [
      "(111, 13)\n"
     ]
    }
   ],
   "source": [
    "import numpy as np\n",
    "\n",
    "# Quitar las filas con NaNs de la base de datos, fijándonos sólo en las columnas 'gdp95' y 'avexpr'\n",
    "df3_subset = df3.dropna(subset=['gdp95', 'avexpr'])\n",
    "print(df3_subset.shape)\n",
    "\n",
    "#seleccionamos las columnas a graficar\n",
    "X = df3_subset['avexpr']\n",
    "y = df3_subset['gdp95']"
   ]
  },
  {
   "cell_type": "code",
   "execution_count": 21,
   "metadata": {},
   "outputs": [
    {
     "name": "stdout",
     "output_type": "stream",
     "text": [
      "Object `sm.OLS` not found.\n"
     ]
    }
   ],
   "source": [
    "? sm.OLS()"
   ]
  },
  {
   "cell_type": "code",
   "execution_count": 22,
   "metadata": {},
   "outputs": [
    {
     "data": {
      "text/plain": [
       "statsmodels.regression.linear_model.OLS"
      ]
     },
     "execution_count": 22,
     "metadata": {},
     "output_type": "execute_result"
    }
   ],
   "source": [
    "import statsmodels.api as sm\n",
    "reg1 = sm.OLS(endog=y, exog=X, missing='drop')\n",
    "# missing='drop' quita los datos con NaNs en las variables (si es que hay), lo cual ya lo hicimos también arriba\n",
    "type(reg1)"
   ]
  },
  {
   "cell_type": "code",
   "execution_count": 23,
   "metadata": {},
   "outputs": [
    {
     "data": {
      "text/plain": [
       "statsmodels.regression.linear_model.RegressionResultsWrapper"
      ]
     },
     "execution_count": 23,
     "metadata": {},
     "output_type": "execute_result"
    }
   ],
   "source": [
    "lin_mod = reg1.fit() # regresa el resultado del ajuste, es el modelo en sí\n",
    "type(lin_mod)"
   ]
  },
  {
   "cell_type": "code",
   "execution_count": 24,
   "metadata": {},
   "outputs": [
    {
     "data": {
      "text/plain": [
       "pandas.core.series.Series"
      ]
     },
     "execution_count": 24,
     "metadata": {},
     "output_type": "execute_result"
    }
   ],
   "source": [
    "y_predicted=lin_mod.predict(X)\n",
    "type(y_predicted)"
   ]
  },
  {
   "cell_type": "markdown",
   "metadata": {},
   "source": [
    "Graficamos el resultado de la regresión lineal."
   ]
  },
  {
   "cell_type": "code",
   "execution_count": 25,
   "metadata": {},
   "outputs": [
    {
     "data": {
      "image/png": "[encoded data removed]",
      "text/plain": [
       "<matplotlib.figure.Figure at 0x7fd311132f28>"
      ]
     },
     "metadata": {},
     "output_type": "display_data"
    }
   ],
   "source": [
    "# elegir el tamaño de la gráfica y graficar\n",
    "fig=plt.figure(figsize=(15,15))\n",
    "plt.scatter(X, y, marker='.')\n",
    "\n",
    "\n",
    "# anotar las abreviaciones de los nombres de cada país\n",
    "labels = df3_subset['shortnam']\n",
    "for i, label in enumerate(labels):\n",
    "    plt.annotate(label, (X.iloc[i], y.iloc[i]))\n",
    "\n",
    "# graficar los datos del ajuste\n",
    "plt.plot(X,y_predicted,color='black')\n",
    "\n",
    "plt.xlabel('Riesgo Promedio de Expropiación 1985-95')\n",
    "plt.ylabel('PIB per capita, PPP, 1995')\n",
    "plt.title('Relación entre Risgo de Expropiación y PIB')\n",
    "plt.show()"
   ]
  },
  {
   "cell_type": "markdown",
   "metadata": {},
   "source": [
    "Finalmente, vemos un resumen de los parámetros del modelo."
   ]
  },
  {
   "cell_type": "code",
   "execution_count": 26,
   "metadata": {
    "scrolled": true
   },
   "outputs": [
    {
     "name": "stdout",
     "output_type": "stream",
     "text": [
      "                            OLS Regression Results                            \n",
      "==============================================================================\n",
      "Dep. Variable:                  gdp95   R-squared:                       0.692\n",
      "Model:                            OLS   Adj. R-squared:                  0.689\n",
      "Method:                 Least Squares   F-statistic:                     246.7\n",
      "Date:                Thu, 07 Feb 2019   Prob (F-statistic):           7.25e-30\n",
      "Time:                        14:11:22   Log-Likelihood:                -1128.5\n",
      "No. Observations:                 111   AIC:                             2259.\n",
      "Df Residuals:                     110   BIC:                             2262.\n",
      "Df Model:                           1                                         \n",
      "Covariance Type:            nonrobust                                         \n",
      "==============================================================================\n",
      "                 coef    std err          t      P>|t|      [0.025      0.975]\n",
      "------------------------------------------------------------------------------\n",
      "avexpr      1274.5521     81.151     15.706      0.000    1113.729    1435.375\n",
      "==============================================================================\n",
      "Omnibus:                       14.525   Durbin-Watson:                   1.780\n",
      "Prob(Omnibus):                  0.001   Jarque-Bera (JB):               17.300\n",
      "Skew:                           0.961   Prob(JB):                     0.000175\n",
      "Kurtosis:                       2.791   Cond. No.                         1.00\n",
      "==============================================================================\n",
      "\n",
      "Warnings:\n",
      "[1] Standard Errors assume that the covariance matrix of the errors is correctly specified.\n"
     ]
    }
   ],
   "source": [
    "print(lin_mod.summary())"
   ]
  },
  {
   "cell_type": "code",
   "execution_count": 27,
   "metadata": {},
   "outputs": [
    {
     "data": {
      "text/plain": [
       "array([0.])"
      ]
     },
     "execution_count": 27,
     "metadata": {},
     "output_type": "execute_result"
    }
   ],
   "source": [
    "lin_mod.predict(np.array(0))"
   ]
  },
  {
   "cell_type": "markdown",
   "metadata": {},
   "source": [
    "El problema con el modelo anterior es que no tiene la constante $\\beta_0$ (por lo que en el origen es 0). Esto se debe a que las constantes no se añaden automáticamente a los modelos (a diferencia de R). Para esto basta con añadir una constante a las variables exógenas cuando las introducimos a la función `sm.OLS()`."
   ]
  },
  {
   "cell_type": "code",
   "execution_count": 28,
   "metadata": {},
   "outputs": [
    {
     "name": "stdout",
     "output_type": "stream",
     "text": [
      "                            OLS Regression Results                            \n",
      "==============================================================================\n",
      "Dep. Variable:                  gdp95   R-squared:                       0.650\n",
      "Model:                            OLS   Adj. R-squared:                  0.647\n",
      "Method:                 Least Squares   F-statistic:                     202.7\n",
      "Date:                Thu, 07 Feb 2019   Prob (F-statistic):           1.28e-26\n",
      "Time:                        14:11:23   Log-Likelihood:                -1094.2\n",
      "No. Observations:                 111   AIC:                             2192.\n",
      "Df Residuals:                     109   BIC:                             2198.\n",
      "Df Model:                           1                                         \n",
      "Covariance Type:            nonrobust                                         \n",
      "==============================================================================\n",
      "                 coef    std err          t      P>|t|      [0.025      0.975]\n",
      "------------------------------------------------------------------------------\n",
      "const      -1.886e+04   1953.171     -9.659      0.000   -2.27e+04    -1.5e+04\n",
      "avexpr      3757.6589    263.961     14.236      0.000    3234.496    4280.822\n",
      "==============================================================================\n",
      "Omnibus:                        0.231   Durbin-Watson:                   1.813\n",
      "Prob(Omnibus):                  0.891   Jarque-Bera (JB):                0.310\n",
      "Skew:                           0.105   Prob(JB):                        0.856\n",
      "Kurtosis:                       2.848   Cond. No.                         33.2\n",
      "==============================================================================\n",
      "\n",
      "Warnings:\n",
      "[1] Standard Errors assume that the covariance matrix of the errors is correctly specified.\n"
     ]
    }
   ],
   "source": [
    "import statsmodels.api as sm\n",
    "\n",
    "df3_subset = df3.dropna(subset=['gdp95', 'avexpr'])\n",
    "X = sm.add_constant(df3_subset['avexpr'])\n",
    "y = df3_subset['gdp95']\n",
    "\n",
    "\n",
    "# Fit and summarize OLS model\n",
    "reg2 = sm.OLS(endog=y, exog=X,missing='drop')\n",
    "lin_mod = reg2.fit()\n",
    "print (lin_mod.summary())"
   ]
  },
  {
   "cell_type": "markdown",
   "metadata": {},
   "source": [
    "Otra opción es añadir una columna constante 1 de modo que el modelo ahora sea:\n",
    "\n",
    "$$PIB_i = \\beta_0 \\ const_i + \\beta_1 \\ avexpr_i + u_i,$$"
   ]
  },
  {
   "cell_type": "code",
   "execution_count": 29,
   "metadata": {},
   "outputs": [
    {
     "name": "stdout",
     "output_type": "stream",
     "text": [
      "                            OLS Regression Results                            \n",
      "==============================================================================\n",
      "Dep. Variable:                  gdp95   R-squared:                       0.650\n",
      "Model:                            OLS   Adj. R-squared:                  0.647\n",
      "Method:                 Least Squares   F-statistic:                     202.7\n",
      "Date:                Thu, 07 Feb 2019   Prob (F-statistic):           1.28e-26\n",
      "Time:                        14:11:23   Log-Likelihood:                -1094.2\n",
      "No. Observations:                 111   AIC:                             2192.\n",
      "Df Residuals:                     109   BIC:                             2198.\n",
      "Df Model:                           1                                         \n",
      "Covariance Type:            nonrobust                                         \n",
      "==============================================================================\n",
      "                 coef    std err          t      P>|t|      [0.025      0.975]\n",
      "------------------------------------------------------------------------------\n",
      "const      -1.886e+04   1953.172     -9.659      0.000   -2.27e+04    -1.5e+04\n",
      "avexpr      3757.6587    263.961     14.236      0.000    3234.496    4280.822\n",
      "==============================================================================\n",
      "Omnibus:                        0.231   Durbin-Watson:                   1.813\n",
      "Prob(Omnibus):                  0.891   Jarque-Bera (JB):                0.310\n",
      "Skew:                           0.105   Prob(JB):                        0.856\n",
      "Kurtosis:                       2.848   Cond. No.                         33.2\n",
      "==============================================================================\n",
      "\n",
      "Warnings:\n",
      "[1] Standard Errors assume that the covariance matrix of the errors is correctly specified.\n"
     ]
    }
   ],
   "source": [
    "df3['const'] = 1\n",
    "\n",
    "df3_subset = df3.dropna(subset=['gdp95', 'avexpr','const'])\n",
    "X = df3_subset[['const', 'avexpr']]\n",
    "y = df3_subset['gdp95']\n",
    "\n",
    "\n",
    "reg3 = sm.OLS(endog=y,exog=X)#, missing='drop')\n",
    "lin_mod = reg3.fit()\n",
    "y_predicted=lin_mod.predict(X)\n",
    "print(lin_mod.summary())"
   ]
  },
  {
   "cell_type": "code",
   "execution_count": 30,
   "metadata": {},
   "outputs": [
    {
     "data": {
      "text/plain": [
       "((111, 2), (111,), (111,))"
      ]
     },
     "execution_count": 30,
     "metadata": {},
     "output_type": "execute_result"
    }
   ],
   "source": [
    "X.shape, y.shape, y_predicted.shape"
   ]
  },
  {
   "cell_type": "code",
   "execution_count": 31,
   "metadata": {},
   "outputs": [
    {
     "data": {
      "image/png": "[encoded data removed]",
      "text/plain": [
       "<matplotlib.figure.Figure at 0x7fd311132978>"
      ]
     },
     "metadata": {},
     "output_type": "display_data"
    }
   ],
   "source": [
    "fig=plt.figure(figsize=(15,15))\n",
    "plt.scatter(X['avexpr'], y, marker='.')\n",
    "\n",
    "\n",
    "# anotar las abreviaciones de los nombres de cada país\n",
    "labels = df3_subset['shortnam']\n",
    "for i, label in enumerate(labels):\n",
    "    plt.annotate(label, (X['avexpr'].iloc[i], y.iloc[i]))\n",
    "\n",
    "# graficar los datos del ajuste\n",
    "plt.plot(X['avexpr'],y_predicted,color='black')\n",
    "\n",
    "plt.xlabel('Riesgo Promedio de Expropiación 1985-95')\n",
    "plt.ylabel('PIB per capita, PPP, 1995')\n",
    "plt.title('Relación entre Risgo de Expropiación y PIB')\n",
    "plt.show()"
   ]
  },
  {
   "cell_type": "markdown",
   "metadata": {},
   "source": [
    "Ahora, probaremos con transformar la variable dependiente (endógena) para ver si se puede obtener un comportamiento con mayor linealidad. Definimos la siguiente columna en la base de datos:"
   ]
  },
  {
   "cell_type": "code",
   "execution_count": 32,
   "metadata": {},
   "outputs": [],
   "source": [
    "df3['loggdp95']=np.log(df3['gdp95'])"
   ]
  },
  {
   "cell_type": "code",
   "execution_count": 33,
   "metadata": {},
   "outputs": [
    {
     "data": {
      "text/html": [
       "<div>\n",
       "<table border=\"1\" class=\"dataframe\">\n",
       "  <thead>\n",
       "    <tr style=\"text-align: right;\">\n",
       "      <th></th>\n",
       "      <th>shortnam</th>\n",
       "      <th>euro1900</th>\n",
       "      <th>excolony</th>\n",
       "      <th>avexpr</th>\n",
       "      <th>cons1</th>\n",
       "      <th>cons90</th>\n",
       "      <th>democ00a</th>\n",
       "      <th>cons00a</th>\n",
       "      <th>extmort4</th>\n",
       "      <th>logem4</th>\n",
       "      <th>loghjypl</th>\n",
       "      <th>baseco</th>\n",
       "      <th>gdp95</th>\n",
       "      <th>const</th>\n",
       "      <th>loggdp95</th>\n",
       "    </tr>\n",
       "  </thead>\n",
       "  <tbody>\n",
       "    <tr>\n",
       "      <th>0</th>\n",
       "      <td>AFG</td>\n",
       "      <td>0.000000</td>\n",
       "      <td>1.0</td>\n",
       "      <td>NaN</td>\n",
       "      <td>1.0</td>\n",
       "      <td>2.0</td>\n",
       "      <td>1.0</td>\n",
       "      <td>1.0</td>\n",
       "      <td>93.699997</td>\n",
       "      <td>4.540098</td>\n",
       "      <td>NaN</td>\n",
       "      <td>NaN</td>\n",
       "      <td>NaN</td>\n",
       "      <td>1</td>\n",
       "      <td>NaN</td>\n",
       "    </tr>\n",
       "    <tr>\n",
       "      <th>1</th>\n",
       "      <td>AGO</td>\n",
       "      <td>8.000000</td>\n",
       "      <td>1.0</td>\n",
       "      <td>5.363636</td>\n",
       "      <td>3.0</td>\n",
       "      <td>3.0</td>\n",
       "      <td>0.0</td>\n",
       "      <td>1.0</td>\n",
       "      <td>280.000000</td>\n",
       "      <td>5.634789</td>\n",
       "      <td>-3.411248</td>\n",
       "      <td>1.0</td>\n",
       "      <td>2369.999756</td>\n",
       "      <td>1</td>\n",
       "      <td>7.770645</td>\n",
       "    </tr>\n",
       "    <tr>\n",
       "      <th>2</th>\n",
       "      <td>ARE</td>\n",
       "      <td>0.000000</td>\n",
       "      <td>1.0</td>\n",
       "      <td>7.181818</td>\n",
       "      <td>NaN</td>\n",
       "      <td>NaN</td>\n",
       "      <td>NaN</td>\n",
       "      <td>NaN</td>\n",
       "      <td>NaN</td>\n",
       "      <td>NaN</td>\n",
       "      <td>NaN</td>\n",
       "      <td>NaN</td>\n",
       "      <td>18109.994141</td>\n",
       "      <td>1</td>\n",
       "      <td>9.804219</td>\n",
       "    </tr>\n",
       "    <tr>\n",
       "      <th>3</th>\n",
       "      <td>ARG</td>\n",
       "      <td>60.000004</td>\n",
       "      <td>1.0</td>\n",
       "      <td>6.386364</td>\n",
       "      <td>1.0</td>\n",
       "      <td>6.0</td>\n",
       "      <td>3.0</td>\n",
       "      <td>3.0</td>\n",
       "      <td>68.900002</td>\n",
       "      <td>4.232656</td>\n",
       "      <td>-0.872274</td>\n",
       "      <td>1.0</td>\n",
       "      <td>9259.998047</td>\n",
       "      <td>1</td>\n",
       "      <td>9.133459</td>\n",
       "    </tr>\n",
       "    <tr>\n",
       "      <th>4</th>\n",
       "      <td>ARM</td>\n",
       "      <td>0.000000</td>\n",
       "      <td>0.0</td>\n",
       "      <td>NaN</td>\n",
       "      <td>NaN</td>\n",
       "      <td>NaN</td>\n",
       "      <td>NaN</td>\n",
       "      <td>NaN</td>\n",
       "      <td>NaN</td>\n",
       "      <td>NaN</td>\n",
       "      <td>NaN</td>\n",
       "      <td>NaN</td>\n",
       "      <td>2169.999512</td>\n",
       "      <td>1</td>\n",
       "      <td>7.682482</td>\n",
       "    </tr>\n",
       "  </tbody>\n",
       "</table>\n",
       "</div>"
      ],
      "text/plain": [
       "  shortnam   euro1900  excolony    avexpr  cons1  cons90  democ00a  cons00a  \\\n",
       "0      AFG   0.000000       1.0       NaN    1.0     2.0       1.0      1.0   \n",
       "1      AGO   8.000000       1.0  5.363636    3.0     3.0       0.0      1.0   \n",
       "2      ARE   0.000000       1.0  7.181818    NaN     NaN       NaN      NaN   \n",
       "3      ARG  60.000004       1.0  6.386364    1.0     6.0       3.0      3.0   \n",
       "4      ARM   0.000000       0.0       NaN    NaN     NaN       NaN      NaN   \n",
       "\n",
       "     extmort4    logem4  loghjypl  baseco         gdp95  const  loggdp95  \n",
       "0   93.699997  4.540098       NaN     NaN           NaN      1       NaN  \n",
       "1  280.000000  5.634789 -3.411248     1.0   2369.999756      1  7.770645  \n",
       "2         NaN       NaN       NaN     NaN  18109.994141      1  9.804219  \n",
       "3   68.900002  4.232656 -0.872274     1.0   9259.998047      1  9.133459  \n",
       "4         NaN       NaN       NaN     NaN   2169.999512      1  7.682482  "
      ]
     },
     "execution_count": 33,
     "metadata": {},
     "output_type": "execute_result"
    }
   ],
   "source": [
    "df3.head()"
   ]
  },
  {
   "cell_type": "markdown",
   "metadata": {},
   "source": [
    "Ahora el modelo será:\n",
    "\n",
    "$$log(PIB)_i = \\beta_0 + \\beta_1 \\ avexpr_i + u_i,$$"
   ]
  },
  {
   "cell_type": "code",
   "execution_count": 34,
   "metadata": {},
   "outputs": [
    {
     "name": "stdout",
     "output_type": "stream",
     "text": [
      "                            OLS Regression Results                            \n",
      "==============================================================================\n",
      "Dep. Variable:               loggdp95   R-squared:                       0.611\n",
      "Model:                            OLS   Adj. R-squared:                  0.608\n",
      "Method:                 Least Squares   F-statistic:                     171.4\n",
      "Date:                Thu, 07 Feb 2019   Prob (F-statistic):           4.16e-24\n",
      "Time:                        14:11:25   Log-Likelihood:                -119.71\n",
      "No. Observations:                 111   AIC:                             243.4\n",
      "Df Residuals:                     109   BIC:                             248.8\n",
      "Df Model:                           1                                         \n",
      "Covariance Type:            nonrobust                                         \n",
      "==============================================================================\n",
      "                 coef    std err          t      P>|t|      [0.025      0.975]\n",
      "------------------------------------------------------------------------------\n",
      "const          4.6261      0.301     15.391      0.000       4.030       5.222\n",
      "avexpr         0.5319      0.041     13.093      0.000       0.451       0.612\n",
      "==============================================================================\n",
      "Omnibus:                        9.251   Durbin-Watson:                   1.689\n",
      "Prob(Omnibus):                  0.010   Jarque-Bera (JB):                9.170\n",
      "Skew:                          -0.680   Prob(JB):                       0.0102\n",
      "Kurtosis:                       3.362   Cond. No.                         33.2\n",
      "==============================================================================\n",
      "\n",
      "Warnings:\n",
      "[1] Standard Errors assume that the covariance matrix of the errors is correctly specified.\n"
     ]
    }
   ],
   "source": [
    "import statsmodels.api as sm\n",
    "\n",
    "df3_subset = df3.dropna(subset=['loggdp95', 'avexpr'])\n",
    "X = sm.add_constant(df3_subset['avexpr'])\n",
    "y = df3_subset['loggdp95']\n",
    "\n",
    "\n",
    "# Fit and summarize OLS model\n",
    "reg4 = sm.OLS(endog=y, exog=X,missing='drop')\n",
    "lin_mod = reg4.fit()\n",
    "y_predicted = lin_mod.predict(X)\n",
    "print (lin_mod.summary())"
   ]
  },
  {
   "cell_type": "code",
   "execution_count": 35,
   "metadata": {},
   "outputs": [
    {
     "data": {
      "image/png": "[encoded data removed]",
      "text/plain": [
       "<matplotlib.figure.Figure at 0x7fd311052320>"
      ]
     },
     "metadata": {},
     "output_type": "display_data"
    }
   ],
   "source": [
    "fig=plt.figure(figsize=(15,15))\n",
    "plt.scatter(X['avexpr'], y, marker='.')\n",
    "\n",
    "\n",
    "# anotar las abreviaciones de los nombres de cada país\n",
    "labels = df3_subset['shortnam']\n",
    "for i, label in enumerate(labels):\n",
    "    plt.annotate(label, (X['avexpr'].iloc[i], y.iloc[i]))\n",
    "\n",
    "# graficar los datos del ajuste\n",
    "plt.plot(X['avexpr'],y_predicted,color='black')\n",
    "\n",
    "plt.xlabel('Riesgo Promedio de Expropiación 1985-95')\n",
    "plt.ylabel('LogPIB per capita, PPP, 1995')\n",
    "plt.title('Relación entre Risgo de Expropiación y PIB')\n",
    "plt.show()"
   ]
  },
  {
   "cell_type": "markdown",
   "metadata": {},
   "source": [
    "# Extender el Modelo"
   ]
  },
  {
   "cell_type": "markdown",
   "metadata": {},
   "source": [
    "Hasta ahora únicamente hemos considerado a las instituciones como factor del rendimiento económico. Seguramente existen ortros factores que afectan el PIB (en adelante seguiremos trabajando con logPIB) que no estamos considerando.\n",
    "\n",
    "Esto significa que habrá un sesgo en nuestras predicciones por las variables omitidas y estimaciones erradas de los parámetros en la regresión.\n",
    "\n",
    "\n",
    "Podemos extender el modelo de regresión a un modelo de regresión multi-variado al considerar variables adicionales.\n",
    "Probaremos otros factores como:\n",
    "\n",
    "- El efecto del clima en el rendimiento económico, utilizando latidud (`lat_abst`)\n",
    "- Diferencias culturales e históricas (afectan al PIB y a las instituciones), utilizando los continentes (`africa`,`asia`, `other`) \n",
    "\n",
    "La buena noticia es que podemos hacer varias estimaciones a la vez."
   ]
  },
  {
   "cell_type": "code",
   "execution_count": 36,
   "metadata": {},
   "outputs": [
    {
     "data": {
      "text/html": [
       "<div>\n",
       "<table border=\"1\" class=\"dataframe\">\n",
       "  <thead>\n",
       "    <tr style=\"text-align: right;\">\n",
       "      <th></th>\n",
       "      <th>shortnam</th>\n",
       "      <th>africa</th>\n",
       "      <th>lat_abst</th>\n",
       "      <th>avexpr</th>\n",
       "      <th>logpgp95</th>\n",
       "      <th>other</th>\n",
       "      <th>asia</th>\n",
       "      <th>loghjypl</th>\n",
       "      <th>baseco</th>\n",
       "    </tr>\n",
       "  </thead>\n",
       "  <tbody>\n",
       "    <tr>\n",
       "      <th>0</th>\n",
       "      <td>AFG</td>\n",
       "      <td>0.0</td>\n",
       "      <td>0.366667</td>\n",
       "      <td>NaN</td>\n",
       "      <td>NaN</td>\n",
       "      <td>0.0</td>\n",
       "      <td>1.0</td>\n",
       "      <td>NaN</td>\n",
       "      <td>NaN</td>\n",
       "    </tr>\n",
       "    <tr>\n",
       "      <th>1</th>\n",
       "      <td>AGO</td>\n",
       "      <td>1.0</td>\n",
       "      <td>0.136667</td>\n",
       "      <td>5.363636</td>\n",
       "      <td>7.770645</td>\n",
       "      <td>0.0</td>\n",
       "      <td>0.0</td>\n",
       "      <td>-3.411248</td>\n",
       "      <td>1.0</td>\n",
       "    </tr>\n",
       "    <tr>\n",
       "      <th>2</th>\n",
       "      <td>ARE</td>\n",
       "      <td>0.0</td>\n",
       "      <td>0.266667</td>\n",
       "      <td>7.181818</td>\n",
       "      <td>9.804219</td>\n",
       "      <td>0.0</td>\n",
       "      <td>1.0</td>\n",
       "      <td>NaN</td>\n",
       "      <td>NaN</td>\n",
       "    </tr>\n",
       "    <tr>\n",
       "      <th>3</th>\n",
       "      <td>ARG</td>\n",
       "      <td>0.0</td>\n",
       "      <td>0.377778</td>\n",
       "      <td>6.386364</td>\n",
       "      <td>9.133459</td>\n",
       "      <td>0.0</td>\n",
       "      <td>0.0</td>\n",
       "      <td>-0.872274</td>\n",
       "      <td>1.0</td>\n",
       "    </tr>\n",
       "    <tr>\n",
       "      <th>4</th>\n",
       "      <td>ARM</td>\n",
       "      <td>0.0</td>\n",
       "      <td>0.444444</td>\n",
       "      <td>NaN</td>\n",
       "      <td>7.682482</td>\n",
       "      <td>0.0</td>\n",
       "      <td>1.0</td>\n",
       "      <td>NaN</td>\n",
       "      <td>NaN</td>\n",
       "    </tr>\n",
       "  </tbody>\n",
       "</table>\n",
       "</div>"
      ],
      "text/plain": [
       "  shortnam  africa  lat_abst    avexpr  logpgp95  other  asia  loghjypl  \\\n",
       "0      AFG     0.0  0.366667       NaN       NaN    0.0   1.0       NaN   \n",
       "1      AGO     1.0  0.136667  5.363636  7.770645    0.0   0.0 -3.411248   \n",
       "2      ARE     0.0  0.266667  7.181818  9.804219    0.0   1.0       NaN   \n",
       "3      ARG     0.0  0.377778  6.386364  9.133459    0.0   0.0 -0.872274   \n",
       "4      ARM     0.0  0.444444       NaN  7.682482    0.0   1.0       NaN   \n",
       "\n",
       "   baseco  \n",
       "0     NaN  \n",
       "1     1.0  \n",
       "2     NaN  \n",
       "3     1.0  \n",
       "4     NaN  "
      ]
     },
     "execution_count": 36,
     "metadata": {},
     "output_type": "execute_result"
    }
   ],
   "source": [
    "df2 = pd.read_stata('https://github.com/QuantEcon/QuantEcon.lectures.code/raw/master/ols/maketable2.dta')\n",
    "df2.head()"
   ]
  },
  {
   "cell_type": "code",
   "execution_count": 37,
   "metadata": {},
   "outputs": [],
   "source": [
    "# añadir constante a los datos\n",
    "df2['const'] = 1\n",
    "\n",
    "# Distintas combinaciones de variables\n",
    "X0 = ['avexpr']\n",
    "X1 = ['const', 'avexpr']\n",
    "X2 = ['const', 'avexpr', 'lat_abst']\n",
    "X3 = ['const', 'avexpr', 'lat_abst', 'asia', 'africa', 'other']\n",
    "\n",
    "# Hacer una regresión por cada combinación de las variables\n",
    "reg0 = sm.OLS(df2['logpgp95'], df2[X0], missing='drop').fit()\n",
    "reg1 = sm.OLS(df2['logpgp95'], df2[X1], missing='drop').fit()\n",
    "reg2 = sm.OLS(df2['logpgp95'], df2[X2], missing='drop').fit()\n",
    "reg3 = sm.OLS(df2['logpgp95'], df2[X3], missing='drop').fit()"
   ]
  },
  {
   "cell_type": "markdown",
   "metadata": {},
   "source": [
    "Una vez ajustado el modelo, usaremos la función `summary_col` para agrupar los diferentes resultados en una sola tabla."
   ]
  },
  {
   "cell_type": "code",
   "execution_count": 38,
   "metadata": {},
   "outputs": [
    {
     "name": "stdout",
     "output_type": "stream",
     "text": [
      "            Table 2 - OLS Regressions\n",
      "=================================================\n",
      "                 Model 0 Model 1 Model 2 Model 3 \n",
      "-------------------------------------------------\n",
      "const                    4.63*** 4.87*** 5.85*** \n",
      "                         (0.30)  (0.33)  (0.34)  \n",
      "avexpr           1.14*** 0.53*** 0.46*** 0.39*** \n",
      "                 (0.02)  (0.04)  (0.06)  (0.05)  \n",
      "lat_abst                         0.87*   0.33    \n",
      "                                 (0.49)  (0.45)  \n",
      "asia                                     -0.15   \n",
      "                                         (0.15)  \n",
      "africa                                   -0.92***\n",
      "                                         (0.17)  \n",
      "other                                    0.30    \n",
      "                                         (0.37)  \n",
      "R-squared        0.98    0.61    0.62    0.72    \n",
      "No. observations 111     111     111     111     \n",
      "=================================================\n",
      "Standard errors in parentheses.\n",
      "* p<.1, ** p<.05, ***p<.01\n"
     ]
    }
   ],
   "source": [
    "from statsmodels.iolib.summary2 import summary_col\n",
    "\n",
    "info_dict={'R-squared' : lambda x: f\"{x.rsquared:.2f}\",\n",
    "           'No. observations' : lambda x: f\"{int(x.nobs):d}\"}\n",
    "\n",
    "results_table = summary_col(results=[reg0,reg1,reg2,reg3],\n",
    "                            float_format='%0.2f',\n",
    "                            stars = True,\n",
    "                            model_names=['Model 0','Model 1','Model 2','Model 3'],\n",
    "                            info_dict=info_dict,\n",
    "                            regressor_order=['const',\n",
    "                                             'avexpr',\n",
    "                                             'lat_abst',\n",
    "                                             'asia',\n",
    "                                             'africa'])\n",
    "\n",
    "results_table.add_title('Table 2 - OLS Regressions')\n",
    "\n",
    "print(results_table)"
   ]
  },
  {
   "cell_type": "code",
   "execution_count": 51,
   "metadata": {},
   "outputs": [
    {
     "data": {
      "text/html": [
       "<div>\n",
       "<table border=\"1\" class=\"dataframe\">\n",
       "  <thead>\n",
       "    <tr style=\"text-align: right;\">\n",
       "      <th></th>\n",
       "      <th>Model 0</th>\n",
       "      <th>Model 1</th>\n",
       "      <th>Model 2</th>\n",
       "      <th>Model 3</th>\n",
       "    </tr>\n",
       "  </thead>\n",
       "  <tbody>\n",
       "    <tr>\n",
       "      <th>const</th>\n",
       "      <td></td>\n",
       "      <td>4.63***</td>\n",
       "      <td>4.87***</td>\n",
       "      <td>5.85***</td>\n",
       "    </tr>\n",
       "    <tr>\n",
       "      <th></th>\n",
       "      <td></td>\n",
       "      <td>(0.30)</td>\n",
       "      <td>(0.33)</td>\n",
       "      <td>(0.34)</td>\n",
       "    </tr>\n",
       "    <tr>\n",
       "      <th>avexpr</th>\n",
       "      <td>1.14***</td>\n",
       "      <td>0.53***</td>\n",
       "      <td>0.46***</td>\n",
       "      <td>0.39***</td>\n",
       "    </tr>\n",
       "    <tr>\n",
       "      <th></th>\n",
       "      <td>(0.02)</td>\n",
       "      <td>(0.04)</td>\n",
       "      <td>(0.06)</td>\n",
       "      <td>(0.05)</td>\n",
       "    </tr>\n",
       "    <tr>\n",
       "      <th>lat_abst</th>\n",
       "      <td></td>\n",
       "      <td></td>\n",
       "      <td>0.87*</td>\n",
       "      <td>0.33</td>\n",
       "    </tr>\n",
       "    <tr>\n",
       "      <th></th>\n",
       "      <td></td>\n",
       "      <td></td>\n",
       "      <td>(0.49)</td>\n",
       "      <td>(0.45)</td>\n",
       "    </tr>\n",
       "    <tr>\n",
       "      <th>asia</th>\n",
       "      <td></td>\n",
       "      <td></td>\n",
       "      <td></td>\n",
       "      <td>-0.15</td>\n",
       "    </tr>\n",
       "    <tr>\n",
       "      <th></th>\n",
       "      <td></td>\n",
       "      <td></td>\n",
       "      <td></td>\n",
       "      <td>(0.15)</td>\n",
       "    </tr>\n",
       "    <tr>\n",
       "      <th>africa</th>\n",
       "      <td></td>\n",
       "      <td></td>\n",
       "      <td></td>\n",
       "      <td>-0.92***</td>\n",
       "    </tr>\n",
       "    <tr>\n",
       "      <th></th>\n",
       "      <td></td>\n",
       "      <td></td>\n",
       "      <td></td>\n",
       "      <td>(0.17)</td>\n",
       "    </tr>\n",
       "    <tr>\n",
       "      <th>other</th>\n",
       "      <td></td>\n",
       "      <td></td>\n",
       "      <td></td>\n",
       "      <td>0.30</td>\n",
       "    </tr>\n",
       "    <tr>\n",
       "      <th></th>\n",
       "      <td></td>\n",
       "      <td></td>\n",
       "      <td></td>\n",
       "      <td>(0.37)</td>\n",
       "    </tr>\n",
       "    <tr>\n",
       "      <th>R-squared</th>\n",
       "      <td>0.98</td>\n",
       "      <td>0.61</td>\n",
       "      <td>0.62</td>\n",
       "      <td>0.72</td>\n",
       "    </tr>\n",
       "    <tr>\n",
       "      <th>No. observations</th>\n",
       "      <td>111</td>\n",
       "      <td>111</td>\n",
       "      <td>111</td>\n",
       "      <td>111</td>\n",
       "    </tr>\n",
       "  </tbody>\n",
       "</table>\n",
       "</div>"
      ],
      "text/plain": [
       "                  Model 0  Model 1  Model 2   Model 3\n",
       "const                      4.63***  4.87***   5.85***\n",
       "                            (0.30)   (0.33)    (0.34)\n",
       "avexpr            1.14***  0.53***  0.46***   0.39***\n",
       "                   (0.02)   (0.04)   (0.06)    (0.05)\n",
       "lat_abst                              0.87*      0.33\n",
       "                                     (0.49)    (0.45)\n",
       "asia                                            -0.15\n",
       "                                               (0.15)\n",
       "africa                                       -0.92***\n",
       "                                               (0.17)\n",
       "other                                            0.30\n",
       "                                               (0.37)\n",
       "R-squared            0.98     0.61     0.62      0.72\n",
       "No. observations      111      111      111       111"
      ]
     },
     "execution_count": 51,
     "metadata": {},
     "output_type": "execute_result"
    }
   ],
   "source": [
    "results_table.tables[0]"
   ]
  },
  {
   "cell_type": "markdown",
   "metadata": {},
   "source": [
    "# Fuentes:"
   ]
  },
  {
   "cell_type": "markdown",
   "metadata": {},
   "source": [
    "- https://lectures.quantecon.org\n",
    "- https://economics.mit.edu/files/4123"
   ]
  }
 ],
 "metadata": {
  "kernelspec": {
   "display_name": "Python 3",
   "language": "python",
   "name": "python3"
  },
  "language_info": {
   "codemirror_mode": {
    "name": "ipython",
    "version": 3
   },
   "file_extension": ".py",
   "mimetype": "text/x-python",
   "name": "python",
   "nbconvert_exporter": "python",
   "pygments_lexer": "ipython3",
   "version": "3.7.2"
  }
 },
 "nbformat": 4,
 "nbformat_minor": 2
}
