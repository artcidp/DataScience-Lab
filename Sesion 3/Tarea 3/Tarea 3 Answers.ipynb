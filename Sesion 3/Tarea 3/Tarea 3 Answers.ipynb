{
 "cells": [
  {
   "cell_type": "markdown",
   "metadata": {},
   "source": [
    "# Problema 1: Regresión Polinomial"
   ]
  },
  {
   "cell_type": "markdown",
   "metadata": {},
   "source": [
    "En clase ya vimos un caso particular de este tipo de modelos: la regresión cuadrática. En general, un modelo de regresión polinomial se puede expresar como:\n",
    "\n",
    "$$Y_i = \\beta_0 + \\beta_1 \\ X_i +\\beta_2 \\ X_i^2 + ... + \\beta_n \\ X_i^n + u_i. $$"
   ]
  },
  {
   "cell_type": "markdown",
   "metadata": {},
   "source": [
    "En este ejercicio veremos la importancia de la elección del grado $n$ del polinomio en la regresión.\n",
    "\n",
    "**1.**<br/>\n",
    "a) Utilizando la función `random.normal` de `numpy` genera un arreglo de 40 números aleatorios $X$ con distribución $\\mathcal{N}(2,3)$. Esta será la variable aleatoria $X$ que utilizaremos en los siguientes puntos.<br/>\n",
    "b) Calcula la variable dependiente $Y$ mediante la siguiente ecuación polinomial: $Y = X - 2X^2 + \\frac{1}{2}X^3 + U$ donde $U$, de manera análoga al inciso anterior, es una variable aleatoria con distribución $\\mathcal{N}(-3,3)$.\n",
    "\n",
    "**2.**<br/>\n",
    "a)Utilizando la función `OLS` de `statsmodels.api` que vimos en clase, genera una regresión polinomial para polinomios de grado $n=1,2,3,4,7,10,15,20\\ y\\ 30$.<br/>\n",
    "b)Grafica los datos y las regresiones generadas en el inciso anterior. \n",
    "\n",
    "**3.** Utilizando las funciones `mean_squared_error` y `r2_score` de `sklearn.metrics` calcula la raíz del error cuadrático medio (RMSE) y el coeficiente de determinación ($R^2$)de los resultados de la regresión.<br/>\n",
    "\n",
    "**4.** Debido a que estamos utilizando una muestra pequeña de datos, puede existir algún sesgo en nuestras estimaciones.<br/> \n",
    "a) Repite el inciso 1, generando arreglos $X2$ y $Y2$ con las mismas fórmulas, pero ahora con 100 números aleatorios. \n",
    " \n",
    "b) Repide el inciso 3, comparando las predicciones de las regresiones del inciso 2 con los arreglos $X2$ y $Y2$.\n",
    " \n",
    " \n",
    "**5.** En una misma ventana, grafica los valores del RMSE que calculaste en los incisos 3 y 4b) en función del grado $n$ del polinomio. ¿Qué puedes concluir de esta gráfica? ¿Como podrías utilizar la gráfica deducir el grado del polinomio utilizado si no lo conocieras?"
   ]
  },
  {
   "cell_type": "code",
   "execution_count": 1,
   "metadata": {},
   "outputs": [],
   "source": [
    "import numpy as np\n",
    "import pandas as pd\n",
    "import statsmodels.api as sm\n",
    "import matplotlib.pyplot as plt\n",
    "\n",
    "from sklearn.linear_model import LinearRegression\n",
    "\n",
    "np.random.seed(0)\n",
    "x = 2 - 3 * np.random.normal(0, 1, 30)\n",
    "y = x - 2 * (x ** 2) + 0.5 * (x ** 3) + np.random.normal(-3, 3, 30)\n",
    "\n",
    "dictionary={'Y':y,'X':x}\n",
    "\n",
    "data=pd.DataFrame(dictionary)\n",
    "\n",
    "for n in [2,3,4,10,20]:\n",
    "    col_name= 'X'+str(n)\n",
    "    data[col_name]=data['X']**n"
   ]
  },
  {
   "cell_type": "code",
   "execution_count": 18,
   "metadata": {
    "scrolled": false
   },
   "outputs": [
    {
     "name": "stdout",
     "output_type": "stream",
     "text": [
      "                            OLS Regression Results                            \n",
      "==============================================================================\n",
      "Dep. Variable:                      y   R-squared:                       0.292\n",
      "Model:                            OLS   Adj. R-squared:                  0.268\n",
      "Method:                 Least Squares   F-statistic:                     11.96\n",
      "Date:                Thu, 07 Feb 2019   Prob (F-statistic):            0.00170\n",
      "Time:                        20:22:25   Log-Likelihood:                -160.22\n",
      "No. Observations:                  30   AIC:                             322.4\n",
      "Df Residuals:                      29   BIC:                             323.8\n",
      "Df Model:                           1                                         \n",
      "Covariance Type:            nonrobust                                         \n",
      "==============================================================================\n",
      "                 coef    std err          t      P>|t|      [0.025      0.975]\n",
      "------------------------------------------------------------------------------\n",
      "x1             1.5381      0.445      3.459      0.002       0.629       2.448\n",
      "==============================================================================\n",
      "Omnibus:                       10.758   Durbin-Watson:                   1.373\n",
      "Prob(Omnibus):                  0.005   Jarque-Bera (JB):               25.396\n",
      "Skew:                          -0.248   Prob(JB):                     3.06e-06\n",
      "Kurtosis:                       7.480   Cond. No.                         1.00\n",
      "==============================================================================\n",
      "\n",
      "Warnings:\n",
      "[1] Standard Errors assume that the covariance matrix of the errors is correctly specified.\n"
     ]
    },
    {
     "data": {
      "image/png": "[encoded data removed]",
      "text/plain": [
       "<matplotlib.figure.Figure at 0x7f7905862c18>"
      ]
     },
     "metadata": {},
     "output_type": "display_data"
    }
   ],
   "source": [
    "for n in \n",
    "\n",
    "X = sm.add_constant(df3_subset['avexpr'])\n",
    "y = df3_subset['loggdp95']\n",
    "\n",
    "# Fit and summarize OLS model\n",
    "reg4 = sm.OLS(endog=y, exog=X,missing='drop')\n",
    "\n",
    "\n",
    "x1 = sm.add_constant(x)\n",
    "x**2\n",
    "#y = df3_subset['gdp95']\n",
    "\n",
    "# Fit and summarize OLS model\n",
    "reg2 = sm.OLS(endog=y, exog=x**2,missing='drop')\n",
    "lin_mod = reg2.fit()\n",
    "print (lin_mod.summary())\n",
    "\n",
    "\n",
    "plt.scatter(x, y, s=10)\n",
    "plt.plot(x, y_pred, color='r')\n",
    "plt.show()"
   ]
  },
  {
   "cell_type": "markdown",
   "metadata": {},
   "source": [
    "# Problema 2: Ajuste de Distribuciones"
   ]
  },
  {
   "cell_type": "markdown",
   "metadata": {},
   "source": [
    "En este inciso verificaremos la ley de los grandes números para las estimaciones de parámetros de distintas distribuciones. Utilizaremos la librería de `scipy.stats` para este problema. Puedes revisar [aquí](https://docs.scipy.org/doc/scipy/reference/stats.html) las diferentes funciones de la librería.\n",
    "\n",
    "**1.** Utilizando la función `norm.rvs`, genera un arreglo de $n$ números con distribución normal $\\mathcal{N}(\\mu,\\sigma^2)$, donde $\\mu$ y $\\sigma$ son parámetros que puedes elegir de manera arbitraria y $n$ toma valores igualmente espaciados entre 3 y 3000. Hint: Utiliza la función `linspace` de `numpy`. <br/>\n",
    "**2.** Utiliza la función `norm.fit` para obtener $\\mu$ y $\\sigma^2$ de los datos generados en el inciso anterior.  <br/>\n",
    "**3.** Utiliza la función `norm.pdf` para graficar la función de densidad de probabilidad y, en la misma ventana grafica el histograma de la función (normalizado). Para este inciso sólo toma 2 valores de $n$ (uno chico y uno grande).  <br/>\n",
    "**4.** Grafica en una misma ventana los parámetros de la distribución en función de todos los valores de $n$. ¿Qué puedes decir a cerca del comportamiento de estos parámetros?  <br/>\n",
    "**5.** Repite los incisos 1,2,3 y 4 con las siguientes distribuciones: exponencial, chi-cuadrada, beta y gamma. <br/>"
   ]
  },
  {
   "cell_type": "code",
   "execution_count": 3,
   "metadata": {},
   "outputs": [],
   "source": [
    "from scipy import stats"
   ]
  },
  {
   "cell_type": "code",
   "execution_count": 39,
   "metadata": {},
   "outputs": [
    {
     "data": {
      "text/plain": [
       "array([   3.,    4.,    5., ..., 2998., 2999., 3000.])"
      ]
     },
     "execution_count": 39,
     "metadata": {},
     "output_type": "execute_result"
    }
   ],
   "source": [
    "np.linspace(3,3000,2998)"
   ]
  },
  {
   "cell_type": "code",
   "execution_count": 12,
   "metadata": {},
   "outputs": [
    {
     "data": {
      "text/plain": [
       "array([-1.74575221,  0.45498274, -0.22861538, ...,  1.00643959,\n",
       "       -0.38046317,  0.41805486])"
      ]
     },
     "execution_count": 12,
     "metadata": {},
     "output_type": "execute_result"
    }
   ],
   "source": [
    "stats.norm.rvs(0,1,100000)"
   ]
  },
  {
   "cell_type": "code",
   "execution_count": 52,
   "metadata": {},
   "outputs": [
    {
     "data": {
      "text/plain": [
       "2.23606797749979"
      ]
     },
     "execution_count": 52,
     "metadata": {},
     "output_type": "execute_result"
    }
   ],
   "source": []
  },
  {
   "cell_type": "code",
   "execution_count": 53,
   "metadata": {},
   "outputs": [
    {
     "data": {
      "image/png": "[encoded data removed]",
      "text/plain": [
       "<matplotlib.figure.Figure at 0x7fd368388358>"
      ]
     },
     "metadata": {},
     "output_type": "display_data"
    }
   ],
   "source": [
    "plt.hist(np.random.normal(0,np.sqrt(5),100000),bins=100,normed=True);"
   ]
  },
  {
   "cell_type": "code",
   "execution_count": 55,
   "metadata": {},
   "outputs": [
    {
     "data": {
      "text/plain": [
       "(-5, 5)"
      ]
     },
     "execution_count": 55,
     "metadata": {},
     "output_type": "execute_result"
    },
    {
     "data": {
      "image/png": "[encoded data removed]",
      "text/plain": [
       "<matplotlib.figure.Figure at 0x7fd3683463c8>"
      ]
     },
     "metadata": {},
     "output_type": "display_data"
    }
   ],
   "source": [
    "nt=stats.norm.rvs(0,np.sqrt(5),100000)\n",
    "plt.hist(nt,bins=100,normed=True);\n",
    "\n",
    "m, s = stats.norm.fit(nt) # get mean and standard deviation  \n",
    "pdf_g = stats.norm.pdf(lnspc, m, s) # now get theoretical values in our interval  \n",
    "plt.plot(lnspc, pdf_g, label=\"Norm\")\n",
    "plt.xlim([-5,5])"
   ]
  },
  {
   "cell_type": "code",
   "execution_count": 30,
   "metadata": {},
   "outputs": [
    {
     "ename": "AttributeError",
     "evalue": "'tuple' object has no attribute 'pdf'",
     "output_type": "error",
     "traceback": [
      "\u001b[0;31m---------------------------------------------------------------------------\u001b[0m",
      "\u001b[0;31mAttributeError\u001b[0m                            Traceback (most recent call last)",
      "\u001b[0;32m<ipython-input-30-63fbb245dc07>\u001b[0m in \u001b[0;36m<module>\u001b[0;34m()\u001b[0m\n\u001b[1;32m      4\u001b[0m \u001b[0;31m#plt.xlim([-5,5])\u001b[0m\u001b[0;34m\u001b[0m\u001b[0;34m\u001b[0m\u001b[0;34m\u001b[0m\u001b[0m\n\u001b[1;32m      5\u001b[0m \u001b[0;34m\u001b[0m\u001b[0m\n\u001b[0;32m----> 6\u001b[0;31m \u001b[0mstats\u001b[0m\u001b[0;34m.\u001b[0m\u001b[0mnorm\u001b[0m\u001b[0;34m.\u001b[0m\u001b[0mfit\u001b[0m\u001b[0;34m(\u001b[0m\u001b[0mnt\u001b[0m\u001b[0;34m)\u001b[0m\u001b[0;34m.\u001b[0m\u001b[0mpdf\u001b[0m\u001b[0;34m\u001b[0m\u001b[0;34m\u001b[0m\u001b[0m\n\u001b[0m",
      "\u001b[0;31mAttributeError\u001b[0m: 'tuple' object has no attribute 'pdf'"
     ]
    },
    {
     "data": {
      "image/png": "[encoded data removed]",
      "text/plain": [
       "<matplotlib.figure.Figure at 0x7fd36832e940>"
      ]
     },
     "metadata": {},
     "output_type": "display_data"
    }
   ],
   "source": [
    "\n",
    "stats.norm.pdf()\n",
    "\n",
    "stats.norm.fit(nt)"
   ]
  },
  {
   "cell_type": "code",
   "execution_count": 21,
   "metadata": {},
   "outputs": [
    {
     "data": {
      "text/plain": [
       "[<matplotlib.lines.Line2D at 0x7fd3692ea668>]"
      ]
     },
     "execution_count": 21,
     "metadata": {},
     "output_type": "execute_result"
    },
    {
     "data": {
      "image/png": "[encoded data removed]",
      "text/plain": [
       "<matplotlib.figure.Figure at 0x7fd367ec34e0>"
      ]
     },
     "metadata": {},
     "output_type": "display_data"
    }
   ],
   "source": [
    "lista=np.linspace(3,3000,2998).astype(int)\n",
    "res=[]\n",
    "for n in lista: \n",
    "    mu,s=stats.norm.fit(stats.norm.rvs(1,10,n))\n",
    "    res.append(s)\n",
    "plt.plot(lista,res)"
   ]
  },
  {
   "cell_type": "code",
   "execution_count": 5,
   "metadata": {},
   "outputs": [],
   "source": [
    "? stats.norm.rvs(1,1,10)"
   ]
  },
  {
   "cell_type": "code",
   "execution_count": 6,
   "metadata": {},
   "outputs": [
    {
     "name": "stderr",
     "output_type": "stream",
     "text": [
      "/home/arturo/anaconda3/lib/python3.6/site-packages/scipy/stats/_continuous_distns.py:427: RuntimeWarning: invalid value encountered in sqrt\n",
      "  sk = 2*(b-a)*np.sqrt(a + b + 1) / (a + b + 2) / np.sqrt(a*b)\n",
      "/home/arturo/anaconda3/lib/python3.6/site-packages/scipy/optimize/minpack.py:161: RuntimeWarning: The iteration is not making good progress, as measured by the \n",
      "  improvement from the last ten iterations.\n",
      "  warnings.warn(msg, RuntimeWarning)\n"
     ]
    },
    {
     "data": {
      "image/png": "[encoded data removed]",
      "text/plain": [
       "<matplotlib.figure.Figure at 0x7fd36f38e080>"
      ]
     },
     "metadata": {},
     "output_type": "display_data"
    }
   ],
   "source": [
    "from scipy import stats  \n",
    "import numpy as np  \n",
    "import matplotlib.pylab as plt\n",
    "\n",
    "# create some normal random noisy data\n",
    "ser = 50*np.random.rand() * np.random.normal(10, 10, 10000) + 20\n",
    "\n",
    "# plot normed histogram\n",
    "plt.hist(ser, normed=True, bins=50)\n",
    "\n",
    "# find minimum and maximum of xticks, so we know\n",
    "# where we should compute theoretical distribution\n",
    "xt = plt.xticks()[0]  \n",
    "xmin, xmax = min(xt), max(xt)  \n",
    "lnspc = np.linspace(xmin, xmax, len(ser))\n",
    "\n",
    "# lets try the normal distribution first\n",
    "m, s = stats.norm.fit(ser) # get mean and standard deviation  \n",
    "pdf_g = stats.norm.pdf(lnspc, m, s) # now get theoretical values in our interval  \n",
    "plt.plot(lnspc, pdf_g, label=\"Norm\") # plot it\n",
    "\n",
    "# exactly same as above\n",
    "ag,bg,cg = stats.gamma.fit(ser)  \n",
    "pdf_gamma = stats.gamma.pdf(lnspc, ag, bg,cg)  \n",
    "#plt.plot(lnspc, pdf_gamma, label=\"Gamma\")\n",
    "\n",
    "# guess what :) \n",
    "ab,bb,cb,db = stats.beta.fit(ser)  \n",
    "pdf_beta = stats.beta.pdf(lnspc, ab, bb,cb, db)  \n",
    "#plt.plot(lnspc, pdf_beta, label=\"Beta\")\n",
    "\n",
    "plt.legend()\n",
    "plt.show()  "
   ]
  },
  {
   "cell_type": "markdown",
   "metadata": {},
   "source": [
    "# Problema 3: Discontinuidad de Variables"
   ]
  },
  {
   "cell_type": "markdown",
   "metadata": {},
   "source": [
    "\n",
    "Recordar el uso de regresión discontinua: Este método se usa para estimar un efecto causal en los casos en que una prueba aleatoria no es posible.\n",
    "\n",
    "\n",
    "La Regresión discontinua se usa cuando algún tipo de corte determina quién entra en un grupo en lugar de otro. En lugar de analizar el efecto del predictor en el resultado para toda la población, comparamos los resultados previstos en ambos lados del corte.\n",
    "\n",
    "Este problem set se fundamenta en el paper de Joshua Angrist and Victor Lavy (REVISARLO): \"[Using Maimonides Rule' to Estimate the Effect of Class Size on Scholastic Achievement](http://qje.oxfordjournals.org/content/114/2/533.short).\" En este paper los autores señalan que no es posible aleatorizar la asignación en el tamaño de la clase pero pudieron *aprovechar* una regla en las escuelas israelíes que dividía las clases en tamaños más pequeños si la inscripción era de 41 o más. \n",
    "Esto ofreció a Angrist y Lavy un experimento natural para su pregunta de investigación, ya que podríamos esperar que los grupos cercanos a 40 alumnos fueran muy similares a los de 42.\n",
    "\n",
    "\n",
    "**El análisis Regresión Discontinua** utiliza observaciones lejos del *cuttoff* junto con otras más cercanas \"con el objetivo de *proyectar* el efecto estimado del tratamiento en el *cuttoff*\". \n",
    "\n",
    "**1.** Adicional a los supuestos del modelo de regresión lineal, menciona los pasos necesarios para validar (comprobar) que se cumplen los siguientes supuestos en el modelo de regresión discontinua de Angrist & Levy:\n",
    "* A) El cuttoff es tan bueno como aleatorizar. To test this assumption, we can:\n",
    "    \n",
    "* B) Supuesto: El modelo está bien especificado, inclusive al limitar las observaciones de \"ancho de banda (bandwidth)\" en ambos lados del corte.\n",
    "    \n",
    "## Variables del modelo\n",
    "En este análisis, examinos un dataset que incluye datos del nivel de escolaridad para:\n",
    "* *size*: tamaño de los grupos de 5 año\n",
    "* *intended_classsize*: Promedio destinado al tamaño de clase por cada escuela\n",
    "* *observed_classize*: Promedio obserdado del tamaño de la clase por cada escuela\n",
    "* *read*: Promedio de lectura obtenido\n",
    "\n",
    "**2.** Carga las siguientes librerías y comenta en una línea su uso"
   ]
  },
  {
   "cell_type": "code",
   "execution_count": 41,
   "metadata": {},
   "outputs": [],
   "source": [
    "import codecs                 \n",
    "import json                       \n",
    "import pandas as pd              \n",
    "import numpy as np                \n",
    "import matplotlib.pyplot as plt  \n",
    "import seaborn as sns             \n",
    "from dateutil import *          \n",
    "import math                      \n",
    "import statsmodels.formula.api as smf  \n",
    "import statsmodels.api as sm       \n",
    "from collections import Counter   \n",
    "import scipy"
   ]
  },
  {
   "cell_type": "markdown",
   "metadata": {},
   "source": [
    "**3.** Utiliza la función `read_csv` de `pandas` para cargar el archivo `class_size.csv` que viene incluido en la carpeta de este ejercicio (utiliza el parámetro `delimiter` para separar adecuadamente las columnas). Tambien se incluye en formato de SAS por si quieren probar otros tipos de archivos. <br/>\n",
    "**4.** Obten media, desviación estándar, quartiles para las variables: read, size, intended_classize y observed_classize."
   ]
  },
  {
   "cell_type": "markdown",
   "metadata": {},
   "source": [
    "La variable (*csize*) se centrará alrededor del corte, y el predictor de corte (*small*) es una variable dicotómica que indica en qué lado del corte cae una observación.\n",
    "\n",
    "**5.** Interpreta y comenta cada una de las funciones del siguiente código y córrelo:"
   ]
  },
  {
   "cell_type": "code",
   "execution_count": null,
   "metadata": {},
   "outputs": [],
   "source": [
    "###Función 1\n",
    "def small(size):\n",
    "    if(size>=41):\n",
    "        return 1\n",
    "    return 0\n",
    "\n",
    "###Función 2\n",
    "def first(group):\n",
    "    groups = {1: 0, 2:0,\n",
    "              3: 1, 4:1}\n",
    "    return groups[group]\n",
    "\n",
    "###Función 3\n",
    "class_df['small'] = class_df['size'].map(small)\n",
    "class_df['csize'] = class_df['size'].map(lambda x: x-41)\n",
    "\n",
    "###Función 4\n",
    "class_df[(class_df['size']>=36) & (class_df['size']<=46)].boxplot(\"read\", \"csize\")\n",
    "plt.show()"
   ]
  },
  {
   "cell_type": "markdown",
   "metadata": {},
   "source": [
    "**6.** Describe e interpreta los resultados del Boxplot. ¿Qué información relevante aporta esta visualización en la validación del modelo de regresión discontinua?"
   ]
  },
  {
   "cell_type": "markdown",
   "metadata": {},
   "source": [
    "**7.** Con el dataset del incisio anterior, corre la regresión discontinua con variables dependiendes csize y small. Variable independiente read."
   ]
  },
  {
   "cell_type": "markdown",
   "metadata": {},
   "source": [
    "**8.** Utiliza la función plt.figure, plt.scatter para visualizar csize y read. Adicionalmente incorpora los las líneas de la regresión discontinua"
   ]
  },
  {
   "cell_type": "markdown",
   "metadata": {},
   "source": [
    "**9.** Reporta el coeficiente de la variable small. Interpreta el efecto marginal la variable small sobre el promedio de lectura."
   ]
  },
  {
   "cell_type": "markdown",
   "metadata": {},
   "source": [
    "**10.** Los efectos del tamaño de la clase en los promedios de lectura son estadísticamente significativos?. Reporta resultados para (p<0.05). Intepreta intuitivamente la prueba de Durbin-Watson que aparece en la tabla de resultados de la regresión."
   ]
  },
  {
   "cell_type": "markdown",
   "metadata": {},
   "source": [
    "# Problema 4: Variables Instrumentales"
   ]
  },
  {
   "cell_type": "markdown",
   "metadata": {},
   "source": [
    "En estadística, econometría, epidemiología y campos afines, el método de variables instrumentales (IV) se utiliza para estimar las relaciones causales cuando no se pueden realizar experimentos controlados, o cuando un tratamiento no se administra exitosamente a cada unidad de un experimento aleatorio.\n",
    "\n",
    "**1.** Menciona los dos requerimientos para utilizar variables instrumentales (IV) en modelos lineales."
   ]
  },
  {
   "cell_type": "markdown",
   "metadata": {},
   "source": [
    "En este caso, utilizaremos el grado universitario (COLLEGE) para predecir la probabilidad de participación cívica (REGISTER), medida mediante el registro de votantes. El grado universitario no está aleatorizado, y la flecha que indica la causalidad puede apuntar en sentido opuesto, así que lo único que podemos hacer con la regresión es estrablecer una correlación.\n",
    "\n",
    "Importa:"
   ]
  },
  {
   "cell_type": "code",
   "execution_count": null,
   "metadata": {},
   "outputs": [],
   "source": [
    "import codecs                     \n",
    "import json                       \n",
    "import pandas as pd               \n",
    "import numpy as np               \n",
    "import matplotlib.pyplot as plt   \n",
    "import seaborn as sns             \n",
    "from dateutil import *           \n",
    "import math                       \n",
    "import statsmodels.formula.api as smf  \n",
    "import statsmodels.api as sm      \n",
    "from collections import Counter   \n",
    "import scipy"
   ]
  },
  {
   "cell_type": "markdown",
   "metadata": {},
   "source": [
    "**2.** Lee el archivo `iv.csv` (para este punto ya deberías estar familiarizado con los comandos para hacer esto). Obtén los estadísticos básicos: media, desviación estándar y cuartiles para: 'register','college', 'distance'.\n",
    "\n",
    "**3.** Utiliza el método `corr` de los DataFrames de Pandas para obtener una matriz de correlaciones de las variables del inciso anterior."
   ]
  },
  {
   "cell_type": "markdown",
   "metadata": {},
   "source": [
    "**4.** Corre una regresión lineal de REGISTER (Y) vs. COLLEGE(X) y reporta los resultados de la regresión. ¿El coeficiente. ¿El coeficiente de COLLEGE es estadísticamente significativo? Interpéta el coeficiente.\n",
    "\n",
    "En una regresión lineal de dos etapas (2SLSR) haremos una regresión de COLLEGE vs. DISTANCE y utilizaremos los resultados del modelo para predecir REGISTER. \n",
    "\n",
    "**5.** ETAPA 1: Realiza una regresión de COLLEGE (Y) vs. DISTANCE (X). Guarda los resultados predichos en el dataframe inicial como `college_fitted`. Hint: Utiliza `lin_mod.predict` como vimos en clase.\n",
    "\n",
    "**6.** ETAPA 2: Realiza una regresión de REGISTER (Y) vs. COLLEGE_FITTED(X) y reporta los resultados en una tabla. Compara los valores de $R^2$ y la probabilidad $P$ e interpreta el coeficiente de COLLEGE_FITTED."
   ]
  },
  {
   "cell_type": "markdown",
   "metadata": {},
   "source": [
    "Es de esperarse que exista una relación entre el grupo étnico al que pertenece una persona y la distancia que tiene que viajar a la universidad así como una relación enre el grupo étnico y el registro de votantes. Aunque el grupo étnico no cumple los requerimientos para considerarlo una variable instrumental, es  importante incluir covariables en ambasetapas de la regresión.\n",
    "\n",
    "**7.** Repite los incisos 5 y 6, i.e. la regresión en 2 etapas, pero ahora utiliza el siguiente modelo de especificación: REGISTER ~ COLLEGE + BLACK + HISPANIC + OTHERRACE, tomando igualmente, la variable DISTANCE como la variable instrumental.\n",
    "\n",
    "**8.** Compara los modelos. Elije uno de ellos y justifica tu elección."
   ]
  }
 ],
 "metadata": {
  "kernelspec": {
   "display_name": "Python 3",
   "language": "python",
   "name": "python3"
  },
  "language_info": {
   "codemirror_mode": {
    "name": "ipython",
    "version": 3
   },
   "file_extension": ".py",
   "mimetype": "text/x-python",
   "name": "python",
   "nbconvert_exporter": "python",
   "pygments_lexer": "ipython3",
   "version": "3.7.2"
  }
 },
 "nbformat": 4,
 "nbformat_minor": 2
}
