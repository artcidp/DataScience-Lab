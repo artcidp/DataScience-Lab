{
 "cells": [
  {
   "cell_type": "markdown",
   "metadata": {},
   "source": [
    "In statistics, econometrics, epidemiology and related disciplines, the method of instrumental variables (IV) is used to estimate causal relationships when controlled experiments are not feasible or when a treatment is not successfully delivered to every unit in a randomized experiment.\n",
    "\n",
    "**Q1)** Mention the two requirements for using instrumental variables (IV) in linear models:\n",
    "\n",
    "* The instrument *must* be correlated with the *endogenous explanatory variables*, conditional on the other covariates.\n",
    "* The instrument *cannot* be correlated with the *error term* in the explanatory equation (conditional on the other covariates), that is, the instrument cannot suffer from the same problem as the original predicting variable.\n",
    "\n"
   ]
  },
  {
   "cell_type": "markdown",
   "metadata": {},
   "source": [
    "# Use case: Predicting Civic Engagement"
   ]
  },
  {
   "cell_type": "markdown",
   "metadata": {},
   "source": [
    "Can we use college attainment (COLLEGE) to predict the probability of civic engagement (REGISTER)? College attainment is not randomized, and the arrow of causality may move in the opposite direction, so all we can do with standard regression is to establish a correlation.\n",
    "\n",
    "Import:"
   ]
  },
  {
   "cell_type": "code",
   "execution_count": 1,
   "metadata": {},
   "outputs": [],
   "source": [
    "import codecs                     \n",
    "import json                       \n",
    "import pandas as pd               \n",
    "import numpy as np               \n",
    "import matplotlib.pyplot as plt   \n",
    "import seaborn as sns             \n",
    "from dateutil import *           \n",
    "import math                       \n",
    "import statsmodels.formula.api as smf  \n",
    "import statsmodels.api as sm      \n",
    "from collections import Counter   \n",
    "import scipy"
   ]
  },
  {
   "cell_type": "markdown",
   "metadata": {},
   "source": [
    "**Q2)** Read the iv.csv file. Get the basic stats. i.e summary stats (mean, quartiles, std) for: 'register','college', 'distance'"
   ]
  },
  {
   "cell_type": "code",
   "execution_count": 13,
   "metadata": {},
   "outputs": [],
   "source": [
    "import sas7bdat\n",
    "from sas7bdat import *\n",
    "foo = SAS7BDAT('dee.sas7bdat')\n",
    "# This converts to dataframe:\n",
    "ds = foo.to_data_frame()"
   ]
  },
  {
   "cell_type": "code",
   "execution_count": 18,
   "metadata": {},
   "outputs": [
    {
     "data": {
      "text/html": [
       "<div>\n",
       "<style scoped>\n",
       "    .dataframe tbody tr th:only-of-type {\n",
       "        vertical-align: middle;\n",
       "    }\n",
       "\n",
       "    .dataframe tbody tr th {\n",
       "        vertical-align: top;\n",
       "    }\n",
       "\n",
       "    .dataframe thead th {\n",
       "        text-align: right;\n",
       "    }\n",
       "</style>\n",
       "<table border=\"1\" class=\"dataframe\">\n",
       "  <thead>\n",
       "    <tr style=\"text-align: right;\">\n",
       "      <th></th>\n",
       "      <th>schoolid</th>\n",
       "      <th>hispanic</th>\n",
       "      <th>college</th>\n",
       "      <th>black</th>\n",
       "      <th>otherrace</th>\n",
       "      <th>female</th>\n",
       "      <th>register</th>\n",
       "      <th>distance</th>\n",
       "    </tr>\n",
       "  </thead>\n",
       "  <tbody>\n",
       "    <tr>\n",
       "      <th>count</th>\n",
       "      <td>9227.000000</td>\n",
       "      <td>9227.000000</td>\n",
       "      <td>9227.000000</td>\n",
       "      <td>9227.000000</td>\n",
       "      <td>9227.000000</td>\n",
       "      <td>9227.000000</td>\n",
       "      <td>9227.000000</td>\n",
       "      <td>9227.000000</td>\n",
       "    </tr>\n",
       "    <tr>\n",
       "      <th>mean</th>\n",
       "      <td>5406.414869</td>\n",
       "      <td>0.198873</td>\n",
       "      <td>0.547090</td>\n",
       "      <td>0.125393</td>\n",
       "      <td>0.049312</td>\n",
       "      <td>0.517178</td>\n",
       "      <td>0.670857</td>\n",
       "      <td>9.735992</td>\n",
       "    </tr>\n",
       "    <tr>\n",
       "      <th>std</th>\n",
       "      <td>2608.657780</td>\n",
       "      <td>0.399174</td>\n",
       "      <td>0.497805</td>\n",
       "      <td>0.331182</td>\n",
       "      <td>0.216530</td>\n",
       "      <td>0.499732</td>\n",
       "      <td>0.469927</td>\n",
       "      <td>8.702286</td>\n",
       "    </tr>\n",
       "    <tr>\n",
       "      <th>min</th>\n",
       "      <td>1032.000000</td>\n",
       "      <td>0.000000</td>\n",
       "      <td>0.000000</td>\n",
       "      <td>0.000000</td>\n",
       "      <td>0.000000</td>\n",
       "      <td>0.000000</td>\n",
       "      <td>0.000000</td>\n",
       "      <td>0.000000</td>\n",
       "    </tr>\n",
       "    <tr>\n",
       "      <th>25%</th>\n",
       "      <td>3141.000000</td>\n",
       "      <td>0.000000</td>\n",
       "      <td>0.000000</td>\n",
       "      <td>0.000000</td>\n",
       "      <td>0.000000</td>\n",
       "      <td>0.000000</td>\n",
       "      <td>0.000000</td>\n",
       "      <td>3.000000</td>\n",
       "    </tr>\n",
       "    <tr>\n",
       "      <th>50%</th>\n",
       "      <td>5185.000000</td>\n",
       "      <td>0.000000</td>\n",
       "      <td>1.000000</td>\n",
       "      <td>0.000000</td>\n",
       "      <td>0.000000</td>\n",
       "      <td>1.000000</td>\n",
       "      <td>1.000000</td>\n",
       "      <td>7.000000</td>\n",
       "    </tr>\n",
       "    <tr>\n",
       "      <th>75%</th>\n",
       "      <td>7688.000000</td>\n",
       "      <td>0.000000</td>\n",
       "      <td>1.000000</td>\n",
       "      <td>0.000000</td>\n",
       "      <td>0.000000</td>\n",
       "      <td>1.000000</td>\n",
       "      <td>1.000000</td>\n",
       "      <td>15.000001</td>\n",
       "    </tr>\n",
       "    <tr>\n",
       "      <th>max</th>\n",
       "      <td>9978.000000</td>\n",
       "      <td>1.000000</td>\n",
       "      <td>1.000000</td>\n",
       "      <td>1.000000</td>\n",
       "      <td>1.000000</td>\n",
       "      <td>1.000000</td>\n",
       "      <td>1.000000</td>\n",
       "      <td>35.000000</td>\n",
       "    </tr>\n",
       "  </tbody>\n",
       "</table>\n",
       "</div>"
      ],
      "text/plain": [
       "          schoolid     hispanic      college        black    otherrace  \\\n",
       "count  9227.000000  9227.000000  9227.000000  9227.000000  9227.000000   \n",
       "mean   5406.414869     0.198873     0.547090     0.125393     0.049312   \n",
       "std    2608.657780     0.399174     0.497805     0.331182     0.216530   \n",
       "min    1032.000000     0.000000     0.000000     0.000000     0.000000   \n",
       "25%    3141.000000     0.000000     0.000000     0.000000     0.000000   \n",
       "50%    5185.000000     0.000000     1.000000     0.000000     0.000000   \n",
       "75%    7688.000000     0.000000     1.000000     0.000000     0.000000   \n",
       "max    9978.000000     1.000000     1.000000     1.000000     1.000000   \n",
       "\n",
       "            female     register     distance  \n",
       "count  9227.000000  9227.000000  9227.000000  \n",
       "mean      0.517178     0.670857     9.735992  \n",
       "std       0.499732     0.469927     8.702286  \n",
       "min       0.000000     0.000000     0.000000  \n",
       "25%       0.000000     0.000000     3.000000  \n",
       "50%       1.000000     1.000000     7.000000  \n",
       "75%       1.000000     1.000000    15.000001  \n",
       "max       1.000000     1.000000    35.000000  "
      ]
     },
     "execution_count": 18,
     "metadata": {},
     "output_type": "execute_result"
    }
   ],
   "source": [
    "ds.describe()"
   ]
  },
  {
   "cell_type": "markdown",
   "metadata": {},
   "source": [
    "**Q3)** Use the function .corr to get a correlation matrix of the variables analized in Q2. Report the results and inteprete the correlations."
   ]
  },
  {
   "cell_type": "code",
   "execution_count": 21,
   "metadata": {},
   "outputs": [],
   "source": [
    "ds1 = ds[['register','college','distance']]"
   ]
  },
  {
   "cell_type": "code",
   "execution_count": 23,
   "metadata": {},
   "outputs": [
    {
     "data": {
      "text/plain": [
       "array([[ 1.        ,  0.1874256 , -0.03346988],\n",
       "       [ 0.1874256 ,  1.        , -0.11137305],\n",
       "       [-0.03346988, -0.11137305,  1.        ]])"
      ]
     },
     "execution_count": 23,
     "metadata": {},
     "output_type": "execute_result"
    }
   ],
   "source": [
    "corr = ds1.corr().values\n",
    "corr"
   ]
  },
  {
   "cell_type": "markdown",
   "metadata": {},
   "source": [
    "**Q4)** Run a linear regression of REGISTER on COLLEGE. Report the summary results of the regression. Is coefficient of college statiscally significant?. Interpret this coeffcient"
   ]
  },
  {
   "cell_type": "code",
   "execution_count": 26,
   "metadata": {},
   "outputs": [
    {
     "name": "stdout",
     "output_type": "stream",
     "text": [
      "                            OLS Regression Results                            \n",
      "==============================================================================\n",
      "Dep. Variable:               register   R-squared:                       0.035\n",
      "Model:                            OLS   Adj. R-squared:                  0.035\n",
      "Method:                 Least Squares   F-statistic:                     335.9\n",
      "Date:                Fri, 08 Feb 2019   Prob (F-statistic):           1.03e-73\n",
      "Time:                        04:58:44   Log-Likelihood:                -5959.0\n",
      "No. Observations:                9227   AIC:                         1.192e+04\n",
      "Df Residuals:                    9225   BIC:                         1.194e+04\n",
      "Df Model:                           1                                         \n",
      "Covariance Type:            nonrobust                                         \n",
      "==============================================================================\n",
      "                 coef    std err          t      P>|t|      [0.025      0.975]\n",
      "------------------------------------------------------------------------------\n",
      "Intercept      0.5741      0.007     80.391      0.000       0.560       0.588\n",
      "college        0.1769      0.010     18.326      0.000       0.158       0.196\n",
      "==============================================================================\n",
      "Omnibus:                   146136.549   Durbin-Watson:                   1.955\n",
      "Prob(Omnibus):                  0.000   Jarque-Bera (JB):             1441.712\n",
      "Skew:                          -0.689   Prob(JB):                         0.00\n",
      "Kurtosis:                       1.640   Cond. No.                         2.74\n",
      "==============================================================================\n",
      "\n",
      "Warnings:\n",
      "[1] Standard Errors assume that the covariance matrix of the errors is correctly specified.\n"
     ]
    }
   ],
   "source": [
    "result = smf.ols(formula = \"register ~ college\", data = ds).fit()\n",
    "print (result.summary())"
   ]
  },
  {
   "cell_type": "markdown",
   "metadata": {},
   "source": [
    "### Two-Stage Least Squares Regression of REGISTER ~ COLLEGE where IV=DISTANCE"
   ]
  },
  {
   "cell_type": "markdown",
   "metadata": {},
   "source": [
    "In two-stage least squares regression, we regress COLLEGE on DISTANCE and use the predictions from that model as the predictors for REGISTER. So you have to make the regression in two stages."
   ]
  },
  {
   "cell_type": "markdown",
   "metadata": {},
   "source": [
    "**Q5)** STAGE 1: Run a ols of college on distance. Save the results in the main dataframe as 'college_fitted'. TIP: for saving the predict values, you could use result.predict()"
   ]
  },
  {
   "cell_type": "code",
   "execution_count": 29,
   "metadata": {},
   "outputs": [
    {
     "name": "stdout",
     "output_type": "stream",
     "text": [
      "                            OLS Regression Results                            \n",
      "==============================================================================\n",
      "Dep. Variable:                college   R-squared:                       0.012\n",
      "Model:                            OLS   Adj. R-squared:                  0.012\n",
      "Method:                 Least Squares   F-statistic:                     115.9\n",
      "Date:                Fri, 08 Feb 2019   Prob (F-statistic):           7.35e-27\n",
      "Time:                        05:04:53   Log-Likelihood:                -6598.2\n",
      "No. Observations:                9227   AIC:                         1.320e+04\n",
      "Df Residuals:                    9225   BIC:                         1.321e+04\n",
      "Df Model:                           1                                         \n",
      "Covariance Type:            nonrobust                                         \n",
      "==============================================================================\n",
      "                 coef    std err          t      P>|t|      [0.025      0.975]\n",
      "------------------------------------------------------------------------------\n",
      "Intercept      0.6091      0.008     78.812      0.000       0.594       0.624\n",
      "distance      -0.0064      0.001    -10.764      0.000      -0.008      -0.005\n",
      "==============================================================================\n",
      "Omnibus:                    33530.816   Durbin-Watson:                   1.703\n",
      "Prob(Omnibus):                  0.000   Jarque-Bera (JB):             1463.752\n",
      "Skew:                          -0.190   Prob(JB):                         0.00\n",
      "Kurtosis:                       1.086   Cond. No.                         19.7\n",
      "==============================================================================\n",
      "\n",
      "Warnings:\n",
      "[1] Standard Errors assume that the covariance matrix of the errors is correctly specified.\n",
      "                            OLS Regression Results                            \n",
      "==============================================================================\n",
      "Dep. Variable:               register   R-squared:                       0.001\n",
      "Model:                            OLS   Adj. R-squared:                  0.001\n",
      "Method:                 Least Squares   F-statistic:                     10.35\n",
      "Date:                Fri, 08 Feb 2019   Prob (F-statistic):            0.00130\n",
      "Time:                        05:04:53   Log-Likelihood:                -6118.9\n",
      "No. Observations:                9227   AIC:                         1.224e+04\n",
      "Df Residuals:                    9225   BIC:                         1.226e+04\n",
      "Df Model:                           1                                         \n",
      "Covariance Type:            nonrobust                                         \n",
      "==================================================================================\n",
      "                     coef    std err          t      P>|t|      [0.025      0.975]\n",
      "----------------------------------------------------------------------------------\n",
      "Intercept          0.5157      0.049     10.632      0.000       0.421       0.611\n",
      "college_fitted     0.2837      0.088      3.216      0.001       0.111       0.457\n",
      "==============================================================================\n",
      "Omnibus:                    62995.007   Durbin-Watson:                   1.938\n",
      "Prob(Omnibus):                  0.000   Jarque-Bera (JB):             1638.898\n",
      "Skew:                          -0.726   Prob(JB):                         0.00\n",
      "Kurtosis:                       1.532   Cond. No.                         23.4\n",
      "==============================================================================\n",
      "\n",
      "Warnings:\n",
      "[1] Standard Errors assume that the covariance matrix of the errors is correctly specified.\n"
     ]
    }
   ],
   "source": [
    "result = smf.ols(formula = \"college ~ distance\", data = ds).fit()\n",
    "print (result.summary())\n",
    "ds['college_fitted'] = result.predict()"
   ]
  },
  {
   "cell_type": "markdown",
   "metadata": {},
   "source": [
    "**Q6)** STAGE 2:  Run a ols of register on college_fitted. Report the summary table. Compare the R.squared, pi-val, and the interpret the coefficient college_fitted. "
   ]
  },
  {
   "cell_type": "code",
   "execution_count": 30,
   "metadata": {},
   "outputs": [
    {
     "name": "stdout",
     "output_type": "stream",
     "text": [
      "                            OLS Regression Results                            \n",
      "==============================================================================\n",
      "Dep. Variable:               register   R-squared:                       0.001\n",
      "Model:                            OLS   Adj. R-squared:                  0.001\n",
      "Method:                 Least Squares   F-statistic:                     10.35\n",
      "Date:                Fri, 08 Feb 2019   Prob (F-statistic):            0.00130\n",
      "Time:                        05:06:47   Log-Likelihood:                -6118.9\n",
      "No. Observations:                9227   AIC:                         1.224e+04\n",
      "Df Residuals:                    9225   BIC:                         1.226e+04\n",
      "Df Model:                           1                                         \n",
      "Covariance Type:            nonrobust                                         \n",
      "==================================================================================\n",
      "                     coef    std err          t      P>|t|      [0.025      0.975]\n",
      "----------------------------------------------------------------------------------\n",
      "Intercept          0.5157      0.049     10.632      0.000       0.421       0.611\n",
      "college_fitted     0.2837      0.088      3.216      0.001       0.111       0.457\n",
      "==============================================================================\n",
      "Omnibus:                    62995.007   Durbin-Watson:                   1.938\n",
      "Prob(Omnibus):                  0.000   Jarque-Bera (JB):             1638.898\n",
      "Skew:                          -0.726   Prob(JB):                         0.00\n",
      "Kurtosis:                       1.532   Cond. No.                         23.4\n",
      "==============================================================================\n",
      "\n",
      "Warnings:\n",
      "[1] Standard Errors assume that the covariance matrix of the errors is correctly specified.\n"
     ]
    }
   ],
   "source": [
    "result = smf.ols(formula = \"register ~ college_fitted\", data=ds).fit()\n",
    "print (result.summary())"
   ]
  },
  {
   "cell_type": "markdown",
   "metadata": {},
   "source": [
    "### Adding covariates that do not satisfy the requirements of instrumental variables\n",
    "In the case of the covariate of race/ethicity, we expect that there might be a relationship between race/ethnicity and distance to a community college, as well as a relationship between race/ethnicity and voter registration. \n",
    "\n",
    "While race/ethnicity fails the test for instrumental variables, it can still be included as a covariate in a multiple regression model. In such cases, it is essential to include covariates at both stages of a two-stage test."
   ]
  },
  {
   "cell_type": "markdown",
   "metadata": {},
   "source": [
    "**Q7)** Repeat Q5 and Q6, i.e the two-Stage Least Squares Regression, but now use this specification model: REGISTER ~ COLLEGE + BLACK + HISPANIC + OTHERRACE where IV=DISTANCE"
   ]
  },
  {
   "cell_type": "markdown",
   "metadata": {},
   "source": [
    "**Q8)** Compare the two models, choice one of them and justify your seleccion."
   ]
  },
  {
   "cell_type": "code",
   "execution_count": 33,
   "metadata": {},
   "outputs": [
    {
     "name": "stdout",
     "output_type": "stream",
     "text": [
      "                            OLS Regression Results                            \n",
      "==============================================================================\n",
      "Dep. Variable:                college   R-squared:                       0.022\n",
      "Model:                            OLS   Adj. R-squared:                  0.021\n",
      "Method:                 Least Squares   F-statistic:                     51.24\n",
      "Date:                Fri, 08 Feb 2019   Prob (F-statistic):           9.75e-43\n",
      "Time:                        05:18:04   Log-Likelihood:                -6554.4\n",
      "No. Observations:                9227   AIC:                         1.312e+04\n",
      "Df Residuals:                    9222   BIC:                         1.315e+04\n",
      "Df Model:                           4                                         \n",
      "Covariance Type:            nonrobust                                         \n",
      "==============================================================================\n",
      "                 coef    std err          t      P>|t|      [0.025      0.975]\n",
      "------------------------------------------------------------------------------\n",
      "Intercept      0.6431      0.009     71.039      0.000       0.625       0.661\n",
      "distance      -0.0069      0.001    -11.636      0.000      -0.008      -0.006\n",
      "black         -0.0577      0.016     -3.613      0.000      -0.089      -0.026\n",
      "hispanic      -0.1162      0.013     -8.766      0.000      -0.142      -0.090\n",
      "otherrace      0.0337      0.024      1.404      0.160      -0.013       0.081\n",
      "==============================================================================\n",
      "Omnibus:                    34383.809   Durbin-Watson:                   1.715\n",
      "Prob(Omnibus):                  0.000   Jarque-Bera (JB):             1408.886\n",
      "Skew:                          -0.188   Prob(JB):                    1.16e-306\n",
      "Kurtosis:                       1.123   Cond. No.                         62.3\n",
      "==============================================================================\n",
      "\n",
      "Warnings:\n",
      "[1] Standard Errors assume that the covariance matrix of the errors is correctly specified.\n",
      "                            OLS Regression Results                            \n",
      "==============================================================================\n",
      "Dep. Variable:               register   R-squared:                       0.005\n",
      "Model:                            OLS   Adj. R-squared:                  0.004\n",
      "Method:                 Least Squares   F-statistic:                     10.53\n",
      "Date:                Fri, 08 Feb 2019   Prob (F-statistic):           1.65e-08\n",
      "Time:                        05:18:04   Log-Likelihood:                -6103.0\n",
      "No. Observations:                9227   AIC:                         1.222e+04\n",
      "Df Residuals:                    9222   BIC:                         1.225e+04\n",
      "Df Model:                           4                                         \n",
      "Covariance Type:            nonrobust                                         \n",
      "==================================================================================\n",
      "                     coef    std err          t      P>|t|      [0.025      0.975]\n",
      "----------------------------------------------------------------------------------\n",
      "Intercept          0.5266      0.047     11.200      0.000       0.434       0.619\n",
      "college_fitted     0.2489      0.082      3.041      0.002       0.088       0.409\n",
      "black              0.0617      0.015      4.007      0.000       0.032       0.092\n",
      "hispanic           0.0283      0.015      1.879      0.060      -0.001       0.058\n",
      "otherrace         -0.1067      0.023     -4.604      0.000      -0.152      -0.061\n",
      "==============================================================================\n",
      "Omnibus:                    65567.740   Durbin-Watson:                   1.939\n",
      "Prob(Omnibus):                  0.000   Jarque-Bera (JB):             1619.291\n",
      "Skew:                          -0.723   Prob(JB):                         0.00\n",
      "Kurtosis:                       1.543   Cond. No.                         22.6\n",
      "==============================================================================\n",
      "\n",
      "Warnings:\n",
      "[1] Standard Errors assume that the covariance matrix of the errors is correctly specified.\n"
     ]
    }
   ],
   "source": [
    "result = smf.ols(formula = \"college ~ distance + black + hispanic + otherrace\", data = ds).fit()\n",
    "print (result.summary())\n",
    "ds['college_fitted'] = result.predict()\n",
    "\n",
    "result = smf.ols(formula = \"register ~ college_fitted + black + hispanic + otherrace\", data=ds).fit()\n",
    "print (result.summary())"
   ]
  },
  {
   "cell_type": "code",
   "execution_count": null,
   "metadata": {},
   "outputs": [],
   "source": []
  }
 ],
 "metadata": {
  "kernelspec": {
   "display_name": "Python 3",
   "language": "python",
   "name": "python3"
  },
  "language_info": {
   "codemirror_mode": {
    "name": "ipython",
    "version": 3
   },
   "file_extension": ".py",
   "mimetype": "text/x-python",
   "name": "python",
   "nbconvert_exporter": "python",
   "pygments_lexer": "ipython3",
   "version": "3.7.2"
  }
 },
 "nbformat": 4,
 "nbformat_minor": 2
}
