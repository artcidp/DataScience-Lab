{
 "cells": [
  {
   "cell_type": "markdown",
   "metadata": {},
   "source": [
    "# Regression Discontinuity Analysis"
   ]
  },
  {
   "cell_type": "markdown",
   "metadata": {},
   "source": [
    "\n",
    "\n",
    "Recordar el uso de regresión discontinua: Este método se usa para estimar un efecto causal en los casos en que una prueba aleatoria no es posible.\n",
    "\n",
    "\n",
    "La Regresión discontinua se usa cuando algún tipo de corte determina quién entra en un grupo en lugar de otro. En lugar de analizar el efecto del predictor en el resultado para toda la población, comparamos los resultados previstos en ambos lados del corte.\n",
    "\n",
    "Este problem set se fundamenta en el paper de Joshua Angrist and Victor Lavy (REVISARLO): \"[Using Maimonides Rule' to Estimate the Effect of Class Size on Scholastic Achievement](http://qje.oxfordjournals.org/content/114/2/533.short).\" En este paper los autores señalan que no es posible aleatorizar la asignación en el tamaño de la clase pero pudieron *aprovechar* una regla en las escuelas israelíes que dividía las clases en tamaños más pequeños si la inscripción era de 41 o más. \n",
    "Esto ofreció a Angrist y Lavy un experimento natural para su pregunta de investigación, ya que podríamos esperar que los grupos cercanos a 40 alumnos fueran muy similares a los de 42.\n",
    "\n",
    "\n",
    "**El análisis Regresión Discontinua** utiliza observaciones lejos del *cuttoff* junto con otras más cercanas \"con el objetivo de *proyectar* el efecto estimado del tratamiento en el *cuttoff*\". \n",
    "\n",
    "**Q1)** Adicional a los supuestos del modelo de regresión lineal, menciona los pasos necesarios para validar (comprobar) que se cumplen los siguientes supuestos en el modelo de regresión discontinua de Angrist & Levy:\n",
    "* A) El cuttoff es tan bueno como aleatorizar. To test this assumption, we can:\n",
    "    * verify that there is no selection bias in the application of the cutoff, perhaps with the [McCrary Density test (2008)](http://eml.berkeley.edu/~jmccrary/mccrary2006_DCdensity.pdf) on both sides of the cutoff. See also Urquiola and Verhoogen (2009) \"[Class-Size Caps, Sorting, and the Regression-Discontinuity Design](http://www.columbia.edu/~ev2124/research/Urquiola%26VerhoogenAER2009.pdf),\" for an in-depth exploration of how to observe these biases.  \n",
    "    * confirm that there is no unobserved influence (in the case of Angrist & Lavy, the authors consider a possible relationship between the socio-economic status of a region and cohort size)\n",
    "* B) Supuesto: El modelo está bien especificado, inclusive al limitar las observaciones de \"ancho de banda (bandwidth)\" en ambos lados del corte.\n",
    "    * sensitivity analyses at different bandwidths\n",
    "    * sensitivity models that adopt a variety of possible functional forms\n",
    "\n",
    "## Variables del modelo\n",
    "En este análisis, examinos un dataset que incluye datos del nivel de escolaridad para:\n",
    "* *size*: tamaño de los grupos de 5 año\n",
    "* *intended_classsize*: Promedio destinado al tamaño de clase por cada escuela\n",
    "* *observed_classize*: Promedio obserdado del tamaño de la clase por cada escuela\n",
    "* *read*: Promedio de lectura obtenido\n",
    "\n",
    "**Q2)** Carga las siguientes librerías y comenta en una línea su uso\n"
   ]
  },
  {
   "cell_type": "code",
   "execution_count": 4,
   "metadata": {},
   "outputs": [],
   "source": [
    "import codecs                     # load UTF-8 Content\n",
    "import json                       # load JSON files\n",
    "import pandas as pd               # Pandas handles dataframes\n",
    "import numpy as np                # Numpy handles lots of basic maths operations\n",
    "import matplotlib.pyplot as plt   # Matplotlib for plotting\n",
    "import seaborn as sns             # Seaborn for beautiful plots\n",
    "from dateutil import *            # I prefer dateutil for parsing dates\n",
    "import math                       # transformations\n",
    "import statsmodels.formula.api as smf  # for doing statistical regression\n",
    "import statsmodels.api as sm      # access to the wider statsmodels library, including R datasets\n",
    "from collections import Counter   # Counter is useful for grouping and counting\n",
    "import scipy"
   ]
  },
  {
   "cell_type": "markdown",
   "metadata": {},
   "source": [
    "# Lectura del Dataset"
   ]
  },
  {
   "cell_type": "markdown",
   "metadata": {},
   "source": [
    "**Q3)** Utiliza read_stata para cargar el archivo class_size.dta que viene incluido en la carpeta de este ejercicio. Tambien se incluye en formato de SAS por si quieren probar otros tipos de archivos"
   ]
  },
  {
   "cell_type": "code",
   "execution_count": null,
   "metadata": {},
   "outputs": [],
   "source": [
    "class_df = pd.read_stata(\"class_size.dta\")"
   ]
  },
  {
   "cell_type": "markdown",
   "metadata": {},
   "source": [
    "# Estadística descriptiva"
   ]
  },
  {
   "cell_type": "markdown",
   "metadata": {},
   "source": [
    "**Q4)** Obtener media, desviación estándar, quartiles para las variables, read, size, intended_classize y observed_classize"
   ]
  },
  {
   "cell_type": "code",
   "execution_count": 30,
   "metadata": {},
   "outputs": [
    {
     "name": "stdout",
     "output_type": "stream",
     "text": [
      "==============================================================================\n",
      "                              OVERALL SUMMARY\n",
      "==============================================================================\n",
      "              read         size  intended_classize  observed_classize\n",
      "count  2019.000000  2019.000000        2019.000000        2019.000000\n",
      "mean     74.379171    77.741951          30.955935          29.935116\n",
      "std       7.678460    38.810731           6.107924           6.545885\n",
      "min      34.799999     8.000000           8.000000           8.000000\n",
      "25%      69.855000    50.000000          27.000000          26.000000\n",
      "50%      75.379997    72.000000          31.666666          31.000000\n",
      "75%      79.839996   100.000000          35.666668          35.000000\n",
      "max      93.860001   226.000000          40.000000          44.000000\n"
     ]
    }
   ],
   "source": [
    "print class_df.describe()"
   ]
  },
  {
   "cell_type": "markdown",
   "metadata": {},
   "source": [
    "# Construyendo la regresión discontinua"
   ]
  },
  {
   "cell_type": "markdown",
   "metadata": {},
   "source": [
    "La variable (*csize*) se centrará alrededor del corte, y el predictor de corte (*small*) es una variable dicotómica que indica en qué lado del corte cae una observación.\n",
    "\n",
    "**Q4)** Interpreta y comenta cada una de las funciones del siguiente código y córrelo:"
   ]
  },
  {
   "cell_type": "code",
   "execution_count": 34,
   "metadata": {},
   "outputs": [
    {
     "data": {
      "image/png": "[encoded data removed]",
      "text/plain": [
       "<matplotlib.figure.Figure at 0x10c0e7210>"
      ]
     },
     "metadata": {},
     "output_type": "display_data"
    }
   ],
   "source": [
    "###Función 1\n",
    "def small(size):\n",
    "    if(size>=41):\n",
    "        return 1\n",
    "    return 0\n",
    "\n",
    "###Función 2\n",
    "def first(group):\n",
    "    groups = {1: 0, 2:0,\n",
    "              3: 1, 4:1}\n",
    "    return groups[group]\n",
    "\n",
    "###Función 3\n",
    "class_df['small'] = class_df['size'].map(small)\n",
    "class_df['csize'] = class_df['size'].map(lambda x: x-41)\n",
    "\n",
    "###Función 4\n",
    "class_df[(class_df['size']>=36) & (class_df['size']<=46)].boxplot(\"read\", \"csize\")\n",
    "plt.show()"
   ]
  },
  {
   "cell_type": "markdown",
   "metadata": {},
   "source": [
    "**Q5)** Describe e interpreta los resultados del Boxplot. ¿Qué información relevante aporte esta visualización en el diseño del modelo?"
   ]
  },
  {
   "cell_type": "markdown",
   "metadata": {},
   "source": [
    "# Regression Discontinuity"
   ]
  },
  {
   "cell_type": "markdown",
   "metadata": {},
   "source": [
    "**Q6)** Definiendo la ventana de estudio. Construye dataframe que lleve por nombre window, el cual contenga únicamente tamaño de la clase menor o igual a 29 y mayor o igual a 53"
   ]
  },
  {
   "cell_type": "code",
   "execution_count": null,
   "metadata": {},
   "outputs": [],
   "source": [
    "window = class_df[(class_df['size']>=29) & (class_df['size']<=53)]"
   ]
  },
  {
   "cell_type": "markdown",
   "metadata": {},
   "source": [
    "**Q7)** Con la ventana del incisio anterior, corre la regresión discontonua con variables dependiendes csize y small. Variable independiente read."
   ]
  },
  {
   "cell_type": "code",
   "execution_count": null,
   "metadata": {},
   "outputs": [],
   "source": [
    "result = smf.ols(formula = \"read ~ csize + small\", \n",
    "                 data = window).fit()\n",
    "print result.summary()"
   ]
  },
  {
   "cell_type": "markdown",
   "metadata": {},
   "source": [
    "**Q8)** Utiliza la función plt.figure, plt.scatter para visualizar csize y read. Adicionalmente incorpora los las líneas de la regresión discontinua"
   ]
  },
  {
   "cell_type": "code",
   "execution_count": 17,
   "metadata": {},
   "outputs": [
    {
     "ename": "NameError",
     "evalue": "name 'window' is not defined",
     "output_type": "error",
     "traceback": [
      "\u001b[0;31m---------------------------------------------------------------------------\u001b[0m",
      "\u001b[0;31mNameError\u001b[0m                                 Traceback (most recent call last)",
      "\u001b[0;32m<ipython-input-17-01807370f8d6>\u001b[0m in \u001b[0;36m<module>\u001b[0;34m\u001b[0m\n\u001b[1;32m      1\u001b[0m \u001b[0mplt\u001b[0m\u001b[0;34m.\u001b[0m\u001b[0mfigure\u001b[0m\u001b[0;34m(\u001b[0m\u001b[0mnum\u001b[0m\u001b[0;34m=\u001b[0m\u001b[0;32mNone\u001b[0m\u001b[0;34m,\u001b[0m \u001b[0mfigsize\u001b[0m\u001b[0;34m=\u001b[0m\u001b[0;34m(\u001b[0m\u001b[0;36m12\u001b[0m\u001b[0;34m,\u001b[0m \u001b[0;36m6\u001b[0m\u001b[0;34m)\u001b[0m\u001b[0;34m,\u001b[0m \u001b[0mdpi\u001b[0m\u001b[0;34m=\u001b[0m\u001b[0;36m80\u001b[0m\u001b[0;34m,\u001b[0m \u001b[0mfacecolor\u001b[0m\u001b[0;34m=\u001b[0m\u001b[0;34m'w'\u001b[0m\u001b[0;34m,\u001b[0m \u001b[0medgecolor\u001b[0m\u001b[0;34m=\u001b[0m\u001b[0;34m'k'\u001b[0m\u001b[0;34m)\u001b[0m\u001b[0;34m\u001b[0m\u001b[0m\n\u001b[0;32m----> 2\u001b[0;31m \u001b[0mplt\u001b[0m\u001b[0;34m.\u001b[0m\u001b[0mscatter\u001b[0m\u001b[0;34m(\u001b[0m\u001b[0mwindow\u001b[0m\u001b[0;34m.\u001b[0m\u001b[0mcsize\u001b[0m\u001b[0;34m,\u001b[0m\u001b[0mwindow\u001b[0m\u001b[0;34m.\u001b[0m\u001b[0mread\u001b[0m\u001b[0;34m,\u001b[0m \u001b[0mcolor\u001b[0m\u001b[0;34m=\u001b[0m\u001b[0;34m\"blue\"\u001b[0m\u001b[0;34m)\u001b[0m\u001b[0;34m\u001b[0m\u001b[0m\n\u001b[0m\u001b[1;32m      3\u001b[0m \u001b[0ml\u001b[0m\u001b[0;34m=\u001b[0m\u001b[0mwindow\u001b[0m\u001b[0;34m[\u001b[0m\u001b[0mwindow\u001b[0m\u001b[0;34m.\u001b[0m\u001b[0mcsize\u001b[0m\u001b[0;34m<\u001b[0m\u001b[0;36m0\u001b[0m\u001b[0;34m]\u001b[0m\u001b[0;34m.\u001b[0m\u001b[0mcsize\u001b[0m\u001b[0;34m.\u001b[0m\u001b[0mcount\u001b[0m\u001b[0;34m(\u001b[0m\u001b[0;34m)\u001b[0m\u001b[0;34m\u001b[0m\u001b[0m\n\u001b[1;32m      4\u001b[0m \u001b[0mplt\u001b[0m\u001b[0;34m.\u001b[0m\u001b[0mplot\u001b[0m\u001b[0;34m(\u001b[0m\u001b[0mwindow\u001b[0m\u001b[0;34m.\u001b[0m\u001b[0mcsize\u001b[0m\u001b[0;34m[\u001b[0m\u001b[0;36m0\u001b[0m\u001b[0;34m:\u001b[0m\u001b[0ml\u001b[0m\u001b[0;34m]\u001b[0m\u001b[0;34m,\u001b[0m \u001b[0mresult\u001b[0m\u001b[0;34m.\u001b[0m\u001b[0mpredict\u001b[0m\u001b[0;34m(\u001b[0m\u001b[0;34m)\u001b[0m\u001b[0;34m[\u001b[0m\u001b[0;36m0\u001b[0m\u001b[0;34m:\u001b[0m\u001b[0ml\u001b[0m\u001b[0;34m]\u001b[0m\u001b[0;34m,\u001b[0m \u001b[0;34m'-'\u001b[0m\u001b[0;34m,\u001b[0m \u001b[0mcolor\u001b[0m\u001b[0;34m=\u001b[0m\u001b[0;34m\"r\"\u001b[0m\u001b[0;34m)\u001b[0m\u001b[0;34m\u001b[0m\u001b[0m\n\u001b[1;32m      5\u001b[0m \u001b[0mplt\u001b[0m\u001b[0;34m.\u001b[0m\u001b[0mplot\u001b[0m\u001b[0;34m(\u001b[0m\u001b[0mwindow\u001b[0m\u001b[0;34m.\u001b[0m\u001b[0mcsize\u001b[0m\u001b[0;34m[\u001b[0m\u001b[0ml\u001b[0m\u001b[0;34m:\u001b[0m\u001b[0;34m]\u001b[0m\u001b[0;34m,\u001b[0m \u001b[0mresult\u001b[0m\u001b[0;34m.\u001b[0m\u001b[0mpredict\u001b[0m\u001b[0;34m(\u001b[0m\u001b[0;34m)\u001b[0m\u001b[0;34m[\u001b[0m\u001b[0ml\u001b[0m\u001b[0;34m:\u001b[0m\u001b[0;34m]\u001b[0m\u001b[0;34m,\u001b[0m \u001b[0;34m'-'\u001b[0m\u001b[0;34m,\u001b[0m \u001b[0mcolor\u001b[0m\u001b[0;34m=\u001b[0m\u001b[0;34m\"r\"\u001b[0m\u001b[0;34m)\u001b[0m\u001b[0;34m\u001b[0m\u001b[0m\n",
      "\u001b[0;31mNameError\u001b[0m: name 'window' is not defined"
     ]
    },
    {
     "data": {
      "text/plain": [
       "<Figure size 960x480 with 0 Axes>"
      ]
     },
     "metadata": {},
     "output_type": "display_data"
    }
   ],
   "source": [
    "plt.figure(num=None, figsize=(12, 6), dpi=80, facecolor='w', edgecolor='k')\n",
    "plt.scatter(window.csize,window.read, color=\"blue\")\n",
    "l=window[window.csize<0].csize.count()\n",
    "plt.plot(window.csize[0:l], result.predict()[0:l], '-', color=\"r\")\n",
    "plt.plot(window.csize[l:], result.predict()[l:], '-', color=\"r\")\n",
    "plt.axvline(x=-0.5,color=\"black\", linestyle=\"--\")\n",
    "plt.title(\"Regression Discontinuity: Reading Scores by Class Size Before and After the Cutoff\", fontsize=\"18\")"
   ]
  },
  {
   "cell_type": "markdown",
   "metadata": {},
   "source": [
    "**Q9** Reporta el coeficiente de la variable small. Interpreta el efecto marginal la variable small sobre el promedio de lectura."
   ]
  },
  {
   "cell_type": "markdown",
   "metadata": {},
   "source": [
    "**Q10** Los efectos del tamaño de la clase en los promedios de lectura son estadísticamente significativos?. Reporta resultados para (p<0.05). Intepreta intuitivamente la prueba de Durbin-Watson que aparece en la tabla de resultados de la regresión."
   ]
  },
  {
   "cell_type": "code",
   "execution_count": null,
   "metadata": {},
   "outputs": [],
   "source": []
  }
 ],
 "metadata": {
  "kernelspec": {
   "display_name": "Python 3",
   "language": "python",
   "name": "python3"
  },
  "language_info": {
   "codemirror_mode": {
    "name": "ipython",
    "version": 3
   },
   "file_extension": ".py",
   "mimetype": "text/x-python",
   "name": "python",
   "nbconvert_exporter": "python",
   "pygments_lexer": "ipython3",
   "version": "3.6.8"
  }
 },
 "nbformat": 4,
 "nbformat_minor": 1
}
