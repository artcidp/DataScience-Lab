{
 "cells": [
  {
   "cell_type": "markdown",
   "metadata": {},
   "source": [
    "# E 8: Clusterizando stocks con Kmeans\n",
    "\n",
    "In this exercise, you'll cluster companies using their daily stock price movements (i.e. the dollar difference between the closing and opening prices for each trading day).  You are given a NumPy array `movements` of daily price movements from 2010 to 2015, where each row corresponds to a company, and each column corresponds to a trading day.\n",
    "\n",
    "En este ejercicio,se agruparán a las compañías utilizando sus movimientos diarios del precio de las acciones (es decir, la diferencia en dólares entre los precios de cierre y de apertura para cada día de negociación). Se le asigna una serie NumPy 'movimientos' de movimientos de precios diarios desde 2010 hasta 2015, donde cada fila corresponde a una empresa y cada columna corresponde a un día de negociación.\n",
    "\n",
    "Algunas acciones son más caras que otras. Para tener en cuenta esto, se utilizará la función `Normalizer` al principio. El Normalizador transformará por separado el precio de las acciones de cada compañía a una escala relativa antes de que comience la agrupación.\n",
    "\n",
    "## Normalizer vs StandardScaler\n",
    "Tenga en cuenta que `Normalizer()` es diferente a `StandardScaler()`, que usó en el ejercicio anterior. Mientras que `StandardScaler()` estandariza ** características ** (como las características de los datos de peces del ejercicio anterior) al eliminar la media y la teniendo varianza unitaria, `Normalizer ()` rescala ** cada muestra ** - ,en este caso el precio de las acciones de cada empresa - independientemente de las otras empresas.\n",
    "\n",
    "Este dataset fue obtenido de Yahoo! Finance API."
   ]
  },
  {
   "cell_type": "markdown",
   "metadata": {},
   "source": [
    "**Step 1:** Corre el código"
   ]
  },
  {
   "cell_type": "code",
   "execution_count": null,
   "metadata": {
    "collapsed": true,
    "exercise": false
   },
   "outputs": [],
   "source": [
    "import pandas as pd\n",
    "\n",
    "fn = '../datasets/company-stock-movements-2010-2015-incl.csv'\n",
    "stocks_df = pd.read_csv(fn, index_col=0)"
   ]
  },
  {
   "cell_type": "markdown",
   "metadata": {},
   "source": [
    "**Step 2:** Usa la función `head()` para inspeccionar. De qué dimensión es el dataset?"
   ]
  },
  {
   "cell_type": "code",
   "execution_count": null,
   "metadata": {},
   "outputs": [],
   "source": []
  },
  {
   "cell_type": "markdown",
   "metadata": {},
   "source": [
    "**Step 3:** Corre el código. Comenta las instrucciones que está haciendo el código."
   ]
  },
  {
   "cell_type": "code",
   "execution_count": null,
   "metadata": {
    "collapsed": true,
    "exercise": false
   },
   "outputs": [],
   "source": [
    "companies = list(stocks_df.index)\n",
    "movements = stocks_df.values"
   ]
  },
  {
   "cell_type": "markdown",
   "metadata": {},
   "source": [
    "**Step 4:** Importa lo siguiente:\n",
    "\n",
    "- `Normalizer` from `sklearn.preprocessing`.\n",
    "- `KMeans` from `sklearn.cluster`.\n",
    "- `make_pipeline` from `sklearn.pipeline`."
   ]
  },
  {
   "cell_type": "code",
   "execution_count": null,
   "metadata": {
    "collapsed": true
   },
   "outputs": [],
   "source": []
  },
  {
   "cell_type": "markdown",
   "metadata": {},
   "source": [
    "**Step 3:** Crea una instancia con la función `Normalizer` y llámala `normalizer`."
   ]
  },
  {
   "cell_type": "code",
   "execution_count": null,
   "metadata": {
    "collapsed": true
   },
   "outputs": [],
   "source": []
  },
  {
   "cell_type": "markdown",
   "metadata": {},
   "source": [
    "**Step 4:** Crea una instancia de `KMeans` y llámala `kmeans` con `14` clusters."
   ]
  },
  {
   "cell_type": "code",
   "execution_count": null,
   "metadata": {
    "collapsed": true
   },
   "outputs": [],
   "source": []
  },
  {
   "cell_type": "markdown",
   "metadata": {},
   "source": [
    "**Step 5:** Usa `make_pipeline()`, crea un pipeline llamado `pipeline` que incluya a `normalizer` y `kmeans`."
   ]
  },
  {
   "cell_type": "code",
   "execution_count": null,
   "metadata": {
    "collapsed": true
   },
   "outputs": [],
   "source": []
  },
  {
   "cell_type": "markdown",
   "metadata": {},
   "source": [
    "**Step 6:** Ajusta el pipeline con el arreglo de `movements`"
   ]
  },
  {
   "cell_type": "code",
   "execution_count": null,
   "metadata": {},
   "outputs": [],
   "source": []
  }
 ],
 "metadata": {
  "kernelspec": {
   "display_name": "Python 3",
   "language": "python",
   "name": "python3"
  },
  "language_info": {
   "codemirror_mode": {
    "name": "ipython",
    "version": 3
   },
   "file_extension": ".py",
   "mimetype": "text/x-python",
   "name": "python",
   "nbconvert_exporter": "python",
   "pygments_lexer": "ipython3",
   "version": "3.7.2"
  }
 },
 "nbformat": 4,
 "nbformat_minor": 2
}
