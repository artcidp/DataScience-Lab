{
 "cells": [
  {
   "cell_type": "markdown",
   "metadata": {},
   "source": [
    "# Regularización"
   ]
  },
  {
   "cell_type": "markdown",
   "metadata": {},
   "source": [
    "Consideremos un modelo de regresión lineal: \n",
    "\n",
    "$$Y_i = w_0 + w_1 \\ X_{1,i} +w_2 \\ X_{2,i} + ... + w_p \\ X_{p,i} + u_i, $$\n",
    "\n",
    "donde $\\mathbf{X} = (X_1,X_2,...,X_p)$ es un vector aleatorio de $p$ dimensiones, del cual $i \\in \\{1,...,n\\}$ es la i-ésima muestra. \n",
    "\n",
    "Como sabemos, una manera de encontar los parámetros $w_0, w_1,...,w_p$ es mediante la minimización de los cuadrados de los errores en la predicción. Esto se puede expresar como una función de costo:\n",
    "\n",
    "$$\\mathcal{L}_{OLS}(w_0,w_1,...,w_p;\\mathbf{X},Y)= \\sum_{i=1}^n (y_i-\\hat{y}_i)^2 = (y_i - \\sum_{k=0}^p w_k x_{k,i})^2,\\ \\text{con}\\ x_{0,i}=1.$$"
   ]
  },
  {
   "cell_type": "markdown",
   "metadata": {},
   "source": [
    "En algunos casos, los parámetros encontrados pueden producir modelos que no representan adecuadamente la distribución de los datos, como se muestra en la imagen de abajo:"
   ]
  },
  {
   "cell_type": "markdown",
   "metadata": {},
   "source": [
    "<img src=\"images/fitting_variance.png\" width=500>"
   ]
  },
  {
   "cell_type": "markdown",
   "metadata": {},
   "source": [
    "La regresión se ajustó utilizando únicamente los datos en rojo (entrenamiento), mientras que la distribución de datos también incluye los datos en verde (prueba). Aunque hay poco sesgo en la estimación con los datos de entrenamiento, también existe un gran varianza en las predicciones con los datos de entrenamiento. En este caso, la pendiente de la recta es más grande de lo que debería ser. Por tanto, se dice que hay un caso de \"overfitting\".\n",
    "\n",
    "En general, la idea de la regularización es \"restringir\" los parámetros para que tomen un cierto rango de valores aceptables. De esta forma se puede obtener una regresión que mejor reproduzca la distribución de los datos.\n",
    "\n",
    "\n",
    "<img src=\"images/ridge_fit.png\" width=500>\n",
    "\n",
    "**Nota:** A sí mismo, el introducir una restricción adicional permite que exista una solución bien definida cuando p>n.\n",
    "\n",
    "Hay varias formas de imponer la restricción. Aquí veremos los casos de Regularización LASSO y Ridge."
   ]
  },
  {
   "cell_type": "markdown",
   "metadata": {},
   "source": [
    "# Ridge"
   ]
  },
  {
   "cell_type": "markdown",
   "metadata": {},
   "source": [
    "Queremos restringir a los coeficientes de la regresión lineal (no lincluye $w_0$) de modo que estos no sean muy grandes. Esto lo hacemos introduciendo una \"penalización\" por el cuadrado del valor de los parámetros. Esta se puede expresar como la siguiente función de costo:\n",
    "\n",
    "$$\\mathcal{L}_{Ridge}(w_1,...,w_p;\\lambda)= \\lambda (w_1^2+...+w_p^2).$$\n",
    "\n",
    "\n",
    "Por lo tanto, se contruye la función de costo a minimizar como:\n",
    "\n",
    "$$\\mathcal{L}_{OLS}(w_0,w_1,...,w_p;\\mathbf{X},Y) + \\mathcal{L}_{Ridge}(w_1,...,w_p;\\lambda)$$\n",
    "\n",
    "**Obs.**\n",
    "\n",
    "- $\\lambda$ debe tomar valores no negativos. \n",
    "- Si $\\lambda=0$ se obtiene el caso de OLS clásico. \n",
    "- Conforme $\\lambda$ crece los valores de $w_1,...,w_p$ tienden a cero.\n",
    "- Los cuadrados en la función $\\mathcal{L}_{Ridge}$ penalizan más valores grandes (mayores a uno) que valores pequeños (menores a uno). Por tanto, los valores de los coeficientes no decaen tan rápido a cero, i.e. es más difícil eliminar los coeficientes. Esto lo hace útil para datos en los que sabemos que todos los coeficientes tendrán alguna relevancia (dense data).\n",
    "- El valor adecuado de $\\lambda$ se debe elejir mediante un proceso de validación de modo que se obtenga el mejor resultado en los datos de prueba. Una forma de hacer esto es mediante validación cruzada.\n"
   ]
  },
  {
   "cell_type": "markdown",
   "metadata": {},
   "source": [
    "# Least Absolute Shrinkage and Selection Operator (LASSO)"
   ]
  },
  {
   "cell_type": "markdown",
   "metadata": {},
   "source": [
    "Este caso es análogo al anterior. La única diferencia es que la \"penalización\" utilizada es el valor absoluto de los parámetros. Se expresa como:\n",
    "\n",
    "$$\\mathcal{L}_{LASSO}(w_1,...,w_p;\\lambda)= \\lambda (|w_1|+...+|w_p|).$$\n",
    "\n",
    "y la función resultante de costo a minimizar es:\n",
    "\n",
    "$$\\mathcal{L}_{OLS}(w_0,w_1,...,w_p;\\mathbf{X},Y) + \\mathcal{L}_{LASSO}(w_1,...,w_p;\\lambda)$$\n",
    "\n",
    "**Obs.**\n",
    "\n",
    "- $\\lambda$ debe tomar valores no negativos. \n",
    "- Si $\\lambda=0$ se obtiene el caso de OLS clásico. \n",
    "- Conforme $\\lambda$ crece los valores de $w_1,...,w_p$ tienden a cero.\n",
    "- Los valores absolutos en la función $\\mathcal{L}_{LASSO}$ penalizan de manera proporcional valores grandes (mayores a uno) y pequeños (menores a uno). Por tanto, los valores de los coeficientes decaen más rápido a cero y se pueden eliminar términos más fácilmente. Esto lo hace ideal para casos en los que sabemos que algunos coeficientes son irrelevantes para la regresión (sparse data).\n",
    "- El valor adecuado de $\\lambda$ se debe elejir mediante un proceso de validación de modo que se obtenga el mejor resultado en los datos de prueba. Una forma de hacer esto es mediante validación cruzada."
   ]
  },
  {
   "cell_type": "markdown",
   "metadata": {},
   "source": [
    "Gráficamente, la diferencia en el comportamiento de ambas regularizaciones se puede ilustrar en la siguiente gráfica."
   ]
  },
  {
   "cell_type": "markdown",
   "metadata": {},
   "source": [
    "<img src=\"https://cdn-images-1.medium.com/max/1200/1*Jd03Hyt2bpEv1r7UijLlpg.png\">"
   ]
  },
  {
   "cell_type": "markdown",
   "metadata": {},
   "source": [
    "# Elastic Net"
   ]
  },
  {
   "cell_type": "markdown",
   "metadata": {},
   "source": [
    "¿Qué pasa en el caso en el que no sabemos cuál es el comportamiento de los datos? En el caso general en el que tenemos una combinación de datos dispersos (sparse) y densos, por lo que no sabemos qué variables serán relevantes y no podríamos discriminar entre un caso y otro. La solución a esto, como lo implementa Elastic Net, es utilizar una combinación de LASSO y Ridge. Lo hace introduciendo la siguiente función de costo:\n",
    "\n",
    "$$\\mathcal{L}_{E\\ Net}(w_1,...,w_p;\\lambda_1,\\lambda_2)= \\mathcal{L}_{LASSO}(w_1,...,w_p;\\lambda_1) + \\mathcal{L}_{Ridge}(w_1,...,w_p;\\lambda_2).$$\n",
    "\n",
    "\n",
    "y la función resultante de costo a minimizar es:\n",
    "\n",
    "$$\\mathcal{L}_{OLS}(w_0,w_1,...,w_p;\\mathbf{X},Y) + \\mathcal{L}_{E\\ Net}(w_1,...,w_p;\\lambda_1,\\lambda_2).$$\n",
    "\n",
    "\n",
    "**Obs.**\n",
    "\n",
    "- Cuando $\\lambda_1=0$ y  $\\lambda_2=0$ se obitne el caso de OLS clásico.\n",
    "- Cuando $\\lambda_1=0$ y $\\lambda_2\\neq0$ se obitene regularización LASSO.\n",
    "- Cuando $\\lambda_1\\neq0$ y $\\lambda_2=0$ se obtiene regularización Ridge.\n",
    "- Este modelo híbrido es bueno para utilizar en casos generales, pues reduce penaliza valores grandes de los parámetros y puede quitar más fácilmente los coeficientes que no son muy relevantes. \n",
    "- Los valores de $\\lambda_1$ y $\\lambda_2$ se deben obtener mediante un proceso de validación, buscando en una malla de posibles valores como se muestra en la imagen.\n",
    "\n",
    "<img src=\"images/lambda_grid_search.png\" width=500>"
   ]
  },
  {
   "cell_type": "markdown",
   "metadata": {},
   "source": [
    "# Validación Cruzada"
   ]
  },
  {
   "cell_type": "markdown",
   "metadata": {},
   "source": [
    "Una vez que termina el entrenamiento de un algoritmo con un conjunto específico de datos ($X_{train}$), deseamos obtener una evaluación de cómo se comportarán las predicciones con datos nuevos ($X_{test}$). Hay varios resultados posibles:\n",
    "\n",
    "1. El error de entrenamiento es grande: En este caso el modelo no puede reproducir el comportamiento de los datos que ve (underfitting)\n",
    "2. El error de entrenamiento es muy pequeño comparado con el de prueba: El modelo no se puede generalizar a datos nuevos ya que se le dió mucho peso a los datos de entrenamiento (overfitting).\n",
    "3. El error de entrenamiento y el de prueba son similares: En este caso se puede decir que el proceso de entrenamiento fue exitoso.\n",
    "\n",
    "**Nota:** El error de entrenamiento generalemente será menor al de prueba. \n",
    "\n",
    "En general, deseamos que los modelos puedan tener el mejor rendimiento posible con datos que no han \"visto\" previamente. En la práctica, se tiene una base de datos de cierto tamaño y esta se separa en 2 partes: $X_{train}$ y $X_{test}$ para entrenar y evaluar el modelo. Sin embargo, la manera en la que se hace esta separación puede introducir algún tipo de sego en los modelos resultantes.  La validación cruzada es una técnica que se utiliza para verificar qué tanto afecta en el modelo la elección de datos para entrenamiento y prueba.\n"
   ]
  },
  {
   "cell_type": "markdown",
   "metadata": {},
   "source": [
    "<img src=\"https://upload.wikimedia.org/wikipedia/commons/1/1c/K-fold_cross_validation_EN.jpg\">"
   ]
  },
  {
   "cell_type": "markdown",
   "metadata": {},
   "source": [
    "La validación cruzada consiste en:\n",
    "- Partir la base de datos en $k$ subconjuntos de igual tamaño (si es posible).\n",
    "- Un subconjunto será $X_{test}$ y el resto se combinará para ser $X_{train}$.\n",
    "- Repetir el proceso entrenamiento-prueba cambiando la partición seleccionada para prueba.\n",
    "- Promediar las predicciones de cada una de las corridas"
   ]
  },
  {
   "cell_type": "markdown",
   "metadata": {},
   "source": [
    "En sci-kit learn hay varias funciones que implementan este método de validación: `GridSearchCV`, `cross_val_score` y `cross_val_predict`."
   ]
  },
  {
   "cell_type": "markdown",
   "metadata": {},
   "source": [
    "# Implementación"
   ]
  },
  {
   "cell_type": "markdown",
   "metadata": {},
   "source": [
    "Procedamos a implementar estos algoritmos. Comenzamos por importar las librerías usuales."
   ]
  },
  {
   "cell_type": "code",
   "execution_count": 2,
   "metadata": {},
   "outputs": [],
   "source": [
    "import pandas as pd\n",
    "import numpy as np\n",
    "import matplotlib.pyplot as plt"
   ]
  },
  {
   "cell_type": "markdown",
   "metadata": {},
   "source": [
    "En esta ocasión trabajaremos con una base de datos que relaciona el gasto hecho en publicidad en radio, TV y periódico con las ventas de un cierto producto."
   ]
  },
  {
   "cell_type": "code",
   "execution_count": 4,
   "metadata": {},
   "outputs": [
    {
     "name": "stdout",
     "output_type": "stream",
     "text": [
      "(200, 5)\n"
     ]
    },
    {
     "data": {
      "text/html": [
       "<div>\n",
       "<style scoped>\n",
       "    .dataframe tbody tr th:only-of-type {\n",
       "        vertical-align: middle;\n",
       "    }\n",
       "\n",
       "    .dataframe tbody tr th {\n",
       "        vertical-align: top;\n",
       "    }\n",
       "\n",
       "    .dataframe thead th {\n",
       "        text-align: right;\n",
       "    }\n",
       "</style>\n",
       "<table border=\"1\" class=\"dataframe\">\n",
       "  <thead>\n",
       "    <tr style=\"text-align: right;\">\n",
       "      <th></th>\n",
       "      <th>Unnamed: 0</th>\n",
       "      <th>TV</th>\n",
       "      <th>radio</th>\n",
       "      <th>newspaper</th>\n",
       "      <th>sales</th>\n",
       "    </tr>\n",
       "  </thead>\n",
       "  <tbody>\n",
       "    <tr>\n",
       "      <th>0</th>\n",
       "      <td>1</td>\n",
       "      <td>230.1</td>\n",
       "      <td>37.8</td>\n",
       "      <td>69.2</td>\n",
       "      <td>22.1</td>\n",
       "    </tr>\n",
       "    <tr>\n",
       "      <th>1</th>\n",
       "      <td>2</td>\n",
       "      <td>44.5</td>\n",
       "      <td>39.3</td>\n",
       "      <td>45.1</td>\n",
       "      <td>10.4</td>\n",
       "    </tr>\n",
       "    <tr>\n",
       "      <th>2</th>\n",
       "      <td>3</td>\n",
       "      <td>17.2</td>\n",
       "      <td>45.9</td>\n",
       "      <td>69.3</td>\n",
       "      <td>9.3</td>\n",
       "    </tr>\n",
       "    <tr>\n",
       "      <th>3</th>\n",
       "      <td>4</td>\n",
       "      <td>151.5</td>\n",
       "      <td>41.3</td>\n",
       "      <td>58.5</td>\n",
       "      <td>18.5</td>\n",
       "    </tr>\n",
       "    <tr>\n",
       "      <th>4</th>\n",
       "      <td>5</td>\n",
       "      <td>180.8</td>\n",
       "      <td>10.8</td>\n",
       "      <td>58.4</td>\n",
       "      <td>12.9</td>\n",
       "    </tr>\n",
       "  </tbody>\n",
       "</table>\n",
       "</div>"
      ],
      "text/plain": [
       "   Unnamed: 0     TV  radio  newspaper  sales\n",
       "0           1  230.1   37.8       69.2   22.1\n",
       "1           2   44.5   39.3       45.1   10.4\n",
       "2           3   17.2   45.9       69.3    9.3\n",
       "3           4  151.5   41.3       58.5   18.5\n",
       "4           5  180.8   10.8       58.4   12.9"
      ]
     },
     "execution_count": 4,
     "metadata": {},
     "output_type": "execute_result"
    }
   ],
   "source": [
    "file_path = 'Advertising.csv'\n",
    "\n",
    "data = pd.read_csv(file_path)\n",
    "print(data.shape)\n",
    "\n",
    "data.head()"
   ]
  },
  {
   "cell_type": "markdown",
   "metadata": {},
   "source": [
    "Quitaremos la primera columna que es sólo un índice de numeración. Se puede hacer de varias formas:"
   ]
  },
  {
   "cell_type": "code",
   "execution_count": 10,
   "metadata": {},
   "outputs": [
    {
     "data": {
      "text/html": [
       "<div>\n",
       "<style scoped>\n",
       "    .dataframe tbody tr th:only-of-type {\n",
       "        vertical-align: middle;\n",
       "    }\n",
       "\n",
       "    .dataframe tbody tr th {\n",
       "        vertical-align: top;\n",
       "    }\n",
       "\n",
       "    .dataframe thead th {\n",
       "        text-align: right;\n",
       "    }\n",
       "</style>\n",
       "<table border=\"1\" class=\"dataframe\">\n",
       "  <thead>\n",
       "    <tr style=\"text-align: right;\">\n",
       "      <th></th>\n",
       "      <th>TV</th>\n",
       "      <th>radio</th>\n",
       "      <th>newspaper</th>\n",
       "      <th>sales</th>\n",
       "    </tr>\n",
       "  </thead>\n",
       "  <tbody>\n",
       "    <tr>\n",
       "      <th>0</th>\n",
       "      <td>230.1</td>\n",
       "      <td>37.8</td>\n",
       "      <td>69.2</td>\n",
       "      <td>22.1</td>\n",
       "    </tr>\n",
       "    <tr>\n",
       "      <th>1</th>\n",
       "      <td>44.5</td>\n",
       "      <td>39.3</td>\n",
       "      <td>45.1</td>\n",
       "      <td>10.4</td>\n",
       "    </tr>\n",
       "    <tr>\n",
       "      <th>2</th>\n",
       "      <td>17.2</td>\n",
       "      <td>45.9</td>\n",
       "      <td>69.3</td>\n",
       "      <td>9.3</td>\n",
       "    </tr>\n",
       "    <tr>\n",
       "      <th>3</th>\n",
       "      <td>151.5</td>\n",
       "      <td>41.3</td>\n",
       "      <td>58.5</td>\n",
       "      <td>18.5</td>\n",
       "    </tr>\n",
       "    <tr>\n",
       "      <th>4</th>\n",
       "      <td>180.8</td>\n",
       "      <td>10.8</td>\n",
       "      <td>58.4</td>\n",
       "      <td>12.9</td>\n",
       "    </tr>\n",
       "  </tbody>\n",
       "</table>\n",
       "</div>"
      ],
      "text/plain": [
       "      TV  radio  newspaper  sales\n",
       "0  230.1   37.8       69.2   22.1\n",
       "1   44.5   39.3       45.1   10.4\n",
       "2   17.2   45.9       69.3    9.3\n",
       "3  151.5   41.3       58.5   18.5\n",
       "4  180.8   10.8       58.4   12.9"
      ]
     },
     "execution_count": 10,
     "metadata": {},
     "output_type": "execute_result"
    }
   ],
   "source": [
    "data.iloc[:,1:].head()"
   ]
  },
  {
   "cell_type": "code",
   "execution_count": 8,
   "metadata": {},
   "outputs": [
    {
     "data": {
      "text/html": [
       "<div>\n",
       "<style scoped>\n",
       "    .dataframe tbody tr th:only-of-type {\n",
       "        vertical-align: middle;\n",
       "    }\n",
       "\n",
       "    .dataframe tbody tr th {\n",
       "        vertical-align: top;\n",
       "    }\n",
       "\n",
       "    .dataframe thead th {\n",
       "        text-align: right;\n",
       "    }\n",
       "</style>\n",
       "<table border=\"1\" class=\"dataframe\">\n",
       "  <thead>\n",
       "    <tr style=\"text-align: right;\">\n",
       "      <th></th>\n",
       "      <th>TV</th>\n",
       "      <th>radio</th>\n",
       "      <th>newspaper</th>\n",
       "      <th>sales</th>\n",
       "    </tr>\n",
       "  </thead>\n",
       "  <tbody>\n",
       "    <tr>\n",
       "      <th>0</th>\n",
       "      <td>230.1</td>\n",
       "      <td>37.8</td>\n",
       "      <td>69.2</td>\n",
       "      <td>22.1</td>\n",
       "    </tr>\n",
       "    <tr>\n",
       "      <th>1</th>\n",
       "      <td>44.5</td>\n",
       "      <td>39.3</td>\n",
       "      <td>45.1</td>\n",
       "      <td>10.4</td>\n",
       "    </tr>\n",
       "    <tr>\n",
       "      <th>2</th>\n",
       "      <td>17.2</td>\n",
       "      <td>45.9</td>\n",
       "      <td>69.3</td>\n",
       "      <td>9.3</td>\n",
       "    </tr>\n",
       "    <tr>\n",
       "      <th>3</th>\n",
       "      <td>151.5</td>\n",
       "      <td>41.3</td>\n",
       "      <td>58.5</td>\n",
       "      <td>18.5</td>\n",
       "    </tr>\n",
       "    <tr>\n",
       "      <th>4</th>\n",
       "      <td>180.8</td>\n",
       "      <td>10.8</td>\n",
       "      <td>58.4</td>\n",
       "      <td>12.9</td>\n",
       "    </tr>\n",
       "  </tbody>\n",
       "</table>\n",
       "</div>"
      ],
      "text/plain": [
       "      TV  radio  newspaper  sales\n",
       "0  230.1   37.8       69.2   22.1\n",
       "1   44.5   39.3       45.1   10.4\n",
       "2   17.2   45.9       69.3    9.3\n",
       "3  151.5   41.3       58.5   18.5\n",
       "4  180.8   10.8       58.4   12.9"
      ]
     },
     "execution_count": 8,
     "metadata": {},
     "output_type": "execute_result"
    }
   ],
   "source": [
    "data.drop(['Unnamed: 0'], axis=1, inplace=False).head()"
   ]
  },
  {
   "cell_type": "code",
   "execution_count": 11,
   "metadata": {},
   "outputs": [],
   "source": [
    "data.drop(['Unnamed: 0'], axis=1, inplace=True) #inplace indica si se modifica la variable original"
   ]
  },
  {
   "cell_type": "code",
   "execution_count": 12,
   "metadata": {},
   "outputs": [
    {
     "data": {
      "text/html": [
       "<div>\n",
       "<style scoped>\n",
       "    .dataframe tbody tr th:only-of-type {\n",
       "        vertical-align: middle;\n",
       "    }\n",
       "\n",
       "    .dataframe tbody tr th {\n",
       "        vertical-align: top;\n",
       "    }\n",
       "\n",
       "    .dataframe thead th {\n",
       "        text-align: right;\n",
       "    }\n",
       "</style>\n",
       "<table border=\"1\" class=\"dataframe\">\n",
       "  <thead>\n",
       "    <tr style=\"text-align: right;\">\n",
       "      <th></th>\n",
       "      <th>TV</th>\n",
       "      <th>radio</th>\n",
       "      <th>newspaper</th>\n",
       "      <th>sales</th>\n",
       "    </tr>\n",
       "  </thead>\n",
       "  <tbody>\n",
       "    <tr>\n",
       "      <th>0</th>\n",
       "      <td>230.1</td>\n",
       "      <td>37.8</td>\n",
       "      <td>69.2</td>\n",
       "      <td>22.1</td>\n",
       "    </tr>\n",
       "    <tr>\n",
       "      <th>1</th>\n",
       "      <td>44.5</td>\n",
       "      <td>39.3</td>\n",
       "      <td>45.1</td>\n",
       "      <td>10.4</td>\n",
       "    </tr>\n",
       "    <tr>\n",
       "      <th>2</th>\n",
       "      <td>17.2</td>\n",
       "      <td>45.9</td>\n",
       "      <td>69.3</td>\n",
       "      <td>9.3</td>\n",
       "    </tr>\n",
       "    <tr>\n",
       "      <th>3</th>\n",
       "      <td>151.5</td>\n",
       "      <td>41.3</td>\n",
       "      <td>58.5</td>\n",
       "      <td>18.5</td>\n",
       "    </tr>\n",
       "    <tr>\n",
       "      <th>4</th>\n",
       "      <td>180.8</td>\n",
       "      <td>10.8</td>\n",
       "      <td>58.4</td>\n",
       "      <td>12.9</td>\n",
       "    </tr>\n",
       "  </tbody>\n",
       "</table>\n",
       "</div>"
      ],
      "text/plain": [
       "      TV  radio  newspaper  sales\n",
       "0  230.1   37.8       69.2   22.1\n",
       "1   44.5   39.3       45.1   10.4\n",
       "2   17.2   45.9       69.3    9.3\n",
       "3  151.5   41.3       58.5   18.5\n",
       "4  180.8   10.8       58.4   12.9"
      ]
     },
     "execution_count": 12,
     "metadata": {},
     "output_type": "execute_result"
    }
   ],
   "source": [
    "data.head()"
   ]
  },
  {
   "cell_type": "code",
   "execution_count": 16,
   "metadata": {},
   "outputs": [
    {
     "data": {
      "text/plain": [
       "Index(['TV', 'radio', 'newspaper'], dtype='object')"
      ]
     },
     "execution_count": 16,
     "metadata": {},
     "output_type": "execute_result"
    }
   ],
   "source": [
    "data.columns[:-1]"
   ]
  },
  {
   "cell_type": "code",
   "execution_count": 56,
   "metadata": {},
   "outputs": [
    {
     "data": {
      "image/png": "[encoded data removed]",
      "text/plain": [
       "<Figure size 432x288 with 1 Axes>"
      ]
     },
     "metadata": {
      "needs_background": "light"
     },
     "output_type": "display_data"
    },
    {
     "data": {
      "image/png": "[encoded data removed]",
      "text/plain": [
       "<Figure size 432x288 with 1 Axes>"
      ]
     },
     "metadata": {
      "needs_background": "light"
     },
     "output_type": "display_data"
    },
    {
     "data": {
      "image/png": "[encoded data removed]",
      "text/plain": [
       "<Figure size 432x288 with 1 Axes>"
      ]
     },
     "metadata": {
      "needs_background": "light"
     },
     "output_type": "display_data"
    }
   ],
   "source": [
    "for column in data.columns[:-1]:\n",
    "\n",
    "    marketing=data[column]\n",
    "    sales=data['sales']\n",
    "    \n",
    "    plt.scatter(marketing,sales,c='black')\n",
    "    plt.xlabel(\"Gasto en Publicidad en '{}' (USD)\".format(column))\n",
    "    plt.ylabel(\"Ventas (miles de USD)\")\n",
    "    plt.show()"
   ]
  },
  {
   "cell_type": "markdown",
   "metadata": {},
   "source": [
    "### Regresión con OLS"
   ]
  },
  {
   "cell_type": "markdown",
   "metadata": {},
   "source": [
    "Usaremos la función `LinearRegression` para los siguientes ejercicios, donde también aplicaremos validación cruzada."
   ]
  },
  {
   "cell_type": "code",
   "execution_count": 40,
   "metadata": {},
   "outputs": [],
   "source": [
    "from sklearn.linear_model import LinearRegression\n",
    "from sklearn.model_selection import cross_val_score"
   ]
  },
  {
   "cell_type": "code",
   "execution_count": 78,
   "metadata": {},
   "outputs": [],
   "source": [
    "? LinearRegression"
   ]
  },
  {
   "cell_type": "code",
   "execution_count": 42,
   "metadata": {},
   "outputs": [],
   "source": [
    "? cross_val_score"
   ]
  },
  {
   "cell_type": "code",
   "execution_count": 68,
   "metadata": {},
   "outputs": [
    {
     "name": "stdout",
     "output_type": "stream",
     "text": [
      "[-3.1365399  -2.42566776 -1.58522508 -5.42615506 -2.79114519]\n",
      "-3.07294659710021\n"
     ]
    }
   ],
   "source": [
    "from sklearn.linear_model import LinearRegression\n",
    "from sklearn.model_selection import cross_val_score, cross_val_predict\n",
    "\n",
    "X = data.drop(['sales'], axis=1)\n",
    "y = data['sales'].values.reshape(-1,1)\n",
    "\n",
    "lin_reg = LinearRegression()\n",
    "\n",
    "MSEs = cross_val_score(lin_reg, X, y, scoring='neg_mean_squared_error', cv=5) # siempre buscaremos maximizar el 'score'\n",
    "\n",
    "print(MSEs)\n",
    "\n",
    "mean_MSE = np.mean(MSEs)\n",
    "\n",
    "print(mean_MSE)"
   ]
  },
  {
   "cell_type": "markdown",
   "metadata": {},
   "source": [
    "Podemos hacer predicciones con validación cruzada, donde cada predicción para un valor $x_i$ se hace sólo cuando éste está en $X_{test}$."
   ]
  },
  {
   "cell_type": "code",
   "execution_count": 77,
   "metadata": {},
   "outputs": [
    {
     "data": {
      "text/plain": [
       "array([[20.7540982 ],\n",
       "       [12.43772205],\n",
       "       [12.51341689],\n",
       "       [17.76870412],\n",
       "       [13.38086151],\n",
       "       [12.70793666],\n",
       "       [11.73444816],\n",
       "       [12.08637541],\n",
       "       [ 3.64203447],\n",
       "       [12.57693301],\n",
       "       [ 7.05791249],\n",
       "       [17.21923958],\n",
       "       [10.77441706],\n",
       "       [ 8.77464996],\n",
       "       [18.55724711],\n",
       "       [20.9642119 ],\n",
       "       [13.24778773],\n",
       "       [23.39640754],\n",
       "       [ 9.94096091],\n",
       "       [14.16420425],\n",
       "       [18.26263874],\n",
       "       [14.77924986],\n",
       "       [ 6.62165738],\n",
       "       [16.58898194],\n",
       "       [ 8.14009286],\n",
       "       [15.63351777],\n",
       "       [14.9536351 ],\n",
       "       [17.08059756],\n",
       "       [19.43377214],\n",
       "       [ 9.24087835],\n",
       "       [21.75491852],\n",
       "       [11.43577201],\n",
       "       [ 7.69704515],\n",
       "       [18.78840097],\n",
       "       [ 7.52781685],\n",
       "       [16.98135919],\n",
       "       [23.33713956],\n",
       "       [15.72263036],\n",
       "       [ 9.96978732],\n",
       "       [20.50460709],\n",
       "       [16.25895556],\n",
       "       [17.20427625],\n",
       "       [21.34322188],\n",
       "       [13.83781472],\n",
       "       [ 8.90820012],\n",
       "       [15.05980855],\n",
       "       [ 8.84348031],\n",
       "       [21.53683469],\n",
       "       [16.17791097],\n",
       "       [ 8.15433591],\n",
       "       [12.53287146],\n",
       "       [ 9.22469119],\n",
       "       [20.54362385],\n",
       "       [19.8908846 ],\n",
       "       [20.17530639],\n",
       "       [21.22976841],\n",
       "       [ 8.55324146],\n",
       "       [12.66296931],\n",
       "       [21.77294019],\n",
       "       [17.95072806],\n",
       "       [ 5.70481419],\n",
       "       [22.77926842],\n",
       "       [16.6357151 ],\n",
       "       [13.09408551],\n",
       "       [16.88556663],\n",
       "       [ 7.74737907],\n",
       "       [ 8.93229043],\n",
       "       [11.91052004],\n",
       "       [18.78224816],\n",
       "       [20.95764314],\n",
       "       [17.67544067],\n",
       "       [10.57191045],\n",
       "       [10.32301449],\n",
       "       [ 9.83962533],\n",
       "       [17.15703583],\n",
       "       [11.98613196],\n",
       "       [ 4.45523937],\n",
       "       [13.69887229],\n",
       "       [ 8.76061657],\n",
       "       [ 9.59917478],\n",
       "       [11.3000671 ],\n",
       "       [14.6768672 ],\n",
       "       [10.01642386],\n",
       "       [14.25223218],\n",
       "       [20.7902434 ],\n",
       "       [15.11842887],\n",
       "       [11.46123035],\n",
       "       [15.43827939],\n",
       "       [11.5119926 ],\n",
       "       [16.78272484],\n",
       "       [ 9.93659158],\n",
       "       [ 4.27311284],\n",
       "       [19.13510986],\n",
       "       [21.22964715],\n",
       "       [10.38649368],\n",
       "       [16.23519053],\n",
       "       [12.65425649],\n",
       "       [15.32238258],\n",
       "       [24.1969517 ],\n",
       "       [16.83775471],\n",
       "       [13.86669312],\n",
       "       [23.26197551],\n",
       "       [17.74386318],\n",
       "       [14.75582698],\n",
       "       [20.37599667],\n",
       "       [17.82070467],\n",
       "       [ 5.90472147],\n",
       "       [ 6.97316588],\n",
       "       [ 3.3547861 ],\n",
       "       [19.78697711],\n",
       "       [14.74665699],\n",
       "       [21.19646544],\n",
       "       [13.87955059],\n",
       "       [16.4339893 ],\n",
       "       [15.14931926],\n",
       "       [12.73367645],\n",
       "       [11.90237849],\n",
       "       [ 6.42964089],\n",
       "       [15.40689907],\n",
       "       [ 6.60276066],\n",
       "       [14.47663465],\n",
       "       [ 8.13708474],\n",
       "       [13.39467374],\n",
       "       [15.50862447],\n",
       "       [19.17160816],\n",
       "       [ 9.29366632],\n",
       "       [11.10318176],\n",
       "       [ 6.75662011],\n",
       "       [22.65545891],\n",
       "       [ 8.01202096],\n",
       "       [11.25470952],\n",
       "       [15.06503509],\n",
       "       [ 9.15539885],\n",
       "       [19.21388792],\n",
       "       [12.18527696],\n",
       "       [14.79161596],\n",
       "       [12.20473637],\n",
       "       [20.50877168],\n",
       "       [10.24893851],\n",
       "       [20.11830585],\n",
       "       [ 9.83740614],\n",
       "       [18.23631863],\n",
       "       [19.23867855],\n",
       "       [ 8.75931329],\n",
       "       [10.18389001],\n",
       "       [ 9.73225904],\n",
       "       [15.12255303],\n",
       "       [23.33200973],\n",
       "       [12.98036354],\n",
       "       [10.30153658],\n",
       "       [17.9810298 ],\n",
       "       [ 9.89901088],\n",
       "       [16.44876743],\n",
       "       [18.4176626 ],\n",
       "       [15.62116114],\n",
       "       [ 5.82036037],\n",
       "       [15.7405692 ],\n",
       "       [ 9.90611924],\n",
       "       [10.91219265],\n",
       "       [12.46915264],\n",
       "       [14.32760252],\n",
       "       [13.3931802 ],\n",
       "       [15.08372563],\n",
       "       [17.28887207],\n",
       "       [11.126712  ],\n",
       "       [14.56130444],\n",
       "       [10.53949868],\n",
       "       [13.63802366],\n",
       "       [17.31889273],\n",
       "       [18.28391286],\n",
       "       [ 7.38133999],\n",
       "       [14.43760126],\n",
       "       [ 7.475535  ],\n",
       "       [12.17162591],\n",
       "       [14.05724444],\n",
       "       [24.79183962],\n",
       "       [20.10091117],\n",
       "       [12.36147775],\n",
       "       [16.4151118 ],\n",
       "       [12.55656227],\n",
       "       [10.80865053],\n",
       "       [14.21930496],\n",
       "       [ 6.6020951 ],\n",
       "       [24.20757492],\n",
       "       [18.74560913],\n",
       "       [20.73166888],\n",
       "       [ 9.89340209],\n",
       "       [17.12546566],\n",
       "       [18.96053303],\n",
       "       [ 5.98759002],\n",
       "       [12.20478737],\n",
       "       [ 8.45403738],\n",
       "       [ 4.46959444],\n",
       "       [18.38398588],\n",
       "       [16.42220846],\n",
       "       [ 5.40672422],\n",
       "       [ 8.2741292 ],\n",
       "       [12.97986443],\n",
       "       [23.84393137],\n",
       "       [15.4553381 ]])"
      ]
     },
     "execution_count": 77,
     "metadata": {},
     "output_type": "execute_result"
    }
   ],
   "source": [
    "cross_val_predict(lin_reg,X,y, cv=5)"
   ]
  },
  {
   "cell_type": "markdown",
   "metadata": {},
   "source": [
    "### Regularización con Ridge"
   ]
  },
  {
   "cell_type": "code",
   "execution_count": 43,
   "metadata": {},
   "outputs": [],
   "source": [
    "from sklearn.model_selection import GridSearchCV\n",
    "from sklearn.linear_model import Ridge"
   ]
  },
  {
   "cell_type": "code",
   "execution_count": 44,
   "metadata": {},
   "outputs": [],
   "source": [
    "? GridSearchCV"
   ]
  },
  {
   "cell_type": "code",
   "execution_count": 35,
   "metadata": {},
   "outputs": [
    {
     "data": {
      "text/plain": [
       "GridSearchCV(cv=5, error_score='raise-deprecating',\n",
       "       estimator=Ridge(alpha=1.0, copy_X=True, fit_intercept=True, max_iter=None,\n",
       "   normalize=False, random_state=None, solver='auto', tol=0.001),\n",
       "       fit_params=None, iid='warn', n_jobs=None,\n",
       "       param_grid={'alpha': [1e-15, 1e-10, 1e-08, 0.0001, 0.001, 0.01, 1, 5, 10, 20]},\n",
       "       pre_dispatch='2*n_jobs', refit=True, return_train_score='warn',\n",
       "       scoring='neg_mean_squared_error', verbose=0)"
      ]
     },
     "execution_count": 35,
     "metadata": {},
     "output_type": "execute_result"
    }
   ],
   "source": [
    "alpha = [1e-15, 1e-10, 1e-8, 1e-4, 1e-3,1e-2, 1, 5, 10, 20,30]\n",
    "\n",
    "ridge = Ridge()\n",
    "\n",
    "parameters = {'alpha': [1e-15, 1e-10, 1e-8, 1e-4, 1e-3,1e-2, 1, 5, 10, 20]}\n",
    "\n",
    "ridge_regressor = GridSearchCV(ridge, parameters,scoring='neg_mean_squared_error', cv=5)\n",
    "\n",
    "ridge_regressor.fit(X, y)"
   ]
  },
  {
   "cell_type": "code",
   "execution_count": 32,
   "metadata": {},
   "outputs": [
    {
     "data": {
      "text/plain": [
       "{'alpha': 20}"
      ]
     },
     "execution_count": 32,
     "metadata": {},
     "output_type": "execute_result"
    }
   ],
   "source": [
    "ridge_regressor.best_params_"
   ]
  },
  {
   "cell_type": "code",
   "execution_count": 33,
   "metadata": {},
   "outputs": [
    {
     "data": {
      "text/plain": [
       "-3.0726713383411433"
      ]
     },
     "execution_count": 33,
     "metadata": {},
     "output_type": "execute_result"
    }
   ],
   "source": [
    "ridge_regressor.best_score_"
   ]
  },
  {
   "cell_type": "markdown",
   "metadata": {},
   "source": [
    "### Regularización con LASSO"
   ]
  },
  {
   "cell_type": "code",
   "execution_count": 24,
   "metadata": {},
   "outputs": [
    {
     "name": "stderr",
     "output_type": "stream",
     "text": [
      "/home/arturo/anaconda3/lib/python3.7/site-packages/sklearn/linear_model/coordinate_descent.py:492: ConvergenceWarning: Objective did not converge. You might want to increase the number of iterations. Fitting data with very small alpha may cause precision problems.\n",
      "  ConvergenceWarning)\n",
      "/home/arturo/anaconda3/lib/python3.7/site-packages/sklearn/linear_model/coordinate_descent.py:492: ConvergenceWarning: Objective did not converge. You might want to increase the number of iterations. Fitting data with very small alpha may cause precision problems.\n",
      "  ConvergenceWarning)\n",
      "/home/arturo/anaconda3/lib/python3.7/site-packages/sklearn/linear_model/coordinate_descent.py:492: ConvergenceWarning: Objective did not converge. You might want to increase the number of iterations. Fitting data with very small alpha may cause precision problems.\n",
      "  ConvergenceWarning)\n"
     ]
    },
    {
     "data": {
      "text/plain": [
       "GridSearchCV(cv=5, error_score='raise-deprecating',\n",
       "       estimator=Lasso(alpha=1.0, copy_X=True, fit_intercept=True, max_iter=1000,\n",
       "   normalize=False, positive=False, precompute=False, random_state=None,\n",
       "   selection='cyclic', tol=0.0001, warm_start=False),\n",
       "       fit_params=None, iid='warn', n_jobs=None,\n",
       "       param_grid={'alpha': [1e-15, 1e-10, 1e-08, 0.0001, 0.001, 0.01, 1, 5, 10, 20]},\n",
       "       pre_dispatch='2*n_jobs', refit=True, return_train_score='warn',\n",
       "       scoring='neg_mean_squared_error', verbose=0)"
      ]
     },
     "execution_count": 24,
     "metadata": {},
     "output_type": "execute_result"
    }
   ],
   "source": [
    "from sklearn.linear_model import Lasso\n",
    "\n",
    "lasso = Lasso()\n",
    "\n",
    "parameters = {'alpha': [1e-15, 1e-10, 1e-8, 1e-4, 1e-3,1e-2, 1, 5, 10, 20]}\n",
    "\n",
    "lasso_regressor = GridSearchCV(lasso, parameters, scoring='neg_mean_squared_error', cv = 5)\n",
    "\n",
    "lasso_regressor.fit(X, y)"
   ]
  },
  {
   "cell_type": "code",
   "execution_count": 25,
   "metadata": {},
   "outputs": [
    {
     "data": {
      "text/plain": [
       "{'alpha': 1}"
      ]
     },
     "execution_count": 25,
     "metadata": {},
     "output_type": "execute_result"
    }
   ],
   "source": [
    "lasso_regressor.best_params_"
   ]
  },
  {
   "cell_type": "code",
   "execution_count": 26,
   "metadata": {},
   "outputs": [
    {
     "data": {
      "text/plain": [
       "-3.0414058967513684"
      ]
     },
     "execution_count": 26,
     "metadata": {},
     "output_type": "execute_result"
    }
   ],
   "source": [
    "lasso_regressor.best_score_"
   ]
  },
  {
   "cell_type": "markdown",
   "metadata": {},
   "source": [
    "### Elastic Net"
   ]
  },
  {
   "cell_type": "markdown",
   "metadata": {},
   "source": [
    "La implementación de Elastic Net en Sci-Kit Learn no utiliza como parámetros $\\lambda_1$ y $\\lambda_2$. En vez de eso, utiliza parámetros equivalentes:\n",
    "\n",
    "- $\\alpha=\\lambda_1 + \\lambda_2$\n",
    "- $\\text{L1_Ratio} = \\frac{\\lambda_1}{\\lambda_1 + \\lambda_2}$\n",
    "\n",
    "Por default $\\text{L1_Ratio}=0.5$"
   ]
  },
  {
   "cell_type": "code",
   "execution_count": 48,
   "metadata": {},
   "outputs": [
    {
     "name": "stderr",
     "output_type": "stream",
     "text": [
      "/home/arturo/anaconda3/lib/python3.7/site-packages/sklearn/linear_model/coordinate_descent.py:492: ConvergenceWarning: Objective did not converge. You might want to increase the number of iterations. Fitting data with very small alpha may cause precision problems.\n",
      "  ConvergenceWarning)\n",
      "/home/arturo/anaconda3/lib/python3.7/site-packages/sklearn/linear_model/coordinate_descent.py:492: ConvergenceWarning: Objective did not converge. You might want to increase the number of iterations. Fitting data with very small alpha may cause precision problems.\n",
      "  ConvergenceWarning)\n",
      "/home/arturo/anaconda3/lib/python3.7/site-packages/sklearn/linear_model/coordinate_descent.py:492: ConvergenceWarning: Objective did not converge. You might want to increase the number of iterations. Fitting data with very small alpha may cause precision problems.\n",
      "  ConvergenceWarning)\n",
      "/home/arturo/anaconda3/lib/python3.7/site-packages/sklearn/linear_model/coordinate_descent.py:492: ConvergenceWarning: Objective did not converge. You might want to increase the number of iterations. Fitting data with very small alpha may cause precision problems.\n",
      "  ConvergenceWarning)\n",
      "/home/arturo/anaconda3/lib/python3.7/site-packages/sklearn/linear_model/coordinate_descent.py:492: ConvergenceWarning: Objective did not converge. You might want to increase the number of iterations. Fitting data with very small alpha may cause precision problems.\n",
      "  ConvergenceWarning)\n",
      "/home/arturo/anaconda3/lib/python3.7/site-packages/sklearn/linear_model/coordinate_descent.py:492: ConvergenceWarning: Objective did not converge. You might want to increase the number of iterations. Fitting data with very small alpha may cause precision problems.\n",
      "  ConvergenceWarning)\n",
      "/home/arturo/anaconda3/lib/python3.7/site-packages/sklearn/linear_model/coordinate_descent.py:492: ConvergenceWarning: Objective did not converge. You might want to increase the number of iterations. Fitting data with very small alpha may cause precision problems.\n",
      "  ConvergenceWarning)\n",
      "/home/arturo/anaconda3/lib/python3.7/site-packages/sklearn/linear_model/coordinate_descent.py:492: ConvergenceWarning: Objective did not converge. You might want to increase the number of iterations. Fitting data with very small alpha may cause precision problems.\n",
      "  ConvergenceWarning)\n",
      "/home/arturo/anaconda3/lib/python3.7/site-packages/sklearn/linear_model/coordinate_descent.py:492: ConvergenceWarning: Objective did not converge. You might want to increase the number of iterations. Fitting data with very small alpha may cause precision problems.\n",
      "  ConvergenceWarning)\n",
      "/home/arturo/anaconda3/lib/python3.7/site-packages/sklearn/linear_model/coordinate_descent.py:492: ConvergenceWarning: Objective did not converge. You might want to increase the number of iterations. Fitting data with very small alpha may cause precision problems.\n",
      "  ConvergenceWarning)\n",
      "/home/arturo/anaconda3/lib/python3.7/site-packages/sklearn/linear_model/coordinate_descent.py:492: ConvergenceWarning: Objective did not converge. You might want to increase the number of iterations. Fitting data with very small alpha may cause precision problems.\n",
      "  ConvergenceWarning)\n",
      "/home/arturo/anaconda3/lib/python3.7/site-packages/sklearn/linear_model/coordinate_descent.py:492: ConvergenceWarning: Objective did not converge. You might want to increase the number of iterations. Fitting data with very small alpha may cause precision problems.\n",
      "  ConvergenceWarning)\n",
      "/home/arturo/anaconda3/lib/python3.7/site-packages/sklearn/linear_model/coordinate_descent.py:492: ConvergenceWarning: Objective did not converge. You might want to increase the number of iterations. Fitting data with very small alpha may cause precision problems.\n",
      "  ConvergenceWarning)\n",
      "/home/arturo/anaconda3/lib/python3.7/site-packages/sklearn/linear_model/coordinate_descent.py:492: ConvergenceWarning: Objective did not converge. You might want to increase the number of iterations. Fitting data with very small alpha may cause precision problems.\n",
      "  ConvergenceWarning)\n",
      "/home/arturo/anaconda3/lib/python3.7/site-packages/sklearn/linear_model/coordinate_descent.py:492: ConvergenceWarning: Objective did not converge. You might want to increase the number of iterations. Fitting data with very small alpha may cause precision problems.\n",
      "  ConvergenceWarning)\n",
      "/home/arturo/anaconda3/lib/python3.7/site-packages/sklearn/linear_model/coordinate_descent.py:492: ConvergenceWarning: Objective did not converge. You might want to increase the number of iterations. Fitting data with very small alpha may cause precision problems.\n",
      "  ConvergenceWarning)\n",
      "/home/arturo/anaconda3/lib/python3.7/site-packages/sklearn/linear_model/coordinate_descent.py:492: ConvergenceWarning: Objective did not converge. You might want to increase the number of iterations. Fitting data with very small alpha may cause precision problems.\n",
      "  ConvergenceWarning)\n",
      "/home/arturo/anaconda3/lib/python3.7/site-packages/sklearn/linear_model/coordinate_descent.py:492: ConvergenceWarning: Objective did not converge. You might want to increase the number of iterations. Fitting data with very small alpha may cause precision problems.\n",
      "  ConvergenceWarning)\n",
      "/home/arturo/anaconda3/lib/python3.7/site-packages/sklearn/linear_model/coordinate_descent.py:492: ConvergenceWarning: Objective did not converge. You might want to increase the number of iterations. Fitting data with very small alpha may cause precision problems.\n",
      "  ConvergenceWarning)\n",
      "/home/arturo/anaconda3/lib/python3.7/site-packages/sklearn/linear_model/coordinate_descent.py:492: ConvergenceWarning: Objective did not converge. You might want to increase the number of iterations. Fitting data with very small alpha may cause precision problems.\n",
      "  ConvergenceWarning)\n",
      "/home/arturo/anaconda3/lib/python3.7/site-packages/sklearn/linear_model/coordinate_descent.py:492: ConvergenceWarning: Objective did not converge. You might want to increase the number of iterations. Fitting data with very small alpha may cause precision problems.\n",
      "  ConvergenceWarning)\n",
      "/home/arturo/anaconda3/lib/python3.7/site-packages/sklearn/linear_model/coordinate_descent.py:492: ConvergenceWarning: Objective did not converge. You might want to increase the number of iterations. Fitting data with very small alpha may cause precision problems.\n",
      "  ConvergenceWarning)\n"
     ]
    },
    {
     "data": {
      "text/plain": [
       "GridSearchCV(cv=5, error_score='raise-deprecating',\n",
       "       estimator=ElasticNet(alpha=1.0, copy_X=True, fit_intercept=True, l1_ratio=0.5,\n",
       "      max_iter=1000, normalize=False, positive=False, precompute=False,\n",
       "      random_state=None, selection='cyclic', tol=0.0001, warm_start=False),\n",
       "       fit_params=None, iid='warn', n_jobs=None,\n",
       "       param_grid={'alpha': [1e-15, 1e-10, 1e-08, 0.0001, 0.001, 0.01, 1, 5, 10, 20], 'l1_ratio': [0.1, 0.25, 0.5, 0.75, 0.9]},\n",
       "       pre_dispatch='2*n_jobs', refit=True, return_train_score='warn',\n",
       "       scoring='neg_mean_squared_error', verbose=0)"
      ]
     },
     "execution_count": 48,
     "metadata": {},
     "output_type": "execute_result"
    }
   ],
   "source": [
    "from sklearn.linear_model import ElasticNet\n",
    "\n",
    "enet = ElasticNet()\n",
    "\n",
    "parameters = {'alpha': [1e-15, 1e-10, 1e-8, 1e-4, 1e-3,1e-2, 1, 5, 10, 20],'l1_ratio':[0.1,0.25,0.5,0.75,0.9]}\n",
    "\n",
    "enet_regressor = GridSearchCV(enet, parameters, scoring='neg_mean_squared_error', cv = 5)\n",
    "\n",
    "enet_regressor.fit(X, y)"
   ]
  },
  {
   "cell_type": "code",
   "execution_count": 46,
   "metadata": {},
   "outputs": [
    {
     "data": {
      "text/plain": [
       "{'alpha': 5, 'l1_ratio': 0.25}"
      ]
     },
     "execution_count": 46,
     "metadata": {},
     "output_type": "execute_result"
    }
   ],
   "source": [
    "enet_regressor.best_params_"
   ]
  },
  {
   "cell_type": "code",
   "execution_count": 47,
   "metadata": {},
   "outputs": [
    {
     "data": {
      "text/plain": [
       "-3.0416926149490924"
      ]
     },
     "execution_count": 47,
     "metadata": {},
     "output_type": "execute_result"
    }
   ],
   "source": [
    "enet_regressor.best_score_"
   ]
  },
  {
   "cell_type": "markdown",
   "metadata": {},
   "source": [
    "Comparamos los resultados de las regresiones."
   ]
  },
  {
   "cell_type": "code",
   "execution_count": 50,
   "metadata": {},
   "outputs": [
    {
     "name": "stdout",
     "output_type": "stream",
     "text": [
      "NMSE OLS: -3.07294659710021\n",
      "NMSE Ridge: -3.0726713383411433\n",
      "NMSE LASSO: -3.0414058967513684\n",
      "NMSE Elastic Net: -3.0416926149490924\n"
     ]
    }
   ],
   "source": [
    "print(\"NMSE OLS:\",mean_MSE)\n",
    "print(\"NMSE Ridge:\",ridge_regressor.best_score_)\n",
    "print(\"NMSE LASSO:\", lasso_regressor.best_score_)\n",
    "print(\"NMSE Elastic Net:\", enet_regressor.best_score_)"
   ]
  },
  {
   "cell_type": "markdown",
   "metadata": {},
   "source": [
    "Podemos ver los parámetros de los modelos:"
   ]
  },
  {
   "cell_type": "code",
   "execution_count": 83,
   "metadata": {},
   "outputs": [
    {
     "name": "stdout",
     "output_type": "stream",
     "text": [
      "Ridge Parameters: [2.94045051] [[ 0.04576461  0.18843167 -0.00101353]]\n",
      "LASSO Parameters: [3.04021558] [0.04566142 0.1834644  0.        ]\n",
      "Elastic Net Parameters: [3.14050022] [0.04564379 0.17926508 0.        ]\n"
     ]
    }
   ],
   "source": [
    "best_ridge=ridge_regressor.best_estimator_\n",
    "best_lasso=lasso_regressor.best_estimator_\n",
    "best_enet=enet_regressor.best_estimator_\n",
    "\n",
    "print(\"Ridge Parameters:\",best_ridge.intercept_, best_ridge.coef_)\n",
    "print(\"LASSO Parameters:\",best_lasso.intercept_, best_lasso.coef_)\n",
    "print(\"Elastic Net Parameters:\",best_enet.intercept_, best_enet.coef_)"
   ]
  },
  {
   "cell_type": "markdown",
   "metadata": {},
   "source": [
    "Ahora grafiquemos los resultados para compararlos. Para esto, generaremos modelos con los valores óptimos encontrados en cada caso."
   ]
  },
  {
   "cell_type": "code",
   "execution_count": 60,
   "metadata": {},
   "outputs": [
    {
     "data": {
      "text/html": [
       "<div>\n",
       "<style scoped>\n",
       "    .dataframe tbody tr th:only-of-type {\n",
       "        vertical-align: middle;\n",
       "    }\n",
       "\n",
       "    .dataframe tbody tr th {\n",
       "        vertical-align: top;\n",
       "    }\n",
       "\n",
       "    .dataframe thead th {\n",
       "        text-align: right;\n",
       "    }\n",
       "</style>\n",
       "<table border=\"1\" class=\"dataframe\">\n",
       "  <thead>\n",
       "    <tr style=\"text-align: right;\">\n",
       "      <th></th>\n",
       "      <th>TV</th>\n",
       "      <th>radio</th>\n",
       "      <th>newspaper</th>\n",
       "    </tr>\n",
       "  </thead>\n",
       "  <tbody>\n",
       "    <tr>\n",
       "      <th>count</th>\n",
       "      <td>200.000000</td>\n",
       "      <td>200.000000</td>\n",
       "      <td>200.000000</td>\n",
       "    </tr>\n",
       "    <tr>\n",
       "      <th>mean</th>\n",
       "      <td>147.042500</td>\n",
       "      <td>23.264000</td>\n",
       "      <td>30.554000</td>\n",
       "    </tr>\n",
       "    <tr>\n",
       "      <th>std</th>\n",
       "      <td>85.854236</td>\n",
       "      <td>14.846809</td>\n",
       "      <td>21.778621</td>\n",
       "    </tr>\n",
       "    <tr>\n",
       "      <th>min</th>\n",
       "      <td>0.700000</td>\n",
       "      <td>0.000000</td>\n",
       "      <td>0.300000</td>\n",
       "    </tr>\n",
       "    <tr>\n",
       "      <th>25%</th>\n",
       "      <td>74.375000</td>\n",
       "      <td>9.975000</td>\n",
       "      <td>12.750000</td>\n",
       "    </tr>\n",
       "    <tr>\n",
       "      <th>50%</th>\n",
       "      <td>149.750000</td>\n",
       "      <td>22.900000</td>\n",
       "      <td>25.750000</td>\n",
       "    </tr>\n",
       "    <tr>\n",
       "      <th>75%</th>\n",
       "      <td>218.825000</td>\n",
       "      <td>36.525000</td>\n",
       "      <td>45.100000</td>\n",
       "    </tr>\n",
       "    <tr>\n",
       "      <th>max</th>\n",
       "      <td>296.400000</td>\n",
       "      <td>49.600000</td>\n",
       "      <td>114.000000</td>\n",
       "    </tr>\n",
       "  </tbody>\n",
       "</table>\n",
       "</div>"
      ],
      "text/plain": [
       "               TV       radio   newspaper\n",
       "count  200.000000  200.000000  200.000000\n",
       "mean   147.042500   23.264000   30.554000\n",
       "std     85.854236   14.846809   21.778621\n",
       "min      0.700000    0.000000    0.300000\n",
       "25%     74.375000    9.975000   12.750000\n",
       "50%    149.750000   22.900000   25.750000\n",
       "75%    218.825000   36.525000   45.100000\n",
       "max    296.400000   49.600000  114.000000"
      ]
     },
     "execution_count": 60,
     "metadata": {},
     "output_type": "execute_result"
    }
   ],
   "source": [
    "X.describe()"
   ]
  },
  {
   "cell_type": "code",
   "execution_count": 102,
   "metadata": {},
   "outputs": [
    {
     "data": {
      "image/png": "[encoded data removed]",
      "text/plain": [
       "<Figure size 1080x1080 with 3 Axes>"
      ]
     },
     "metadata": {
      "needs_background": "light"
     },
     "output_type": "display_data"
    },
    {
     "data": {
      "image/png": "[encoded data removed]",
      "text/plain": [
       "<Figure size 1080x1080 with 3 Axes>"
      ]
     },
     "metadata": {
      "needs_background": "light"
     },
     "output_type": "display_data"
    },
    {
     "data": {
      "image/png": "[encoded data removed]",
      "text/plain": [
       "<Figure size 1080x1080 with 3 Axes>"
      ]
     },
     "metadata": {
      "needs_background": "light"
     },
     "output_type": "display_data"
    }
   ],
   "source": [
    "y_ridge=best_ridge.predict(X)\n",
    "y_lasso=best_lasso.predict(X)\n",
    "y_enet=best_enet.predict(X)\n",
    "\n",
    "for column in data.columns[:-1]:\n",
    "    \n",
    "    marketing=data[column]\n",
    "    sales=data['sales']\n",
    "    \n",
    "    fig=plt.figure(figsize=(15,15))\n",
    "    \n",
    "    ax1=plt.subplot(2, 3, 1)\n",
    "    \n",
    "    ax1.scatter(marketing,sales,c='black',label=None)\n",
    "    ax1.scatter(marketing, y_ridge,c='blue',label='ridge')\n",
    "    ax1.set_xlabel(\"Gasto en Publicidad en '{}' (USD)\".format(column))\n",
    "    ax1.set_ylabel(\"Ventas (miles de USD)\")\n",
    "    plt.legend()\n",
    "    \n",
    "    ax2=plt.subplot(2, 3, 2)\n",
    "    \n",
    "    ax2.scatter(marketing,sales,c='black',label=None)\n",
    "    ax2.scatter(marketing, y_lasso,c='green',label='lasso')\n",
    "    ax2.set_xlabel(\"Gasto en Publicidad en '{}' (USD)\".format(column))\n",
    "    ax2.set_ylabel(\"Ventas (miles de USD)\")\n",
    "    plt.legend()\n",
    "    \n",
    "    ax3=plt.subplot(2, 3, 3)\n",
    "    \n",
    "    ax3.scatter(marketing,sales,c='black',label=None)\n",
    "    ax3.scatter(marketing, y_enet,c='red',label='Elastic Net')\n",
    "    ax3.set_xlabel(\"Gasto en Publicidad en '{}' (USD)\".format(column))\n",
    "    ax3.set_ylabel(\"Ventas (miles de USD)\")\n",
    "    plt.legend()\n",
    "    \n",
    "    plt.show()"
   ]
  },
  {
   "cell_type": "markdown",
   "metadata": {},
   "source": [
    "# Referencias: "
   ]
  },
  {
   "cell_type": "markdown",
   "metadata": {},
   "source": [
    "- [Ridge and Lasso Regression: A Complete Guide with Python Scikit-Learn](https://towardsdatascience.com/ridge-and-lasso-regression-a-complete-guide-with-python-scikit-learn-e20e34bcbf0b)\n",
    "- [A  LAVA  Attack  on the  Recovery  OF  Sums  of  Dense and Sparse  Signals](https://arxiv.org/pdf/1502.03155.pdf)\n",
    "- [How to Perform Lasso and Ridge Regression in Python](https://towardsdatascience.com/how-to-perform-lasso-and-ridge-regression-in-python-3b3b75541ad8)\n",
    "- [Regularization Part 1: Ridge Regression](https://www.youtube.com/watch?v=Q81RR3yKn30)"
   ]
  }
 ],
 "metadata": {
  "kernelspec": {
   "display_name": "Python 3",
   "language": "python",
   "name": "python3"
  },
  "language_info": {
   "codemirror_mode": {
    "name": "ipython",
    "version": 3
   },
   "file_extension": ".py",
   "mimetype": "text/x-python",
   "name": "python",
   "nbconvert_exporter": "python",
   "pygments_lexer": "ipython3",
   "version": "3.7.2"
  }
 },
 "nbformat": 4,
 "nbformat_minor": 2
}
